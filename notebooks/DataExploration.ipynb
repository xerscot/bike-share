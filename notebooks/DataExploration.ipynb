{
    "metadata": {
        "kernelspec": {
            "name": "SQL",
            "display_name": "SQL",
            "language": "sql"
        },
        "language_info": {
            "name": "sql",
            "version": ""
        }
    },
    "nbformat_minor": 2,
    "nbformat": 4,
    "cells": [
        {
            "cell_type": "markdown",
            "source": [
                "# Data Exploration of Bike Sharing Dataset"
            ],
            "metadata": {
                "azdata_cell_guid": "0fa159a6-7976-4651-97d0-688ef016e073"
            },
            "attachments": {}
        },
        {
            "cell_type": "markdown",
            "source": [
                "The data imported has gone through some cleaning using a small command line application written in C#. To further determine the cleanliness of the data I want to have a look to see what the longest and shortest trips are and see if there is anything interesting that comes up. I have created two seperate tables to account for the later data with the extra columns."
            ],
            "metadata": {
                "azdata_cell_guid": "b30afa19-af45-4355-90a9-856cc9ba60f9"
            },
            "attachments": {}
        },
        {
            "cell_type": "code",
            "source": [
                "SELECT MIN(tripduration) \n",
                "FROM trips"
            ],
            "metadata": {
                "azdata_cell_guid": "68f15f67-2c38-41c8-a641-99b258af3b0b",
                "language": "sql"
            },
            "outputs": [
                {
                    "output_type": "display_data",
                    "data": {
                        "text/html": "(1 row affected)"
                    },
                    "metadata": {}
                },
                {
                    "output_type": "display_data",
                    "data": {
                        "text/html": "Total execution time: 00:00:00.168"
                    },
                    "metadata": {}
                },
                {
                    "output_type": "execute_result",
                    "metadata": {},
                    "execution_count": 4,
                    "data": {
                        "application/vnd.dataresource+json": {
                            "schema": {
                                "fields": [
                                    {
                                        "name": "(No column name)"
                                    }
                                ]
                            },
                            "data": [
                                {
                                    "0": "60"
                                }
                            ]
                        },
                        "text/html": [
                            "<table>",
                            "<tr><th>(No column name)</th></tr>",
                            "<tr><td>60</td></tr>",
                            "</table>"
                        ]
                    }
                }
            ],
            "execution_count": 4
        },
        {
            "cell_type": "code",
            "source": [
                "SELECT MIN(tripduration) \n",
                "FROM newer_trips"
            ],
            "metadata": {
                "azdata_cell_guid": "282310d7-86ff-4fce-9256-ad38c17eee1c",
                "language": "sql"
            },
            "outputs": [
                {
                    "output_type": "display_data",
                    "data": {
                        "text/html": "(1 row affected)"
                    },
                    "metadata": {}
                },
                {
                    "output_type": "display_data",
                    "data": {
                        "text/html": "Total execution time: 00:00:00.620"
                    },
                    "metadata": {}
                },
                {
                    "output_type": "execute_result",
                    "metadata": {},
                    "execution_count": 5,
                    "data": {
                        "application/vnd.dataresource+json": {
                            "schema": {
                                "fields": [
                                    {
                                        "name": "(No column name)"
                                    }
                                ]
                            },
                            "data": [
                                {
                                    "0": "-233404"
                                }
                            ]
                        },
                        "text/html": [
                            "<table>",
                            "<tr><th>(No column name)</th></tr>",
                            "<tr><td>-233404</td></tr>",
                            "</table>"
                        ]
                    }
                }
            ],
            "execution_count": 5
        },
        {
            "cell_type": "markdown",
            "source": [
                "We can see that the lowest duration in the trips table is 60 seconds and it looks like we have some troubling data in the newer\\_trips table. Let's explore some further by checking how many there are with a duration less than zero seconds."
            ],
            "metadata": {
                "language": "sql",
                "azdata_cell_guid": "6d76e7fa-c0fb-42d8-979c-1eacbfd2927b"
            },
            "attachments": {}
        },
        {
            "cell_type": "code",
            "source": [
                "SELECT COUNT(*) \n",
                "FROM newer_trips \n",
                "WHERE tripduration < 0"
            ],
            "metadata": {
                "language": "sql",
                "azdata_cell_guid": "b00aa681-f75e-4b67-bac7-825c42403fd3"
            },
            "outputs": [
                {
                    "output_type": "display_data",
                    "data": {
                        "text/html": "(1 row affected)"
                    },
                    "metadata": {}
                },
                {
                    "output_type": "display_data",
                    "data": {
                        "text/html": "Total execution time: 00:00:00.790"
                    },
                    "metadata": {}
                },
                {
                    "output_type": "execute_result",
                    "metadata": {},
                    "execution_count": 6,
                    "data": {
                        "application/vnd.dataresource+json": {
                            "schema": {
                                "fields": [
                                    {
                                        "name": "(No column name)"
                                    }
                                ]
                            },
                            "data": [
                                {
                                    "0": "10380"
                                }
                            ]
                        },
                        "text/html": [
                            "<table>",
                            "<tr><th>(No column name)</th></tr>",
                            "<tr><td>10380</td></tr>",
                            "</table>"
                        ]
                    }
                }
            ],
            "execution_count": 6
        },
        {
            "cell_type": "markdown",
            "source": [
                "That is quite a number, but compare to the total data in the database it's not that much. I will ignore the data that has a duration less than 60 seconds. The metadata from the data, that fed the trips table, has the following to say about trip duration as well: \"Trips greater than 24 hours in duration are excluded\". We can confirm or deny that with the following query."
            ],
            "metadata": {
                "language": "sql",
                "azdata_cell_guid": "6797060c-757a-49c8-9c78-359c69896de4"
            },
            "attachments": {}
        },
        {
            "cell_type": "code",
            "source": [
                "SELECT MAX(tripduration), YEAR(starttime) AS Year \n",
                "FROM trips \n",
                "GROUP BY YEAR(starttime) \n",
                "ORDER BY YEAR(starttime)"
            ],
            "metadata": {
                "language": "sql",
                "azdata_cell_guid": "283b68db-8a66-46d3-a220-bd055522d9cf"
            },
            "outputs": [
                {
                    "output_type": "display_data",
                    "data": {
                        "text/html": "(7 rows affected)"
                    },
                    "metadata": {}
                },
                {
                    "output_type": "display_data",
                    "data": {
                        "text/html": "Total execution time: 00:00:00.619"
                    },
                    "metadata": {}
                },
                {
                    "output_type": "execute_result",
                    "metadata": {},
                    "execution_count": 7,
                    "data": {
                        "application/vnd.dataresource+json": {
                            "schema": {
                                "fields": [
                                    {
                                        "name": "(No column name)"
                                    },
                                    {
                                        "name": "Year"
                                    }
                                ]
                            },
                            "data": [
                                {
                                    "0": "86399",
                                    "1": "2013"
                                },
                                {
                                    "0": "86392",
                                    "1": "2014"
                                },
                                {
                                    "0": "86362",
                                    "1": "2015"
                                },
                                {
                                    "0": "86365",
                                    "1": "2016"
                                },
                                {
                                    "0": "86338",
                                    "1": "2017"
                                },
                                {
                                    "0": "14336400",
                                    "1": "2018"
                                },
                                {
                                    "0": "10628400",
                                    "1": "2019"
                                }
                            ]
                        },
                        "text/html": [
                            "<table>",
                            "<tr><th>(No column name)</th><th>Year</th></tr>",
                            "<tr><td>86399</td><td>2013</td></tr>",
                            "<tr><td>86392</td><td>2014</td></tr>",
                            "<tr><td>86362</td><td>2015</td></tr>",
                            "<tr><td>86365</td><td>2016</td></tr>",
                            "<tr><td>86338</td><td>2017</td></tr>",
                            "<tr><td>14336400</td><td>2018</td></tr>",
                            "<tr><td>10628400</td><td>2019</td></tr>",
                            "</table>"
                        ]
                    }
                }
            ],
            "execution_count": 7
        },
        {
            "cell_type": "markdown",
            "source": [
                "There are 86400 seconds in 24 hours. Data from 2018 did not have any README files with metadata. To keep things uniform I will ignore data with a trip duration higher than 86400 seconds as well. \n",
                "\n",
                "Let's have a look at the average ride duration, per year, and per user type."
            ],
            "metadata": {
                "language": "sql",
                "azdata_cell_guid": "07d8f2ad-ea19-47f1-8018-bbfaa9aba40b"
            },
            "attachments": {}
        },
        {
            "cell_type": "code",
            "source": [
                "SELECT AVG(cast(tripduration as bigint)), YEAR(starttime) AS Year, usertype \n",
                "FROM trips \n",
                "WHERE tripduration > 60 AND tripduration < 86401 \n",
                "GROUP BY YEAR(starttime), usertype \n",
                "ORDER BY YEAR(starttime), usertype"
            ],
            "metadata": {
                "language": "sql",
                "azdata_cell_guid": "16418982-863f-41eb-8446-171db94053d8"
            },
            "outputs": [
                {
                    "output_type": "display_data",
                    "data": {
                        "text/html": "(17 rows affected)"
                    },
                    "metadata": {}
                },
                {
                    "output_type": "display_data",
                    "data": {
                        "text/html": "Total execution time: 00:00:00.523"
                    },
                    "metadata": {}
                },
                {
                    "output_type": "execute_result",
                    "metadata": {},
                    "execution_count": 8,
                    "data": {
                        "application/vnd.dataresource+json": {
                            "schema": {
                                "fields": [
                                    {
                                        "name": "(No column name)"
                                    },
                                    {
                                        "name": "Year"
                                    },
                                    {
                                        "name": "usertype"
                                    }
                                ]
                            },
                            "data": [
                                {
                                    "0": "1824",
                                    "1": "2013",
                                    "2": "Customer"
                                },
                                {
                                    "0": "722",
                                    "1": "2013",
                                    "2": "Subscriber"
                                },
                                {
                                    "0": "1673",
                                    "1": "2014",
                                    "2": "Customer"
                                },
                                {
                                    "0": "716",
                                    "1": "2014",
                                    "2": "Subscriber"
                                },
                                {
                                    "0": "1750",
                                    "1": "2015",
                                    "2": "Customer"
                                },
                                {
                                    "0": "767",
                                    "1": "2015",
                                    "2": "Dependent"
                                },
                                {
                                    "0": "724",
                                    "1": "2015",
                                    "2": "Subscriber"
                                },
                                {
                                    "0": "1857",
                                    "1": "2016",
                                    "2": "Customer"
                                },
                                {
                                    "0": "728",
                                    "1": "2016",
                                    "2": "Dependent"
                                },
                                {
                                    "0": "722",
                                    "1": "2016",
                                    "2": "Subscriber"
                                },
                                {
                                    "0": "1856",
                                    "1": "2017",
                                    "2": "Customer"
                                },
                                {
                                    "0": "751",
                                    "1": "2017",
                                    "2": "Dependent"
                                },
                                {
                                    "0": "703",
                                    "1": "2017",
                                    "2": "Subscriber"
                                },
                                {
                                    "0": "2545",
                                    "1": "2018",
                                    "2": "Customer"
                                },
                                {
                                    "0": "758",
                                    "1": "2018",
                                    "2": "Subscriber"
                                },
                                {
                                    "0": "2365",
                                    "1": "2019",
                                    "2": "Customer"
                                },
                                {
                                    "0": "775",
                                    "1": "2019",
                                    "2": "Subscriber"
                                }
                            ]
                        },
                        "text/html": [
                            "<table>",
                            "<tr><th>(No column name)</th><th>Year</th><th>usertype</th></tr>",
                            "<tr><td>1824</td><td>2013</td><td>Customer</td></tr>",
                            "<tr><td>722</td><td>2013</td><td>Subscriber</td></tr>",
                            "<tr><td>1673</td><td>2014</td><td>Customer</td></tr>",
                            "<tr><td>716</td><td>2014</td><td>Subscriber</td></tr>",
                            "<tr><td>1750</td><td>2015</td><td>Customer</td></tr>",
                            "<tr><td>767</td><td>2015</td><td>Dependent</td></tr>",
                            "<tr><td>724</td><td>2015</td><td>Subscriber</td></tr>",
                            "<tr><td>1857</td><td>2016</td><td>Customer</td></tr>",
                            "<tr><td>728</td><td>2016</td><td>Dependent</td></tr>",
                            "<tr><td>722</td><td>2016</td><td>Subscriber</td></tr>",
                            "<tr><td>1856</td><td>2017</td><td>Customer</td></tr>",
                            "<tr><td>751</td><td>2017</td><td>Dependent</td></tr>",
                            "<tr><td>703</td><td>2017</td><td>Subscriber</td></tr>",
                            "<tr><td>2545</td><td>2018</td><td>Customer</td></tr>",
                            "<tr><td>758</td><td>2018</td><td>Subscriber</td></tr>",
                            "<tr><td>2365</td><td>2019</td><td>Customer</td></tr>",
                            "<tr><td>775</td><td>2019</td><td>Subscriber</td></tr>",
                            "</table>"
                        ]
                    }
                }
            ],
            "execution_count": 8
        },
        {
            "cell_type": "code",
            "source": [
                "SELECT AVG(cast(tripduration as bigint)), YEAR(started_at) AS Year, member_casual\n",
                "FROM newer_trips \n",
                "WHERE tripduration > 60 AND tripduration < 86401 \n",
                "GROUP BY YEAR(started_at), member_casual \n",
                "ORDER BY YEAR(started_at), member_casual"
            ],
            "metadata": {
                "language": "sql",
                "azdata_cell_guid": "b1955534-ee7a-445f-b78e-2992047566d6"
            },
            "outputs": [
                {
                    "output_type": "display_data",
                    "data": {
                        "text/html": "(6 rows affected)"
                    },
                    "metadata": {}
                },
                {
                    "output_type": "display_data",
                    "data": {
                        "text/html": "Total execution time: 00:00:00.760"
                    },
                    "metadata": {}
                },
                {
                    "output_type": "execute_result",
                    "metadata": {},
                    "execution_count": 9,
                    "data": {
                        "application/vnd.dataresource+json": {
                            "schema": {
                                "fields": [
                                    {
                                        "name": "(No column name)"
                                    },
                                    {
                                        "name": "Year"
                                    },
                                    {
                                        "name": "member_casual"
                                    }
                                ]
                            },
                            "data": [
                                {
                                    "0": "2248",
                                    "1": "2020",
                                    "2": "casual"
                                },
                                {
                                    "0": "920",
                                    "1": "2020",
                                    "2": "member"
                                },
                                {
                                    "0": "1634",
                                    "1": "2021",
                                    "2": "casual"
                                },
                                {
                                    "0": "817",
                                    "1": "2021",
                                    "2": "member"
                                },
                                {
                                    "0": "1396",
                                    "1": "2022",
                                    "2": "casual"
                                },
                                {
                                    "0": "699",
                                    "1": "2022",
                                    "2": "member"
                                }
                            ]
                        },
                        "text/html": [
                            "<table>",
                            "<tr><th>(No column name)</th><th>Year</th><th>member_casual</th></tr>",
                            "<tr><td>2248</td><td>2020</td><td>casual</td></tr>",
                            "<tr><td>920</td><td>2020</td><td>member</td></tr>",
                            "<tr><td>1634</td><td>2021</td><td>casual</td></tr>",
                            "<tr><td>817</td><td>2021</td><td>member</td></tr>",
                            "<tr><td>1396</td><td>2022</td><td>casual</td></tr>",
                            "<tr><td>699</td><td>2022</td><td>member</td></tr>",
                            "</table>"
                        ]
                    }
                }
            ],
            "execution_count": 9
        },
        {
            "cell_type": "markdown",
            "source": [
                "It looks like on an anual basis Customers/Casuals use their bikes longer than annual subscribers, about twice as long. The below query results in a chart where we can see that on an annual basis the use of bikes is very seasonal."
            ],
            "metadata": {
                "language": "sql",
                "azdata_cell_guid": "4478511a-f1ff-44e0-8f1b-0c94bb8ab173"
            },
            "attachments": {}
        },
        {
            "cell_type": "code",
            "source": [
                "SELECT YEAR(starttime) AS trip_year, MONTH(starttime) AS trip_month, usertype, COUNT(*) AS trip_count\n",
                "FROM trips \n",
                "WHERE tripduration > 60 AND tripduration < 86401 \n",
                "GROUP BY YEAR(starttime), MONTH(starttime), usertype \n",
                "ORDER BY YEAR(starttime), MONTH(starttime), usertype"
            ],
            "metadata": {
                "language": "sql",
                "azdata_cell_guid": "96618776-3dce-4a41-af32-aec758cccaba"
            },
            "outputs": [
                {
                    "output_type": "display_data",
                    "data": {
                        "text/html": "(180 rows affected)"
                    },
                    "metadata": {}
                },
                {
                    "output_type": "display_data",
                    "data": {
                        "text/html": "Total execution time: 00:00:00.806"
                    },
                    "metadata": {}
                },
                {
                    "output_type": "execute_result",
                    "metadata": {},
                    "execution_count": 10,
                    "data": {
                        "application/vnd.dataresource+json": {
                            "schema": {
                                "fields": [
                                    {
                                        "name": "trip_year"
                                    },
                                    {
                                        "name": "trip_month"
                                    },
                                    {
                                        "name": "usertype"
                                    },
                                    {
                                        "name": "trip_count"
                                    }
                                ]
                            },
                            "data": [
                                {
                                    "0": "2013",
                                    "1": "6",
                                    "2": "Customer",
                                    "3": "3120"
                                },
                                {
                                    "0": "2013",
                                    "1": "6",
                                    "2": "Subscriber",
                                    "3": "882"
                                },
                                {
                                    "0": "2013",
                                    "1": "7",
                                    "2": "Customer",
                                    "3": "51548"
                                },
                                {
                                    "0": "2013",
                                    "1": "7",
                                    "2": "Subscriber",
                                    "3": "23313"
                                },
                                {
                                    "0": "2013",
                                    "1": "8",
                                    "2": "Customer",
                                    "3": "110096"
                                },
                                {
                                    "0": "2013",
                                    "1": "8",
                                    "2": "Subscriber",
                                    "3": "60397"
                                },
                                {
                                    "0": "2013",
                                    "1": "9",
                                    "2": "Customer",
                                    "3": "105325"
                                },
                                {
                                    "0": "2013",
                                    "1": "9",
                                    "2": "Subscriber",
                                    "3": "95689"
                                },
                                {
                                    "0": "2013",
                                    "1": "10",
                                    "2": "Customer",
                                    "3": "64200"
                                },
                                {
                                    "0": "2013",
                                    "1": "10",
                                    "2": "Subscriber",
                                    "3": "110484"
                                },
                                {
                                    "0": "2013",
                                    "1": "11",
                                    "2": "Customer",
                                    "3": "18065"
                                },
                                {
                                    "0": "2013",
                                    "1": "11",
                                    "2": "Subscriber",
                                    "3": "71939"
                                },
                                {
                                    "0": "2013",
                                    "1": "12",
                                    "2": "Customer",
                                    "3": "4381"
                                },
                                {
                                    "0": "2013",
                                    "1": "12",
                                    "2": "Subscriber",
                                    "3": "40281"
                                },
                                {
                                    "0": "2014",
                                    "1": "1",
                                    "2": "Customer",
                                    "3": "1060"
                                },
                                {
                                    "0": "2014",
                                    "1": "1",
                                    "2": "Subscriber",
                                    "3": "24012"
                                },
                                {
                                    "0": "2014",
                                    "1": "2",
                                    "2": "Customer",
                                    "3": "1203"
                                },
                                {
                                    "0": "2014",
                                    "1": "2",
                                    "2": "Subscriber",
                                    "3": "26881"
                                },
                                {
                                    "0": "2014",
                                    "1": "3",
                                    "2": "Customer",
                                    "3": "11830"
                                },
                                {
                                    "0": "2014",
                                    "1": "3",
                                    "2": "Subscriber",
                                    "3": "57473"
                                },
                                {
                                    "0": "2014",
                                    "1": "4",
                                    "2": "Customer",
                                    "3": "51246"
                                },
                                {
                                    "0": "2014",
                                    "1": "4",
                                    "2": "Subscriber",
                                    "3": "107218"
                                },
                                {
                                    "0": "2014",
                                    "1": "5",
                                    "2": "Customer",
                                    "3": "113434"
                                },
                                {
                                    "0": "2014",
                                    "1": "5",
                                    "2": "Subscriber",
                                    "3": "165283"
                                },
                                {
                                    "0": "2014",
                                    "1": "6",
                                    "2": "Customer",
                                    "3": "135192"
                                },
                                {
                                    "0": "2014",
                                    "1": "6",
                                    "2": "Subscriber",
                                    "3": "210764"
                                },
                                {
                                    "0": "2014",
                                    "1": "7",
                                    "2": "Customer",
                                    "3": "158539"
                                },
                                {
                                    "0": "2014",
                                    "1": "7",
                                    "2": "Subscriber",
                                    "3": "251752"
                                },
                                {
                                    "0": "2014",
                                    "1": "8",
                                    "2": "Customer",
                                    "3": "156371"
                                },
                                {
                                    "0": "2014",
                                    "1": "8",
                                    "2": "Subscriber",
                                    "3": "235701"
                                },
                                {
                                    "0": "2014",
                                    "1": "9",
                                    "2": "Customer",
                                    "3": "92734"
                                },
                                {
                                    "0": "2014",
                                    "1": "9",
                                    "2": "Subscriber",
                                    "3": "215745"
                                },
                                {
                                    "0": "2014",
                                    "1": "10",
                                    "2": "Customer",
                                    "3": "48977"
                                },
                                {
                                    "0": "2014",
                                    "1": "10",
                                    "2": "Subscriber",
                                    "3": "188315"
                                },
                                {
                                    "0": "2014",
                                    "1": "11",
                                    "2": "Customer",
                                    "3": "12601"
                                },
                                {
                                    "0": "2014",
                                    "1": "11",
                                    "2": "Subscriber",
                                    "3": "101266"
                                },
                                {
                                    "0": "2014",
                                    "1": "12",
                                    "2": "Customer",
                                    "3": "7994"
                                },
                                {
                                    "0": "2014",
                                    "1": "12",
                                    "2": "Subscriber",
                                    "3": "78781"
                                },
                                {
                                    "0": "2015",
                                    "1": "1",
                                    "2": "Customer",
                                    "3": "3316"
                                },
                                {
                                    "0": "2015",
                                    "1": "1",
                                    "2": "Dependent",
                                    "3": "5"
                                },
                                {
                                    "0": "2015",
                                    "1": "1",
                                    "2": "Subscriber",
                                    "3": "55949"
                                },
                                {
                                    "0": "2015",
                                    "1": "2",
                                    "2": "Customer",
                                    "3": "997"
                                },
                                {
                                    "0": "2015",
                                    "1": "2",
                                    "2": "Dependent",
                                    "3": "10"
                                },
                                {
                                    "0": "2015",
                                    "1": "2",
                                    "2": "Subscriber",
                                    "3": "34125"
                                },
                                {
                                    "0": "2015",
                                    "1": "3",
                                    "2": "Customer",
                                    "3": "20177"
                                },
                                {
                                    "0": "2015",
                                    "1": "3",
                                    "2": "Dependent",
                                    "3": "9"
                                },
                                {
                                    "0": "2015",
                                    "1": "3",
                                    "2": "Subscriber",
                                    "3": "87734"
                                },
                                {
                                    "0": "2015",
                                    "1": "4",
                                    "2": "Customer",
                                    "3": "42359"
                                },
                                {
                                    "0": "2015",
                                    "1": "4",
                                    "2": "Dependent",
                                    "3": "5"
                                },
                                {
                                    "0": "2015",
                                    "1": "4",
                                    "2": "Subscriber",
                                    "3": "133847"
                                },
                                {
                                    "0": "2015",
                                    "1": "5",
                                    "2": "Customer",
                                    "3": "106313"
                                },
                                {
                                    "0": "2015",
                                    "1": "5",
                                    "2": "Dependent",
                                    "3": "11"
                                },
                                {
                                    "0": "2015",
                                    "1": "5",
                                    "2": "Subscriber",
                                    "3": "195451"
                                },
                                {
                                    "0": "2015",
                                    "1": "6",
                                    "2": "Customer",
                                    "3": "152645"
                                },
                                {
                                    "0": "2015",
                                    "1": "6",
                                    "2": "Dependent",
                                    "3": "11"
                                },
                                {
                                    "0": "2015",
                                    "1": "6",
                                    "2": "Subscriber",
                                    "3": "263151"
                                },
                                {
                                    "0": "2015",
                                    "1": "7",
                                    "2": "Customer",
                                    "3": "218061"
                                },
                                {
                                    "0": "2015",
                                    "1": "7",
                                    "2": "Dependent",
                                    "3": "17"
                                },
                                {
                                    "0": "2015",
                                    "1": "7",
                                    "2": "Subscriber",
                                    "3": "315584"
                                },
                                {
                                    "0": "2015",
                                    "1": "8",
                                    "2": "Customer",
                                    "3": "166060"
                                },
                                {
                                    "0": "2015",
                                    "1": "8",
                                    "2": "Dependent",
                                    "3": "28"
                                },
                                {
                                    "0": "2015",
                                    "1": "8",
                                    "2": "Subscriber",
                                    "3": "328902"
                                },
                                {
                                    "0": "2015",
                                    "1": "9",
                                    "2": "Customer",
                                    "3": "127530"
                                },
                                {
                                    "0": "2015",
                                    "1": "9",
                                    "2": "Dependent",
                                    "3": "24"
                                },
                                {
                                    "0": "2015",
                                    "1": "9",
                                    "2": "Subscriber",
                                    "3": "299514"
                                },
                                {
                                    "0": "2015",
                                    "1": "10",
                                    "2": "Customer",
                                    "3": "59753"
                                },
                                {
                                    "0": "2015",
                                    "1": "10",
                                    "2": "Dependent",
                                    "3": "13"
                                },
                                {
                                    "0": "2015",
                                    "1": "10",
                                    "2": "Subscriber",
                                    "3": "256722"
                                },
                                {
                                    "0": "2015",
                                    "1": "11",
                                    "2": "Customer",
                                    "3": "25161"
                                },
                                {
                                    "0": "2015",
                                    "1": "11",
                                    "2": "Dependent",
                                    "3": "7"
                                },
                                {
                                    "0": "2015",
                                    "1": "11",
                                    "2": "Subscriber",
                                    "3": "168605"
                                },
                                {
                                    "0": "2015",
                                    "1": "12",
                                    "2": "Customer",
                                    "3": "7433"
                                },
                                {
                                    "0": "2015",
                                    "1": "12",
                                    "2": "Dependent",
                                    "3": "3"
                                },
                                {
                                    "0": "2015",
                                    "1": "12",
                                    "2": "Subscriber",
                                    "3": "113620"
                                },
                                {
                                    "0": "2016",
                                    "1": "1",
                                    "2": "Customer",
                                    "3": "3465"
                                },
                                {
                                    "0": "2016",
                                    "1": "1",
                                    "2": "Subscriber",
                                    "3": "89364"
                                },
                                {
                                    "0": "2016",
                                    "1": "2",
                                    "2": "Customer",
                                    "3": "11273"
                                },
                                {
                                    "0": "2016",
                                    "1": "2",
                                    "2": "Subscriber",
                                    "3": "106842"
                                },
                                {
                                    "0": "2016",
                                    "1": "3",
                                    "2": "Customer",
                                    "3": "27270"
                                },
                                {
                                    "0": "2016",
                                    "1": "3",
                                    "2": "Subscriber",
                                    "3": "158671"
                                },
                                {
                                    "0": "2016",
                                    "1": "4",
                                    "2": "Customer",
                                    "3": "49390"
                                },
                                {
                                    "0": "2016",
                                    "1": "4",
                                    "2": "Subscriber",
                                    "3": "182225"
                                },
                                {
                                    "0": "2016",
                                    "1": "5",
                                    "2": "Customer",
                                    "3": "103495"
                                },
                                {
                                    "0": "2016",
                                    "1": "5",
                                    "2": "Subscriber",
                                    "3": "259772"
                                },
                                {
                                    "0": "2016",
                                    "1": "6",
                                    "2": "Customer",
                                    "3": "127897"
                                },
                                {
                                    "0": "2016",
                                    "1": "6",
                                    "2": "Subscriber",
                                    "3": "349936"
                                },
                                {
                                    "0": "2016",
                                    "1": "7",
                                    "2": "Customer",
                                    "3": "173695"
                                },
                                {
                                    "0": "2016",
                                    "1": "7",
                                    "2": "Dependent",
                                    "3": "16"
                                },
                                {
                                    "0": "2016",
                                    "1": "7",
                                    "2": "Subscriber",
                                    "3": "344296"
                                },
                                {
                                    "0": "2016",
                                    "1": "8",
                                    "2": "Customer",
                                    "3": "135778"
                                },
                                {
                                    "0": "2016",
                                    "1": "8",
                                    "2": "Dependent",
                                    "3": "7"
                                },
                                {
                                    "0": "2016",
                                    "1": "8",
                                    "2": "Subscriber",
                                    "3": "348631"
                                },
                                {
                                    "0": "2016",
                                    "1": "9",
                                    "2": "Customer",
                                    "3": "116849"
                                },
                                {
                                    "0": "2016",
                                    "1": "9",
                                    "2": "Dependent",
                                    "3": "3"
                                },
                                {
                                    "0": "2016",
                                    "1": "9",
                                    "2": "Subscriber",
                                    "3": "322306"
                                },
                                {
                                    "0": "2016",
                                    "1": "10",
                                    "2": "Customer",
                                    "3": "72023"
                                },
                                {
                                    "0": "2016",
                                    "1": "10",
                                    "2": "Dependent",
                                    "3": "7"
                                },
                                {
                                    "0": "2016",
                                    "1": "10",
                                    "2": "Subscriber",
                                    "3": "278146"
                                },
                                {
                                    "0": "2016",
                                    "1": "11",
                                    "2": "Customer",
                                    "3": "33676"
                                },
                                {
                                    "0": "2016",
                                    "1": "11",
                                    "2": "Dependent",
                                    "3": "6"
                                },
                                {
                                    "0": "2016",
                                    "1": "11",
                                    "2": "Subscriber",
                                    "3": "206707"
                                },
                                {
                                    "0": "2016",
                                    "1": "12",
                                    "2": "Customer",
                                    "3": "3581"
                                },
                                {
                                    "0": "2016",
                                    "1": "12",
                                    "2": "Dependent",
                                    "3": "1"
                                },
                                {
                                    "0": "2016",
                                    "1": "12",
                                    "2": "Subscriber",
                                    "3": "89643"
                                },
                                {
                                    "0": "2017",
                                    "1": "1",
                                    "2": "Customer",
                                    "3": "5314"
                                },
                                {
                                    "0": "2017",
                                    "1": "1",
                                    "2": "Dependent",
                                    "3": "1"
                                },
                                {
                                    "0": "2017",
                                    "1": "1",
                                    "2": "Subscriber",
                                    "3": "106618"
                                },
                                {
                                    "0": "2017",
                                    "1": "2",
                                    "2": "Customer",
                                    "3": "23583"
                                },
                                {
                                    "0": "2017",
                                    "1": "2",
                                    "2": "Dependent",
                                    "3": "2"
                                },
                                {
                                    "0": "2017",
                                    "1": "2",
                                    "2": "Subscriber",
                                    "3": "142748"
                                },
                                {
                                    "0": "2017",
                                    "1": "3",
                                    "2": "Customer",
                                    "3": "12495"
                                },
                                {
                                    "0": "2017",
                                    "1": "3",
                                    "2": "Dependent",
                                    "3": "1"
                                },
                                {
                                    "0": "2017",
                                    "1": "3",
                                    "2": "Subscriber",
                                    "3": "140897"
                                },
                                {
                                    "0": "2017",
                                    "1": "4",
                                    "2": "Customer",
                                    "3": "61231"
                                },
                                {
                                    "0": "2017",
                                    "1": "4",
                                    "2": "Subscriber",
                                    "3": "207387"
                                },
                                {
                                    "0": "2017",
                                    "1": "5",
                                    "2": "Customer",
                                    "3": "82306"
                                },
                                {
                                    "0": "2017",
                                    "1": "5",
                                    "2": "Subscriber",
                                    "3": "263646"
                                },
                                {
                                    "0": "2017",
                                    "1": "6",
                                    "2": "Customer",
                                    "3": "132178"
                                },
                                {
                                    "0": "2017",
                                    "1": "6",
                                    "2": "Subscriber",
                                    "3": "372936"
                                },
                                {
                                    "0": "2017",
                                    "1": "7",
                                    "2": "Customer",
                                    "3": "179369"
                                },
                                {
                                    "0": "2017",
                                    "1": "7",
                                    "2": "Subscriber",
                                    "3": "385725"
                                },
                                {
                                    "0": "2017",
                                    "1": "8",
                                    "2": "Customer",
                                    "3": "146031"
                                },
                                {
                                    "0": "2017",
                                    "1": "8",
                                    "2": "Dependent",
                                    "3": "3"
                                },
                                {
                                    "0": "2017",
                                    "1": "8",
                                    "2": "Subscriber",
                                    "3": "411553"
                                },
                                {
                                    "0": "2017",
                                    "1": "9",
                                    "2": "Customer",
                                    "3": "116183"
                                },
                                {
                                    "0": "2017",
                                    "1": "9",
                                    "2": "Subscriber",
                                    "3": "369266"
                                },
                                {
                                    "0": "2017",
                                    "1": "10",
                                    "2": "Customer",
                                    "3": "58802"
                                },
                                {
                                    "0": "2017",
                                    "1": "10",
                                    "2": "Subscriber",
                                    "3": "295279"
                                },
                                {
                                    "0": "2017",
                                    "1": "11",
                                    "2": "Customer",
                                    "3": "12702"
                                },
                                {
                                    "0": "2017",
                                    "1": "11",
                                    "2": "Subscriber",
                                    "3": "177030"
                                },
                                {
                                    "0": "2017",
                                    "1": "12",
                                    "2": "Customer",
                                    "3": "6575"
                                },
                                {
                                    "0": "2017",
                                    "1": "12",
                                    "2": "Subscriber",
                                    "3": "118819"
                                },
                                {
                                    "0": "2018",
                                    "1": "1",
                                    "2": "Customer",
                                    "3": "3476"
                                },
                                {
                                    "0": "2018",
                                    "1": "1",
                                    "2": "Subscriber",
                                    "3": "106202"
                                },
                                {
                                    "0": "2018",
                                    "1": "2",
                                    "2": "Customer",
                                    "3": "3396"
                                },
                                {
                                    "0": "2018",
                                    "1": "2",
                                    "2": "Subscriber",
                                    "3": "99517"
                                },
                                {
                                    "0": "2018",
                                    "1": "3",
                                    "2": "Customer",
                                    "3": "15511"
                                },
                                {
                                    "0": "2018",
                                    "1": "3",
                                    "2": "Subscriber",
                                    "3": "158918"
                                },
                                {
                                    "0": "2018",
                                    "1": "4",
                                    "2": "Customer",
                                    "3": "21794"
                                },
                                {
                                    "0": "2018",
                                    "1": "4",
                                    "2": "Subscriber",
                                    "3": "178228"
                                },
                                {
                                    "0": "2018",
                                    "1": "5",
                                    "2": "Customer",
                                    "3": "89427"
                                },
                                {
                                    "0": "2018",
                                    "1": "5",
                                    "2": "Subscriber",
                                    "3": "311573"
                                },
                                {
                                    "0": "2018",
                                    "1": "6",
                                    "2": "Customer",
                                    "3": "107991"
                                },
                                {
                                    "0": "2018",
                                    "1": "6",
                                    "2": "Subscriber",
                                    "3": "350196"
                                },
                                {
                                    "0": "2018",
                                    "1": "7",
                                    "2": "Customer",
                                    "3": "150091"
                                },
                                {
                                    "0": "2018",
                                    "1": "7",
                                    "2": "Subscriber",
                                    "3": "394369"
                                },
                                {
                                    "0": "2018",
                                    "1": "8",
                                    "2": "Customer",
                                    "3": "128633"
                                },
                                {
                                    "0": "2018",
                                    "1": "8",
                                    "2": "Subscriber",
                                    "3": "401906"
                                },
                                {
                                    "0": "2018",
                                    "1": "9",
                                    "2": "Customer",
                                    "3": "93796"
                                },
                                {
                                    "0": "2018",
                                    "1": "9",
                                    "2": "Subscriber",
                                    "3": "344142"
                                },
                                {
                                    "0": "2018",
                                    "1": "10",
                                    "2": "Customer",
                                    "3": "43685"
                                },
                                {
                                    "0": "2018",
                                    "1": "10",
                                    "2": "Subscriber",
                                    "3": "301119"
                                },
                                {
                                    "0": "2018",
                                    "1": "11",
                                    "2": "Customer",
                                    "3": "10974"
                                },
                                {
                                    "0": "2018",
                                    "1": "11",
                                    "2": "Subscriber",
                                    "3": "157714"
                                },
                                {
                                    "0": "2018",
                                    "1": "12",
                                    "2": "Customer",
                                    "3": "7464"
                                },
                                {
                                    "0": "2018",
                                    "1": "12",
                                    "2": "Subscriber",
                                    "3": "121449"
                                },
                                {
                                    "0": "2019",
                                    "1": "1",
                                    "2": "Customer",
                                    "3": "4591"
                                },
                                {
                                    "0": "2019",
                                    "1": "1",
                                    "2": "Subscriber",
                                    "3": "98601"
                                },
                                {
                                    "0": "2019",
                                    "1": "2",
                                    "2": "Customer",
                                    "3": "2627"
                                },
                                {
                                    "0": "2019",
                                    "1": "2",
                                    "2": "Subscriber",
                                    "3": "93522"
                                },
                                {
                                    "0": "2019",
                                    "1": "3",
                                    "2": "Customer",
                                    "3": "15877"
                                },
                                {
                                    "0": "2019",
                                    "1": "3",
                                    "2": "Subscriber",
                                    "3": "149659"
                                },
                                {
                                    "0": "2019",
                                    "1": "4",
                                    "2": "Customer",
                                    "3": "47669"
                                },
                                {
                                    "0": "2019",
                                    "1": "4",
                                    "2": "Subscriber",
                                    "3": "217531"
                                },
                                {
                                    "0": "2019",
                                    "1": "5",
                                    "2": "Customer",
                                    "3": "81507"
                                },
                                {
                                    "0": "2019",
                                    "1": "5",
                                    "2": "Subscriber",
                                    "3": "285793"
                                },
                                {
                                    "0": "2019",
                                    "1": "6",
                                    "2": "Customer",
                                    "3": "130066"
                                },
                                {
                                    "0": "2019",
                                    "1": "6",
                                    "2": "Subscriber",
                                    "3": "345135"
                                },
                                {
                                    "0": "2019",
                                    "1": "7",
                                    "2": "Customer",
                                    "3": "175433"
                                },
                                {
                                    "0": "2019",
                                    "1": "7",
                                    "2": "Subscriber",
                                    "3": "381615"
                                },
                                {
                                    "0": "2019",
                                    "1": "8",
                                    "2": "Customer",
                                    "3": "186625"
                                },
                                {
                                    "0": "2019",
                                    "1": "8",
                                    "2": "Subscriber",
                                    "3": "403241"
                                },
                                {
                                    "0": "2019",
                                    "1": "9",
                                    "2": "Customer",
                                    "3": "128988"
                                },
                                {
                                    "0": "2019",
                                    "1": "9",
                                    "2": "Subscriber",
                                    "3": "364004"
                                },
                                {
                                    "0": "2019",
                                    "1": "10",
                                    "2": "Customer",
                                    "3": "70889"
                                },
                                {
                                    "0": "2019",
                                    "1": "10",
                                    "2": "Subscriber",
                                    "3": "300717"
                                },
                                {
                                    "0": "2019",
                                    "1": "11",
                                    "2": "Customer",
                                    "3": "18653"
                                },
                                {
                                    "0": "2019",
                                    "1": "11",
                                    "2": "Subscriber",
                                    "3": "158401"
                                },
                                {
                                    "0": "2019",
                                    "1": "12",
                                    "2": "Customer",
                                    "3": "16365"
                                },
                                {
                                    "0": "2019",
                                    "1": "12",
                                    "2": "Subscriber",
                                    "3": "138647"
                                }
                            ]
                        },
                        "text/html": [
                            "<table>",
                            "<tr><th>trip_year</th><th>trip_month</th><th>usertype</th><th>trip_count</th></tr>",
                            "<tr><td>2013</td><td>6</td><td>Customer</td><td>3120</td></tr>",
                            "<tr><td>2013</td><td>6</td><td>Subscriber</td><td>882</td></tr>",
                            "<tr><td>2013</td><td>7</td><td>Customer</td><td>51548</td></tr>",
                            "<tr><td>2013</td><td>7</td><td>Subscriber</td><td>23313</td></tr>",
                            "<tr><td>2013</td><td>8</td><td>Customer</td><td>110096</td></tr>",
                            "<tr><td>2013</td><td>8</td><td>Subscriber</td><td>60397</td></tr>",
                            "<tr><td>2013</td><td>9</td><td>Customer</td><td>105325</td></tr>",
                            "<tr><td>2013</td><td>9</td><td>Subscriber</td><td>95689</td></tr>",
                            "<tr><td>2013</td><td>10</td><td>Customer</td><td>64200</td></tr>",
                            "<tr><td>2013</td><td>10</td><td>Subscriber</td><td>110484</td></tr>",
                            "<tr><td>2013</td><td>11</td><td>Customer</td><td>18065</td></tr>",
                            "<tr><td>2013</td><td>11</td><td>Subscriber</td><td>71939</td></tr>",
                            "<tr><td>2013</td><td>12</td><td>Customer</td><td>4381</td></tr>",
                            "<tr><td>2013</td><td>12</td><td>Subscriber</td><td>40281</td></tr>",
                            "<tr><td>2014</td><td>1</td><td>Customer</td><td>1060</td></tr>",
                            "<tr><td>2014</td><td>1</td><td>Subscriber</td><td>24012</td></tr>",
                            "<tr><td>2014</td><td>2</td><td>Customer</td><td>1203</td></tr>",
                            "<tr><td>2014</td><td>2</td><td>Subscriber</td><td>26881</td></tr>",
                            "<tr><td>2014</td><td>3</td><td>Customer</td><td>11830</td></tr>",
                            "<tr><td>2014</td><td>3</td><td>Subscriber</td><td>57473</td></tr>",
                            "<tr><td>2014</td><td>4</td><td>Customer</td><td>51246</td></tr>",
                            "<tr><td>2014</td><td>4</td><td>Subscriber</td><td>107218</td></tr>",
                            "<tr><td>2014</td><td>5</td><td>Customer</td><td>113434</td></tr>",
                            "<tr><td>2014</td><td>5</td><td>Subscriber</td><td>165283</td></tr>",
                            "<tr><td>2014</td><td>6</td><td>Customer</td><td>135192</td></tr>",
                            "<tr><td>2014</td><td>6</td><td>Subscriber</td><td>210764</td></tr>",
                            "<tr><td>2014</td><td>7</td><td>Customer</td><td>158539</td></tr>",
                            "<tr><td>2014</td><td>7</td><td>Subscriber</td><td>251752</td></tr>",
                            "<tr><td>2014</td><td>8</td><td>Customer</td><td>156371</td></tr>",
                            "<tr><td>2014</td><td>8</td><td>Subscriber</td><td>235701</td></tr>",
                            "<tr><td>2014</td><td>9</td><td>Customer</td><td>92734</td></tr>",
                            "<tr><td>2014</td><td>9</td><td>Subscriber</td><td>215745</td></tr>",
                            "<tr><td>2014</td><td>10</td><td>Customer</td><td>48977</td></tr>",
                            "<tr><td>2014</td><td>10</td><td>Subscriber</td><td>188315</td></tr>",
                            "<tr><td>2014</td><td>11</td><td>Customer</td><td>12601</td></tr>",
                            "<tr><td>2014</td><td>11</td><td>Subscriber</td><td>101266</td></tr>",
                            "<tr><td>2014</td><td>12</td><td>Customer</td><td>7994</td></tr>",
                            "<tr><td>2014</td><td>12</td><td>Subscriber</td><td>78781</td></tr>",
                            "<tr><td>2015</td><td>1</td><td>Customer</td><td>3316</td></tr>",
                            "<tr><td>2015</td><td>1</td><td>Dependent</td><td>5</td></tr>",
                            "<tr><td>2015</td><td>1</td><td>Subscriber</td><td>55949</td></tr>",
                            "<tr><td>2015</td><td>2</td><td>Customer</td><td>997</td></tr>",
                            "<tr><td>2015</td><td>2</td><td>Dependent</td><td>10</td></tr>",
                            "<tr><td>2015</td><td>2</td><td>Subscriber</td><td>34125</td></tr>",
                            "<tr><td>2015</td><td>3</td><td>Customer</td><td>20177</td></tr>",
                            "<tr><td>2015</td><td>3</td><td>Dependent</td><td>9</td></tr>",
                            "<tr><td>2015</td><td>3</td><td>Subscriber</td><td>87734</td></tr>",
                            "<tr><td>2015</td><td>4</td><td>Customer</td><td>42359</td></tr>",
                            "<tr><td>2015</td><td>4</td><td>Dependent</td><td>5</td></tr>",
                            "<tr><td>2015</td><td>4</td><td>Subscriber</td><td>133847</td></tr>",
                            "<tr><td>2015</td><td>5</td><td>Customer</td><td>106313</td></tr>",
                            "<tr><td>2015</td><td>5</td><td>Dependent</td><td>11</td></tr>",
                            "<tr><td>2015</td><td>5</td><td>Subscriber</td><td>195451</td></tr>",
                            "<tr><td>2015</td><td>6</td><td>Customer</td><td>152645</td></tr>",
                            "<tr><td>2015</td><td>6</td><td>Dependent</td><td>11</td></tr>",
                            "<tr><td>2015</td><td>6</td><td>Subscriber</td><td>263151</td></tr>",
                            "<tr><td>2015</td><td>7</td><td>Customer</td><td>218061</td></tr>",
                            "<tr><td>2015</td><td>7</td><td>Dependent</td><td>17</td></tr>",
                            "<tr><td>2015</td><td>7</td><td>Subscriber</td><td>315584</td></tr>",
                            "<tr><td>2015</td><td>8</td><td>Customer</td><td>166060</td></tr>",
                            "<tr><td>2015</td><td>8</td><td>Dependent</td><td>28</td></tr>",
                            "<tr><td>2015</td><td>8</td><td>Subscriber</td><td>328902</td></tr>",
                            "<tr><td>2015</td><td>9</td><td>Customer</td><td>127530</td></tr>",
                            "<tr><td>2015</td><td>9</td><td>Dependent</td><td>24</td></tr>",
                            "<tr><td>2015</td><td>9</td><td>Subscriber</td><td>299514</td></tr>",
                            "<tr><td>2015</td><td>10</td><td>Customer</td><td>59753</td></tr>",
                            "<tr><td>2015</td><td>10</td><td>Dependent</td><td>13</td></tr>",
                            "<tr><td>2015</td><td>10</td><td>Subscriber</td><td>256722</td></tr>",
                            "<tr><td>2015</td><td>11</td><td>Customer</td><td>25161</td></tr>",
                            "<tr><td>2015</td><td>11</td><td>Dependent</td><td>7</td></tr>",
                            "<tr><td>2015</td><td>11</td><td>Subscriber</td><td>168605</td></tr>",
                            "<tr><td>2015</td><td>12</td><td>Customer</td><td>7433</td></tr>",
                            "<tr><td>2015</td><td>12</td><td>Dependent</td><td>3</td></tr>",
                            "<tr><td>2015</td><td>12</td><td>Subscriber</td><td>113620</td></tr>",
                            "<tr><td>2016</td><td>1</td><td>Customer</td><td>3465</td></tr>",
                            "<tr><td>2016</td><td>1</td><td>Subscriber</td><td>89364</td></tr>",
                            "<tr><td>2016</td><td>2</td><td>Customer</td><td>11273</td></tr>",
                            "<tr><td>2016</td><td>2</td><td>Subscriber</td><td>106842</td></tr>",
                            "<tr><td>2016</td><td>3</td><td>Customer</td><td>27270</td></tr>",
                            "<tr><td>2016</td><td>3</td><td>Subscriber</td><td>158671</td></tr>",
                            "<tr><td>2016</td><td>4</td><td>Customer</td><td>49390</td></tr>",
                            "<tr><td>2016</td><td>4</td><td>Subscriber</td><td>182225</td></tr>",
                            "<tr><td>2016</td><td>5</td><td>Customer</td><td>103495</td></tr>",
                            "<tr><td>2016</td><td>5</td><td>Subscriber</td><td>259772</td></tr>",
                            "<tr><td>2016</td><td>6</td><td>Customer</td><td>127897</td></tr>",
                            "<tr><td>2016</td><td>6</td><td>Subscriber</td><td>349936</td></tr>",
                            "<tr><td>2016</td><td>7</td><td>Customer</td><td>173695</td></tr>",
                            "<tr><td>2016</td><td>7</td><td>Dependent</td><td>16</td></tr>",
                            "<tr><td>2016</td><td>7</td><td>Subscriber</td><td>344296</td></tr>",
                            "<tr><td>2016</td><td>8</td><td>Customer</td><td>135778</td></tr>",
                            "<tr><td>2016</td><td>8</td><td>Dependent</td><td>7</td></tr>",
                            "<tr><td>2016</td><td>8</td><td>Subscriber</td><td>348631</td></tr>",
                            "<tr><td>2016</td><td>9</td><td>Customer</td><td>116849</td></tr>",
                            "<tr><td>2016</td><td>9</td><td>Dependent</td><td>3</td></tr>",
                            "<tr><td>2016</td><td>9</td><td>Subscriber</td><td>322306</td></tr>",
                            "<tr><td>2016</td><td>10</td><td>Customer</td><td>72023</td></tr>",
                            "<tr><td>2016</td><td>10</td><td>Dependent</td><td>7</td></tr>",
                            "<tr><td>2016</td><td>10</td><td>Subscriber</td><td>278146</td></tr>",
                            "<tr><td>2016</td><td>11</td><td>Customer</td><td>33676</td></tr>",
                            "<tr><td>2016</td><td>11</td><td>Dependent</td><td>6</td></tr>",
                            "<tr><td>2016</td><td>11</td><td>Subscriber</td><td>206707</td></tr>",
                            "<tr><td>2016</td><td>12</td><td>Customer</td><td>3581</td></tr>",
                            "<tr><td>2016</td><td>12</td><td>Dependent</td><td>1</td></tr>",
                            "<tr><td>2016</td><td>12</td><td>Subscriber</td><td>89643</td></tr>",
                            "<tr><td>2017</td><td>1</td><td>Customer</td><td>5314</td></tr>",
                            "<tr><td>2017</td><td>1</td><td>Dependent</td><td>1</td></tr>",
                            "<tr><td>2017</td><td>1</td><td>Subscriber</td><td>106618</td></tr>",
                            "<tr><td>2017</td><td>2</td><td>Customer</td><td>23583</td></tr>",
                            "<tr><td>2017</td><td>2</td><td>Dependent</td><td>2</td></tr>",
                            "<tr><td>2017</td><td>2</td><td>Subscriber</td><td>142748</td></tr>",
                            "<tr><td>2017</td><td>3</td><td>Customer</td><td>12495</td></tr>",
                            "<tr><td>2017</td><td>3</td><td>Dependent</td><td>1</td></tr>",
                            "<tr><td>2017</td><td>3</td><td>Subscriber</td><td>140897</td></tr>",
                            "<tr><td>2017</td><td>4</td><td>Customer</td><td>61231</td></tr>",
                            "<tr><td>2017</td><td>4</td><td>Subscriber</td><td>207387</td></tr>",
                            "<tr><td>2017</td><td>5</td><td>Customer</td><td>82306</td></tr>",
                            "<tr><td>2017</td><td>5</td><td>Subscriber</td><td>263646</td></tr>",
                            "<tr><td>2017</td><td>6</td><td>Customer</td><td>132178</td></tr>",
                            "<tr><td>2017</td><td>6</td><td>Subscriber</td><td>372936</td></tr>",
                            "<tr><td>2017</td><td>7</td><td>Customer</td><td>179369</td></tr>",
                            "<tr><td>2017</td><td>7</td><td>Subscriber</td><td>385725</td></tr>",
                            "<tr><td>2017</td><td>8</td><td>Customer</td><td>146031</td></tr>",
                            "<tr><td>2017</td><td>8</td><td>Dependent</td><td>3</td></tr>",
                            "<tr><td>2017</td><td>8</td><td>Subscriber</td><td>411553</td></tr>",
                            "<tr><td>2017</td><td>9</td><td>Customer</td><td>116183</td></tr>",
                            "<tr><td>2017</td><td>9</td><td>Subscriber</td><td>369266</td></tr>",
                            "<tr><td>2017</td><td>10</td><td>Customer</td><td>58802</td></tr>",
                            "<tr><td>2017</td><td>10</td><td>Subscriber</td><td>295279</td></tr>",
                            "<tr><td>2017</td><td>11</td><td>Customer</td><td>12702</td></tr>",
                            "<tr><td>2017</td><td>11</td><td>Subscriber</td><td>177030</td></tr>",
                            "<tr><td>2017</td><td>12</td><td>Customer</td><td>6575</td></tr>",
                            "<tr><td>2017</td><td>12</td><td>Subscriber</td><td>118819</td></tr>",
                            "<tr><td>2018</td><td>1</td><td>Customer</td><td>3476</td></tr>",
                            "<tr><td>2018</td><td>1</td><td>Subscriber</td><td>106202</td></tr>",
                            "<tr><td>2018</td><td>2</td><td>Customer</td><td>3396</td></tr>",
                            "<tr><td>2018</td><td>2</td><td>Subscriber</td><td>99517</td></tr>",
                            "<tr><td>2018</td><td>3</td><td>Customer</td><td>15511</td></tr>",
                            "<tr><td>2018</td><td>3</td><td>Subscriber</td><td>158918</td></tr>",
                            "<tr><td>2018</td><td>4</td><td>Customer</td><td>21794</td></tr>",
                            "<tr><td>2018</td><td>4</td><td>Subscriber</td><td>178228</td></tr>",
                            "<tr><td>2018</td><td>5</td><td>Customer</td><td>89427</td></tr>",
                            "<tr><td>2018</td><td>5</td><td>Subscriber</td><td>311573</td></tr>",
                            "<tr><td>2018</td><td>6</td><td>Customer</td><td>107991</td></tr>",
                            "<tr><td>2018</td><td>6</td><td>Subscriber</td><td>350196</td></tr>",
                            "<tr><td>2018</td><td>7</td><td>Customer</td><td>150091</td></tr>",
                            "<tr><td>2018</td><td>7</td><td>Subscriber</td><td>394369</td></tr>",
                            "<tr><td>2018</td><td>8</td><td>Customer</td><td>128633</td></tr>",
                            "<tr><td>2018</td><td>8</td><td>Subscriber</td><td>401906</td></tr>",
                            "<tr><td>2018</td><td>9</td><td>Customer</td><td>93796</td></tr>",
                            "<tr><td>2018</td><td>9</td><td>Subscriber</td><td>344142</td></tr>",
                            "<tr><td>2018</td><td>10</td><td>Customer</td><td>43685</td></tr>",
                            "<tr><td>2018</td><td>10</td><td>Subscriber</td><td>301119</td></tr>",
                            "<tr><td>2018</td><td>11</td><td>Customer</td><td>10974</td></tr>",
                            "<tr><td>2018</td><td>11</td><td>Subscriber</td><td>157714</td></tr>",
                            "<tr><td>2018</td><td>12</td><td>Customer</td><td>7464</td></tr>",
                            "<tr><td>2018</td><td>12</td><td>Subscriber</td><td>121449</td></tr>",
                            "<tr><td>2019</td><td>1</td><td>Customer</td><td>4591</td></tr>",
                            "<tr><td>2019</td><td>1</td><td>Subscriber</td><td>98601</td></tr>",
                            "<tr><td>2019</td><td>2</td><td>Customer</td><td>2627</td></tr>",
                            "<tr><td>2019</td><td>2</td><td>Subscriber</td><td>93522</td></tr>",
                            "<tr><td>2019</td><td>3</td><td>Customer</td><td>15877</td></tr>",
                            "<tr><td>2019</td><td>3</td><td>Subscriber</td><td>149659</td></tr>",
                            "<tr><td>2019</td><td>4</td><td>Customer</td><td>47669</td></tr>",
                            "<tr><td>2019</td><td>4</td><td>Subscriber</td><td>217531</td></tr>",
                            "<tr><td>2019</td><td>5</td><td>Customer</td><td>81507</td></tr>",
                            "<tr><td>2019</td><td>5</td><td>Subscriber</td><td>285793</td></tr>",
                            "<tr><td>2019</td><td>6</td><td>Customer</td><td>130066</td></tr>",
                            "<tr><td>2019</td><td>6</td><td>Subscriber</td><td>345135</td></tr>",
                            "<tr><td>2019</td><td>7</td><td>Customer</td><td>175433</td></tr>",
                            "<tr><td>2019</td><td>7</td><td>Subscriber</td><td>381615</td></tr>",
                            "<tr><td>2019</td><td>8</td><td>Customer</td><td>186625</td></tr>",
                            "<tr><td>2019</td><td>8</td><td>Subscriber</td><td>403241</td></tr>",
                            "<tr><td>2019</td><td>9</td><td>Customer</td><td>128988</td></tr>",
                            "<tr><td>2019</td><td>9</td><td>Subscriber</td><td>364004</td></tr>",
                            "<tr><td>2019</td><td>10</td><td>Customer</td><td>70889</td></tr>",
                            "<tr><td>2019</td><td>10</td><td>Subscriber</td><td>300717</td></tr>",
                            "<tr><td>2019</td><td>11</td><td>Customer</td><td>18653</td></tr>",
                            "<tr><td>2019</td><td>11</td><td>Subscriber</td><td>158401</td></tr>",
                            "<tr><td>2019</td><td>12</td><td>Customer</td><td>16365</td></tr>",
                            "<tr><td>2019</td><td>12</td><td>Subscriber</td><td>138647</td></tr>",
                            "</table>"
                        ]
                    }
                }
            ],
            "execution_count": 10
        },
        {
            "cell_type": "code",
            "source": [
                "SELECT YEAR(started_at) AS trip_year, MONTH(started_at) AS trip_month, member_casual, COUNT(*) AS trip_count\n",
                "FROM newer_trips \n",
                "WHERE tripduration > 60 AND tripduration < 86401 \n",
                "GROUP BY YEAR(started_at), MONTH(started_at), member_casual \n",
                "ORDER BY YEAR(started_at), MONTH(started_at), member_casual"
            ],
            "metadata": {
                "language": "sql",
                "azdata_cell_guid": "3a3d83b2-7129-46cd-8641-9f9af9215da9"
            },
            "outputs": [
                {
                    "output_type": "display_data",
                    "data": {
                        "text/html": "(56 rows affected)"
                    },
                    "metadata": {}
                },
                {
                    "output_type": "display_data",
                    "data": {
                        "text/html": "Total execution time: 00:00:00.780"
                    },
                    "metadata": {}
                },
                {
                    "output_type": "execute_result",
                    "metadata": {},
                    "execution_count": 11,
                    "data": {
                        "application/vnd.dataresource+json": {
                            "schema": {
                                "fields": [
                                    {
                                        "name": "trip_year"
                                    },
                                    {
                                        "name": "trip_month"
                                    },
                                    {
                                        "name": "member_casual"
                                    },
                                    {
                                        "name": "trip_count"
                                    }
                                ]
                            },
                            "data": [
                                {
                                    "0": "2020",
                                    "1": "1",
                                    "2": "casual",
                                    "3": "7678"
                                },
                                {
                                    "0": "2020",
                                    "1": "1",
                                    "2": "member",
                                    "3": "134865"
                                },
                                {
                                    "0": "2020",
                                    "1": "2",
                                    "2": "casual",
                                    "3": "12206"
                                },
                                {
                                    "0": "2020",
                                    "1": "2",
                                    "2": "member",
                                    "3": "125383"
                                },
                                {
                                    "0": "2020",
                                    "1": "3",
                                    "2": "casual",
                                    "3": "24418"
                                },
                                {
                                    "0": "2020",
                                    "1": "3",
                                    "2": "member",
                                    "3": "114351"
                                },
                                {
                                    "0": "2020",
                                    "1": "4",
                                    "2": "casual",
                                    "3": "23361"
                                },
                                {
                                    "0": "2020",
                                    "1": "4",
                                    "2": "member",
                                    "3": "60268"
                                },
                                {
                                    "0": "2020",
                                    "1": "5",
                                    "2": "casual",
                                    "3": "86031"
                                },
                                {
                                    "0": "2020",
                                    "1": "5",
                                    "2": "member",
                                    "3": "111576"
                                },
                                {
                                    "0": "2020",
                                    "1": "6",
                                    "2": "casual",
                                    "3": "152968"
                                },
                                {
                                    "0": "2020",
                                    "1": "6",
                                    "2": "member",
                                    "3": "185205"
                                },
                                {
                                    "0": "2020",
                                    "1": "7",
                                    "2": "casual",
                                    "3": "266002"
                                },
                                {
                                    "0": "2020",
                                    "1": "7",
                                    "2": "member",
                                    "3": "276572"
                                },
                                {
                                    "0": "2020",
                                    "1": "8",
                                    "2": "casual",
                                    "3": "283890"
                                },
                                {
                                    "0": "2020",
                                    "1": "8",
                                    "2": "member",
                                    "3": "324980"
                                },
                                {
                                    "0": "2020",
                                    "1": "9",
                                    "2": "casual",
                                    "3": "226529"
                                },
                                {
                                    "0": "2020",
                                    "1": "9",
                                    "2": "member",
                                    "3": "295418"
                                },
                                {
                                    "0": "2020",
                                    "1": "10",
                                    "2": "casual",
                                    "3": "141748"
                                },
                                {
                                    "0": "2020",
                                    "1": "10",
                                    "2": "member",
                                    "3": "237917"
                                },
                                {
                                    "0": "2020",
                                    "1": "11",
                                    "2": "casual",
                                    "3": "86628"
                                },
                                {
                                    "0": "2020",
                                    "1": "11",
                                    "2": "member",
                                    "3": "168387"
                                },
                                {
                                    "0": "2020",
                                    "1": "12",
                                    "2": "casual",
                                    "3": "29620"
                                },
                                {
                                    "0": "2020",
                                    "1": "12",
                                    "2": "member",
                                    "3": "99815"
                                },
                                {
                                    "0": "2021",
                                    "1": "1",
                                    "2": "casual",
                                    "3": "17813"
                                },
                                {
                                    "0": "2021",
                                    "1": "1",
                                    "2": "member",
                                    "3": "77549"
                                },
                                {
                                    "0": "2021",
                                    "1": "2",
                                    "2": "casual",
                                    "3": "9904"
                                },
                                {
                                    "0": "2021",
                                    "1": "2",
                                    "2": "member",
                                    "3": "38618"
                                },
                                {
                                    "0": "2021",
                                    "1": "3",
                                    "2": "casual",
                                    "3": "82987"
                                },
                                {
                                    "0": "2021",
                                    "1": "3",
                                    "2": "member",
                                    "3": "142344"
                                },
                                {
                                    "0": "2021",
                                    "1": "4",
                                    "2": "casual",
                                    "3": "134700"
                                },
                                {
                                    "0": "2021",
                                    "1": "4",
                                    "2": "member",
                                    "3": "197436"
                                },
                                {
                                    "0": "2021",
                                    "1": "5",
                                    "2": "casual",
                                    "3": "252903"
                                },
                                {
                                    "0": "2021",
                                    "1": "5",
                                    "2": "member",
                                    "3": "269815"
                                },
                                {
                                    "0": "2021",
                                    "1": "6",
                                    "2": "casual",
                                    "3": "364381"
                                },
                                {
                                    "0": "2021",
                                    "1": "6",
                                    "2": "member",
                                    "3": "352548"
                                },
                                {
                                    "0": "2021",
                                    "1": "7",
                                    "2": "casual",
                                    "3": "435289"
                                },
                                {
                                    "0": "2021",
                                    "1": "7",
                                    "2": "member",
                                    "3": "373710"
                                },
                                {
                                    "0": "2021",
                                    "1": "8",
                                    "2": "casual",
                                    "3": "407009"
                                },
                                {
                                    "0": "2021",
                                    "1": "8",
                                    "2": "member",
                                    "3": "385305"
                                },
                                {
                                    "0": "2021",
                                    "1": "9",
                                    "2": "casual",
                                    "3": "358820"
                                },
                                {
                                    "0": "2021",
                                    "1": "9",
                                    "2": "member",
                                    "3": "385843"
                                },
                                {
                                    "0": "2021",
                                    "1": "10",
                                    "2": "casual",
                                    "3": "253404"
                                },
                                {
                                    "0": "2021",
                                    "1": "10",
                                    "2": "member",
                                    "3": "367305"
                                },
                                {
                                    "0": "2021",
                                    "1": "11",
                                    "2": "casual",
                                    "3": "105214"
                                },
                                {
                                    "0": "2021",
                                    "1": "11",
                                    "2": "member",
                                    "3": "248610"
                                },
                                {
                                    "0": "2021",
                                    "1": "12",
                                    "2": "casual",
                                    "3": "68613"
                                },
                                {
                                    "0": "2021",
                                    "1": "12",
                                    "2": "member",
                                    "3": "174816"
                                },
                                {
                                    "0": "2022",
                                    "1": "1",
                                    "2": "casual",
                                    "3": "18083"
                                },
                                {
                                    "0": "2022",
                                    "1": "1",
                                    "2": "member",
                                    "3": "83731"
                                },
                                {
                                    "0": "2022",
                                    "1": "2",
                                    "2": "casual",
                                    "3": "20912"
                                },
                                {
                                    "0": "2022",
                                    "1": "2",
                                    "2": "member",
                                    "3": "92022"
                                },
                                {
                                    "0": "2022",
                                    "1": "3",
                                    "2": "casual",
                                    "3": "88100"
                                },
                                {
                                    "0": "2022",
                                    "1": "3",
                                    "2": "member",
                                    "3": "190526"
                                },
                                {
                                    "0": "2022",
                                    "1": "4",
                                    "2": "casual",
                                    "3": "123781"
                                },
                                {
                                    "0": "2022",
                                    "1": "4",
                                    "2": "member",
                                    "3": "239774"
                                }
                            ]
                        },
                        "text/html": [
                            "<table>",
                            "<tr><th>trip_year</th><th>trip_month</th><th>member_casual</th><th>trip_count</th></tr>",
                            "<tr><td>2020</td><td>1</td><td>casual</td><td>7678</td></tr>",
                            "<tr><td>2020</td><td>1</td><td>member</td><td>134865</td></tr>",
                            "<tr><td>2020</td><td>2</td><td>casual</td><td>12206</td></tr>",
                            "<tr><td>2020</td><td>2</td><td>member</td><td>125383</td></tr>",
                            "<tr><td>2020</td><td>3</td><td>casual</td><td>24418</td></tr>",
                            "<tr><td>2020</td><td>3</td><td>member</td><td>114351</td></tr>",
                            "<tr><td>2020</td><td>4</td><td>casual</td><td>23361</td></tr>",
                            "<tr><td>2020</td><td>4</td><td>member</td><td>60268</td></tr>",
                            "<tr><td>2020</td><td>5</td><td>casual</td><td>86031</td></tr>",
                            "<tr><td>2020</td><td>5</td><td>member</td><td>111576</td></tr>",
                            "<tr><td>2020</td><td>6</td><td>casual</td><td>152968</td></tr>",
                            "<tr><td>2020</td><td>6</td><td>member</td><td>185205</td></tr>",
                            "<tr><td>2020</td><td>7</td><td>casual</td><td>266002</td></tr>",
                            "<tr><td>2020</td><td>7</td><td>member</td><td>276572</td></tr>",
                            "<tr><td>2020</td><td>8</td><td>casual</td><td>283890</td></tr>",
                            "<tr><td>2020</td><td>8</td><td>member</td><td>324980</td></tr>",
                            "<tr><td>2020</td><td>9</td><td>casual</td><td>226529</td></tr>",
                            "<tr><td>2020</td><td>9</td><td>member</td><td>295418</td></tr>",
                            "<tr><td>2020</td><td>10</td><td>casual</td><td>141748</td></tr>",
                            "<tr><td>2020</td><td>10</td><td>member</td><td>237917</td></tr>",
                            "<tr><td>2020</td><td>11</td><td>casual</td><td>86628</td></tr>",
                            "<tr><td>2020</td><td>11</td><td>member</td><td>168387</td></tr>",
                            "<tr><td>2020</td><td>12</td><td>casual</td><td>29620</td></tr>",
                            "<tr><td>2020</td><td>12</td><td>member</td><td>99815</td></tr>",
                            "<tr><td>2021</td><td>1</td><td>casual</td><td>17813</td></tr>",
                            "<tr><td>2021</td><td>1</td><td>member</td><td>77549</td></tr>",
                            "<tr><td>2021</td><td>2</td><td>casual</td><td>9904</td></tr>",
                            "<tr><td>2021</td><td>2</td><td>member</td><td>38618</td></tr>",
                            "<tr><td>2021</td><td>3</td><td>casual</td><td>82987</td></tr>",
                            "<tr><td>2021</td><td>3</td><td>member</td><td>142344</td></tr>",
                            "<tr><td>2021</td><td>4</td><td>casual</td><td>134700</td></tr>",
                            "<tr><td>2021</td><td>4</td><td>member</td><td>197436</td></tr>",
                            "<tr><td>2021</td><td>5</td><td>casual</td><td>252903</td></tr>",
                            "<tr><td>2021</td><td>5</td><td>member</td><td>269815</td></tr>",
                            "<tr><td>2021</td><td>6</td><td>casual</td><td>364381</td></tr>",
                            "<tr><td>2021</td><td>6</td><td>member</td><td>352548</td></tr>",
                            "<tr><td>2021</td><td>7</td><td>casual</td><td>435289</td></tr>",
                            "<tr><td>2021</td><td>7</td><td>member</td><td>373710</td></tr>",
                            "<tr><td>2021</td><td>8</td><td>casual</td><td>407009</td></tr>",
                            "<tr><td>2021</td><td>8</td><td>member</td><td>385305</td></tr>",
                            "<tr><td>2021</td><td>9</td><td>casual</td><td>358820</td></tr>",
                            "<tr><td>2021</td><td>9</td><td>member</td><td>385843</td></tr>",
                            "<tr><td>2021</td><td>10</td><td>casual</td><td>253404</td></tr>",
                            "<tr><td>2021</td><td>10</td><td>member</td><td>367305</td></tr>",
                            "<tr><td>2021</td><td>11</td><td>casual</td><td>105214</td></tr>",
                            "<tr><td>2021</td><td>11</td><td>member</td><td>248610</td></tr>",
                            "<tr><td>2021</td><td>12</td><td>casual</td><td>68613</td></tr>",
                            "<tr><td>2021</td><td>12</td><td>member</td><td>174816</td></tr>",
                            "<tr><td>2022</td><td>1</td><td>casual</td><td>18083</td></tr>",
                            "<tr><td>2022</td><td>1</td><td>member</td><td>83731</td></tr>",
                            "<tr><td>2022</td><td>2</td><td>casual</td><td>20912</td></tr>",
                            "<tr><td>2022</td><td>2</td><td>member</td><td>92022</td></tr>",
                            "<tr><td>2022</td><td>3</td><td>casual</td><td>88100</td></tr>",
                            "<tr><td>2022</td><td>3</td><td>member</td><td>190526</td></tr>",
                            "<tr><td>2022</td><td>4</td><td>casual</td><td>123781</td></tr>",
                            "<tr><td>2022</td><td>4</td><td>member</td><td>239774</td></tr>",
                            "</table>"
                        ]
                    }
                }
            ],
            "execution_count": 11
        },
        {
            "cell_type": "markdown",
            "source": [
                "To get a better understanding of the seasonal aspect of the data it would be interesting to see the most frequented locations per month. I have created views that look like:\n",
                "\n",
                "```\n",
                "SELECT YEAR(starttime) AS trip_year, MONTH(starttime) AS trip_month, COUNT(*) AS trips_made, from_station_name, usertypeFROM trips WHERE tripduration > 60 AND tripduration < 86401 GROUP BY YEAR(starttime), MONTH(starttime), from_station_name, usertype\n",
                "\n",
                "```\n",
                "```\n",
                "SELECT YEAR(started_at) AS trip_year, MONTH(started_at) AS trip_month, COUNT(*) AS trips_made, start_station_name, member_casualFROM newer_trips WHERE tripduration > 60 AND tripduration < 86401 GROUP BY YEAR(started_at), MONTH(started_at), start_station_name, member_casual\n",
                "```"
            ],
            "metadata": {
                "language": "sql",
                "azdata_cell_guid": "a6cd889b-a54c-4cbc-b2d2-e979589f15d3"
            },
            "attachments": {}
        },
        {
            "cell_type": "markdown",
            "source": [
                "These views I can then query using the below code as an example to get stats on location usage."
            ],
            "metadata": {
                "language": "sql",
                "azdata_cell_guid": "d0322c2e-adb9-4c0e-aa75-48e09efe053d"
            },
            "attachments": {}
        },
        {
            "cell_type": "code",
            "source": [
                "SELECT  *\n",
                "FROM    \n",
                "        (\n",
                "            SELECT trip_year, trip_month, trips_made, from_station_name, usertype,\n",
                "            DENSE_RANK() OVER(PARTITION BY trip_year, trip_month ORDER BY trips_made DESC) AS rn\n",
                "            FROM trips_month_location_member\n",
                "            WHERE usertype = 'Subscriber'\n",
                "        ) s\n",
                "WHERE   rn <= 10\n",
                "ORDER   BY trip_year, trip_month"
            ],
            "metadata": {
                "language": "sql",
                "azdata_cell_guid": "73c2d00e-6e21-462d-9f07-771995d4c6f6"
            },
            "outputs": [
                {
                    "output_type": "display_data",
                    "data": {
                        "text/html": "(801 rows affected)"
                    },
                    "metadata": {}
                },
                {
                    "output_type": "display_data",
                    "data": {
                        "text/html": "Total execution time: 00:00:00.669"
                    },
                    "metadata": {}
                },
                {
                    "output_type": "execute_result",
                    "metadata": {},
                    "execution_count": 12,
                    "data": {
                        "application/vnd.dataresource+json": {
                            "schema": {
                                "fields": [
                                    {
                                        "name": "trip_year"
                                    },
                                    {
                                        "name": "trip_month"
                                    },
                                    {
                                        "name": "trips_made"
                                    },
                                    {
                                        "name": "from_station_name"
                                    },
                                    {
                                        "name": "usertype"
                                    },
                                    {
                                        "name": "rn"
                                    }
                                ]
                            },
                            "data": [
                                {
                                    "0": "2013",
                                    "1": "6",
                                    "2": "32",
                                    "3": "Daley Center Plaza",
                                    "4": "Subscriber",
                                    "5": "1"
                                },
                                {
                                    "0": "2013",
                                    "1": "6",
                                    "2": "30",
                                    "3": "Clark St & Randolph St",
                                    "4": "Subscriber",
                                    "5": "2"
                                },
                                {
                                    "0": "2013",
                                    "1": "6",
                                    "2": "30",
                                    "3": "Canal St & Jackson Blvd",
                                    "4": "Subscriber",
                                    "5": "2"
                                },
                                {
                                    "0": "2013",
                                    "1": "6",
                                    "2": "27",
                                    "3": "Clinton St & Washington Blvd",
                                    "4": "Subscriber",
                                    "5": "3"
                                },
                                {
                                    "0": "2013",
                                    "1": "6",
                                    "2": "26",
                                    "3": "Franklin St & Jackson Blvd",
                                    "4": "Subscriber",
                                    "5": "4"
                                },
                                {
                                    "0": "2013",
                                    "1": "6",
                                    "2": "25",
                                    "3": "Wabash Ave & Roosevelt Rd",
                                    "4": "Subscriber",
                                    "5": "5"
                                },
                                {
                                    "0": "2013",
                                    "1": "6",
                                    "2": "24",
                                    "3": "Michigan Ave & Pearson St",
                                    "4": "Subscriber",
                                    "5": "6"
                                },
                                {
                                    "0": "2013",
                                    "1": "6",
                                    "2": "21",
                                    "3": "McClurg Ct & Illinois St",
                                    "4": "Subscriber",
                                    "5": "7"
                                },
                                {
                                    "0": "2013",
                                    "1": "6",
                                    "2": "21",
                                    "3": "Dayton St & North Ave",
                                    "4": "Subscriber",
                                    "5": "7"
                                },
                                {
                                    "0": "2013",
                                    "1": "6",
                                    "2": "20",
                                    "3": "Franklin St & Chicago Ave",
                                    "4": "Subscriber",
                                    "5": "8"
                                },
                                {
                                    "0": "2013",
                                    "1": "6",
                                    "2": "20",
                                    "3": "Clinton St & Lake St",
                                    "4": "Subscriber",
                                    "5": "8"
                                },
                                {
                                    "0": "2013",
                                    "1": "6",
                                    "2": "19",
                                    "3": "Lake Shore Dr & Monroe St",
                                    "4": "Subscriber",
                                    "5": "9"
                                },
                                {
                                    "0": "2013",
                                    "1": "6",
                                    "2": "18",
                                    "3": "Cannon Dr & Fullerton Ave",
                                    "4": "Subscriber",
                                    "5": "10"
                                },
                                {
                                    "0": "2013",
                                    "1": "6",
                                    "2": "18",
                                    "3": "Michigan Ave & Lake St",
                                    "4": "Subscriber",
                                    "5": "10"
                                },
                                {
                                    "0": "2013",
                                    "1": "6",
                                    "2": "18",
                                    "3": "Desplaines St & Kinzie St",
                                    "4": "Subscriber",
                                    "5": "10"
                                },
                                {
                                    "0": "2013",
                                    "1": "7",
                                    "2": "1027",
                                    "3": "Clinton St & Washington Blvd",
                                    "4": "Subscriber",
                                    "5": "1"
                                },
                                {
                                    "0": "2013",
                                    "1": "7",
                                    "2": "888",
                                    "3": "Canal St & Jackson Blvd",
                                    "4": "Subscriber",
                                    "5": "2"
                                },
                                {
                                    "0": "2013",
                                    "1": "7",
                                    "2": "850",
                                    "3": "Clinton St & Madison St",
                                    "4": "Subscriber",
                                    "5": "3"
                                },
                                {
                                    "0": "2013",
                                    "1": "7",
                                    "2": "727",
                                    "3": "Daley Center Plaza",
                                    "4": "Subscriber",
                                    "5": "4"
                                },
                                {
                                    "0": "2013",
                                    "1": "7",
                                    "2": "645",
                                    "3": "State St & Kinzie St",
                                    "4": "Subscriber",
                                    "5": "5"
                                },
                                {
                                    "0": "2013",
                                    "1": "7",
                                    "2": "606",
                                    "3": "Clark St & Randolph St",
                                    "4": "Subscriber",
                                    "5": "6"
                                },
                                {
                                    "0": "2013",
                                    "1": "7",
                                    "2": "606",
                                    "3": "Michigan Ave & Lake St",
                                    "4": "Subscriber",
                                    "5": "6"
                                },
                                {
                                    "0": "2013",
                                    "1": "7",
                                    "2": "602",
                                    "3": "Franklin St & Jackson Blvd",
                                    "4": "Subscriber",
                                    "5": "7"
                                },
                                {
                                    "0": "2013",
                                    "1": "7",
                                    "2": "595",
                                    "3": "Dearborn St & Adams St",
                                    "4": "Subscriber",
                                    "5": "8"
                                },
                                {
                                    "0": "2013",
                                    "1": "7",
                                    "2": "532",
                                    "3": "Clinton St & Lake St",
                                    "4": "Subscriber",
                                    "5": "9"
                                },
                                {
                                    "0": "2013",
                                    "1": "7",
                                    "2": "484",
                                    "3": "Dearborn St & Monroe St",
                                    "4": "Subscriber",
                                    "5": "10"
                                },
                                {
                                    "0": "2013",
                                    "1": "8",
                                    "2": "2088",
                                    "3": "Clinton St & Washington Blvd",
                                    "4": "Subscriber",
                                    "5": "1"
                                },
                                {
                                    "0": "2013",
                                    "1": "8",
                                    "2": "1652",
                                    "3": "Canal St & Jackson Blvd",
                                    "4": "Subscriber",
                                    "5": "2"
                                },
                                {
                                    "0": "2013",
                                    "1": "8",
                                    "2": "1380",
                                    "3": "Franklin St & Jackson Blvd",
                                    "4": "Subscriber",
                                    "5": "3"
                                },
                                {
                                    "0": "2013",
                                    "1": "8",
                                    "2": "1238",
                                    "3": "Daley Center Plaza",
                                    "4": "Subscriber",
                                    "5": "4"
                                },
                                {
                                    "0": "2013",
                                    "1": "8",
                                    "2": "1235",
                                    "3": "Clinton St & Madison St",
                                    "4": "Subscriber",
                                    "5": "5"
                                },
                                {
                                    "0": "2013",
                                    "1": "8",
                                    "2": "1034",
                                    "3": "Michigan Ave & Lake St",
                                    "4": "Subscriber",
                                    "5": "6"
                                },
                                {
                                    "0": "2013",
                                    "1": "8",
                                    "2": "996",
                                    "3": "Dearborn St & Adams St",
                                    "4": "Subscriber",
                                    "5": "7"
                                },
                                {
                                    "0": "2013",
                                    "1": "8",
                                    "2": "991",
                                    "3": "Dearborn St & Monroe St",
                                    "4": "Subscriber",
                                    "5": "8"
                                },
                                {
                                    "0": "2013",
                                    "1": "8",
                                    "2": "985",
                                    "3": "Clark St & Randolph St",
                                    "4": "Subscriber",
                                    "5": "9"
                                },
                                {
                                    "0": "2013",
                                    "1": "8",
                                    "2": "958",
                                    "3": "Clinton St & Lake St",
                                    "4": "Subscriber",
                                    "5": "10"
                                },
                                {
                                    "0": "2013",
                                    "1": "9",
                                    "2": "2726",
                                    "3": "Clinton St & Washington Blvd",
                                    "4": "Subscriber",
                                    "5": "1"
                                },
                                {
                                    "0": "2013",
                                    "1": "9",
                                    "2": "1961",
                                    "3": "Canal St & Jackson Blvd",
                                    "4": "Subscriber",
                                    "5": "2"
                                },
                                {
                                    "0": "2013",
                                    "1": "9",
                                    "2": "1599",
                                    "3": "Franklin St & Jackson Blvd",
                                    "4": "Subscriber",
                                    "5": "3"
                                },
                                {
                                    "0": "2013",
                                    "1": "9",
                                    "2": "1523",
                                    "3": "Canal St & Madison St",
                                    "4": "Subscriber",
                                    "5": "4"
                                },
                                {
                                    "0": "2013",
                                    "1": "9",
                                    "2": "1516",
                                    "3": "Daley Center Plaza",
                                    "4": "Subscriber",
                                    "5": "5"
                                },
                                {
                                    "0": "2013",
                                    "1": "9",
                                    "2": "1384",
                                    "3": "Clinton St & Madison St",
                                    "4": "Subscriber",
                                    "5": "6"
                                },
                                {
                                    "0": "2013",
                                    "1": "9",
                                    "2": "1247",
                                    "3": "Clark St & Randolph St",
                                    "4": "Subscriber",
                                    "5": "7"
                                },
                                {
                                    "0": "2013",
                                    "1": "9",
                                    "2": "1227",
                                    "3": "Dearborn St & Monroe St",
                                    "4": "Subscriber",
                                    "5": "8"
                                },
                                {
                                    "0": "2013",
                                    "1": "9",
                                    "2": "1199",
                                    "3": "Canal St & Adams St",
                                    "4": "Subscriber",
                                    "5": "9"
                                },
                                {
                                    "0": "2013",
                                    "1": "9",
                                    "2": "1199",
                                    "3": "Dearborn St & Adams St",
                                    "4": "Subscriber",
                                    "5": "9"
                                },
                                {
                                    "0": "2013",
                                    "1": "9",
                                    "2": "1152",
                                    "3": "Clinton St & Lake St",
                                    "4": "Subscriber",
                                    "5": "10"
                                },
                                {
                                    "0": "2013",
                                    "1": "10",
                                    "2": "3276",
                                    "3": "Clinton St & Washington Blvd",
                                    "4": "Subscriber",
                                    "5": "1"
                                },
                                {
                                    "0": "2013",
                                    "1": "10",
                                    "2": "1922",
                                    "3": "Canal St & Madison St",
                                    "4": "Subscriber",
                                    "5": "2"
                                },
                                {
                                    "0": "2013",
                                    "1": "10",
                                    "2": "1803",
                                    "3": "Canal St & Jackson Blvd",
                                    "4": "Subscriber",
                                    "5": "3"
                                },
                                {
                                    "0": "2013",
                                    "1": "10",
                                    "2": "1625",
                                    "3": "Canal St & Adams St",
                                    "4": "Subscriber",
                                    "5": "4"
                                },
                                {
                                    "0": "2013",
                                    "1": "10",
                                    "2": "1495",
                                    "3": "Daley Center Plaza",
                                    "4": "Subscriber",
                                    "5": "5"
                                },
                                {
                                    "0": "2013",
                                    "1": "10",
                                    "2": "1478",
                                    "3": "Clinton St & Madison St",
                                    "4": "Subscriber",
                                    "5": "6"
                                },
                                {
                                    "0": "2013",
                                    "1": "10",
                                    "2": "1444",
                                    "3": "Dearborn St & Monroe St",
                                    "4": "Subscriber",
                                    "5": "7"
                                },
                                {
                                    "0": "2013",
                                    "1": "10",
                                    "2": "1320",
                                    "3": "Larrabee St & Kingsbury St",
                                    "4": "Subscriber",
                                    "5": "8"
                                },
                                {
                                    "0": "2013",
                                    "1": "10",
                                    "2": "1309",
                                    "3": "LaSalle St & Jackson Blvd",
                                    "4": "Subscriber",
                                    "5": "9"
                                },
                                {
                                    "0": "2013",
                                    "1": "10",
                                    "2": "1300",
                                    "3": "Franklin St & Arcade Pl",
                                    "4": "Subscriber",
                                    "5": "10"
                                },
                                {
                                    "0": "2013",
                                    "1": "11",
                                    "2": "2438",
                                    "3": "Clinton St & Washington Blvd",
                                    "4": "Subscriber",
                                    "5": "1"
                                },
                                {
                                    "0": "2013",
                                    "1": "11",
                                    "2": "1359",
                                    "3": "Canal St & Madison St",
                                    "4": "Subscriber",
                                    "5": "2"
                                },
                                {
                                    "0": "2013",
                                    "1": "11",
                                    "2": "1165",
                                    "3": "Canal St & Adams St",
                                    "4": "Subscriber",
                                    "5": "3"
                                },
                                {
                                    "0": "2013",
                                    "1": "11",
                                    "2": "1140",
                                    "3": "Canal St & Jackson Blvd",
                                    "4": "Subscriber",
                                    "5": "4"
                                },
                                {
                                    "0": "2013",
                                    "1": "11",
                                    "2": "1117",
                                    "3": "Dearborn St & Monroe St",
                                    "4": "Subscriber",
                                    "5": "5"
                                },
                                {
                                    "0": "2013",
                                    "1": "11",
                                    "2": "1002",
                                    "3": "LaSalle St & Jackson Blvd",
                                    "4": "Subscriber",
                                    "5": "6"
                                },
                                {
                                    "0": "2013",
                                    "1": "11",
                                    "2": "972",
                                    "3": "Clinton St & Madison St",
                                    "4": "Subscriber",
                                    "5": "7"
                                },
                                {
                                    "0": "2013",
                                    "1": "11",
                                    "2": "938",
                                    "3": "Franklin St & Arcade Pl",
                                    "4": "Subscriber",
                                    "5": "8"
                                },
                                {
                                    "0": "2013",
                                    "1": "11",
                                    "2": "920",
                                    "3": "Larrabee St & Kingsbury St",
                                    "4": "Subscriber",
                                    "5": "9"
                                },
                                {
                                    "0": "2013",
                                    "1": "11",
                                    "2": "805",
                                    "3": "Orleans St & Merchandise Mart Plaza",
                                    "4": "Subscriber",
                                    "5": "10"
                                },
                                {
                                    "0": "2013",
                                    "1": "12",
                                    "2": "1364",
                                    "3": "Clinton St & Washington Blvd",
                                    "4": "Subscriber",
                                    "5": "1"
                                },
                                {
                                    "0": "2013",
                                    "1": "12",
                                    "2": "878",
                                    "3": "Canal St & Madison St",
                                    "4": "Subscriber",
                                    "5": "2"
                                },
                                {
                                    "0": "2013",
                                    "1": "12",
                                    "2": "765",
                                    "3": "Canal St & Adams St",
                                    "4": "Subscriber",
                                    "5": "3"
                                },
                                {
                                    "0": "2013",
                                    "1": "12",
                                    "2": "714",
                                    "3": "Dearborn St & Monroe St",
                                    "4": "Subscriber",
                                    "5": "4"
                                },
                                {
                                    "0": "2013",
                                    "1": "12",
                                    "2": "660",
                                    "3": "LaSalle St & Jackson Blvd",
                                    "4": "Subscriber",
                                    "5": "5"
                                },
                                {
                                    "0": "2013",
                                    "1": "12",
                                    "2": "657",
                                    "3": "Canal St & Jackson Blvd",
                                    "4": "Subscriber",
                                    "5": "6"
                                },
                                {
                                    "0": "2013",
                                    "1": "12",
                                    "2": "607",
                                    "3": "Franklin St & Arcade Pl",
                                    "4": "Subscriber",
                                    "5": "7"
                                },
                                {
                                    "0": "2013",
                                    "1": "12",
                                    "2": "581",
                                    "3": "Clinton St & Madison St",
                                    "4": "Subscriber",
                                    "5": "8"
                                },
                                {
                                    "0": "2013",
                                    "1": "12",
                                    "2": "549",
                                    "3": "Larrabee St & Kingsbury St",
                                    "4": "Subscriber",
                                    "5": "9"
                                },
                                {
                                    "0": "2013",
                                    "1": "12",
                                    "2": "507",
                                    "3": "LaSalle St & Washington St",
                                    "4": "Subscriber",
                                    "5": "10"
                                },
                                {
                                    "0": "2014",
                                    "1": "1",
                                    "2": "860",
                                    "3": "Clinton St & Washington Blvd",
                                    "4": "Subscriber",
                                    "5": "1"
                                },
                                {
                                    "0": "2014",
                                    "1": "1",
                                    "2": "563",
                                    "3": "Canal St & Madison St",
                                    "4": "Subscriber",
                                    "5": "2"
                                },
                                {
                                    "0": "2014",
                                    "1": "1",
                                    "2": "487",
                                    "3": "Canal St & Adams St",
                                    "4": "Subscriber",
                                    "5": "3"
                                },
                                {
                                    "0": "2014",
                                    "1": "1",
                                    "2": "423",
                                    "3": "Franklin St & Arcade Pl",
                                    "4": "Subscriber",
                                    "5": "4"
                                },
                                {
                                    "0": "2014",
                                    "1": "1",
                                    "2": "384",
                                    "3": "LaSalle St & Jackson Blvd",
                                    "4": "Subscriber",
                                    "5": "5"
                                },
                                {
                                    "0": "2014",
                                    "1": "1",
                                    "2": "380",
                                    "3": "Canal St & Jackson Blvd",
                                    "4": "Subscriber",
                                    "5": "6"
                                },
                                {
                                    "0": "2014",
                                    "1": "1",
                                    "2": "372",
                                    "3": "Dearborn St & Monroe St",
                                    "4": "Subscriber",
                                    "5": "7"
                                },
                                {
                                    "0": "2014",
                                    "1": "1",
                                    "2": "339",
                                    "3": "Michigan Ave & Lake St",
                                    "4": "Subscriber",
                                    "5": "8"
                                },
                                {
                                    "0": "2014",
                                    "1": "1",
                                    "2": "338",
                                    "3": "Clinton St & Madison St",
                                    "4": "Subscriber",
                                    "5": "9"
                                },
                                {
                                    "0": "2014",
                                    "1": "1",
                                    "2": "292",
                                    "3": "LaSalle St & Washington St",
                                    "4": "Subscriber",
                                    "5": "10"
                                },
                                {
                                    "0": "2014",
                                    "1": "2",
                                    "2": "947",
                                    "3": "Clinton St & Washington Blvd",
                                    "4": "Subscriber",
                                    "5": "1"
                                },
                                {
                                    "0": "2014",
                                    "1": "2",
                                    "2": "706",
                                    "3": "Canal St & Madison St",
                                    "4": "Subscriber",
                                    "5": "2"
                                },
                                {
                                    "0": "2014",
                                    "1": "2",
                                    "2": "543",
                                    "3": "Canal St & Adams St",
                                    "4": "Subscriber",
                                    "5": "3"
                                },
                                {
                                    "0": "2014",
                                    "1": "2",
                                    "2": "536",
                                    "3": "Franklin St & Arcade Pl",
                                    "4": "Subscriber",
                                    "5": "4"
                                },
                                {
                                    "0": "2014",
                                    "1": "2",
                                    "2": "468",
                                    "3": "Dearborn St & Monroe St",
                                    "4": "Subscriber",
                                    "5": "5"
                                },
                                {
                                    "0": "2014",
                                    "1": "2",
                                    "2": "459",
                                    "3": "LaSalle St & Jackson Blvd",
                                    "4": "Subscriber",
                                    "5": "6"
                                },
                                {
                                    "0": "2014",
                                    "1": "2",
                                    "2": "454",
                                    "3": "Canal St & Jackson Blvd",
                                    "4": "Subscriber",
                                    "5": "7"
                                },
                                {
                                    "0": "2014",
                                    "1": "2",
                                    "2": "452",
                                    "3": "Michigan Ave & Lake St",
                                    "4": "Subscriber",
                                    "5": "8"
                                },
                                {
                                    "0": "2014",
                                    "1": "2",
                                    "2": "391",
                                    "3": "Larrabee St & Kingsbury St",
                                    "4": "Subscriber",
                                    "5": "9"
                                },
                                {
                                    "0": "2014",
                                    "1": "2",
                                    "2": "377",
                                    "3": "Clinton St & Madison St",
                                    "4": "Subscriber",
                                    "5": "10"
                                },
                                {
                                    "0": "2014",
                                    "1": "3",
                                    "2": "1588",
                                    "3": "Clinton St & Washington Blvd",
                                    "4": "Subscriber",
                                    "5": "1"
                                },
                                {
                                    "0": "2014",
                                    "1": "3",
                                    "2": "1186",
                                    "3": "Canal St & Madison St",
                                    "4": "Subscriber",
                                    "5": "2"
                                },
                                {
                                    "0": "2014",
                                    "1": "3",
                                    "2": "1017",
                                    "3": "Dearborn St & Monroe St",
                                    "4": "Subscriber",
                                    "5": "3"
                                },
                                {
                                    "0": "2014",
                                    "1": "3",
                                    "2": "934",
                                    "3": "Franklin St & Arcade Pl",
                                    "4": "Subscriber",
                                    "5": "4"
                                },
                                {
                                    "0": "2014",
                                    "1": "3",
                                    "2": "891",
                                    "3": "Canal St & Adams St",
                                    "4": "Subscriber",
                                    "5": "5"
                                },
                                {
                                    "0": "2014",
                                    "1": "3",
                                    "2": "853",
                                    "3": "Canal St & Jackson Blvd",
                                    "4": "Subscriber",
                                    "5": "6"
                                },
                                {
                                    "0": "2014",
                                    "1": "3",
                                    "2": "734",
                                    "3": "LaSalle St & Jackson Blvd",
                                    "4": "Subscriber",
                                    "5": "7"
                                },
                                {
                                    "0": "2014",
                                    "1": "3",
                                    "2": "734",
                                    "3": "Clinton St & Madison St",
                                    "4": "Subscriber",
                                    "5": "7"
                                },
                                {
                                    "0": "2014",
                                    "1": "3",
                                    "2": "724",
                                    "3": "Orleans St & Merchandise Mart Plaza",
                                    "4": "Subscriber",
                                    "5": "8"
                                },
                                {
                                    "0": "2014",
                                    "1": "3",
                                    "2": "688",
                                    "3": "Michigan Ave & Lake St",
                                    "4": "Subscriber",
                                    "5": "9"
                                },
                                {
                                    "0": "2014",
                                    "1": "3",
                                    "2": "668",
                                    "3": "Larrabee St & Kingsbury St",
                                    "4": "Subscriber",
                                    "5": "10"
                                },
                                {
                                    "0": "2014",
                                    "1": "4",
                                    "2": "2635",
                                    "3": "Clinton St & Washington Blvd",
                                    "4": "Subscriber",
                                    "5": "1"
                                },
                                {
                                    "0": "2014",
                                    "1": "4",
                                    "2": "2050",
                                    "3": "Canal St & Adams St",
                                    "4": "Subscriber",
                                    "5": "2"
                                },
                                {
                                    "0": "2014",
                                    "1": "4",
                                    "2": "1799",
                                    "3": "Canal St & Madison St",
                                    "4": "Subscriber",
                                    "5": "3"
                                },
                                {
                                    "0": "2014",
                                    "1": "4",
                                    "2": "1553",
                                    "3": "Dearborn St & Monroe St",
                                    "4": "Subscriber",
                                    "5": "4"
                                },
                                {
                                    "0": "2014",
                                    "1": "4",
                                    "2": "1470",
                                    "3": "Franklin St & Arcade Pl",
                                    "4": "Subscriber",
                                    "5": "5"
                                },
                                {
                                    "0": "2014",
                                    "1": "4",
                                    "2": "1264",
                                    "3": "LaSalle St & Jackson Blvd",
                                    "4": "Subscriber",
                                    "5": "6"
                                },
                                {
                                    "0": "2014",
                                    "1": "4",
                                    "2": "1167",
                                    "3": "Larrabee St & Kingsbury St",
                                    "4": "Subscriber",
                                    "5": "7"
                                },
                                {
                                    "0": "2014",
                                    "1": "4",
                                    "2": "1156",
                                    "3": "Orleans St & Merchandise Mart Plaza",
                                    "4": "Subscriber",
                                    "5": "8"
                                },
                                {
                                    "0": "2014",
                                    "1": "4",
                                    "2": "1096",
                                    "3": "Canal St & Monroe St",
                                    "4": "Subscriber",
                                    "5": "9"
                                },
                                {
                                    "0": "2014",
                                    "1": "4",
                                    "2": "1086",
                                    "3": "Michigan Ave & Lake St",
                                    "4": "Subscriber",
                                    "5": "10"
                                },
                                {
                                    "0": "2014",
                                    "1": "5",
                                    "2": "3375",
                                    "3": "Clinton St & Washington Blvd",
                                    "4": "Subscriber",
                                    "5": "1"
                                },
                                {
                                    "0": "2014",
                                    "1": "5",
                                    "2": "2759",
                                    "3": "Canal St & Adams St",
                                    "4": "Subscriber",
                                    "5": "2"
                                },
                                {
                                    "0": "2014",
                                    "1": "5",
                                    "2": "2528",
                                    "3": "Canal St & Madison St",
                                    "4": "Subscriber",
                                    "5": "3"
                                },
                                {
                                    "0": "2014",
                                    "1": "5",
                                    "2": "2150",
                                    "3": "Franklin St & Arcade Pl",
                                    "4": "Subscriber",
                                    "5": "4"
                                },
                                {
                                    "0": "2014",
                                    "1": "5",
                                    "2": "1945",
                                    "3": "Columbus Dr & Randolph St",
                                    "4": "Subscriber",
                                    "5": "5"
                                },
                                {
                                    "0": "2014",
                                    "1": "5",
                                    "2": "1928",
                                    "3": "Dearborn St & Monroe St",
                                    "4": "Subscriber",
                                    "5": "6"
                                },
                                {
                                    "0": "2014",
                                    "1": "5",
                                    "2": "1810",
                                    "3": "LaSalle St & Jackson Blvd",
                                    "4": "Subscriber",
                                    "5": "7"
                                },
                                {
                                    "0": "2014",
                                    "1": "5",
                                    "2": "1693",
                                    "3": "Theater on the Lake",
                                    "4": "Subscriber",
                                    "5": "8"
                                },
                                {
                                    "0": "2014",
                                    "1": "5",
                                    "2": "1603",
                                    "3": "Orleans St & Merchandise Mart Plaza",
                                    "4": "Subscriber",
                                    "5": "9"
                                },
                                {
                                    "0": "2014",
                                    "1": "5",
                                    "2": "1564",
                                    "3": "Canal St & Monroe St",
                                    "4": "Subscriber",
                                    "5": "10"
                                },
                                {
                                    "0": "2014",
                                    "1": "6",
                                    "2": "4058",
                                    "3": "Clinton St & Washington Blvd",
                                    "4": "Subscriber",
                                    "5": "1"
                                },
                                {
                                    "0": "2014",
                                    "1": "6",
                                    "2": "3287",
                                    "3": "Canal St & Adams St",
                                    "4": "Subscriber",
                                    "5": "2"
                                },
                                {
                                    "0": "2014",
                                    "1": "6",
                                    "2": "3129",
                                    "3": "Canal St & Madison St",
                                    "4": "Subscriber",
                                    "5": "3"
                                },
                                {
                                    "0": "2014",
                                    "1": "6",
                                    "2": "2639",
                                    "3": "Franklin St & Arcade Pl",
                                    "4": "Subscriber",
                                    "5": "4"
                                },
                                {
                                    "0": "2014",
                                    "1": "6",
                                    "2": "2568",
                                    "3": "Columbus Dr & Randolph St",
                                    "4": "Subscriber",
                                    "5": "5"
                                },
                                {
                                    "0": "2014",
                                    "1": "6",
                                    "2": "2328",
                                    "3": "Theater on the Lake",
                                    "4": "Subscriber",
                                    "5": "6"
                                },
                                {
                                    "0": "2014",
                                    "1": "6",
                                    "2": "2215",
                                    "3": "Dearborn St & Monroe St",
                                    "4": "Subscriber",
                                    "5": "7"
                                },
                                {
                                    "0": "2014",
                                    "1": "6",
                                    "2": "2113",
                                    "3": "Clinton St & Madison St",
                                    "4": "Subscriber",
                                    "5": "8"
                                },
                                {
                                    "0": "2014",
                                    "1": "6",
                                    "2": "2087",
                                    "3": "LaSalle St & Jackson Blvd",
                                    "4": "Subscriber",
                                    "5": "9"
                                },
                                {
                                    "0": "2014",
                                    "1": "6",
                                    "2": "2049",
                                    "3": "Orleans St & Merchandise Mart Plaza",
                                    "4": "Subscriber",
                                    "5": "10"
                                },
                                {
                                    "0": "2014",
                                    "1": "7",
                                    "2": "4758",
                                    "3": "Clinton St & Washington Blvd",
                                    "4": "Subscriber",
                                    "5": "1"
                                },
                                {
                                    "0": "2014",
                                    "1": "7",
                                    "2": "4362",
                                    "3": "Canal St & Adams St",
                                    "4": "Subscriber",
                                    "5": "2"
                                },
                                {
                                    "0": "2014",
                                    "1": "7",
                                    "2": "3851",
                                    "3": "Canal St & Madison St",
                                    "4": "Subscriber",
                                    "5": "3"
                                },
                                {
                                    "0": "2014",
                                    "1": "7",
                                    "2": "3415",
                                    "3": "Columbus Dr & Randolph St",
                                    "4": "Subscriber",
                                    "5": "4"
                                },
                                {
                                    "0": "2014",
                                    "1": "7",
                                    "2": "2781",
                                    "3": "Theater on the Lake",
                                    "4": "Subscriber",
                                    "5": "5"
                                },
                                {
                                    "0": "2014",
                                    "1": "7",
                                    "2": "2751",
                                    "3": "Franklin St & Arcade Pl",
                                    "4": "Subscriber",
                                    "5": "6"
                                },
                                {
                                    "0": "2014",
                                    "1": "7",
                                    "2": "2524",
                                    "3": "Daley Center Plaza",
                                    "4": "Subscriber",
                                    "5": "7"
                                },
                                {
                                    "0": "2014",
                                    "1": "7",
                                    "2": "2516",
                                    "3": "Clinton St & Madison St",
                                    "4": "Subscriber",
                                    "5": "8"
                                },
                                {
                                    "0": "2014",
                                    "1": "7",
                                    "2": "2446",
                                    "3": "Lake Shore Dr & North Blvd",
                                    "4": "Subscriber",
                                    "5": "9"
                                },
                                {
                                    "0": "2014",
                                    "1": "7",
                                    "2": "2428",
                                    "3": "Clark St & Elm St",
                                    "4": "Subscriber",
                                    "5": "10"
                                },
                                {
                                    "0": "2014",
                                    "1": "8",
                                    "2": "4129",
                                    "3": "Clinton St & Washington Blvd",
                                    "4": "Subscriber",
                                    "5": "1"
                                },
                                {
                                    "0": "2014",
                                    "1": "8",
                                    "2": "3531",
                                    "3": "Canal St & Madison St",
                                    "4": "Subscriber",
                                    "5": "2"
                                },
                                {
                                    "0": "2014",
                                    "1": "8",
                                    "2": "3309",
                                    "3": "Canal St & Adams St",
                                    "4": "Subscriber",
                                    "5": "3"
                                },
                                {
                                    "0": "2014",
                                    "1": "8",
                                    "2": "3037",
                                    "3": "Columbus Dr & Randolph St",
                                    "4": "Subscriber",
                                    "5": "4"
                                },
                                {
                                    "0": "2014",
                                    "1": "8",
                                    "2": "2691",
                                    "3": "Franklin St & Arcade Pl",
                                    "4": "Subscriber",
                                    "5": "5"
                                },
                                {
                                    "0": "2014",
                                    "1": "8",
                                    "2": "2504",
                                    "3": "Canal St & Jackson Blvd",
                                    "4": "Subscriber",
                                    "5": "6"
                                },
                                {
                                    "0": "2014",
                                    "1": "8",
                                    "2": "2460",
                                    "3": "Theater on the Lake",
                                    "4": "Subscriber",
                                    "5": "7"
                                },
                                {
                                    "0": "2014",
                                    "1": "8",
                                    "2": "2414",
                                    "3": "Clinton St & Madison St",
                                    "4": "Subscriber",
                                    "5": "8"
                                },
                                {
                                    "0": "2014",
                                    "1": "8",
                                    "2": "2364",
                                    "3": "Clark St & Elm St",
                                    "4": "Subscriber",
                                    "5": "9"
                                },
                                {
                                    "0": "2014",
                                    "1": "8",
                                    "2": "2221",
                                    "3": "Wells St & Concord Ln",
                                    "4": "Subscriber",
                                    "5": "10"
                                },
                                {
                                    "0": "2014",
                                    "1": "9",
                                    "2": "4364",
                                    "3": "Clinton St & Washington Blvd",
                                    "4": "Subscriber",
                                    "5": "1"
                                },
                                {
                                    "0": "2014",
                                    "1": "9",
                                    "2": "3536",
                                    "3": "Canal St & Madison St",
                                    "4": "Subscriber",
                                    "5": "2"
                                },
                                {
                                    "0": "2014",
                                    "1": "9",
                                    "2": "3226",
                                    "3": "Canal St & Adams St",
                                    "4": "Subscriber",
                                    "5": "3"
                                },
                                {
                                    "0": "2014",
                                    "1": "9",
                                    "2": "2638",
                                    "3": "Columbus Dr & Randolph St",
                                    "4": "Subscriber",
                                    "5": "4"
                                },
                                {
                                    "0": "2014",
                                    "1": "9",
                                    "2": "2353",
                                    "3": "Franklin St & Arcade Pl",
                                    "4": "Subscriber",
                                    "5": "5"
                                },
                                {
                                    "0": "2014",
                                    "1": "9",
                                    "2": "2318",
                                    "3": "Canal St & Jackson Blvd",
                                    "4": "Subscriber",
                                    "5": "6"
                                },
                                {
                                    "0": "2014",
                                    "1": "9",
                                    "2": "2215",
                                    "3": "LaSalle St & Jackson Blvd",
                                    "4": "Subscriber",
                                    "5": "7"
                                },
                                {
                                    "0": "2014",
                                    "1": "9",
                                    "2": "2177",
                                    "3": "Clinton St & Madison St",
                                    "4": "Subscriber",
                                    "5": "8"
                                },
                                {
                                    "0": "2014",
                                    "1": "9",
                                    "2": "2151",
                                    "3": "Daley Center Plaza",
                                    "4": "Subscriber",
                                    "5": "9"
                                },
                                {
                                    "0": "2014",
                                    "1": "9",
                                    "2": "2087",
                                    "3": "Clinton St & Lake St",
                                    "4": "Subscriber",
                                    "5": "10"
                                },
                                {
                                    "0": "2014",
                                    "1": "10",
                                    "2": "4176",
                                    "3": "Clinton St & Washington Blvd",
                                    "4": "Subscriber",
                                    "5": "1"
                                },
                                {
                                    "0": "2014",
                                    "1": "10",
                                    "2": "3296",
                                    "3": "Canal St & Madison St",
                                    "4": "Subscriber",
                                    "5": "2"
                                },
                                {
                                    "0": "2014",
                                    "1": "10",
                                    "2": "3236",
                                    "3": "Canal St & Adams St",
                                    "4": "Subscriber",
                                    "5": "3"
                                },
                                {
                                    "0": "2014",
                                    "1": "10",
                                    "2": "2480",
                                    "3": "Canal St & Jackson Blvd",
                                    "4": "Subscriber",
                                    "5": "4"
                                },
                                {
                                    "0": "2014",
                                    "1": "10",
                                    "2": "2432",
                                    "3": "Columbus Dr & Randolph St",
                                    "4": "Subscriber",
                                    "5": "5"
                                },
                                {
                                    "0": "2014",
                                    "1": "10",
                                    "2": "2241",
                                    "3": "Franklin St & Arcade Pl",
                                    "4": "Subscriber",
                                    "5": "6"
                                },
                                {
                                    "0": "2014",
                                    "1": "10",
                                    "2": "2189",
                                    "3": "LaSalle St & Jackson Blvd",
                                    "4": "Subscriber",
                                    "5": "7"
                                },
                                {
                                    "0": "2014",
                                    "1": "10",
                                    "2": "1982",
                                    "3": "Clinton St & Madison St",
                                    "4": "Subscriber",
                                    "5": "8"
                                },
                                {
                                    "0": "2014",
                                    "1": "10",
                                    "2": "1954",
                                    "3": "Daley Center Plaza",
                                    "4": "Subscriber",
                                    "5": "9"
                                },
                                {
                                    "0": "2014",
                                    "1": "10",
                                    "2": "1899",
                                    "3": "Larrabee St & Kingsbury St",
                                    "4": "Subscriber",
                                    "5": "10"
                                },
                                {
                                    "0": "2014",
                                    "1": "11",
                                    "2": "2518",
                                    "3": "Clinton St & Washington Blvd",
                                    "4": "Subscriber",
                                    "5": "1"
                                },
                                {
                                    "0": "2014",
                                    "1": "11",
                                    "2": "1892",
                                    "3": "Canal St & Madison St",
                                    "4": "Subscriber",
                                    "5": "2"
                                },
                                {
                                    "0": "2014",
                                    "1": "11",
                                    "2": "1821",
                                    "3": "Canal St & Adams St",
                                    "4": "Subscriber",
                                    "5": "3"
                                },
                                {
                                    "0": "2014",
                                    "1": "11",
                                    "2": "1392",
                                    "3": "Canal St & Jackson Blvd",
                                    "4": "Subscriber",
                                    "5": "4"
                                },
                                {
                                    "0": "2014",
                                    "1": "11",
                                    "2": "1240",
                                    "3": "Franklin St & Arcade Pl",
                                    "4": "Subscriber",
                                    "5": "5"
                                },
                                {
                                    "0": "2014",
                                    "1": "11",
                                    "2": "1212",
                                    "3": "LaSalle St & Jackson Blvd",
                                    "4": "Subscriber",
                                    "5": "6"
                                },
                                {
                                    "0": "2014",
                                    "1": "11",
                                    "2": "1150",
                                    "3": "Columbus Dr & Randolph St",
                                    "4": "Subscriber",
                                    "5": "7"
                                },
                                {
                                    "0": "2014",
                                    "1": "11",
                                    "2": "1090",
                                    "3": "Dearborn St & Monroe St",
                                    "4": "Subscriber",
                                    "5": "8"
                                },
                                {
                                    "0": "2014",
                                    "1": "11",
                                    "2": "1081",
                                    "3": "Daley Center Plaza",
                                    "4": "Subscriber",
                                    "5": "9"
                                },
                                {
                                    "0": "2014",
                                    "1": "11",
                                    "2": "1067",
                                    "3": "Clinton St & Madison St",
                                    "4": "Subscriber",
                                    "5": "10"
                                },
                                {
                                    "0": "2014",
                                    "1": "12",
                                    "2": "2131",
                                    "3": "Clinton St & Washington Blvd",
                                    "4": "Subscriber",
                                    "5": "1"
                                },
                                {
                                    "0": "2014",
                                    "1": "12",
                                    "2": "1476",
                                    "3": "Canal St & Madison St",
                                    "4": "Subscriber",
                                    "5": "2"
                                },
                                {
                                    "0": "2014",
                                    "1": "12",
                                    "2": "1466",
                                    "3": "Canal St & Adams St",
                                    "4": "Subscriber",
                                    "5": "3"
                                },
                                {
                                    "0": "2014",
                                    "1": "12",
                                    "2": "1178",
                                    "3": "Canal St & Jackson Blvd",
                                    "4": "Subscriber",
                                    "5": "4"
                                },
                                {
                                    "0": "2014",
                                    "1": "12",
                                    "2": "1056",
                                    "3": "LaSalle St & Jackson Blvd",
                                    "4": "Subscriber",
                                    "5": "5"
                                },
                                {
                                    "0": "2014",
                                    "1": "12",
                                    "2": "1045",
                                    "3": "Franklin St & Arcade Pl",
                                    "4": "Subscriber",
                                    "5": "6"
                                },
                                {
                                    "0": "2014",
                                    "1": "12",
                                    "2": "994",
                                    "3": "Dearborn St & Monroe St",
                                    "4": "Subscriber",
                                    "5": "7"
                                },
                                {
                                    "0": "2014",
                                    "1": "12",
                                    "2": "896",
                                    "3": "Clinton St & Madison St",
                                    "4": "Subscriber",
                                    "5": "8"
                                },
                                {
                                    "0": "2014",
                                    "1": "12",
                                    "2": "875",
                                    "3": "Daley Center Plaza",
                                    "4": "Subscriber",
                                    "5": "9"
                                },
                                {
                                    "0": "2014",
                                    "1": "12",
                                    "2": "858",
                                    "3": "Larrabee St & Kingsbury St",
                                    "4": "Subscriber",
                                    "5": "10"
                                },
                                {
                                    "0": "2015",
                                    "1": "1",
                                    "2": "1558",
                                    "3": "Clinton St & Washington Blvd",
                                    "4": "Subscriber",
                                    "5": "1"
                                },
                                {
                                    "0": "2015",
                                    "1": "1",
                                    "2": "1134",
                                    "3": "Canal St & Madison St",
                                    "4": "Subscriber",
                                    "5": "2"
                                },
                                {
                                    "0": "2015",
                                    "1": "1",
                                    "2": "1038",
                                    "3": "Canal St & Adams St",
                                    "4": "Subscriber",
                                    "5": "3"
                                },
                                {
                                    "0": "2015",
                                    "1": "1",
                                    "2": "897",
                                    "3": "Franklin St & Arcade Pl",
                                    "4": "Subscriber",
                                    "5": "4"
                                },
                                {
                                    "0": "2015",
                                    "1": "1",
                                    "2": "831",
                                    "3": "LaSalle St & Jackson Blvd",
                                    "4": "Subscriber",
                                    "5": "5"
                                },
                                {
                                    "0": "2015",
                                    "1": "1",
                                    "2": "788",
                                    "3": "Canal St & Jackson Blvd",
                                    "4": "Subscriber",
                                    "5": "6"
                                },
                                {
                                    "0": "2015",
                                    "1": "1",
                                    "2": "675",
                                    "3": "Dearborn St & Monroe St",
                                    "4": "Subscriber",
                                    "5": "7"
                                },
                                {
                                    "0": "2015",
                                    "1": "1",
                                    "2": "661",
                                    "3": "Clinton St & Madison St",
                                    "4": "Subscriber",
                                    "5": "8"
                                },
                                {
                                    "0": "2015",
                                    "1": "1",
                                    "2": "635",
                                    "3": "Larrabee St & Kingsbury St",
                                    "4": "Subscriber",
                                    "5": "9"
                                },
                                {
                                    "0": "2015",
                                    "1": "1",
                                    "2": "621",
                                    "3": "Columbus Dr & Randolph St",
                                    "4": "Subscriber",
                                    "5": "10"
                                },
                                {
                                    "0": "2015",
                                    "1": "2",
                                    "2": "1201",
                                    "3": "Clinton St & Washington Blvd",
                                    "4": "Subscriber",
                                    "5": "1"
                                },
                                {
                                    "0": "2015",
                                    "1": "2",
                                    "2": "813",
                                    "3": "Canal St & Madison St",
                                    "4": "Subscriber",
                                    "5": "2"
                                },
                                {
                                    "0": "2015",
                                    "1": "2",
                                    "2": "738",
                                    "3": "Canal St & Adams St",
                                    "4": "Subscriber",
                                    "5": "3"
                                },
                                {
                                    "0": "2015",
                                    "1": "2",
                                    "2": "588",
                                    "3": "Franklin St & Arcade Pl",
                                    "4": "Subscriber",
                                    "5": "4"
                                },
                                {
                                    "0": "2015",
                                    "1": "2",
                                    "2": "562",
                                    "3": "LaSalle St & Jackson Blvd",
                                    "4": "Subscriber",
                                    "5": "5"
                                },
                                {
                                    "0": "2015",
                                    "1": "2",
                                    "2": "547",
                                    "3": "Canal St & Jackson Blvd",
                                    "4": "Subscriber",
                                    "5": "6"
                                },
                                {
                                    "0": "2015",
                                    "1": "2",
                                    "2": "474",
                                    "3": "Dearborn St & Monroe St",
                                    "4": "Subscriber",
                                    "5": "7"
                                },
                                {
                                    "0": "2015",
                                    "1": "2",
                                    "2": "450",
                                    "3": "Larrabee St & Kingsbury St",
                                    "4": "Subscriber",
                                    "5": "8"
                                },
                                {
                                    "0": "2015",
                                    "1": "2",
                                    "2": "423",
                                    "3": "Clinton St & Madison St",
                                    "4": "Subscriber",
                                    "5": "9"
                                },
                                {
                                    "0": "2015",
                                    "1": "2",
                                    "2": "395",
                                    "3": "Daley Center Plaza",
                                    "4": "Subscriber",
                                    "5": "10"
                                },
                                {
                                    "0": "2015",
                                    "1": "3",
                                    "2": "2206",
                                    "3": "Clinton St & Washington Blvd",
                                    "4": "Subscriber",
                                    "5": "1"
                                },
                                {
                                    "0": "2015",
                                    "1": "3",
                                    "2": "1575",
                                    "3": "Canal St & Madison St",
                                    "4": "Subscriber",
                                    "5": "2"
                                },
                                {
                                    "0": "2015",
                                    "1": "3",
                                    "2": "1316",
                                    "3": "Canal St & Adams St",
                                    "4": "Subscriber",
                                    "5": "3"
                                },
                                {
                                    "0": "2015",
                                    "1": "3",
                                    "2": "1298",
                                    "3": "Canal St & Jackson Blvd",
                                    "4": "Subscriber",
                                    "5": "4"
                                },
                                {
                                    "0": "2015",
                                    "1": "3",
                                    "2": "1077",
                                    "3": "Franklin St & Arcade Pl",
                                    "4": "Subscriber",
                                    "5": "5"
                                },
                                {
                                    "0": "2015",
                                    "1": "3",
                                    "2": "1027",
                                    "3": "Dearborn St & Monroe St",
                                    "4": "Subscriber",
                                    "5": "6"
                                },
                                {
                                    "0": "2015",
                                    "1": "3",
                                    "2": "957",
                                    "3": "LaSalle St & Jackson Blvd",
                                    "4": "Subscriber",
                                    "5": "7"
                                },
                                {
                                    "0": "2015",
                                    "1": "3",
                                    "2": "908",
                                    "3": "Clinton St & Madison St",
                                    "4": "Subscriber",
                                    "5": "8"
                                },
                                {
                                    "0": "2015",
                                    "1": "3",
                                    "2": "856",
                                    "3": "Daley Center Plaza",
                                    "4": "Subscriber",
                                    "5": "9"
                                },
                                {
                                    "0": "2015",
                                    "1": "3",
                                    "2": "856",
                                    "3": "Columbus Dr & Randolph St",
                                    "4": "Subscriber",
                                    "5": "9"
                                },
                                {
                                    "0": "2015",
                                    "1": "3",
                                    "2": "821",
                                    "3": "Wells St & Hubbard St",
                                    "4": "Subscriber",
                                    "5": "10"
                                },
                                {
                                    "0": "2015",
                                    "1": "4",
                                    "2": "2607",
                                    "3": "Clinton St & Washington Blvd",
                                    "4": "Subscriber",
                                    "5": "1"
                                },
                                {
                                    "0": "2015",
                                    "1": "4",
                                    "2": "2220",
                                    "3": "Canal St & Madison St",
                                    "4": "Subscriber",
                                    "5": "2"
                                },
                                {
                                    "0": "2015",
                                    "1": "4",
                                    "2": "1945",
                                    "3": "Canal St & Adams St",
                                    "4": "Subscriber",
                                    "5": "3"
                                },
                                {
                                    "0": "2015",
                                    "1": "4",
                                    "2": "1808",
                                    "3": "Canal St & Jackson Blvd",
                                    "4": "Subscriber",
                                    "5": "4"
                                },
                                {
                                    "0": "2015",
                                    "1": "4",
                                    "2": "1596",
                                    "3": "LaSalle St & Jackson Blvd",
                                    "4": "Subscriber",
                                    "5": "5"
                                },
                                {
                                    "0": "2015",
                                    "1": "4",
                                    "2": "1413",
                                    "3": "Dearborn St & Monroe St",
                                    "4": "Subscriber",
                                    "5": "6"
                                },
                                {
                                    "0": "2015",
                                    "1": "4",
                                    "2": "1370",
                                    "3": "Franklin St & Arcade Pl",
                                    "4": "Subscriber",
                                    "5": "7"
                                },
                                {
                                    "0": "2015",
                                    "1": "4",
                                    "2": "1280",
                                    "3": "Clinton St & Madison St",
                                    "4": "Subscriber",
                                    "5": "8"
                                },
                                {
                                    "0": "2015",
                                    "1": "4",
                                    "2": "1212",
                                    "3": "Wells St & Concord Ln",
                                    "4": "Subscriber",
                                    "5": "9"
                                },
                                {
                                    "0": "2015",
                                    "1": "4",
                                    "2": "1211",
                                    "3": "Clark St & Elm St",
                                    "4": "Subscriber",
                                    "5": "10"
                                },
                                {
                                    "0": "2015",
                                    "1": "5",
                                    "2": "3307",
                                    "3": "Clinton St & Washington Blvd",
                                    "4": "Subscriber",
                                    "5": "1"
                                },
                                {
                                    "0": "2015",
                                    "1": "5",
                                    "2": "2708",
                                    "3": "Canal St & Adams St",
                                    "4": "Subscriber",
                                    "5": "2"
                                },
                                {
                                    "0": "2015",
                                    "1": "5",
                                    "2": "2458",
                                    "3": "Canal St & Madison St",
                                    "4": "Subscriber",
                                    "5": "3"
                                },
                                {
                                    "0": "2015",
                                    "1": "5",
                                    "2": "2173",
                                    "3": "Canal St & Jackson Blvd",
                                    "4": "Subscriber",
                                    "5": "4"
                                },
                                {
                                    "0": "2015",
                                    "1": "5",
                                    "2": "2171",
                                    "3": "Franklin St & Arcade Pl",
                                    "4": "Subscriber",
                                    "5": "5"
                                },
                                {
                                    "0": "2015",
                                    "1": "5",
                                    "2": "1833",
                                    "3": "Clinton St & Madison St",
                                    "4": "Subscriber",
                                    "5": "6"
                                },
                                {
                                    "0": "2015",
                                    "1": "5",
                                    "2": "1817",
                                    "3": "Wells St & Concord Ln",
                                    "4": "Subscriber",
                                    "5": "7"
                                },
                                {
                                    "0": "2015",
                                    "1": "5",
                                    "2": "1793",
                                    "3": "Dearborn St & Monroe St",
                                    "4": "Subscriber",
                                    "5": "8"
                                },
                                {
                                    "0": "2015",
                                    "1": "5",
                                    "2": "1695",
                                    "3": "LaSalle St & Jackson Blvd",
                                    "4": "Subscriber",
                                    "5": "9"
                                },
                                {
                                    "0": "2015",
                                    "1": "5",
                                    "2": "1660",
                                    "3": "Columbus Dr & Randolph St",
                                    "4": "Subscriber",
                                    "5": "10"
                                },
                                {
                                    "0": "2015",
                                    "1": "6",
                                    "2": "4273",
                                    "3": "Clinton St & Washington Blvd",
                                    "4": "Subscriber",
                                    "5": "1"
                                },
                                {
                                    "0": "2015",
                                    "1": "6",
                                    "2": "4067",
                                    "3": "Canal St & Adams St",
                                    "4": "Subscriber",
                                    "5": "2"
                                },
                                {
                                    "0": "2015",
                                    "1": "6",
                                    "2": "3155",
                                    "3": "Canal St & Madison St",
                                    "4": "Subscriber",
                                    "5": "3"
                                },
                                {
                                    "0": "2015",
                                    "1": "6",
                                    "2": "2646",
                                    "3": "Franklin St & Arcade Pl",
                                    "4": "Subscriber",
                                    "5": "4"
                                },
                                {
                                    "0": "2015",
                                    "1": "6",
                                    "2": "2483",
                                    "3": "Clinton St & Madison St",
                                    "4": "Subscriber",
                                    "5": "5"
                                },
                                {
                                    "0": "2015",
                                    "1": "6",
                                    "2": "2334",
                                    "3": "Theater on the Lake",
                                    "4": "Subscriber",
                                    "5": "6"
                                },
                                {
                                    "0": "2015",
                                    "1": "6",
                                    "2": "2325",
                                    "3": "Wells St & Concord Ln",
                                    "4": "Subscriber",
                                    "5": "7"
                                },
                                {
                                    "0": "2015",
                                    "1": "6",
                                    "2": "2294",
                                    "3": "LaSalle St & Jackson Blvd",
                                    "4": "Subscriber",
                                    "5": "8"
                                },
                                {
                                    "0": "2015",
                                    "1": "6",
                                    "2": "2283",
                                    "3": "Kingsbury St & Kinzie St",
                                    "4": "Subscriber",
                                    "5": "9"
                                },
                                {
                                    "0": "2015",
                                    "1": "6",
                                    "2": "2234",
                                    "3": "Canal St & Jackson Blvd",
                                    "4": "Subscriber",
                                    "5": "10"
                                },
                                {
                                    "0": "2015",
                                    "1": "7",
                                    "2": "4662",
                                    "3": "Canal St & Adams St",
                                    "4": "Subscriber",
                                    "5": "1"
                                },
                                {
                                    "0": "2015",
                                    "1": "7",
                                    "2": "4209",
                                    "3": "Clinton St & Washington Blvd",
                                    "4": "Subscriber",
                                    "5": "2"
                                },
                                {
                                    "0": "2015",
                                    "1": "7",
                                    "2": "3624",
                                    "3": "Canal St & Madison St",
                                    "4": "Subscriber",
                                    "5": "3"
                                },
                                {
                                    "0": "2015",
                                    "1": "7",
                                    "2": "3256",
                                    "3": "Theater on the Lake",
                                    "4": "Subscriber",
                                    "5": "4"
                                },
                                {
                                    "0": "2015",
                                    "1": "7",
                                    "2": "3254",
                                    "3": "Lake Shore Dr & North Blvd",
                                    "4": "Subscriber",
                                    "5": "5"
                                },
                                {
                                    "0": "2015",
                                    "1": "7",
                                    "2": "3102",
                                    "3": "Clinton St & Madison St",
                                    "4": "Subscriber",
                                    "5": "6"
                                },
                                {
                                    "0": "2015",
                                    "1": "7",
                                    "2": "2694",
                                    "3": "Kingsbury St & Kinzie St",
                                    "4": "Subscriber",
                                    "5": "7"
                                },
                                {
                                    "0": "2015",
                                    "1": "7",
                                    "2": "2689",
                                    "3": "Wells St & Concord Pl",
                                    "4": "Subscriber",
                                    "5": "8"
                                },
                                {
                                    "0": "2015",
                                    "1": "7",
                                    "2": "2576",
                                    "3": "Franklin St & Monroe St",
                                    "4": "Subscriber",
                                    "5": "9"
                                },
                                {
                                    "0": "2015",
                                    "1": "7",
                                    "2": "2422",
                                    "3": "Columbus Dr & Randolph St",
                                    "4": "Subscriber",
                                    "5": "10"
                                },
                                {
                                    "0": "2015",
                                    "1": "8",
                                    "2": "4711",
                                    "3": "Canal St & Adams St",
                                    "4": "Subscriber",
                                    "5": "1"
                                },
                                {
                                    "0": "2015",
                                    "1": "8",
                                    "2": "4187",
                                    "3": "Clinton St & Washington Blvd",
                                    "4": "Subscriber",
                                    "5": "2"
                                },
                                {
                                    "0": "2015",
                                    "1": "8",
                                    "2": "3817",
                                    "3": "Canal St & Madison St",
                                    "4": "Subscriber",
                                    "5": "3"
                                },
                                {
                                    "0": "2015",
                                    "1": "8",
                                    "2": "3309",
                                    "3": "Clinton St & Madison St",
                                    "4": "Subscriber",
                                    "5": "4"
                                },
                                {
                                    "0": "2015",
                                    "1": "8",
                                    "2": "3133",
                                    "3": "Theater on the Lake",
                                    "4": "Subscriber",
                                    "5": "5"
                                },
                                {
                                    "0": "2015",
                                    "1": "8",
                                    "2": "2914",
                                    "3": "Kingsbury St & Kinzie St",
                                    "4": "Subscriber",
                                    "5": "6"
                                },
                                {
                                    "0": "2015",
                                    "1": "8",
                                    "2": "2871",
                                    "3": "Lake Shore Dr & North Blvd",
                                    "4": "Subscriber",
                                    "5": "7"
                                },
                                {
                                    "0": "2015",
                                    "1": "8",
                                    "2": "2687",
                                    "3": "LaSalle St & Jackson Blvd",
                                    "4": "Subscriber",
                                    "5": "8"
                                },
                                {
                                    "0": "2015",
                                    "1": "8",
                                    "2": "2615",
                                    "3": "Columbus Dr & Randolph St",
                                    "4": "Subscriber",
                                    "5": "9"
                                },
                                {
                                    "0": "2015",
                                    "1": "8",
                                    "2": "2601",
                                    "3": "Wells St & Concord Pl",
                                    "4": "Subscriber",
                                    "5": "10"
                                },
                                {
                                    "0": "2015",
                                    "1": "9",
                                    "2": "4341",
                                    "3": "Canal St & Adams St",
                                    "4": "Subscriber",
                                    "5": "1"
                                },
                                {
                                    "0": "2015",
                                    "1": "9",
                                    "2": "4232",
                                    "3": "Clinton St & Washington Blvd",
                                    "4": "Subscriber",
                                    "5": "2"
                                },
                                {
                                    "0": "2015",
                                    "1": "9",
                                    "2": "3494",
                                    "3": "Canal St & Madison St",
                                    "4": "Subscriber",
                                    "5": "3"
                                },
                                {
                                    "0": "2015",
                                    "1": "9",
                                    "2": "3264",
                                    "3": "Clinton St & Madison St",
                                    "4": "Subscriber",
                                    "5": "4"
                                },
                                {
                                    "0": "2015",
                                    "1": "9",
                                    "2": "2700",
                                    "3": "Kingsbury St & Kinzie St",
                                    "4": "Subscriber",
                                    "5": "5"
                                },
                                {
                                    "0": "2015",
                                    "1": "9",
                                    "2": "2679",
                                    "3": "Franklin St & Monroe St",
                                    "4": "Subscriber",
                                    "5": "6"
                                },
                                {
                                    "0": "2015",
                                    "1": "9",
                                    "2": "2595",
                                    "3": "Dearborn St & Monroe St",
                                    "4": "Subscriber",
                                    "5": "7"
                                },
                                {
                                    "0": "2015",
                                    "1": "9",
                                    "2": "2496",
                                    "3": "Theater on the Lake",
                                    "4": "Subscriber",
                                    "5": "8"
                                },
                                {
                                    "0": "2015",
                                    "1": "9",
                                    "2": "2488",
                                    "3": "LaSalle St & Jackson Blvd",
                                    "4": "Subscriber",
                                    "5": "9"
                                },
                                {
                                    "0": "2015",
                                    "1": "9",
                                    "2": "2365",
                                    "3": "Columbus Dr & Randolph St",
                                    "4": "Subscriber",
                                    "5": "10"
                                },
                                {
                                    "0": "2015",
                                    "1": "10",
                                    "2": "4209",
                                    "3": "Clinton St & Washington Blvd",
                                    "4": "Subscriber",
                                    "5": "1"
                                },
                                {
                                    "0": "2015",
                                    "1": "10",
                                    "2": "4146",
                                    "3": "Canal St & Adams St",
                                    "4": "Subscriber",
                                    "5": "2"
                                },
                                {
                                    "0": "2015",
                                    "1": "10",
                                    "2": "3505",
                                    "3": "Canal St & Madison St",
                                    "4": "Subscriber",
                                    "5": "3"
                                },
                                {
                                    "0": "2015",
                                    "1": "10",
                                    "2": "3180",
                                    "3": "Clinton St & Madison St",
                                    "4": "Subscriber",
                                    "5": "4"
                                },
                                {
                                    "0": "2015",
                                    "1": "10",
                                    "2": "3046",
                                    "3": "Franklin St & Monroe St",
                                    "4": "Subscriber",
                                    "5": "5"
                                },
                                {
                                    "0": "2015",
                                    "1": "10",
                                    "2": "2765",
                                    "3": "Dearborn St & Monroe St",
                                    "4": "Subscriber",
                                    "5": "6"
                                },
                                {
                                    "0": "2015",
                                    "1": "10",
                                    "2": "2510",
                                    "3": "Kingsbury St & Kinzie St",
                                    "4": "Subscriber",
                                    "5": "7"
                                },
                                {
                                    "0": "2015",
                                    "1": "10",
                                    "2": "2385",
                                    "3": "LaSalle St & Jackson Blvd",
                                    "4": "Subscriber",
                                    "5": "8"
                                },
                                {
                                    "0": "2015",
                                    "1": "10",
                                    "2": "2289",
                                    "3": "Canal St & Jackson Blvd",
                                    "4": "Subscriber",
                                    "5": "9"
                                },
                                {
                                    "0": "2015",
                                    "1": "10",
                                    "2": "2039",
                                    "3": "Columbus Dr & Randolph St",
                                    "4": "Subscriber",
                                    "5": "10"
                                },
                                {
                                    "0": "2015",
                                    "1": "11",
                                    "2": "2851",
                                    "3": "Clinton St & Washington Blvd",
                                    "4": "Subscriber",
                                    "5": "1"
                                },
                                {
                                    "0": "2015",
                                    "1": "11",
                                    "2": "2618",
                                    "3": "Canal St & Adams St",
                                    "4": "Subscriber",
                                    "5": "2"
                                },
                                {
                                    "0": "2015",
                                    "1": "11",
                                    "2": "2478",
                                    "3": "Clinton St & Madison St",
                                    "4": "Subscriber",
                                    "5": "3"
                                },
                                {
                                    "0": "2015",
                                    "1": "11",
                                    "2": "2359",
                                    "3": "Canal St & Madison St",
                                    "4": "Subscriber",
                                    "5": "4"
                                },
                                {
                                    "0": "2015",
                                    "1": "11",
                                    "2": "1781",
                                    "3": "Kingsbury St & Kinzie St",
                                    "4": "Subscriber",
                                    "5": "5"
                                },
                                {
                                    "0": "2015",
                                    "1": "11",
                                    "2": "1744",
                                    "3": "Canal St & Jackson Blvd",
                                    "4": "Subscriber",
                                    "5": "6"
                                },
                                {
                                    "0": "2015",
                                    "1": "11",
                                    "2": "1612",
                                    "3": "LaSalle St & Jackson Blvd",
                                    "4": "Subscriber",
                                    "5": "7"
                                },
                                {
                                    "0": "2015",
                                    "1": "11",
                                    "2": "1438",
                                    "3": "Franklin St & Jackson Blvd",
                                    "4": "Subscriber",
                                    "5": "8"
                                },
                                {
                                    "0": "2015",
                                    "1": "11",
                                    "2": "1414",
                                    "3": "Clinton St & Lake St",
                                    "4": "Subscriber",
                                    "5": "9"
                                },
                                {
                                    "0": "2015",
                                    "1": "11",
                                    "2": "1391",
                                    "3": "Franklin St & Monroe St",
                                    "4": "Subscriber",
                                    "5": "10"
                                },
                                {
                                    "0": "2015",
                                    "1": "12",
                                    "2": "2266",
                                    "3": "Clinton St & Washington Blvd",
                                    "4": "Subscriber",
                                    "5": "1"
                                },
                                {
                                    "0": "2015",
                                    "1": "12",
                                    "2": "1852",
                                    "3": "Canal St & Adams St",
                                    "4": "Subscriber",
                                    "5": "2"
                                },
                                {
                                    "0": "2015",
                                    "1": "12",
                                    "2": "1823",
                                    "3": "Clinton St & Madison St",
                                    "4": "Subscriber",
                                    "5": "3"
                                },
                                {
                                    "0": "2015",
                                    "1": "12",
                                    "2": "1455",
                                    "3": "Canal St & Madison St",
                                    "4": "Subscriber",
                                    "5": "4"
                                },
                                {
                                    "0": "2015",
                                    "1": "12",
                                    "2": "1260",
                                    "3": "Kingsbury St & Kinzie St",
                                    "4": "Subscriber",
                                    "5": "5"
                                },
                                {
                                    "0": "2015",
                                    "1": "12",
                                    "2": "1228",
                                    "3": "LaSalle St & Jackson Blvd",
                                    "4": "Subscriber",
                                    "5": "6"
                                },
                                {
                                    "0": "2015",
                                    "1": "12",
                                    "2": "1192",
                                    "3": "Canal St & Jackson Blvd",
                                    "4": "Subscriber",
                                    "5": "7"
                                },
                                {
                                    "0": "2015",
                                    "1": "12",
                                    "2": "1082",
                                    "3": "Dearborn St & Monroe St",
                                    "4": "Subscriber",
                                    "5": "8"
                                },
                                {
                                    "0": "2015",
                                    "1": "12",
                                    "2": "1065",
                                    "3": "Columbus Dr & Randolph St",
                                    "4": "Subscriber",
                                    "5": "9"
                                },
                                {
                                    "0": "2015",
                                    "1": "12",
                                    "2": "1058",
                                    "3": "Clinton St & Lake St",
                                    "4": "Subscriber",
                                    "5": "10"
                                },
                                {
                                    "0": "2016",
                                    "1": "1",
                                    "2": "2145",
                                    "3": "Clinton St & Washington Blvd",
                                    "4": "Subscriber",
                                    "5": "1"
                                },
                                {
                                    "0": "2016",
                                    "1": "1",
                                    "2": "1514",
                                    "3": "Canal St & Adams St",
                                    "4": "Subscriber",
                                    "5": "2"
                                },
                                {
                                    "0": "2016",
                                    "1": "1",
                                    "2": "1471",
                                    "3": "Clinton St & Madison St",
                                    "4": "Subscriber",
                                    "5": "3"
                                },
                                {
                                    "0": "2016",
                                    "1": "1",
                                    "2": "1323",
                                    "3": "Canal St & Madison St",
                                    "4": "Subscriber",
                                    "5": "4"
                                },
                                {
                                    "0": "2016",
                                    "1": "1",
                                    "2": "1091",
                                    "3": "Canal St & Jackson Blvd",
                                    "4": "Subscriber",
                                    "5": "5"
                                },
                                {
                                    "0": "2016",
                                    "1": "1",
                                    "2": "1061",
                                    "3": "Kingsbury St & Kinzie St",
                                    "4": "Subscriber",
                                    "5": "6"
                                },
                                {
                                    "0": "2016",
                                    "1": "1",
                                    "2": "933",
                                    "3": "LaSalle St & Jackson Blvd",
                                    "4": "Subscriber",
                                    "5": "7"
                                },
                                {
                                    "0": "2016",
                                    "1": "1",
                                    "2": "925",
                                    "3": "Franklin St & Monroe St",
                                    "4": "Subscriber",
                                    "5": "8"
                                },
                                {
                                    "0": "2016",
                                    "1": "1",
                                    "2": "905",
                                    "3": "Clinton St & Lake St",
                                    "4": "Subscriber",
                                    "5": "9"
                                },
                                {
                                    "0": "2016",
                                    "1": "1",
                                    "2": "831",
                                    "3": "Michigan Ave & Lake St",
                                    "4": "Subscriber",
                                    "5": "10"
                                },
                                {
                                    "0": "2016",
                                    "1": "2",
                                    "2": "2383",
                                    "3": "Clinton St & Washington Blvd",
                                    "4": "Subscriber",
                                    "5": "1"
                                },
                                {
                                    "0": "2016",
                                    "1": "2",
                                    "2": "1742",
                                    "3": "Clinton St & Madison St",
                                    "4": "Subscriber",
                                    "5": "2"
                                },
                                {
                                    "0": "2016",
                                    "1": "2",
                                    "2": "1697",
                                    "3": "Canal St & Adams St",
                                    "4": "Subscriber",
                                    "5": "3"
                                },
                                {
                                    "0": "2016",
                                    "1": "2",
                                    "2": "1483",
                                    "3": "Canal St & Madison St",
                                    "4": "Subscriber",
                                    "5": "4"
                                },
                                {
                                    "0": "2016",
                                    "1": "2",
                                    "2": "1261",
                                    "3": "Canal St & Jackson Blvd",
                                    "4": "Subscriber",
                                    "5": "5"
                                },
                                {
                                    "0": "2016",
                                    "1": "2",
                                    "2": "1162",
                                    "3": "Kingsbury St & Kinzie St",
                                    "4": "Subscriber",
                                    "5": "6"
                                },
                                {
                                    "0": "2016",
                                    "1": "2",
                                    "2": "1063",
                                    "3": "Clinton St & Lake St",
                                    "4": "Subscriber",
                                    "5": "7"
                                },
                                {
                                    "0": "2016",
                                    "1": "2",
                                    "2": "1057",
                                    "3": "LaSalle St & Jackson Blvd",
                                    "4": "Subscriber",
                                    "5": "8"
                                },
                                {
                                    "0": "2016",
                                    "1": "2",
                                    "2": "982",
                                    "3": "Columbus Dr & Randolph St",
                                    "4": "Subscriber",
                                    "5": "9"
                                },
                                {
                                    "0": "2016",
                                    "1": "2",
                                    "2": "974",
                                    "3": "Franklin St & Monroe St",
                                    "4": "Subscriber",
                                    "5": "10"
                                },
                                {
                                    "0": "2016",
                                    "1": "3",
                                    "2": "3099",
                                    "3": "Clinton St & Washington Blvd",
                                    "4": "Subscriber",
                                    "5": "1"
                                },
                                {
                                    "0": "2016",
                                    "1": "3",
                                    "2": "2355",
                                    "3": "Clinton St & Madison St",
                                    "4": "Subscriber",
                                    "5": "2"
                                },
                                {
                                    "0": "2016",
                                    "1": "3",
                                    "2": "2254",
                                    "3": "Canal St & Adams St",
                                    "4": "Subscriber",
                                    "5": "3"
                                },
                                {
                                    "0": "2016",
                                    "1": "3",
                                    "2": "2243",
                                    "3": "Canal St & Madison St",
                                    "4": "Subscriber",
                                    "5": "4"
                                },
                                {
                                    "0": "2016",
                                    "1": "3",
                                    "2": "1886",
                                    "3": "Canal St & Jackson Blvd",
                                    "4": "Subscriber",
                                    "5": "5"
                                },
                                {
                                    "0": "2016",
                                    "1": "3",
                                    "2": "1784",
                                    "3": "Kingsbury St & Kinzie St",
                                    "4": "Subscriber",
                                    "5": "6"
                                },
                                {
                                    "0": "2016",
                                    "1": "3",
                                    "2": "1676",
                                    "3": "LaSalle St & Jackson Blvd",
                                    "4": "Subscriber",
                                    "5": "7"
                                },
                                {
                                    "0": "2016",
                                    "1": "3",
                                    "2": "1465",
                                    "3": "Franklin St & Monroe St",
                                    "4": "Subscriber",
                                    "5": "8"
                                },
                                {
                                    "0": "2016",
                                    "1": "3",
                                    "2": "1444",
                                    "3": "Franklin St & Jackson Blvd",
                                    "4": "Subscriber",
                                    "5": "9"
                                },
                                {
                                    "0": "2016",
                                    "1": "3",
                                    "2": "1421",
                                    "3": "Clinton St & Lake St",
                                    "4": "Subscriber",
                                    "5": "10"
                                },
                                {
                                    "0": "2016",
                                    "1": "4",
                                    "2": "3485",
                                    "3": "Clinton St & Washington Blvd",
                                    "4": "Subscriber",
                                    "5": "1"
                                },
                                {
                                    "0": "2016",
                                    "1": "4",
                                    "2": "2588",
                                    "3": "Clinton St & Madison St",
                                    "4": "Subscriber",
                                    "5": "2"
                                },
                                {
                                    "0": "2016",
                                    "1": "4",
                                    "2": "2430",
                                    "3": "Canal St & Adams St",
                                    "4": "Subscriber",
                                    "5": "3"
                                },
                                {
                                    "0": "2016",
                                    "1": "4",
                                    "2": "2338",
                                    "3": "Canal St & Madison St",
                                    "4": "Subscriber",
                                    "5": "4"
                                },
                                {
                                    "0": "2016",
                                    "1": "4",
                                    "2": "2097",
                                    "3": "Canal St & Jackson Blvd",
                                    "4": "Subscriber",
                                    "5": "5"
                                },
                                {
                                    "0": "2016",
                                    "1": "4",
                                    "2": "1872",
                                    "3": "Kingsbury St & Kinzie St",
                                    "4": "Subscriber",
                                    "5": "6"
                                },
                                {
                                    "0": "2016",
                                    "1": "4",
                                    "2": "1716",
                                    "3": "Franklin St & Monroe St",
                                    "4": "Subscriber",
                                    "5": "7"
                                },
                                {
                                    "0": "2016",
                                    "1": "4",
                                    "2": "1646",
                                    "3": "LaSalle St & Jackson Blvd",
                                    "4": "Subscriber",
                                    "5": "8"
                                },
                                {
                                    "0": "2016",
                                    "1": "4",
                                    "2": "1590",
                                    "3": "Clinton St & Lake St",
                                    "4": "Subscriber",
                                    "5": "9"
                                },
                                {
                                    "0": "2016",
                                    "1": "4",
                                    "2": "1474",
                                    "3": "Dearborn St & Monroe St",
                                    "4": "Subscriber",
                                    "5": "10"
                                },
                                {
                                    "0": "2016",
                                    "1": "5",
                                    "2": "4023",
                                    "3": "Clinton St & Washington Blvd",
                                    "4": "Subscriber",
                                    "5": "1"
                                },
                                {
                                    "0": "2016",
                                    "1": "5",
                                    "2": "3374",
                                    "3": "Clinton St & Madison St",
                                    "4": "Subscriber",
                                    "5": "2"
                                },
                                {
                                    "0": "2016",
                                    "1": "5",
                                    "2": "3224",
                                    "3": "Canal St & Madison St",
                                    "4": "Subscriber",
                                    "5": "3"
                                },
                                {
                                    "0": "2016",
                                    "1": "5",
                                    "2": "2780",
                                    "3": "Canal St & Adams St",
                                    "4": "Subscriber",
                                    "5": "4"
                                },
                                {
                                    "0": "2016",
                                    "1": "5",
                                    "2": "2738",
                                    "3": "Franklin St & Monroe St",
                                    "4": "Subscriber",
                                    "5": "5"
                                },
                                {
                                    "0": "2016",
                                    "1": "5",
                                    "2": "2610",
                                    "3": "Theater on the Lake",
                                    "4": "Subscriber",
                                    "5": "6"
                                },
                                {
                                    "0": "2016",
                                    "1": "5",
                                    "2": "2533",
                                    "3": "Kingsbury St & Kinzie St",
                                    "4": "Subscriber",
                                    "5": "7"
                                },
                                {
                                    "0": "2016",
                                    "1": "5",
                                    "2": "2521",
                                    "3": "Canal St & Jackson Blvd",
                                    "4": "Subscriber",
                                    "5": "8"
                                },
                                {
                                    "0": "2016",
                                    "1": "5",
                                    "2": "2197",
                                    "3": "Clinton St & Lake St",
                                    "4": "Subscriber",
                                    "5": "9"
                                },
                                {
                                    "0": "2016",
                                    "1": "5",
                                    "2": "1983",
                                    "3": "Daley Center Plaza",
                                    "4": "Subscriber",
                                    "5": "10"
                                },
                                {
                                    "0": "2016",
                                    "1": "6",
                                    "2": "3806",
                                    "3": "Lake Shore Dr & North Blvd",
                                    "4": "Subscriber",
                                    "5": "4"
                                },
                                {
                                    "0": "2016",
                                    "1": "6",
                                    "2": "5136",
                                    "3": "Clinton St & Washington Blvd",
                                    "4": "Subscriber",
                                    "5": "1"
                                },
                                {
                                    "0": "2016",
                                    "1": "6",
                                    "2": "3752",
                                    "3": "Theater on the Lake",
                                    "4": "Subscriber",
                                    "5": "5"
                                },
                                {
                                    "0": "2016",
                                    "1": "6",
                                    "2": "4586",
                                    "3": "Clinton St & Madison St",
                                    "4": "Subscriber",
                                    "5": "2"
                                },
                                {
                                    "0": "2016",
                                    "1": "6",
                                    "2": "3525",
                                    "3": "Canal St & Jackson Blvd",
                                    "4": "Subscriber",
                                    "5": "6"
                                },
                                {
                                    "0": "2016",
                                    "1": "6",
                                    "2": "4273",
                                    "3": "Canal St & Madison St",
                                    "4": "Subscriber",
                                    "5": "3"
                                },
                                {
                                    "0": "2016",
                                    "1": "6",
                                    "2": "3512",
                                    "3": "Canal St & Adams St",
                                    "4": "Subscriber",
                                    "5": "7"
                                },
                                {
                                    "0": "2016",
                                    "1": "6",
                                    "2": "3300",
                                    "3": "Kingsbury St & Kinzie St",
                                    "4": "Subscriber",
                                    "5": "8"
                                },
                                {
                                    "0": "2016",
                                    "1": "6",
                                    "2": "3250",
                                    "3": "Franklin St & Monroe St",
                                    "4": "Subscriber",
                                    "5": "9"
                                },
                                {
                                    "0": "2016",
                                    "1": "6",
                                    "2": "2882",
                                    "3": "Daley Center Plaza",
                                    "4": "Subscriber",
                                    "5": "10"
                                },
                                {
                                    "0": "2016",
                                    "1": "7",
                                    "2": "4727",
                                    "3": "Clinton St & Washington Blvd",
                                    "4": "Subscriber",
                                    "5": "1"
                                },
                                {
                                    "0": "2016",
                                    "1": "7",
                                    "2": "4281",
                                    "3": "Clinton St & Madison St",
                                    "4": "Subscriber",
                                    "5": "2"
                                },
                                {
                                    "0": "2016",
                                    "1": "7",
                                    "2": "3986",
                                    "3": "Theater on the Lake",
                                    "4": "Subscriber",
                                    "5": "3"
                                },
                                {
                                    "0": "2016",
                                    "1": "7",
                                    "2": "3699",
                                    "3": "Canal St & Madison St",
                                    "4": "Subscriber",
                                    "5": "4"
                                },
                                {
                                    "0": "2016",
                                    "1": "7",
                                    "2": "3688",
                                    "3": "Kingsbury St & Kinzie St",
                                    "4": "Subscriber",
                                    "5": "5"
                                },
                                {
                                    "0": "2016",
                                    "1": "7",
                                    "2": "3652",
                                    "3": "Lake Shore Dr & North Blvd",
                                    "4": "Subscriber",
                                    "5": "6"
                                },
                                {
                                    "0": "2016",
                                    "1": "7",
                                    "2": "3428",
                                    "3": "Streeter Dr & Grand Ave",
                                    "4": "Subscriber",
                                    "5": "7"
                                },
                                {
                                    "0": "2016",
                                    "1": "7",
                                    "2": "3166",
                                    "3": "Canal St & Adams St",
                                    "4": "Subscriber",
                                    "5": "8"
                                },
                                {
                                    "0": "2016",
                                    "1": "7",
                                    "2": "3076",
                                    "3": "Canal St & Jackson Blvd",
                                    "4": "Subscriber",
                                    "5": "9"
                                },
                                {
                                    "0": "2016",
                                    "1": "7",
                                    "2": "2616",
                                    "3": "Franklin St & Monroe St",
                                    "4": "Subscriber",
                                    "5": "10"
                                },
                                {
                                    "0": "2016",
                                    "1": "8",
                                    "2": "5254",
                                    "3": "Clinton St & Washington Blvd",
                                    "4": "Subscriber",
                                    "5": "1"
                                },
                                {
                                    "0": "2016",
                                    "1": "8",
                                    "2": "4816",
                                    "3": "Clinton St & Madison St",
                                    "4": "Subscriber",
                                    "5": "2"
                                },
                                {
                                    "0": "2016",
                                    "1": "8",
                                    "2": "4191",
                                    "3": "Canal St & Madison St",
                                    "4": "Subscriber",
                                    "5": "3"
                                },
                                {
                                    "0": "2016",
                                    "1": "8",
                                    "2": "3729",
                                    "3": "Kingsbury St & Kinzie St",
                                    "4": "Subscriber",
                                    "5": "4"
                                },
                                {
                                    "0": "2016",
                                    "1": "8",
                                    "2": "3575",
                                    "3": "Canal St & Adams St",
                                    "4": "Subscriber",
                                    "5": "5"
                                },
                                {
                                    "0": "2016",
                                    "1": "8",
                                    "2": "3508",
                                    "3": "Canal St & Jackson Blvd",
                                    "4": "Subscriber",
                                    "5": "6"
                                },
                                {
                                    "0": "2016",
                                    "1": "8",
                                    "2": "3442",
                                    "3": "Theater on the Lake",
                                    "4": "Subscriber",
                                    "5": "7"
                                },
                                {
                                    "0": "2016",
                                    "1": "8",
                                    "2": "3289",
                                    "3": "Streeter Dr & Grand Ave",
                                    "4": "Subscriber",
                                    "5": "8"
                                },
                                {
                                    "0": "2016",
                                    "1": "8",
                                    "2": "3149",
                                    "3": "Lake Shore Dr & North Blvd",
                                    "4": "Subscriber",
                                    "5": "9"
                                },
                                {
                                    "0": "2016",
                                    "1": "8",
                                    "2": "2734",
                                    "3": "Daley Center Plaza",
                                    "4": "Subscriber",
                                    "5": "10"
                                },
                                {
                                    "0": "2016",
                                    "1": "8",
                                    "2": "2734",
                                    "3": "Franklin St & Monroe St",
                                    "4": "Subscriber",
                                    "5": "10"
                                },
                                {
                                    "0": "2016",
                                    "1": "9",
                                    "2": "5167",
                                    "3": "Clinton St & Washington Blvd",
                                    "4": "Subscriber",
                                    "5": "1"
                                },
                                {
                                    "0": "2016",
                                    "1": "9",
                                    "2": "4566",
                                    "3": "Clinton St & Madison St",
                                    "4": "Subscriber",
                                    "5": "2"
                                },
                                {
                                    "0": "2016",
                                    "1": "9",
                                    "2": "3755",
                                    "3": "Canal St & Madison St",
                                    "4": "Subscriber",
                                    "5": "3"
                                },
                                {
                                    "0": "2016",
                                    "1": "9",
                                    "2": "3588",
                                    "3": "Canal St & Adams St",
                                    "4": "Subscriber",
                                    "5": "4"
                                },
                                {
                                    "0": "2016",
                                    "1": "9",
                                    "2": "3242",
                                    "3": "Kingsbury St & Kinzie St",
                                    "4": "Subscriber",
                                    "5": "5"
                                },
                                {
                                    "0": "2016",
                                    "1": "9",
                                    "2": "3156",
                                    "3": "Canal St & Jackson Blvd",
                                    "4": "Subscriber",
                                    "5": "6"
                                },
                                {
                                    "0": "2016",
                                    "1": "9",
                                    "2": "2861",
                                    "3": "Theater on the Lake",
                                    "4": "Subscriber",
                                    "5": "7"
                                },
                                {
                                    "0": "2016",
                                    "1": "9",
                                    "2": "2669",
                                    "3": "Daley Center Plaza",
                                    "4": "Subscriber",
                                    "5": "8"
                                },
                                {
                                    "0": "2016",
                                    "1": "9",
                                    "2": "2658",
                                    "3": "Franklin St & Monroe St",
                                    "4": "Subscriber",
                                    "5": "9"
                                },
                                {
                                    "0": "2016",
                                    "1": "9",
                                    "2": "2654",
                                    "3": "Streeter Dr & Grand Ave",
                                    "4": "Subscriber",
                                    "5": "10"
                                },
                                {
                                    "0": "2016",
                                    "1": "10",
                                    "2": "4941",
                                    "3": "Clinton St & Washington Blvd",
                                    "4": "Subscriber",
                                    "5": "1"
                                },
                                {
                                    "0": "2016",
                                    "1": "10",
                                    "2": "4218",
                                    "3": "Clinton St & Madison St",
                                    "4": "Subscriber",
                                    "5": "2"
                                },
                                {
                                    "0": "2016",
                                    "1": "10",
                                    "2": "3340",
                                    "3": "Canal St & Madison St",
                                    "4": "Subscriber",
                                    "5": "3"
                                },
                                {
                                    "0": "2016",
                                    "1": "10",
                                    "2": "3210",
                                    "3": "Canal St & Adams St",
                                    "4": "Subscriber",
                                    "5": "4"
                                },
                                {
                                    "0": "2016",
                                    "1": "10",
                                    "2": "3007",
                                    "3": "Clinton St & Jackson Blvd",
                                    "4": "Subscriber",
                                    "5": "5"
                                },
                                {
                                    "0": "2016",
                                    "1": "10",
                                    "2": "2901",
                                    "3": "Kingsbury St & Kinzie St",
                                    "4": "Subscriber",
                                    "5": "6"
                                },
                                {
                                    "0": "2016",
                                    "1": "10",
                                    "2": "2471",
                                    "3": "Daley Center Plaza",
                                    "4": "Subscriber",
                                    "5": "7"
                                },
                                {
                                    "0": "2016",
                                    "1": "10",
                                    "2": "2468",
                                    "3": "Franklin St & Monroe St",
                                    "4": "Subscriber",
                                    "5": "8"
                                },
                                {
                                    "0": "2016",
                                    "1": "10",
                                    "2": "2247",
                                    "3": "Columbus Dr & Randolph St",
                                    "4": "Subscriber",
                                    "5": "9"
                                },
                                {
                                    "0": "2016",
                                    "1": "10",
                                    "2": "2100",
                                    "3": "LaSalle St & Jackson Blvd",
                                    "4": "Subscriber",
                                    "5": "10"
                                },
                                {
                                    "0": "2016",
                                    "1": "11",
                                    "2": "3754",
                                    "3": "Clinton St & Washington Blvd",
                                    "4": "Subscriber",
                                    "5": "1"
                                },
                                {
                                    "0": "2016",
                                    "1": "11",
                                    "2": "3671",
                                    "3": "Clinton St & Madison St",
                                    "4": "Subscriber",
                                    "5": "2"
                                },
                                {
                                    "0": "2016",
                                    "1": "11",
                                    "2": "2674",
                                    "3": "Canal St & Adams St",
                                    "4": "Subscriber",
                                    "5": "3"
                                },
                                {
                                    "0": "2016",
                                    "1": "11",
                                    "2": "2639",
                                    "3": "Canal St & Madison St",
                                    "4": "Subscriber",
                                    "5": "4"
                                },
                                {
                                    "0": "2016",
                                    "1": "11",
                                    "2": "2471",
                                    "3": "Clinton St & Jackson Blvd",
                                    "4": "Subscriber",
                                    "5": "5"
                                },
                                {
                                    "0": "2016",
                                    "1": "11",
                                    "2": "2362",
                                    "3": "Kingsbury St & Kinzie St",
                                    "4": "Subscriber",
                                    "5": "6"
                                },
                                {
                                    "0": "2016",
                                    "1": "11",
                                    "2": "2050",
                                    "3": "Franklin St & Monroe St",
                                    "4": "Subscriber",
                                    "5": "7"
                                },
                                {
                                    "0": "2016",
                                    "1": "11",
                                    "2": "1771",
                                    "3": "LaSalle St & Jackson Blvd",
                                    "4": "Subscriber",
                                    "5": "8"
                                },
                                {
                                    "0": "2016",
                                    "1": "11",
                                    "2": "1650",
                                    "3": "Franklin St & Jackson Blvd",
                                    "4": "Subscriber",
                                    "5": "9"
                                },
                                {
                                    "0": "2016",
                                    "1": "11",
                                    "2": "1594",
                                    "3": "Michigan Ave & Washington St",
                                    "4": "Subscriber",
                                    "5": "10"
                                },
                                {
                                    "0": "2016",
                                    "1": "12",
                                    "2": "1788",
                                    "3": "Clinton St & Washington Blvd",
                                    "4": "Subscriber",
                                    "5": "1"
                                },
                                {
                                    "0": "2016",
                                    "1": "12",
                                    "2": "1732",
                                    "3": "Clinton St & Madison St",
                                    "4": "Subscriber",
                                    "5": "2"
                                },
                                {
                                    "0": "2016",
                                    "1": "12",
                                    "2": "1397",
                                    "3": "Canal St & Adams St",
                                    "4": "Subscriber",
                                    "5": "3"
                                },
                                {
                                    "0": "2016",
                                    "1": "12",
                                    "2": "1325",
                                    "3": "Clinton St & Jackson Blvd",
                                    "4": "Subscriber",
                                    "5": "4"
                                },
                                {
                                    "0": "2016",
                                    "1": "12",
                                    "2": "1288",
                                    "3": "Canal St & Madison St",
                                    "4": "Subscriber",
                                    "5": "5"
                                },
                                {
                                    "0": "2016",
                                    "1": "12",
                                    "2": "1224",
                                    "3": "Kingsbury St & Kinzie St",
                                    "4": "Subscriber",
                                    "5": "6"
                                },
                                {
                                    "0": "2016",
                                    "1": "12",
                                    "2": "1027",
                                    "3": "LaSalle St & Jackson Blvd",
                                    "4": "Subscriber",
                                    "5": "7"
                                },
                                {
                                    "0": "2016",
                                    "1": "12",
                                    "2": "1004",
                                    "3": "Franklin St & Monroe St",
                                    "4": "Subscriber",
                                    "5": "8"
                                },
                                {
                                    "0": "2016",
                                    "1": "12",
                                    "2": "911",
                                    "3": "Dearborn St & Monroe St",
                                    "4": "Subscriber",
                                    "5": "9"
                                },
                                {
                                    "0": "2016",
                                    "1": "12",
                                    "2": "817",
                                    "3": "Larrabee St & Kingsbury St",
                                    "4": "Subscriber",
                                    "5": "10"
                                },
                                {
                                    "0": "2017",
                                    "1": "1",
                                    "2": "2151",
                                    "3": "Clinton St & Washington Blvd",
                                    "4": "Subscriber",
                                    "5": "1"
                                },
                                {
                                    "0": "2017",
                                    "1": "1",
                                    "2": "1904",
                                    "3": "Clinton St & Madison St",
                                    "4": "Subscriber",
                                    "5": "2"
                                },
                                {
                                    "0": "2017",
                                    "1": "1",
                                    "2": "1630",
                                    "3": "Canal St & Adams St",
                                    "4": "Subscriber",
                                    "5": "3"
                                },
                                {
                                    "0": "2017",
                                    "1": "1",
                                    "2": "1530",
                                    "3": "Clinton St & Jackson Blvd",
                                    "4": "Subscriber",
                                    "5": "4"
                                },
                                {
                                    "0": "2017",
                                    "1": "1",
                                    "2": "1438",
                                    "3": "Canal St & Madison St",
                                    "4": "Subscriber",
                                    "5": "5"
                                },
                                {
                                    "0": "2017",
                                    "1": "1",
                                    "2": "1410",
                                    "3": "Kingsbury St & Kinzie St",
                                    "4": "Subscriber",
                                    "5": "6"
                                },
                                {
                                    "0": "2017",
                                    "1": "1",
                                    "2": "1178",
                                    "3": "LaSalle St & Jackson Blvd",
                                    "4": "Subscriber",
                                    "5": "7"
                                },
                                {
                                    "0": "2017",
                                    "1": "1",
                                    "2": "1039",
                                    "3": "Michigan Ave & Washington St",
                                    "4": "Subscriber",
                                    "5": "8"
                                },
                                {
                                    "0": "2017",
                                    "1": "1",
                                    "2": "1004",
                                    "3": "Franklin St & Monroe St",
                                    "4": "Subscriber",
                                    "5": "9"
                                },
                                {
                                    "0": "2017",
                                    "1": "1",
                                    "2": "989",
                                    "3": "Clinton St & Lake St",
                                    "4": "Subscriber",
                                    "5": "10"
                                },
                                {
                                    "0": "2017",
                                    "1": "2",
                                    "2": "2885",
                                    "3": "Clinton St & Washington Blvd",
                                    "4": "Subscriber",
                                    "5": "1"
                                },
                                {
                                    "0": "2017",
                                    "1": "2",
                                    "2": "2328",
                                    "3": "Clinton St & Madison St",
                                    "4": "Subscriber",
                                    "5": "2"
                                },
                                {
                                    "0": "2017",
                                    "1": "2",
                                    "2": "2161",
                                    "3": "Canal St & Adams St",
                                    "4": "Subscriber",
                                    "5": "3"
                                },
                                {
                                    "0": "2017",
                                    "1": "2",
                                    "2": "1840",
                                    "3": "Canal St & Madison St",
                                    "4": "Subscriber",
                                    "5": "4"
                                },
                                {
                                    "0": "2017",
                                    "1": "2",
                                    "2": "1739",
                                    "3": "Clinton St & Jackson Blvd",
                                    "4": "Subscriber",
                                    "5": "5"
                                },
                                {
                                    "0": "2017",
                                    "1": "2",
                                    "2": "1714",
                                    "3": "Kingsbury St & Kinzie St",
                                    "4": "Subscriber",
                                    "5": "6"
                                },
                                {
                                    "0": "2017",
                                    "1": "2",
                                    "2": "1325",
                                    "3": "LaSalle St & Jackson Blvd",
                                    "4": "Subscriber",
                                    "5": "7"
                                },
                                {
                                    "0": "2017",
                                    "1": "2",
                                    "2": "1301",
                                    "3": "Columbus Dr & Randolph St",
                                    "4": "Subscriber",
                                    "5": "8"
                                },
                                {
                                    "0": "2017",
                                    "1": "2",
                                    "2": "1274",
                                    "3": "Franklin St & Monroe St",
                                    "4": "Subscriber",
                                    "5": "9"
                                },
                                {
                                    "0": "2017",
                                    "1": "2",
                                    "2": "1241",
                                    "3": "Michigan Ave & Lake St",
                                    "4": "Subscriber",
                                    "5": "10"
                                },
                                {
                                    "0": "2017",
                                    "1": "3",
                                    "2": "3063",
                                    "3": "Clinton St & Washington Blvd",
                                    "4": "Subscriber",
                                    "5": "1"
                                },
                                {
                                    "0": "2017",
                                    "1": "3",
                                    "2": "2482",
                                    "3": "Canal St & Adams St",
                                    "4": "Subscriber",
                                    "5": "2"
                                },
                                {
                                    "0": "2017",
                                    "1": "3",
                                    "2": "2472",
                                    "3": "Clinton St & Madison St",
                                    "4": "Subscriber",
                                    "5": "3"
                                },
                                {
                                    "0": "2017",
                                    "1": "3",
                                    "2": "1898",
                                    "3": "Kingsbury St & Kinzie St",
                                    "4": "Subscriber",
                                    "5": "4"
                                },
                                {
                                    "0": "2017",
                                    "1": "3",
                                    "2": "1875",
                                    "3": "Clinton St & Jackson Blvd",
                                    "4": "Subscriber",
                                    "5": "5"
                                },
                                {
                                    "0": "2017",
                                    "1": "3",
                                    "2": "1863",
                                    "3": "Canal St & Madison St",
                                    "4": "Subscriber",
                                    "5": "6"
                                },
                                {
                                    "0": "2017",
                                    "1": "3",
                                    "2": "1591",
                                    "3": "Franklin St & Monroe St",
                                    "4": "Subscriber",
                                    "5": "7"
                                },
                                {
                                    "0": "2017",
                                    "1": "3",
                                    "2": "1386",
                                    "3": "Columbus Dr & Randolph St",
                                    "4": "Subscriber",
                                    "5": "8"
                                },
                                {
                                    "0": "2017",
                                    "1": "3",
                                    "2": "1374",
                                    "3": "LaSalle St & Jackson Blvd",
                                    "4": "Subscriber",
                                    "5": "9"
                                },
                                {
                                    "0": "2017",
                                    "1": "3",
                                    "2": "1366",
                                    "3": "Dearborn St & Monroe St",
                                    "4": "Subscriber",
                                    "5": "10"
                                },
                                {
                                    "0": "2017",
                                    "1": "4",
                                    "2": "3624",
                                    "3": "Clinton St & Washington Blvd",
                                    "4": "Subscriber",
                                    "5": "1"
                                },
                                {
                                    "0": "2017",
                                    "1": "4",
                                    "2": "2959",
                                    "3": "Clinton St & Madison St",
                                    "4": "Subscriber",
                                    "5": "2"
                                },
                                {
                                    "0": "2017",
                                    "1": "4",
                                    "2": "2852",
                                    "3": "Canal St & Adams St",
                                    "4": "Subscriber",
                                    "5": "3"
                                },
                                {
                                    "0": "2017",
                                    "1": "4",
                                    "2": "2405",
                                    "3": "Kingsbury St & Kinzie St",
                                    "4": "Subscriber",
                                    "5": "4"
                                },
                                {
                                    "0": "2017",
                                    "1": "4",
                                    "2": "2264",
                                    "3": "Canal St & Madison St",
                                    "4": "Subscriber",
                                    "5": "5"
                                },
                                {
                                    "0": "2017",
                                    "1": "4",
                                    "2": "2234",
                                    "3": "Franklin St & Monroe St",
                                    "4": "Subscriber",
                                    "5": "6"
                                },
                                {
                                    "0": "2017",
                                    "1": "4",
                                    "2": "2184",
                                    "3": "Clinton St & Jackson Blvd",
                                    "4": "Subscriber",
                                    "5": "7"
                                },
                                {
                                    "0": "2017",
                                    "1": "4",
                                    "2": "1877",
                                    "3": "Columbus Dr & Randolph St",
                                    "4": "Subscriber",
                                    "5": "8"
                                },
                                {
                                    "0": "2017",
                                    "1": "4",
                                    "2": "1800",
                                    "3": "Orleans St & Merchandise Mart Plaza",
                                    "4": "Subscriber",
                                    "5": "9"
                                },
                                {
                                    "0": "2017",
                                    "1": "4",
                                    "2": "1786",
                                    "3": "Daley Center Plaza",
                                    "4": "Subscriber",
                                    "5": "10"
                                },
                                {
                                    "0": "2017",
                                    "1": "5",
                                    "2": "4522",
                                    "3": "Clinton St & Washington Blvd",
                                    "4": "Subscriber",
                                    "5": "1"
                                },
                                {
                                    "0": "2017",
                                    "1": "5",
                                    "2": "3733",
                                    "3": "Clinton St & Madison St",
                                    "4": "Subscriber",
                                    "5": "2"
                                },
                                {
                                    "0": "2017",
                                    "1": "5",
                                    "2": "3494",
                                    "3": "Canal St & Adams St",
                                    "4": "Subscriber",
                                    "5": "3"
                                },
                                {
                                    "0": "2017",
                                    "1": "5",
                                    "2": "2871",
                                    "3": "Canal St & Madison St",
                                    "4": "Subscriber",
                                    "5": "4"
                                },
                                {
                                    "0": "2017",
                                    "1": "5",
                                    "2": "2733",
                                    "3": "Kingsbury St & Kinzie St",
                                    "4": "Subscriber",
                                    "5": "5"
                                },
                                {
                                    "0": "2017",
                                    "1": "5",
                                    "2": "2713",
                                    "3": "Clinton St & Jackson Blvd",
                                    "4": "Subscriber",
                                    "5": "6"
                                },
                                {
                                    "0": "2017",
                                    "1": "5",
                                    "2": "2637",
                                    "3": "Franklin St & Monroe St",
                                    "4": "Subscriber",
                                    "5": "7"
                                },
                                {
                                    "0": "2017",
                                    "1": "5",
                                    "2": "2582",
                                    "3": "Columbus Dr & Randolph St",
                                    "4": "Subscriber",
                                    "5": "8"
                                },
                                {
                                    "0": "2017",
                                    "1": "5",
                                    "2": "2427",
                                    "3": "Daley Center Plaza",
                                    "4": "Subscriber",
                                    "5": "9"
                                },
                                {
                                    "0": "2017",
                                    "1": "5",
                                    "2": "2384",
                                    "3": "Orleans St & Merchandise Mart Plaza",
                                    "4": "Subscriber",
                                    "5": "10"
                                },
                                {
                                    "0": "2017",
                                    "1": "6",
                                    "2": "5576",
                                    "3": "Clinton St & Washington Blvd",
                                    "4": "Subscriber",
                                    "5": "1"
                                },
                                {
                                    "0": "2017",
                                    "1": "6",
                                    "2": "4889",
                                    "3": "Clinton St & Madison St",
                                    "4": "Subscriber",
                                    "5": "2"
                                },
                                {
                                    "0": "2017",
                                    "1": "6",
                                    "2": "4779",
                                    "3": "Canal St & Adams St",
                                    "4": "Subscriber",
                                    "5": "3"
                                },
                                {
                                    "0": "2017",
                                    "1": "6",
                                    "2": "3972",
                                    "3": "Lake Shore Dr & North Blvd",
                                    "4": "Subscriber",
                                    "5": "4"
                                },
                                {
                                    "0": "2017",
                                    "1": "6",
                                    "2": "3787",
                                    "3": "Daley Center Plaza",
                                    "4": "Subscriber",
                                    "5": "5"
                                },
                                {
                                    "0": "2017",
                                    "1": "6",
                                    "2": "3728",
                                    "3": "Kingsbury St & Kinzie St",
                                    "4": "Subscriber",
                                    "5": "6"
                                },
                                {
                                    "0": "2017",
                                    "1": "6",
                                    "2": "3657",
                                    "3": "Canal St & Madison St",
                                    "4": "Subscriber",
                                    "5": "7"
                                },
                                {
                                    "0": "2017",
                                    "1": "6",
                                    "2": "3628",
                                    "3": "Columbus Dr & Randolph St",
                                    "4": "Subscriber",
                                    "5": "8"
                                },
                                {
                                    "0": "2017",
                                    "1": "6",
                                    "2": "3511",
                                    "3": "Franklin St & Monroe St",
                                    "4": "Subscriber",
                                    "5": "9"
                                },
                                {
                                    "0": "2017",
                                    "1": "6",
                                    "2": "3505",
                                    "3": "Clinton St & Jackson Blvd",
                                    "4": "Subscriber",
                                    "5": "10"
                                },
                                {
                                    "0": "2017",
                                    "1": "7",
                                    "2": "5368",
                                    "3": "Canal St & Adams St",
                                    "4": "Subscriber",
                                    "5": "1"
                                },
                                {
                                    "0": "2017",
                                    "1": "7",
                                    "2": "4894",
                                    "3": "Clinton St & Washington Blvd",
                                    "4": "Subscriber",
                                    "5": "2"
                                },
                                {
                                    "0": "2017",
                                    "1": "7",
                                    "2": "4640",
                                    "3": "Clinton St & Madison St",
                                    "4": "Subscriber",
                                    "5": "3"
                                },
                                {
                                    "0": "2017",
                                    "1": "7",
                                    "2": "4439",
                                    "3": "Theater on the Lake",
                                    "4": "Subscriber",
                                    "5": "4"
                                },
                                {
                                    "0": "2017",
                                    "1": "7",
                                    "2": "4306",
                                    "3": "Lake Shore Dr & North Blvd",
                                    "4": "Subscriber",
                                    "5": "5"
                                },
                                {
                                    "0": "2017",
                                    "1": "7",
                                    "2": "3875",
                                    "3": "Streeter Dr & Grand Ave",
                                    "4": "Subscriber",
                                    "5": "6"
                                },
                                {
                                    "0": "2017",
                                    "1": "7",
                                    "2": "3815",
                                    "3": "Kingsbury St & Kinzie St",
                                    "4": "Subscriber",
                                    "5": "7"
                                },
                                {
                                    "0": "2017",
                                    "1": "7",
                                    "2": "3724",
                                    "3": "Daley Center Plaza",
                                    "4": "Subscriber",
                                    "5": "8"
                                },
                                {
                                    "0": "2017",
                                    "1": "7",
                                    "2": "3667",
                                    "3": "Franklin St & Monroe St",
                                    "4": "Subscriber",
                                    "5": "9"
                                },
                                {
                                    "0": "2017",
                                    "1": "7",
                                    "2": "3462",
                                    "3": "Columbus Dr & Randolph St",
                                    "4": "Subscriber",
                                    "5": "10"
                                },
                                {
                                    "0": "2017",
                                    "1": "8",
                                    "2": "7485",
                                    "3": "Canal St & Adams St",
                                    "4": "Subscriber",
                                    "5": "1"
                                },
                                {
                                    "0": "2017",
                                    "1": "8",
                                    "2": "6037",
                                    "3": "Clinton St & Washington Blvd",
                                    "4": "Subscriber",
                                    "5": "2"
                                },
                                {
                                    "0": "2017",
                                    "1": "8",
                                    "2": "5429",
                                    "3": "Clinton St & Madison St",
                                    "4": "Subscriber",
                                    "5": "3"
                                },
                                {
                                    "0": "2017",
                                    "1": "8",
                                    "2": "5000",
                                    "3": "Franklin St & Monroe St",
                                    "4": "Subscriber",
                                    "5": "4"
                                },
                                {
                                    "0": "2017",
                                    "1": "8",
                                    "2": "4525",
                                    "3": "Daley Center Plaza",
                                    "4": "Subscriber",
                                    "5": "5"
                                },
                                {
                                    "0": "2017",
                                    "1": "8",
                                    "2": "4375",
                                    "3": "Orleans St & Merchandise Mart Plaza",
                                    "4": "Subscriber",
                                    "5": "6"
                                },
                                {
                                    "0": "2017",
                                    "1": "8",
                                    "2": "4234",
                                    "3": "Canal St & Madison St",
                                    "4": "Subscriber",
                                    "5": "7"
                                },
                                {
                                    "0": "2017",
                                    "1": "8",
                                    "2": "4142",
                                    "3": "Kingsbury St & Kinzie St",
                                    "4": "Subscriber",
                                    "5": "8"
                                },
                                {
                                    "0": "2017",
                                    "1": "8",
                                    "2": "3879",
                                    "3": "Columbus Dr & Randolph St",
                                    "4": "Subscriber",
                                    "5": "9"
                                },
                                {
                                    "0": "2017",
                                    "1": "8",
                                    "2": "3684",
                                    "3": "Theater on the Lake",
                                    "4": "Subscriber",
                                    "5": "10"
                                },
                                {
                                    "0": "2017",
                                    "1": "9",
                                    "2": "6374",
                                    "3": "Canal St & Adams St",
                                    "4": "Subscriber",
                                    "5": "1"
                                },
                                {
                                    "0": "2017",
                                    "1": "9",
                                    "2": "5321",
                                    "3": "Clinton St & Washington Blvd",
                                    "4": "Subscriber",
                                    "5": "2"
                                },
                                {
                                    "0": "2017",
                                    "1": "9",
                                    "2": "4887",
                                    "3": "Clinton St & Madison St",
                                    "4": "Subscriber",
                                    "5": "3"
                                },
                                {
                                    "0": "2017",
                                    "1": "9",
                                    "2": "4405",
                                    "3": "Franklin St & Monroe St",
                                    "4": "Subscriber",
                                    "5": "4"
                                },
                                {
                                    "0": "2017",
                                    "1": "9",
                                    "2": "3758",
                                    "3": "Kingsbury St & Kinzie St",
                                    "4": "Subscriber",
                                    "5": "5"
                                },
                                {
                                    "0": "2017",
                                    "1": "9",
                                    "2": "3733",
                                    "3": "Daley Center Plaza",
                                    "4": "Subscriber",
                                    "5": "6"
                                },
                                {
                                    "0": "2017",
                                    "1": "9",
                                    "2": "3660",
                                    "3": "Columbus Dr & Randolph St",
                                    "4": "Subscriber",
                                    "5": "7"
                                },
                                {
                                    "0": "2017",
                                    "1": "9",
                                    "2": "3626",
                                    "3": "Orleans St & Merchandise Mart Plaza",
                                    "4": "Subscriber",
                                    "5": "8"
                                },
                                {
                                    "0": "2017",
                                    "1": "9",
                                    "2": "3463",
                                    "3": "Canal St & Madison St",
                                    "4": "Subscriber",
                                    "5": "9"
                                },
                                {
                                    "0": "2017",
                                    "1": "9",
                                    "2": "3061",
                                    "3": "Michigan Ave & Washington St",
                                    "4": "Subscriber",
                                    "5": "10"
                                },
                                {
                                    "0": "2017",
                                    "1": "10",
                                    "2": "5639",
                                    "3": "Canal St & Adams St",
                                    "4": "Subscriber",
                                    "5": "1"
                                },
                                {
                                    "0": "2017",
                                    "1": "10",
                                    "2": "4603",
                                    "3": "Clinton St & Washington Blvd",
                                    "4": "Subscriber",
                                    "5": "2"
                                },
                                {
                                    "0": "2017",
                                    "1": "10",
                                    "2": "4315",
                                    "3": "Clinton St & Madison St",
                                    "4": "Subscriber",
                                    "5": "3"
                                },
                                {
                                    "0": "2017",
                                    "1": "10",
                                    "2": "3734",
                                    "3": "Franklin St & Monroe St",
                                    "4": "Subscriber",
                                    "5": "4"
                                },
                                {
                                    "0": "2017",
                                    "1": "10",
                                    "2": "3398",
                                    "3": "Kingsbury St & Kinzie St",
                                    "4": "Subscriber",
                                    "5": "5"
                                },
                                {
                                    "0": "2017",
                                    "1": "10",
                                    "2": "3141",
                                    "3": "Canal St & Madison St",
                                    "4": "Subscriber",
                                    "5": "6"
                                },
                                {
                                    "0": "2017",
                                    "1": "10",
                                    "2": "3011",
                                    "3": "Columbus Dr & Randolph St",
                                    "4": "Subscriber",
                                    "5": "7"
                                },
                                {
                                    "0": "2017",
                                    "1": "10",
                                    "2": "2956",
                                    "3": "Daley Center Plaza",
                                    "4": "Subscriber",
                                    "5": "8"
                                },
                                {
                                    "0": "2017",
                                    "1": "10",
                                    "2": "2892",
                                    "3": "Orleans St & Merchandise Mart Plaza",
                                    "4": "Subscriber",
                                    "5": "9"
                                },
                                {
                                    "0": "2017",
                                    "1": "10",
                                    "2": "2849",
                                    "3": "Michigan Ave & Washington St",
                                    "4": "Subscriber",
                                    "5": "10"
                                },
                                {
                                    "0": "2017",
                                    "1": "11",
                                    "2": "4122",
                                    "3": "Canal St & Adams St",
                                    "4": "Subscriber",
                                    "5": "1"
                                },
                                {
                                    "0": "2017",
                                    "1": "11",
                                    "2": "3283",
                                    "3": "Clinton St & Washington Blvd",
                                    "4": "Subscriber",
                                    "5": "2"
                                },
                                {
                                    "0": "2017",
                                    "1": "11",
                                    "2": "3026",
                                    "3": "Clinton St & Madison St",
                                    "4": "Subscriber",
                                    "5": "3"
                                },
                                {
                                    "0": "2017",
                                    "1": "11",
                                    "2": "2230",
                                    "3": "Kingsbury St & Kinzie St",
                                    "4": "Subscriber",
                                    "5": "4"
                                },
                                {
                                    "0": "2017",
                                    "1": "11",
                                    "2": "2187",
                                    "3": "Canal St & Madison St",
                                    "4": "Subscriber",
                                    "5": "5"
                                },
                                {
                                    "0": "2017",
                                    "1": "11",
                                    "2": "2133",
                                    "3": "Franklin St & Monroe St",
                                    "4": "Subscriber",
                                    "5": "6"
                                },
                                {
                                    "0": "2017",
                                    "1": "11",
                                    "2": "1971",
                                    "3": "Columbus Dr & Randolph St",
                                    "4": "Subscriber",
                                    "5": "7"
                                },
                                {
                                    "0": "2017",
                                    "1": "11",
                                    "2": "1703",
                                    "3": "Michigan Ave & Washington St",
                                    "4": "Subscriber",
                                    "5": "8"
                                },
                                {
                                    "0": "2017",
                                    "1": "11",
                                    "2": "1659",
                                    "3": "Larrabee St & Kingsbury St",
                                    "4": "Subscriber",
                                    "5": "9"
                                },
                                {
                                    "0": "2017",
                                    "1": "11",
                                    "2": "1636",
                                    "3": "Clinton St & Lake St",
                                    "4": "Subscriber",
                                    "5": "10"
                                },
                                {
                                    "0": "2017",
                                    "1": "12",
                                    "2": "2538",
                                    "3": "Canal St & Adams St",
                                    "4": "Subscriber",
                                    "5": "1"
                                },
                                {
                                    "0": "2017",
                                    "1": "12",
                                    "2": "2176",
                                    "3": "Clinton St & Washington Blvd",
                                    "4": "Subscriber",
                                    "5": "2"
                                },
                                {
                                    "0": "2017",
                                    "1": "12",
                                    "2": "1927",
                                    "3": "Clinton St & Madison St",
                                    "4": "Subscriber",
                                    "5": "3"
                                },
                                {
                                    "0": "2017",
                                    "1": "12",
                                    "2": "1693",
                                    "3": "Kingsbury St & Kinzie St",
                                    "4": "Subscriber",
                                    "5": "4"
                                },
                                {
                                    "0": "2017",
                                    "1": "12",
                                    "2": "1515",
                                    "3": "Canal St & Madison St",
                                    "4": "Subscriber",
                                    "5": "5"
                                },
                                {
                                    "0": "2017",
                                    "1": "12",
                                    "2": "1366",
                                    "3": "Columbus Dr & Randolph St",
                                    "4": "Subscriber",
                                    "5": "6"
                                },
                                {
                                    "0": "2017",
                                    "1": "12",
                                    "2": "1182",
                                    "3": "Larrabee St & Kingsbury St",
                                    "4": "Subscriber",
                                    "5": "7"
                                },
                                {
                                    "0": "2017",
                                    "1": "12",
                                    "2": "1155",
                                    "3": "Clinton St & Lake St",
                                    "4": "Subscriber",
                                    "5": "8"
                                },
                                {
                                    "0": "2017",
                                    "1": "12",
                                    "2": "1122",
                                    "3": "Daley Center Plaza",
                                    "4": "Subscriber",
                                    "5": "9"
                                },
                                {
                                    "0": "2017",
                                    "1": "12",
                                    "2": "1099",
                                    "3": "Michigan Ave & Washington St",
                                    "4": "Subscriber",
                                    "5": "10"
                                },
                                {
                                    "0": "2018",
                                    "1": "1",
                                    "2": "2523",
                                    "3": "Canal St & Adams St",
                                    "4": "Subscriber",
                                    "5": "1"
                                },
                                {
                                    "0": "2018",
                                    "1": "1",
                                    "2": "2349",
                                    "3": "Clinton St & Washington Blvd",
                                    "4": "Subscriber",
                                    "5": "2"
                                },
                                {
                                    "0": "2018",
                                    "1": "1",
                                    "2": "1931",
                                    "3": "Clinton St & Madison St",
                                    "4": "Subscriber",
                                    "5": "3"
                                },
                                {
                                    "0": "2018",
                                    "1": "1",
                                    "2": "1529",
                                    "3": "Kingsbury St & Kinzie St",
                                    "4": "Subscriber",
                                    "5": "4"
                                },
                                {
                                    "0": "2018",
                                    "1": "1",
                                    "2": "1380",
                                    "3": "Canal St & Madison St",
                                    "4": "Subscriber",
                                    "5": "5"
                                },
                                {
                                    "0": "2018",
                                    "1": "1",
                                    "2": "1199",
                                    "3": "Columbus Dr & Randolph St",
                                    "4": "Subscriber",
                                    "5": "6"
                                },
                                {
                                    "0": "2018",
                                    "1": "1",
                                    "2": "1159",
                                    "3": "Michigan Ave & Washington St",
                                    "4": "Subscriber",
                                    "5": "7"
                                },
                                {
                                    "0": "2018",
                                    "1": "1",
                                    "2": "1119",
                                    "3": "Larrabee St & Kingsbury St",
                                    "4": "Subscriber",
                                    "5": "8"
                                },
                                {
                                    "0": "2018",
                                    "1": "1",
                                    "2": "1086",
                                    "3": "Franklin St & Monroe St",
                                    "4": "Subscriber",
                                    "5": "9"
                                },
                                {
                                    "0": "2018",
                                    "1": "1",
                                    "2": "1055",
                                    "3": "Clinton St & Lake St",
                                    "4": "Subscriber",
                                    "5": "10"
                                },
                                {
                                    "0": "2018",
                                    "1": "2",
                                    "2": "2377",
                                    "3": "Canal St & Adams St",
                                    "4": "Subscriber",
                                    "5": "1"
                                },
                                {
                                    "0": "2018",
                                    "1": "2",
                                    "2": "2121",
                                    "3": "Clinton St & Washington Blvd",
                                    "4": "Subscriber",
                                    "5": "2"
                                },
                                {
                                    "0": "2018",
                                    "1": "2",
                                    "2": "1711",
                                    "3": "Clinton St & Madison St",
                                    "4": "Subscriber",
                                    "5": "3"
                                },
                                {
                                    "0": "2018",
                                    "1": "2",
                                    "2": "1292",
                                    "3": "Canal St & Madison St",
                                    "4": "Subscriber",
                                    "5": "4"
                                },
                                {
                                    "0": "2018",
                                    "1": "2",
                                    "2": "1181",
                                    "3": "Kingsbury St & Kinzie St",
                                    "4": "Subscriber",
                                    "5": "5"
                                },
                                {
                                    "0": "2018",
                                    "1": "2",
                                    "2": "1142",
                                    "3": "Michigan Ave & Washington St",
                                    "4": "Subscriber",
                                    "5": "6"
                                },
                                {
                                    "0": "2018",
                                    "1": "2",
                                    "2": "1063",
                                    "3": "Columbus Dr & Randolph St",
                                    "4": "Subscriber",
                                    "5": "7"
                                },
                                {
                                    "0": "2018",
                                    "1": "2",
                                    "2": "1008",
                                    "3": "Franklin St & Monroe St",
                                    "4": "Subscriber",
                                    "5": "8"
                                },
                                {
                                    "0": "2018",
                                    "1": "2",
                                    "2": "996",
                                    "3": "Clinton St & Lake St",
                                    "4": "Subscriber",
                                    "5": "9"
                                },
                                {
                                    "0": "2018",
                                    "1": "2",
                                    "2": "960",
                                    "3": "Larrabee St & Kingsbury St",
                                    "4": "Subscriber",
                                    "5": "10"
                                },
                                {
                                    "0": "2018",
                                    "1": "3",
                                    "2": "3479",
                                    "3": "Canal St & Adams St",
                                    "4": "Subscriber",
                                    "5": "1"
                                },
                                {
                                    "0": "2018",
                                    "1": "3",
                                    "2": "3144",
                                    "3": "Clinton St & Washington Blvd",
                                    "4": "Subscriber",
                                    "5": "2"
                                },
                                {
                                    "0": "2018",
                                    "1": "3",
                                    "2": "2489",
                                    "3": "Clinton St & Madison St",
                                    "4": "Subscriber",
                                    "5": "3"
                                },
                                {
                                    "0": "2018",
                                    "1": "3",
                                    "2": "2040",
                                    "3": "Kingsbury St & Kinzie St",
                                    "4": "Subscriber",
                                    "5": "4"
                                },
                                {
                                    "0": "2018",
                                    "1": "3",
                                    "2": "1952",
                                    "3": "Canal St & Madison St",
                                    "4": "Subscriber",
                                    "5": "5"
                                },
                                {
                                    "0": "2018",
                                    "1": "3",
                                    "2": "1800",
                                    "3": "Columbus Dr & Randolph St",
                                    "4": "Subscriber",
                                    "5": "6"
                                },
                                {
                                    "0": "2018",
                                    "1": "3",
                                    "2": "1622",
                                    "3": "Michigan Ave & Washington St",
                                    "4": "Subscriber",
                                    "5": "7"
                                },
                                {
                                    "0": "2018",
                                    "1": "3",
                                    "2": "1555",
                                    "3": "Larrabee St & Kingsbury St",
                                    "4": "Subscriber",
                                    "5": "8"
                                },
                                {
                                    "0": "2018",
                                    "1": "3",
                                    "2": "1476",
                                    "3": "Dearborn St & Monroe St",
                                    "4": "Subscriber",
                                    "5": "9"
                                },
                                {
                                    "0": "2018",
                                    "1": "3",
                                    "2": "1449",
                                    "3": "Franklin St & Monroe St",
                                    "4": "Subscriber",
                                    "5": "10"
                                },
                                {
                                    "0": "2018",
                                    "1": "4",
                                    "2": "3946",
                                    "3": "Canal St & Adams St",
                                    "4": "Subscriber",
                                    "5": "1"
                                },
                                {
                                    "0": "2018",
                                    "1": "4",
                                    "2": "3367",
                                    "3": "Clinton St & Washington Blvd",
                                    "4": "Subscriber",
                                    "5": "2"
                                },
                                {
                                    "0": "2018",
                                    "1": "4",
                                    "2": "2723",
                                    "3": "Clinton St & Madison St",
                                    "4": "Subscriber",
                                    "5": "3"
                                },
                                {
                                    "0": "2018",
                                    "1": "4",
                                    "2": "2211",
                                    "3": "Kingsbury St & Kinzie St",
                                    "4": "Subscriber",
                                    "5": "4"
                                },
                                {
                                    "0": "2018",
                                    "1": "4",
                                    "2": "2148",
                                    "3": "Canal St & Madison St",
                                    "4": "Subscriber",
                                    "5": "5"
                                },
                                {
                                    "0": "2018",
                                    "1": "4",
                                    "2": "2071",
                                    "3": "Columbus Dr & Randolph St",
                                    "4": "Subscriber",
                                    "5": "6"
                                },
                                {
                                    "0": "2018",
                                    "1": "4",
                                    "2": "1857",
                                    "3": "Franklin St & Monroe St",
                                    "4": "Subscriber",
                                    "5": "7"
                                },
                                {
                                    "0": "2018",
                                    "1": "4",
                                    "2": "1825",
                                    "3": "Michigan Ave & Washington St",
                                    "4": "Subscriber",
                                    "5": "8"
                                },
                                {
                                    "0": "2018",
                                    "1": "4",
                                    "2": "1770",
                                    "3": "Daley Center Plaza",
                                    "4": "Subscriber",
                                    "5": "9"
                                },
                                {
                                    "0": "2018",
                                    "1": "4",
                                    "2": "1651",
                                    "3": "Orleans St & Merchandise Mart Plaza",
                                    "4": "Subscriber",
                                    "5": "10"
                                },
                                {
                                    "0": "2018",
                                    "1": "5",
                                    "2": "5916",
                                    "3": "Canal St & Adams St",
                                    "4": "Subscriber",
                                    "5": "1"
                                },
                                {
                                    "0": "2018",
                                    "1": "5",
                                    "2": "4903",
                                    "3": "Clinton St & Washington Blvd",
                                    "4": "Subscriber",
                                    "5": "2"
                                },
                                {
                                    "0": "2018",
                                    "1": "5",
                                    "2": "4201",
                                    "3": "Clinton St & Madison St",
                                    "4": "Subscriber",
                                    "5": "3"
                                },
                                {
                                    "0": "2018",
                                    "1": "5",
                                    "2": "3514",
                                    "3": "Daley Center Plaza",
                                    "4": "Subscriber",
                                    "5": "4"
                                },
                                {
                                    "0": "2018",
                                    "1": "5",
                                    "2": "3504",
                                    "3": "Kingsbury St & Kinzie St",
                                    "4": "Subscriber",
                                    "5": "5"
                                },
                                {
                                    "0": "2018",
                                    "1": "5",
                                    "2": "3436",
                                    "3": "Franklin St & Monroe St",
                                    "4": "Subscriber",
                                    "5": "6"
                                },
                                {
                                    "0": "2018",
                                    "1": "5",
                                    "2": "3114",
                                    "3": "Canal St & Madison St",
                                    "4": "Subscriber",
                                    "5": "7"
                                },
                                {
                                    "0": "2018",
                                    "1": "5",
                                    "2": "3047",
                                    "3": "Columbus Dr & Randolph St",
                                    "4": "Subscriber",
                                    "5": "8"
                                },
                                {
                                    "0": "2018",
                                    "1": "5",
                                    "2": "3008",
                                    "3": "Michigan Ave & Washington St",
                                    "4": "Subscriber",
                                    "5": "9"
                                },
                                {
                                    "0": "2018",
                                    "1": "5",
                                    "2": "2980",
                                    "3": "Orleans St & Merchandise Mart Plaza",
                                    "4": "Subscriber",
                                    "5": "10"
                                },
                                {
                                    "0": "2018",
                                    "1": "6",
                                    "2": "6928",
                                    "3": "Canal St & Adams St",
                                    "4": "Subscriber",
                                    "5": "1"
                                },
                                {
                                    "0": "2018",
                                    "1": "6",
                                    "2": "5468",
                                    "3": "Clinton St & Madison St",
                                    "4": "Subscriber",
                                    "5": "2"
                                },
                                {
                                    "0": "2018",
                                    "1": "6",
                                    "2": "4893",
                                    "3": "Clinton St & Washington Blvd",
                                    "4": "Subscriber",
                                    "5": "3"
                                },
                                {
                                    "0": "2018",
                                    "1": "6",
                                    "2": "3993",
                                    "3": "Daley Center Plaza",
                                    "4": "Subscriber",
                                    "5": "4"
                                },
                                {
                                    "0": "2018",
                                    "1": "6",
                                    "2": "3522",
                                    "3": "Kingsbury St & Kinzie St",
                                    "4": "Subscriber",
                                    "5": "5"
                                },
                                {
                                    "0": "2018",
                                    "1": "6",
                                    "2": "3502",
                                    "3": "Franklin St & Monroe St",
                                    "4": "Subscriber",
                                    "5": "6"
                                },
                                {
                                    "0": "2018",
                                    "1": "6",
                                    "2": "3453",
                                    "3": "Michigan Ave & Washington St",
                                    "4": "Subscriber",
                                    "5": "7"
                                },
                                {
                                    "0": "2018",
                                    "1": "6",
                                    "2": "3318",
                                    "3": "Canal St & Madison St",
                                    "4": "Subscriber",
                                    "5": "8"
                                },
                                {
                                    "0": "2018",
                                    "1": "6",
                                    "2": "3198",
                                    "3": "Columbus Dr & Randolph St",
                                    "4": "Subscriber",
                                    "5": "9"
                                },
                                {
                                    "0": "2018",
                                    "1": "6",
                                    "2": "3099",
                                    "3": "LaSalle St & Jackson Blvd",
                                    "4": "Subscriber",
                                    "5": "10"
                                },
                                {
                                    "0": "2018",
                                    "1": "7",
                                    "2": "7885",
                                    "3": "Canal St & Adams St",
                                    "4": "Subscriber",
                                    "5": "1"
                                },
                                {
                                    "0": "2018",
                                    "1": "7",
                                    "2": "6865",
                                    "3": "Clinton St & Madison St",
                                    "4": "Subscriber",
                                    "5": "2"
                                },
                                {
                                    "0": "2018",
                                    "1": "7",
                                    "2": "5020",
                                    "3": "Clinton St & Washington Blvd",
                                    "4": "Subscriber",
                                    "5": "3"
                                },
                                {
                                    "0": "2018",
                                    "1": "7",
                                    "2": "4292",
                                    "3": "Daley Center Plaza",
                                    "4": "Subscriber",
                                    "5": "4"
                                },
                                {
                                    "0": "2018",
                                    "1": "7",
                                    "2": "4140",
                                    "3": "Michigan Ave & Washington St",
                                    "4": "Subscriber",
                                    "5": "5"
                                },
                                {
                                    "0": "2018",
                                    "1": "7",
                                    "2": "4088",
                                    "3": "Franklin St & Monroe St",
                                    "4": "Subscriber",
                                    "5": "6"
                                },
                                {
                                    "0": "2018",
                                    "1": "7",
                                    "2": "3943",
                                    "3": "Kingsbury St & Kinzie St",
                                    "4": "Subscriber",
                                    "5": "7"
                                },
                                {
                                    "0": "2018",
                                    "1": "7",
                                    "2": "3873",
                                    "3": "Theater on the Lake",
                                    "4": "Subscriber",
                                    "5": "8"
                                },
                                {
                                    "0": "2018",
                                    "1": "7",
                                    "2": "3750",
                                    "3": "Orleans St & Merchandise Mart Plaza",
                                    "4": "Subscriber",
                                    "5": "9"
                                },
                                {
                                    "0": "2018",
                                    "1": "7",
                                    "2": "3651",
                                    "3": "Lake Shore Dr & North Blvd",
                                    "4": "Subscriber",
                                    "5": "10"
                                },
                                {
                                    "0": "2018",
                                    "1": "8",
                                    "2": "8426",
                                    "3": "Canal St & Adams St",
                                    "4": "Subscriber",
                                    "5": "1"
                                },
                                {
                                    "0": "2018",
                                    "1": "8",
                                    "2": "7012",
                                    "3": "Clinton St & Madison St",
                                    "4": "Subscriber",
                                    "5": "2"
                                },
                                {
                                    "0": "2018",
                                    "1": "8",
                                    "2": "5622",
                                    "3": "Clinton St & Washington Blvd",
                                    "4": "Subscriber",
                                    "5": "3"
                                },
                                {
                                    "0": "2018",
                                    "1": "8",
                                    "2": "4564",
                                    "3": "Daley Center Plaza",
                                    "4": "Subscriber",
                                    "5": "4"
                                },
                                {
                                    "0": "2018",
                                    "1": "8",
                                    "2": "4412",
                                    "3": "Michigan Ave & Washington St",
                                    "4": "Subscriber",
                                    "5": "5"
                                },
                                {
                                    "0": "2018",
                                    "1": "8",
                                    "2": "4406",
                                    "3": "Canal St & Madison St",
                                    "4": "Subscriber",
                                    "5": "6"
                                },
                                {
                                    "0": "2018",
                                    "1": "8",
                                    "2": "4278",
                                    "3": "Kingsbury St & Kinzie St",
                                    "4": "Subscriber",
                                    "5": "7"
                                },
                                {
                                    "0": "2018",
                                    "1": "8",
                                    "2": "4262",
                                    "3": "Franklin St & Monroe St",
                                    "4": "Subscriber",
                                    "5": "8"
                                },
                                {
                                    "0": "2018",
                                    "1": "8",
                                    "2": "3920",
                                    "3": "Orleans St & Merchandise Mart Plaza",
                                    "4": "Subscriber",
                                    "5": "9"
                                },
                                {
                                    "0": "2018",
                                    "1": "8",
                                    "2": "3735",
                                    "3": "Columbus Dr & Randolph St",
                                    "4": "Subscriber",
                                    "5": "10"
                                },
                                {
                                    "0": "2018",
                                    "1": "9",
                                    "2": "6798",
                                    "3": "Canal St & Adams St",
                                    "4": "Subscriber",
                                    "5": "1"
                                },
                                {
                                    "0": "2018",
                                    "1": "9",
                                    "2": "5601",
                                    "3": "Clinton St & Madison St",
                                    "4": "Subscriber",
                                    "5": "2"
                                },
                                {
                                    "0": "2018",
                                    "1": "9",
                                    "2": "5013",
                                    "3": "Clinton St & Washington Blvd",
                                    "4": "Subscriber",
                                    "5": "3"
                                },
                                {
                                    "0": "2018",
                                    "1": "9",
                                    "2": "3829",
                                    "3": "Daley Center Plaza",
                                    "4": "Subscriber",
                                    "5": "4"
                                },
                                {
                                    "0": "2018",
                                    "1": "9",
                                    "2": "3661",
                                    "3": "Canal St & Madison St",
                                    "4": "Subscriber",
                                    "5": "5"
                                },
                                {
                                    "0": "2018",
                                    "1": "9",
                                    "2": "3512",
                                    "3": "Kingsbury St & Kinzie St",
                                    "4": "Subscriber",
                                    "5": "6"
                                },
                                {
                                    "0": "2018",
                                    "1": "9",
                                    "2": "3491",
                                    "3": "Michigan Ave & Washington St",
                                    "4": "Subscriber",
                                    "5": "7"
                                },
                                {
                                    "0": "2018",
                                    "1": "9",
                                    "2": "3318",
                                    "3": "Franklin St & Monroe St",
                                    "4": "Subscriber",
                                    "5": "8"
                                },
                                {
                                    "0": "2018",
                                    "1": "9",
                                    "2": "3172",
                                    "3": "Columbus Dr & Randolph St",
                                    "4": "Subscriber",
                                    "5": "9"
                                },
                                {
                                    "0": "2018",
                                    "1": "9",
                                    "2": "3156",
                                    "3": "Orleans St & Merchandise Mart Plaza",
                                    "4": "Subscriber",
                                    "5": "10"
                                },
                                {
                                    "0": "2018",
                                    "1": "10",
                                    "2": "6101",
                                    "3": "Canal St & Adams St",
                                    "4": "Subscriber",
                                    "5": "1"
                                },
                                {
                                    "0": "2018",
                                    "1": "10",
                                    "2": "5377",
                                    "3": "Clinton St & Madison St",
                                    "4": "Subscriber",
                                    "5": "2"
                                },
                                {
                                    "0": "2018",
                                    "1": "10",
                                    "2": "5047",
                                    "3": "Clinton St & Washington Blvd",
                                    "4": "Subscriber",
                                    "5": "3"
                                },
                                {
                                    "0": "2018",
                                    "1": "10",
                                    "2": "3645",
                                    "3": "Daley Center Plaza",
                                    "4": "Subscriber",
                                    "5": "4"
                                },
                                {
                                    "0": "2018",
                                    "1": "10",
                                    "2": "3515",
                                    "3": "Canal St & Madison St",
                                    "4": "Subscriber",
                                    "5": "5"
                                },
                                {
                                    "0": "2018",
                                    "1": "10",
                                    "2": "3406",
                                    "3": "Franklin St & Monroe St",
                                    "4": "Subscriber",
                                    "5": "6"
                                },
                                {
                                    "0": "2018",
                                    "1": "10",
                                    "2": "3332",
                                    "3": "Michigan Ave & Washington St",
                                    "4": "Subscriber",
                                    "5": "7"
                                },
                                {
                                    "0": "2018",
                                    "1": "10",
                                    "2": "3270",
                                    "3": "Kingsbury St & Kinzie St",
                                    "4": "Subscriber",
                                    "5": "8"
                                },
                                {
                                    "0": "2018",
                                    "1": "10",
                                    "2": "3109",
                                    "3": "Orleans St & Merchandise Mart Plaza",
                                    "4": "Subscriber",
                                    "5": "9"
                                },
                                {
                                    "0": "2018",
                                    "1": "10",
                                    "2": "3046",
                                    "3": "Columbus Dr & Randolph St",
                                    "4": "Subscriber",
                                    "5": "10"
                                },
                                {
                                    "0": "2018",
                                    "1": "11",
                                    "2": "3433",
                                    "3": "Clinton St & Madison St",
                                    "4": "Subscriber",
                                    "5": "1"
                                },
                                {
                                    "0": "2018",
                                    "1": "11",
                                    "2": "3197",
                                    "3": "Canal St & Adams St",
                                    "4": "Subscriber",
                                    "5": "2"
                                },
                                {
                                    "0": "2018",
                                    "1": "11",
                                    "2": "2472",
                                    "3": "Clinton St & Washington Blvd",
                                    "4": "Subscriber",
                                    "5": "3"
                                },
                                {
                                    "0": "2018",
                                    "1": "11",
                                    "2": "1866",
                                    "3": "Canal St & Madison St",
                                    "4": "Subscriber",
                                    "5": "4"
                                },
                                {
                                    "0": "2018",
                                    "1": "11",
                                    "2": "1865",
                                    "3": "Kingsbury St & Kinzie St",
                                    "4": "Subscriber",
                                    "5": "5"
                                },
                                {
                                    "0": "2018",
                                    "1": "11",
                                    "2": "1794",
                                    "3": "Columbus Dr & Randolph St",
                                    "4": "Subscriber",
                                    "5": "6"
                                },
                                {
                                    "0": "2018",
                                    "1": "11",
                                    "2": "1722",
                                    "3": "Franklin St & Monroe St",
                                    "4": "Subscriber",
                                    "5": "7"
                                },
                                {
                                    "0": "2018",
                                    "1": "11",
                                    "2": "1668",
                                    "3": "Michigan Ave & Washington St",
                                    "4": "Subscriber",
                                    "5": "8"
                                },
                                {
                                    "0": "2018",
                                    "1": "11",
                                    "2": "1526",
                                    "3": "Daley Center Plaza",
                                    "4": "Subscriber",
                                    "5": "9"
                                },
                                {
                                    "0": "2018",
                                    "1": "11",
                                    "2": "1448",
                                    "3": "Clinton St & Lake St",
                                    "4": "Subscriber",
                                    "5": "10"
                                },
                                {
                                    "0": "2018",
                                    "1": "12",
                                    "2": "2546",
                                    "3": "Clinton St & Washington Blvd",
                                    "4": "Subscriber",
                                    "5": "1"
                                },
                                {
                                    "0": "2018",
                                    "1": "12",
                                    "2": "2050",
                                    "3": "Clinton St & Madison St",
                                    "4": "Subscriber",
                                    "5": "2"
                                },
                                {
                                    "0": "2018",
                                    "1": "12",
                                    "2": "1961",
                                    "3": "Canal St & Adams St",
                                    "4": "Subscriber",
                                    "5": "3"
                                },
                                {
                                    "0": "2018",
                                    "1": "12",
                                    "2": "1482",
                                    "3": "Canal St & Madison St",
                                    "4": "Subscriber",
                                    "5": "4"
                                },
                                {
                                    "0": "2018",
                                    "1": "12",
                                    "2": "1469",
                                    "3": "Kingsbury St & Kinzie St",
                                    "4": "Subscriber",
                                    "5": "5"
                                },
                                {
                                    "0": "2018",
                                    "1": "12",
                                    "2": "1384",
                                    "3": "Columbus Dr & Randolph St",
                                    "4": "Subscriber",
                                    "5": "6"
                                },
                                {
                                    "0": "2018",
                                    "1": "12",
                                    "2": "1172",
                                    "3": "Larrabee St & Kingsbury St",
                                    "4": "Subscriber",
                                    "5": "7"
                                },
                                {
                                    "0": "2018",
                                    "1": "12",
                                    "2": "1168",
                                    "3": "Michigan Ave & Washington St",
                                    "4": "Subscriber",
                                    "5": "8"
                                },
                                {
                                    "0": "2018",
                                    "1": "12",
                                    "2": "1098",
                                    "3": "Franklin St & Monroe St",
                                    "4": "Subscriber",
                                    "5": "9"
                                },
                                {
                                    "0": "2018",
                                    "1": "12",
                                    "2": "1088",
                                    "3": "Dearborn St & Monroe St",
                                    "4": "Subscriber",
                                    "5": "10"
                                },
                                {
                                    "0": "2019",
                                    "1": "1",
                                    "2": "2309",
                                    "3": "Clinton St & Washington Blvd",
                                    "4": "Subscriber",
                                    "5": "1"
                                },
                                {
                                    "0": "2019",
                                    "1": "1",
                                    "2": "1944",
                                    "3": "Clinton St & Madison St",
                                    "4": "Subscriber",
                                    "5": "2"
                                },
                                {
                                    "0": "2019",
                                    "1": "1",
                                    "2": "1899",
                                    "3": "Canal St & Adams St",
                                    "4": "Subscriber",
                                    "5": "3"
                                },
                                {
                                    "0": "2019",
                                    "1": "1",
                                    "2": "1350",
                                    "3": "Canal St & Madison St",
                                    "4": "Subscriber",
                                    "5": "4"
                                },
                                {
                                    "0": "2019",
                                    "1": "1",
                                    "2": "1295",
                                    "3": "Columbus Dr & Randolph St",
                                    "4": "Subscriber",
                                    "5": "5"
                                },
                                {
                                    "0": "2019",
                                    "1": "1",
                                    "2": "1290",
                                    "3": "Kingsbury St & Kinzie St",
                                    "4": "Subscriber",
                                    "5": "6"
                                },
                                {
                                    "0": "2019",
                                    "1": "1",
                                    "2": "1154",
                                    "3": "Michigan Ave & Washington St",
                                    "4": "Subscriber",
                                    "5": "7"
                                },
                                {
                                    "0": "2019",
                                    "1": "1",
                                    "2": "992",
                                    "3": "Franklin St & Monroe St",
                                    "4": "Subscriber",
                                    "5": "8"
                                },
                                {
                                    "0": "2019",
                                    "1": "1",
                                    "2": "950",
                                    "3": "Larrabee St & Kingsbury St",
                                    "4": "Subscriber",
                                    "5": "9"
                                },
                                {
                                    "0": "2019",
                                    "1": "1",
                                    "2": "939",
                                    "3": "Dearborn St & Monroe St",
                                    "4": "Subscriber",
                                    "5": "10"
                                },
                                {
                                    "0": "2019",
                                    "1": "2",
                                    "2": "2160",
                                    "3": "Clinton St & Washington Blvd",
                                    "4": "Subscriber",
                                    "5": "1"
                                },
                                {
                                    "0": "2019",
                                    "1": "2",
                                    "2": "1902",
                                    "3": "Clinton St & Madison St",
                                    "4": "Subscriber",
                                    "5": "2"
                                },
                                {
                                    "0": "2019",
                                    "1": "2",
                                    "2": "1760",
                                    "3": "Canal St & Adams St",
                                    "4": "Subscriber",
                                    "5": "3"
                                },
                                {
                                    "0": "2019",
                                    "1": "2",
                                    "2": "1227",
                                    "3": "Canal St & Madison St",
                                    "4": "Subscriber",
                                    "5": "4"
                                },
                                {
                                    "0": "2019",
                                    "1": "2",
                                    "2": "1222",
                                    "3": "Columbus Dr & Randolph St",
                                    "4": "Subscriber",
                                    "5": "5"
                                },
                                {
                                    "0": "2019",
                                    "1": "2",
                                    "2": "1187",
                                    "3": "Kingsbury St & Kinzie St",
                                    "4": "Subscriber",
                                    "5": "6"
                                },
                                {
                                    "0": "2019",
                                    "1": "2",
                                    "2": "1071",
                                    "3": "Franklin St & Monroe St",
                                    "4": "Subscriber",
                                    "5": "7"
                                },
                                {
                                    "0": "2019",
                                    "1": "2",
                                    "2": "1062",
                                    "3": "Michigan Ave & Washington St",
                                    "4": "Subscriber",
                                    "5": "8"
                                },
                                {
                                    "0": "2019",
                                    "1": "2",
                                    "2": "946",
                                    "3": "LaSalle St & Jackson Blvd",
                                    "4": "Subscriber",
                                    "5": "9"
                                },
                                {
                                    "0": "2019",
                                    "1": "2",
                                    "2": "931",
                                    "3": "Dearborn St & Monroe St",
                                    "4": "Subscriber",
                                    "5": "10"
                                },
                                {
                                    "0": "2019",
                                    "1": "2",
                                    "2": "931",
                                    "3": "Clinton St & Lake St",
                                    "4": "Subscriber",
                                    "5": "10"
                                },
                                {
                                    "0": "2019",
                                    "1": "3",
                                    "2": "3142",
                                    "3": "Clinton St & Washington Blvd",
                                    "4": "Subscriber",
                                    "5": "1"
                                },
                                {
                                    "0": "2019",
                                    "1": "3",
                                    "2": "2552",
                                    "3": "Canal St & Adams St",
                                    "4": "Subscriber",
                                    "5": "2"
                                },
                                {
                                    "0": "2019",
                                    "1": "3",
                                    "2": "2498",
                                    "3": "Clinton St & Madison St",
                                    "4": "Subscriber",
                                    "5": "3"
                                },
                                {
                                    "0": "2019",
                                    "1": "3",
                                    "2": "1899",
                                    "3": "Columbus Dr & Randolph St",
                                    "4": "Subscriber",
                                    "5": "4"
                                },
                                {
                                    "0": "2019",
                                    "1": "3",
                                    "2": "1884",
                                    "3": "Canal St & Madison St",
                                    "4": "Subscriber",
                                    "5": "5"
                                },
                                {
                                    "0": "2019",
                                    "1": "3",
                                    "2": "1751",
                                    "3": "Kingsbury St & Kinzie St",
                                    "4": "Subscriber",
                                    "5": "6"
                                },
                                {
                                    "0": "2019",
                                    "1": "3",
                                    "2": "1430",
                                    "3": "Michigan Ave & Washington St",
                                    "4": "Subscriber",
                                    "5": "7"
                                },
                                {
                                    "0": "2019",
                                    "1": "3",
                                    "2": "1365",
                                    "3": "Franklin St & Monroe St",
                                    "4": "Subscriber",
                                    "5": "8"
                                },
                                {
                                    "0": "2019",
                                    "1": "3",
                                    "2": "1327",
                                    "3": "LaSalle St & Jackson Blvd",
                                    "4": "Subscriber",
                                    "5": "9"
                                },
                                {
                                    "0": "2019",
                                    "1": "3",
                                    "2": "1284",
                                    "3": "Larrabee St & Kingsbury St",
                                    "4": "Subscriber",
                                    "5": "10"
                                },
                                {
                                    "0": "2019",
                                    "1": "4",
                                    "2": "3978",
                                    "3": "Clinton St & Washington Blvd",
                                    "4": "Subscriber",
                                    "5": "1"
                                },
                                {
                                    "0": "2019",
                                    "1": "4",
                                    "2": "3796",
                                    "3": "Canal St & Adams St",
                                    "4": "Subscriber",
                                    "5": "2"
                                },
                                {
                                    "0": "2019",
                                    "1": "4",
                                    "2": "3594",
                                    "3": "Clinton St & Madison St",
                                    "4": "Subscriber",
                                    "5": "3"
                                },
                                {
                                    "0": "2019",
                                    "1": "4",
                                    "2": "2758",
                                    "3": "Columbus Dr & Randolph St",
                                    "4": "Subscriber",
                                    "5": "4"
                                },
                                {
                                    "0": "2019",
                                    "1": "4",
                                    "2": "2590",
                                    "3": "Canal St & Madison St",
                                    "4": "Subscriber",
                                    "5": "5"
                                },
                                {
                                    "0": "2019",
                                    "1": "4",
                                    "2": "2518",
                                    "3": "Franklin St & Monroe St",
                                    "4": "Subscriber",
                                    "5": "6"
                                },
                                {
                                    "0": "2019",
                                    "1": "4",
                                    "2": "2359",
                                    "3": "Daley Center Plaza",
                                    "4": "Subscriber",
                                    "5": "7"
                                },
                                {
                                    "0": "2019",
                                    "1": "4",
                                    "2": "2292",
                                    "3": "Kingsbury St & Kinzie St",
                                    "4": "Subscriber",
                                    "5": "8"
                                },
                                {
                                    "0": "2019",
                                    "1": "4",
                                    "2": "1849",
                                    "3": "Orleans St & Merchandise Mart Plaza",
                                    "4": "Subscriber",
                                    "5": "9"
                                },
                                {
                                    "0": "2019",
                                    "1": "4",
                                    "2": "1720",
                                    "3": "Clinton St & Lake St",
                                    "4": "Subscriber",
                                    "5": "10"
                                },
                                {
                                    "0": "2019",
                                    "1": "5",
                                    "2": "4701",
                                    "3": "Canal St & Adams St",
                                    "4": "Subscriber",
                                    "5": "1"
                                },
                                {
                                    "0": "2019",
                                    "1": "5",
                                    "2": "4413",
                                    "3": "Clinton St & Washington Blvd",
                                    "4": "Subscriber",
                                    "5": "2"
                                },
                                {
                                    "0": "2019",
                                    "1": "5",
                                    "2": "4313",
                                    "3": "Clinton St & Madison St",
                                    "4": "Subscriber",
                                    "5": "3"
                                },
                                {
                                    "0": "2019",
                                    "1": "5",
                                    "2": "3342",
                                    "3": "Columbus Dr & Randolph St",
                                    "4": "Subscriber",
                                    "5": "4"
                                },
                                {
                                    "0": "2019",
                                    "1": "5",
                                    "2": "3098",
                                    "3": "Franklin St & Monroe St",
                                    "4": "Subscriber",
                                    "5": "5"
                                },
                                {
                                    "0": "2019",
                                    "1": "5",
                                    "2": "2986",
                                    "3": "Daley Center Plaza",
                                    "4": "Subscriber",
                                    "5": "6"
                                },
                                {
                                    "0": "2019",
                                    "1": "5",
                                    "2": "2939",
                                    "3": "Canal St & Madison St",
                                    "4": "Subscriber",
                                    "5": "7"
                                },
                                {
                                    "0": "2019",
                                    "1": "5",
                                    "2": "2720",
                                    "3": "Kingsbury St & Kinzie St",
                                    "4": "Subscriber",
                                    "5": "8"
                                },
                                {
                                    "0": "2019",
                                    "1": "5",
                                    "2": "2199",
                                    "3": "Orleans St & Merchandise Mart Plaza",
                                    "4": "Subscriber",
                                    "5": "9"
                                },
                                {
                                    "0": "2019",
                                    "1": "5",
                                    "2": "2118",
                                    "3": "Michigan Ave & Washington St",
                                    "4": "Subscriber",
                                    "5": "10"
                                },
                                {
                                    "0": "2019",
                                    "1": "6",
                                    "2": "5436",
                                    "3": "Canal St & Adams St",
                                    "4": "Subscriber",
                                    "5": "1"
                                },
                                {
                                    "0": "2019",
                                    "1": "6",
                                    "2": "4860",
                                    "3": "Clinton St & Madison St",
                                    "4": "Subscriber",
                                    "5": "2"
                                },
                                {
                                    "0": "2019",
                                    "1": "6",
                                    "2": "4588",
                                    "3": "Clinton St & Washington Blvd",
                                    "4": "Subscriber",
                                    "5": "3"
                                },
                                {
                                    "0": "2019",
                                    "1": "6",
                                    "2": "3701",
                                    "3": "Daley Center Plaza",
                                    "4": "Subscriber",
                                    "5": "4"
                                },
                                {
                                    "0": "2019",
                                    "1": "6",
                                    "2": "3596",
                                    "3": "Franklin St & Monroe St",
                                    "4": "Subscriber",
                                    "5": "5"
                                },
                                {
                                    "0": "2019",
                                    "1": "6",
                                    "2": "3438",
                                    "3": "Columbus Dr & Randolph St",
                                    "4": "Subscriber",
                                    "5": "6"
                                },
                                {
                                    "0": "2019",
                                    "1": "6",
                                    "2": "3352",
                                    "3": "Kingsbury St & Kinzie St",
                                    "4": "Subscriber",
                                    "5": "7"
                                },
                                {
                                    "0": "2019",
                                    "1": "6",
                                    "2": "2968",
                                    "3": "Canal St & Madison St",
                                    "4": "Subscriber",
                                    "5": "8"
                                },
                                {
                                    "0": "2019",
                                    "1": "6",
                                    "2": "2963",
                                    "3": "Michigan Ave & Washington St",
                                    "4": "Subscriber",
                                    "5": "9"
                                },
                                {
                                    "0": "2019",
                                    "1": "6",
                                    "2": "2769",
                                    "3": "Theater on the Lake",
                                    "4": "Subscriber",
                                    "5": "10"
                                },
                                {
                                    "0": "2019",
                                    "1": "7",
                                    "2": "5891",
                                    "3": "Canal St & Adams St",
                                    "4": "Subscriber",
                                    "5": "1"
                                },
                                {
                                    "0": "2019",
                                    "1": "7",
                                    "2": "5429",
                                    "3": "Clinton St & Madison St",
                                    "4": "Subscriber",
                                    "5": "2"
                                },
                                {
                                    "0": "2019",
                                    "1": "7",
                                    "2": "4976",
                                    "3": "Clinton St & Washington Blvd",
                                    "4": "Subscriber",
                                    "5": "3"
                                },
                                {
                                    "0": "2019",
                                    "1": "7",
                                    "2": "4162",
                                    "3": "Daley Center Plaza",
                                    "4": "Subscriber",
                                    "5": "4"
                                },
                                {
                                    "0": "2019",
                                    "1": "7",
                                    "2": "3826",
                                    "3": "Lake Shore Dr & North Blvd",
                                    "4": "Subscriber",
                                    "5": "5"
                                },
                                {
                                    "0": "2019",
                                    "1": "7",
                                    "2": "3709",
                                    "3": "Kingsbury St & Kinzie St",
                                    "4": "Subscriber",
                                    "5": "6"
                                },
                                {
                                    "0": "2019",
                                    "1": "7",
                                    "2": "3650",
                                    "3": "Franklin St & Monroe St",
                                    "4": "Subscriber",
                                    "5": "7"
                                },
                                {
                                    "0": "2019",
                                    "1": "7",
                                    "2": "3633",
                                    "3": "Theater on the Lake",
                                    "4": "Subscriber",
                                    "5": "8"
                                },
                                {
                                    "0": "2019",
                                    "1": "7",
                                    "2": "3607",
                                    "3": "Michigan Ave & Washington St",
                                    "4": "Subscriber",
                                    "5": "9"
                                },
                                {
                                    "0": "2019",
                                    "1": "7",
                                    "2": "3369",
                                    "3": "Columbus Dr & Randolph St",
                                    "4": "Subscriber",
                                    "5": "10"
                                },
                                {
                                    "0": "2019",
                                    "1": "8",
                                    "2": "6240",
                                    "3": "Canal St & Adams St",
                                    "4": "Subscriber",
                                    "5": "1"
                                },
                                {
                                    "0": "2019",
                                    "1": "8",
                                    "2": "6054",
                                    "3": "Clinton St & Madison St",
                                    "4": "Subscriber",
                                    "5": "2"
                                },
                                {
                                    "0": "2019",
                                    "1": "8",
                                    "2": "5349",
                                    "3": "Clinton St & Washington Blvd",
                                    "4": "Subscriber",
                                    "5": "3"
                                },
                                {
                                    "0": "2019",
                                    "1": "8",
                                    "2": "4479",
                                    "3": "Daley Center Plaza",
                                    "4": "Subscriber",
                                    "5": "4"
                                },
                                {
                                    "0": "2019",
                                    "1": "8",
                                    "2": "4295",
                                    "3": "Franklin St & Monroe St",
                                    "4": "Subscriber",
                                    "5": "5"
                                },
                                {
                                    "0": "2019",
                                    "1": "8",
                                    "2": "3917",
                                    "3": "Kingsbury St & Kinzie St",
                                    "4": "Subscriber",
                                    "5": "6"
                                },
                                {
                                    "0": "2019",
                                    "1": "8",
                                    "2": "3867",
                                    "3": "Columbus Dr & Randolph St",
                                    "4": "Subscriber",
                                    "5": "7"
                                },
                                {
                                    "0": "2019",
                                    "1": "8",
                                    "2": "3390",
                                    "3": "Michigan Ave & Washington St",
                                    "4": "Subscriber",
                                    "5": "8"
                                },
                                {
                                    "0": "2019",
                                    "1": "8",
                                    "2": "3356",
                                    "3": "Theater on the Lake",
                                    "4": "Subscriber",
                                    "5": "9"
                                },
                                {
                                    "0": "2019",
                                    "1": "8",
                                    "2": "3313",
                                    "3": "Lake Shore Dr & North Blvd",
                                    "4": "Subscriber",
                                    "5": "10"
                                },
                                {
                                    "0": "2019",
                                    "1": "9",
                                    "2": "5998",
                                    "3": "Canal St & Adams St",
                                    "4": "Subscriber",
                                    "5": "1"
                                },
                                {
                                    "0": "2019",
                                    "1": "9",
                                    "2": "5495",
                                    "3": "Clinton St & Madison St",
                                    "4": "Subscriber",
                                    "5": "2"
                                },
                                {
                                    "0": "2019",
                                    "1": "9",
                                    "2": "5044",
                                    "3": "Clinton St & Washington Blvd",
                                    "4": "Subscriber",
                                    "5": "3"
                                },
                                {
                                    "0": "2019",
                                    "1": "9",
                                    "2": "4138",
                                    "3": "Daley Center Plaza",
                                    "4": "Subscriber",
                                    "5": "4"
                                },
                                {
                                    "0": "2019",
                                    "1": "9",
                                    "2": "3844",
                                    "3": "Franklin St & Monroe St",
                                    "4": "Subscriber",
                                    "5": "5"
                                },
                                {
                                    "0": "2019",
                                    "1": "9",
                                    "2": "3563",
                                    "3": "Kingsbury St & Kinzie St",
                                    "4": "Subscriber",
                                    "5": "6"
                                },
                                {
                                    "0": "2019",
                                    "1": "9",
                                    "2": "3413",
                                    "3": "Columbus Dr & Randolph St",
                                    "4": "Subscriber",
                                    "5": "7"
                                },
                                {
                                    "0": "2019",
                                    "1": "9",
                                    "2": "3181",
                                    "3": "Michigan Ave & Washington St",
                                    "4": "Subscriber",
                                    "5": "8"
                                },
                                {
                                    "0": "2019",
                                    "1": "9",
                                    "2": "3006",
                                    "3": "Canal St & Madison St",
                                    "4": "Subscriber",
                                    "5": "9"
                                },
                                {
                                    "0": "2019",
                                    "1": "9",
                                    "2": "2838",
                                    "3": "LaSalle St & Jackson Blvd",
                                    "4": "Subscriber",
                                    "5": "10"
                                },
                                {
                                    "0": "2019",
                                    "1": "10",
                                    "2": "6161",
                                    "3": "Canal St & Adams St",
                                    "4": "Subscriber",
                                    "5": "1"
                                },
                                {
                                    "0": "2019",
                                    "1": "10",
                                    "2": "4935",
                                    "3": "Clinton St & Madison St",
                                    "4": "Subscriber",
                                    "5": "2"
                                },
                                {
                                    "0": "2019",
                                    "1": "10",
                                    "2": "4633",
                                    "3": "Clinton St & Washington Blvd",
                                    "4": "Subscriber",
                                    "5": "3"
                                },
                                {
                                    "0": "2019",
                                    "1": "10",
                                    "2": "3435",
                                    "3": "Franklin St & Monroe St",
                                    "4": "Subscriber",
                                    "5": "4"
                                },
                                {
                                    "0": "2019",
                                    "1": "10",
                                    "2": "3312",
                                    "3": "Columbus Dr & Randolph St",
                                    "4": "Subscriber",
                                    "5": "5"
                                },
                                {
                                    "0": "2019",
                                    "1": "10",
                                    "2": "3177",
                                    "3": "Kingsbury St & Kinzie St",
                                    "4": "Subscriber",
                                    "5": "6"
                                },
                                {
                                    "0": "2019",
                                    "1": "10",
                                    "2": "3110",
                                    "3": "Daley Center Plaza",
                                    "4": "Subscriber",
                                    "5": "7"
                                },
                                {
                                    "0": "2019",
                                    "1": "10",
                                    "2": "2704",
                                    "3": "Michigan Ave & Washington St",
                                    "4": "Subscriber",
                                    "5": "8"
                                },
                                {
                                    "0": "2019",
                                    "1": "10",
                                    "2": "2583",
                                    "3": "LaSalle St & Jackson Blvd",
                                    "4": "Subscriber",
                                    "5": "9"
                                },
                                {
                                    "0": "2019",
                                    "1": "10",
                                    "2": "2560",
                                    "3": "Canal St & Madison St",
                                    "4": "Subscriber",
                                    "5": "10"
                                },
                                {
                                    "0": "2019",
                                    "1": "11",
                                    "2": "3311",
                                    "3": "Canal St & Adams St",
                                    "4": "Subscriber",
                                    "5": "1"
                                },
                                {
                                    "0": "2019",
                                    "1": "11",
                                    "2": "2603",
                                    "3": "Clinton St & Madison St",
                                    "4": "Subscriber",
                                    "5": "2"
                                },
                                {
                                    "0": "2019",
                                    "1": "11",
                                    "2": "2599",
                                    "3": "Clinton St & Washington Blvd",
                                    "4": "Subscriber",
                                    "5": "3"
                                },
                                {
                                    "0": "2019",
                                    "1": "11",
                                    "2": "1890",
                                    "3": "Kingsbury St & Kinzie St",
                                    "4": "Subscriber",
                                    "5": "4"
                                },
                                {
                                    "0": "2019",
                                    "1": "11",
                                    "2": "1835",
                                    "3": "Columbus Dr & Randolph St",
                                    "4": "Subscriber",
                                    "5": "5"
                                },
                                {
                                    "0": "2019",
                                    "1": "11",
                                    "2": "1609",
                                    "3": "Franklin St & Monroe St",
                                    "4": "Subscriber",
                                    "5": "6"
                                },
                                {
                                    "0": "2019",
                                    "1": "11",
                                    "2": "1468",
                                    "3": "Larrabee St & Kingsbury St",
                                    "4": "Subscriber",
                                    "5": "7"
                                },
                                {
                                    "0": "2019",
                                    "1": "11",
                                    "2": "1423",
                                    "3": "Clinton St & Lake St",
                                    "4": "Subscriber",
                                    "5": "8"
                                },
                                {
                                    "0": "2019",
                                    "1": "11",
                                    "2": "1376",
                                    "3": "LaSalle St & Jackson Blvd",
                                    "4": "Subscriber",
                                    "5": "9"
                                },
                                {
                                    "0": "2019",
                                    "1": "11",
                                    "2": "1361",
                                    "3": "Daley Center Plaza",
                                    "4": "Subscriber",
                                    "5": "10"
                                },
                                {
                                    "0": "2019",
                                    "1": "12",
                                    "2": "2824",
                                    "3": "Canal St & Adams St",
                                    "4": "Subscriber",
                                    "5": "1"
                                },
                                {
                                    "0": "2019",
                                    "1": "12",
                                    "2": "2359",
                                    "3": "Clinton St & Madison St",
                                    "4": "Subscriber",
                                    "5": "2"
                                },
                                {
                                    "0": "2019",
                                    "1": "12",
                                    "2": "2184",
                                    "3": "Clinton St & Washington Blvd",
                                    "4": "Subscriber",
                                    "5": "3"
                                },
                                {
                                    "0": "2019",
                                    "1": "12",
                                    "2": "1802",
                                    "3": "Kingsbury St & Kinzie St",
                                    "4": "Subscriber",
                                    "5": "4"
                                },
                                {
                                    "0": "2019",
                                    "1": "12",
                                    "2": "1619",
                                    "3": "Columbus Dr & Randolph St",
                                    "4": "Subscriber",
                                    "5": "5"
                                },
                                {
                                    "0": "2019",
                                    "1": "12",
                                    "2": "1355",
                                    "3": "Franklin St & Monroe St",
                                    "4": "Subscriber",
                                    "5": "6"
                                },
                                {
                                    "0": "2019",
                                    "1": "12",
                                    "2": "1251",
                                    "3": "LaSalle St & Jackson Blvd",
                                    "4": "Subscriber",
                                    "5": "7"
                                },
                                {
                                    "0": "2019",
                                    "1": "12",
                                    "2": "1241",
                                    "3": "Larrabee St & Kingsbury St",
                                    "4": "Subscriber",
                                    "5": "8"
                                },
                                {
                                    "0": "2019",
                                    "1": "12",
                                    "2": "1220",
                                    "3": "Daley Center Plaza",
                                    "4": "Subscriber",
                                    "5": "9"
                                },
                                {
                                    "0": "2019",
                                    "1": "12",
                                    "2": "1212",
                                    "3": "Clinton St & Lake St",
                                    "4": "Subscriber",
                                    "5": "10"
                                }
                            ]
                        },
                        "text/html": [
                            "<table>",
                            "<tr><th>trip_year</th><th>trip_month</th><th>trips_made</th><th>from_station_name</th><th>usertype</th><th>rn</th></tr>",
                            "<tr><td>2013</td><td>6</td><td>32</td><td>Daley Center Plaza</td><td>Subscriber</td><td>1</td></tr>",
                            "<tr><td>2013</td><td>6</td><td>30</td><td>Clark St &amp; Randolph St</td><td>Subscriber</td><td>2</td></tr>",
                            "<tr><td>2013</td><td>6</td><td>30</td><td>Canal St &amp; Jackson Blvd</td><td>Subscriber</td><td>2</td></tr>",
                            "<tr><td>2013</td><td>6</td><td>27</td><td>Clinton St &amp; Washington Blvd</td><td>Subscriber</td><td>3</td></tr>",
                            "<tr><td>2013</td><td>6</td><td>26</td><td>Franklin St &amp; Jackson Blvd</td><td>Subscriber</td><td>4</td></tr>",
                            "<tr><td>2013</td><td>6</td><td>25</td><td>Wabash Ave &amp; Roosevelt Rd</td><td>Subscriber</td><td>5</td></tr>",
                            "<tr><td>2013</td><td>6</td><td>24</td><td>Michigan Ave &amp; Pearson St</td><td>Subscriber</td><td>6</td></tr>",
                            "<tr><td>2013</td><td>6</td><td>21</td><td>McClurg Ct &amp; Illinois St</td><td>Subscriber</td><td>7</td></tr>",
                            "<tr><td>2013</td><td>6</td><td>21</td><td>Dayton St &amp; North Ave</td><td>Subscriber</td><td>7</td></tr>",
                            "<tr><td>2013</td><td>6</td><td>20</td><td>Franklin St &amp; Chicago Ave</td><td>Subscriber</td><td>8</td></tr>",
                            "<tr><td>2013</td><td>6</td><td>20</td><td>Clinton St &amp; Lake St</td><td>Subscriber</td><td>8</td></tr>",
                            "<tr><td>2013</td><td>6</td><td>19</td><td>Lake Shore Dr &amp; Monroe St</td><td>Subscriber</td><td>9</td></tr>",
                            "<tr><td>2013</td><td>6</td><td>18</td><td>Cannon Dr &amp; Fullerton Ave</td><td>Subscriber</td><td>10</td></tr>",
                            "<tr><td>2013</td><td>6</td><td>18</td><td>Michigan Ave &amp; Lake St</td><td>Subscriber</td><td>10</td></tr>",
                            "<tr><td>2013</td><td>6</td><td>18</td><td>Desplaines St &amp; Kinzie St</td><td>Subscriber</td><td>10</td></tr>",
                            "<tr><td>2013</td><td>7</td><td>1027</td><td>Clinton St &amp; Washington Blvd</td><td>Subscriber</td><td>1</td></tr>",
                            "<tr><td>2013</td><td>7</td><td>888</td><td>Canal St &amp; Jackson Blvd</td><td>Subscriber</td><td>2</td></tr>",
                            "<tr><td>2013</td><td>7</td><td>850</td><td>Clinton St &amp; Madison St</td><td>Subscriber</td><td>3</td></tr>",
                            "<tr><td>2013</td><td>7</td><td>727</td><td>Daley Center Plaza</td><td>Subscriber</td><td>4</td></tr>",
                            "<tr><td>2013</td><td>7</td><td>645</td><td>State St &amp; Kinzie St</td><td>Subscriber</td><td>5</td></tr>",
                            "<tr><td>2013</td><td>7</td><td>606</td><td>Clark St &amp; Randolph St</td><td>Subscriber</td><td>6</td></tr>",
                            "<tr><td>2013</td><td>7</td><td>606</td><td>Michigan Ave &amp; Lake St</td><td>Subscriber</td><td>6</td></tr>",
                            "<tr><td>2013</td><td>7</td><td>602</td><td>Franklin St &amp; Jackson Blvd</td><td>Subscriber</td><td>7</td></tr>",
                            "<tr><td>2013</td><td>7</td><td>595</td><td>Dearborn St &amp; Adams St</td><td>Subscriber</td><td>8</td></tr>",
                            "<tr><td>2013</td><td>7</td><td>532</td><td>Clinton St &amp; Lake St</td><td>Subscriber</td><td>9</td></tr>",
                            "<tr><td>2013</td><td>7</td><td>484</td><td>Dearborn St &amp; Monroe St</td><td>Subscriber</td><td>10</td></tr>",
                            "<tr><td>2013</td><td>8</td><td>2088</td><td>Clinton St &amp; Washington Blvd</td><td>Subscriber</td><td>1</td></tr>",
                            "<tr><td>2013</td><td>8</td><td>1652</td><td>Canal St &amp; Jackson Blvd</td><td>Subscriber</td><td>2</td></tr>",
                            "<tr><td>2013</td><td>8</td><td>1380</td><td>Franklin St &amp; Jackson Blvd</td><td>Subscriber</td><td>3</td></tr>",
                            "<tr><td>2013</td><td>8</td><td>1238</td><td>Daley Center Plaza</td><td>Subscriber</td><td>4</td></tr>",
                            "<tr><td>2013</td><td>8</td><td>1235</td><td>Clinton St &amp; Madison St</td><td>Subscriber</td><td>5</td></tr>",
                            "<tr><td>2013</td><td>8</td><td>1034</td><td>Michigan Ave &amp; Lake St</td><td>Subscriber</td><td>6</td></tr>",
                            "<tr><td>2013</td><td>8</td><td>996</td><td>Dearborn St &amp; Adams St</td><td>Subscriber</td><td>7</td></tr>",
                            "<tr><td>2013</td><td>8</td><td>991</td><td>Dearborn St &amp; Monroe St</td><td>Subscriber</td><td>8</td></tr>",
                            "<tr><td>2013</td><td>8</td><td>985</td><td>Clark St &amp; Randolph St</td><td>Subscriber</td><td>9</td></tr>",
                            "<tr><td>2013</td><td>8</td><td>958</td><td>Clinton St &amp; Lake St</td><td>Subscriber</td><td>10</td></tr>",
                            "<tr><td>2013</td><td>9</td><td>2726</td><td>Clinton St &amp; Washington Blvd</td><td>Subscriber</td><td>1</td></tr>",
                            "<tr><td>2013</td><td>9</td><td>1961</td><td>Canal St &amp; Jackson Blvd</td><td>Subscriber</td><td>2</td></tr>",
                            "<tr><td>2013</td><td>9</td><td>1599</td><td>Franklin St &amp; Jackson Blvd</td><td>Subscriber</td><td>3</td></tr>",
                            "<tr><td>2013</td><td>9</td><td>1523</td><td>Canal St &amp; Madison St</td><td>Subscriber</td><td>4</td></tr>",
                            "<tr><td>2013</td><td>9</td><td>1516</td><td>Daley Center Plaza</td><td>Subscriber</td><td>5</td></tr>",
                            "<tr><td>2013</td><td>9</td><td>1384</td><td>Clinton St &amp; Madison St</td><td>Subscriber</td><td>6</td></tr>",
                            "<tr><td>2013</td><td>9</td><td>1247</td><td>Clark St &amp; Randolph St</td><td>Subscriber</td><td>7</td></tr>",
                            "<tr><td>2013</td><td>9</td><td>1227</td><td>Dearborn St &amp; Monroe St</td><td>Subscriber</td><td>8</td></tr>",
                            "<tr><td>2013</td><td>9</td><td>1199</td><td>Canal St &amp; Adams St</td><td>Subscriber</td><td>9</td></tr>",
                            "<tr><td>2013</td><td>9</td><td>1199</td><td>Dearborn St &amp; Adams St</td><td>Subscriber</td><td>9</td></tr>",
                            "<tr><td>2013</td><td>9</td><td>1152</td><td>Clinton St &amp; Lake St</td><td>Subscriber</td><td>10</td></tr>",
                            "<tr><td>2013</td><td>10</td><td>3276</td><td>Clinton St &amp; Washington Blvd</td><td>Subscriber</td><td>1</td></tr>",
                            "<tr><td>2013</td><td>10</td><td>1922</td><td>Canal St &amp; Madison St</td><td>Subscriber</td><td>2</td></tr>",
                            "<tr><td>2013</td><td>10</td><td>1803</td><td>Canal St &amp; Jackson Blvd</td><td>Subscriber</td><td>3</td></tr>",
                            "<tr><td>2013</td><td>10</td><td>1625</td><td>Canal St &amp; Adams St</td><td>Subscriber</td><td>4</td></tr>",
                            "<tr><td>2013</td><td>10</td><td>1495</td><td>Daley Center Plaza</td><td>Subscriber</td><td>5</td></tr>",
                            "<tr><td>2013</td><td>10</td><td>1478</td><td>Clinton St &amp; Madison St</td><td>Subscriber</td><td>6</td></tr>",
                            "<tr><td>2013</td><td>10</td><td>1444</td><td>Dearborn St &amp; Monroe St</td><td>Subscriber</td><td>7</td></tr>",
                            "<tr><td>2013</td><td>10</td><td>1320</td><td>Larrabee St &amp; Kingsbury St</td><td>Subscriber</td><td>8</td></tr>",
                            "<tr><td>2013</td><td>10</td><td>1309</td><td>LaSalle St &amp; Jackson Blvd</td><td>Subscriber</td><td>9</td></tr>",
                            "<tr><td>2013</td><td>10</td><td>1300</td><td>Franklin St &amp; Arcade Pl</td><td>Subscriber</td><td>10</td></tr>",
                            "<tr><td>2013</td><td>11</td><td>2438</td><td>Clinton St &amp; Washington Blvd</td><td>Subscriber</td><td>1</td></tr>",
                            "<tr><td>2013</td><td>11</td><td>1359</td><td>Canal St &amp; Madison St</td><td>Subscriber</td><td>2</td></tr>",
                            "<tr><td>2013</td><td>11</td><td>1165</td><td>Canal St &amp; Adams St</td><td>Subscriber</td><td>3</td></tr>",
                            "<tr><td>2013</td><td>11</td><td>1140</td><td>Canal St &amp; Jackson Blvd</td><td>Subscriber</td><td>4</td></tr>",
                            "<tr><td>2013</td><td>11</td><td>1117</td><td>Dearborn St &amp; Monroe St</td><td>Subscriber</td><td>5</td></tr>",
                            "<tr><td>2013</td><td>11</td><td>1002</td><td>LaSalle St &amp; Jackson Blvd</td><td>Subscriber</td><td>6</td></tr>",
                            "<tr><td>2013</td><td>11</td><td>972</td><td>Clinton St &amp; Madison St</td><td>Subscriber</td><td>7</td></tr>",
                            "<tr><td>2013</td><td>11</td><td>938</td><td>Franklin St &amp; Arcade Pl</td><td>Subscriber</td><td>8</td></tr>",
                            "<tr><td>2013</td><td>11</td><td>920</td><td>Larrabee St &amp; Kingsbury St</td><td>Subscriber</td><td>9</td></tr>",
                            "<tr><td>2013</td><td>11</td><td>805</td><td>Orleans St &amp; Merchandise Mart Plaza</td><td>Subscriber</td><td>10</td></tr>",
                            "<tr><td>2013</td><td>12</td><td>1364</td><td>Clinton St &amp; Washington Blvd</td><td>Subscriber</td><td>1</td></tr>",
                            "<tr><td>2013</td><td>12</td><td>878</td><td>Canal St &amp; Madison St</td><td>Subscriber</td><td>2</td></tr>",
                            "<tr><td>2013</td><td>12</td><td>765</td><td>Canal St &amp; Adams St</td><td>Subscriber</td><td>3</td></tr>",
                            "<tr><td>2013</td><td>12</td><td>714</td><td>Dearborn St &amp; Monroe St</td><td>Subscriber</td><td>4</td></tr>",
                            "<tr><td>2013</td><td>12</td><td>660</td><td>LaSalle St &amp; Jackson Blvd</td><td>Subscriber</td><td>5</td></tr>",
                            "<tr><td>2013</td><td>12</td><td>657</td><td>Canal St &amp; Jackson Blvd</td><td>Subscriber</td><td>6</td></tr>",
                            "<tr><td>2013</td><td>12</td><td>607</td><td>Franklin St &amp; Arcade Pl</td><td>Subscriber</td><td>7</td></tr>",
                            "<tr><td>2013</td><td>12</td><td>581</td><td>Clinton St &amp; Madison St</td><td>Subscriber</td><td>8</td></tr>",
                            "<tr><td>2013</td><td>12</td><td>549</td><td>Larrabee St &amp; Kingsbury St</td><td>Subscriber</td><td>9</td></tr>",
                            "<tr><td>2013</td><td>12</td><td>507</td><td>LaSalle St &amp; Washington St</td><td>Subscriber</td><td>10</td></tr>",
                            "<tr><td>2014</td><td>1</td><td>860</td><td>Clinton St &amp; Washington Blvd</td><td>Subscriber</td><td>1</td></tr>",
                            "<tr><td>2014</td><td>1</td><td>563</td><td>Canal St &amp; Madison St</td><td>Subscriber</td><td>2</td></tr>",
                            "<tr><td>2014</td><td>1</td><td>487</td><td>Canal St &amp; Adams St</td><td>Subscriber</td><td>3</td></tr>",
                            "<tr><td>2014</td><td>1</td><td>423</td><td>Franklin St &amp; Arcade Pl</td><td>Subscriber</td><td>4</td></tr>",
                            "<tr><td>2014</td><td>1</td><td>384</td><td>LaSalle St &amp; Jackson Blvd</td><td>Subscriber</td><td>5</td></tr>",
                            "<tr><td>2014</td><td>1</td><td>380</td><td>Canal St &amp; Jackson Blvd</td><td>Subscriber</td><td>6</td></tr>",
                            "<tr><td>2014</td><td>1</td><td>372</td><td>Dearborn St &amp; Monroe St</td><td>Subscriber</td><td>7</td></tr>",
                            "<tr><td>2014</td><td>1</td><td>339</td><td>Michigan Ave &amp; Lake St</td><td>Subscriber</td><td>8</td></tr>",
                            "<tr><td>2014</td><td>1</td><td>338</td><td>Clinton St &amp; Madison St</td><td>Subscriber</td><td>9</td></tr>",
                            "<tr><td>2014</td><td>1</td><td>292</td><td>LaSalle St &amp; Washington St</td><td>Subscriber</td><td>10</td></tr>",
                            "<tr><td>2014</td><td>2</td><td>947</td><td>Clinton St &amp; Washington Blvd</td><td>Subscriber</td><td>1</td></tr>",
                            "<tr><td>2014</td><td>2</td><td>706</td><td>Canal St &amp; Madison St</td><td>Subscriber</td><td>2</td></tr>",
                            "<tr><td>2014</td><td>2</td><td>543</td><td>Canal St &amp; Adams St</td><td>Subscriber</td><td>3</td></tr>",
                            "<tr><td>2014</td><td>2</td><td>536</td><td>Franklin St &amp; Arcade Pl</td><td>Subscriber</td><td>4</td></tr>",
                            "<tr><td>2014</td><td>2</td><td>468</td><td>Dearborn St &amp; Monroe St</td><td>Subscriber</td><td>5</td></tr>",
                            "<tr><td>2014</td><td>2</td><td>459</td><td>LaSalle St &amp; Jackson Blvd</td><td>Subscriber</td><td>6</td></tr>",
                            "<tr><td>2014</td><td>2</td><td>454</td><td>Canal St &amp; Jackson Blvd</td><td>Subscriber</td><td>7</td></tr>",
                            "<tr><td>2014</td><td>2</td><td>452</td><td>Michigan Ave &amp; Lake St</td><td>Subscriber</td><td>8</td></tr>",
                            "<tr><td>2014</td><td>2</td><td>391</td><td>Larrabee St &amp; Kingsbury St</td><td>Subscriber</td><td>9</td></tr>",
                            "<tr><td>2014</td><td>2</td><td>377</td><td>Clinton St &amp; Madison St</td><td>Subscriber</td><td>10</td></tr>",
                            "<tr><td>2014</td><td>3</td><td>1588</td><td>Clinton St &amp; Washington Blvd</td><td>Subscriber</td><td>1</td></tr>",
                            "<tr><td>2014</td><td>3</td><td>1186</td><td>Canal St &amp; Madison St</td><td>Subscriber</td><td>2</td></tr>",
                            "<tr><td>2014</td><td>3</td><td>1017</td><td>Dearborn St &amp; Monroe St</td><td>Subscriber</td><td>3</td></tr>",
                            "<tr><td>2014</td><td>3</td><td>934</td><td>Franklin St &amp; Arcade Pl</td><td>Subscriber</td><td>4</td></tr>",
                            "<tr><td>2014</td><td>3</td><td>891</td><td>Canal St &amp; Adams St</td><td>Subscriber</td><td>5</td></tr>",
                            "<tr><td>2014</td><td>3</td><td>853</td><td>Canal St &amp; Jackson Blvd</td><td>Subscriber</td><td>6</td></tr>",
                            "<tr><td>2014</td><td>3</td><td>734</td><td>LaSalle St &amp; Jackson Blvd</td><td>Subscriber</td><td>7</td></tr>",
                            "<tr><td>2014</td><td>3</td><td>734</td><td>Clinton St &amp; Madison St</td><td>Subscriber</td><td>7</td></tr>",
                            "<tr><td>2014</td><td>3</td><td>724</td><td>Orleans St &amp; Merchandise Mart Plaza</td><td>Subscriber</td><td>8</td></tr>",
                            "<tr><td>2014</td><td>3</td><td>688</td><td>Michigan Ave &amp; Lake St</td><td>Subscriber</td><td>9</td></tr>",
                            "<tr><td>2014</td><td>3</td><td>668</td><td>Larrabee St &amp; Kingsbury St</td><td>Subscriber</td><td>10</td></tr>",
                            "<tr><td>2014</td><td>4</td><td>2635</td><td>Clinton St &amp; Washington Blvd</td><td>Subscriber</td><td>1</td></tr>",
                            "<tr><td>2014</td><td>4</td><td>2050</td><td>Canal St &amp; Adams St</td><td>Subscriber</td><td>2</td></tr>",
                            "<tr><td>2014</td><td>4</td><td>1799</td><td>Canal St &amp; Madison St</td><td>Subscriber</td><td>3</td></tr>",
                            "<tr><td>2014</td><td>4</td><td>1553</td><td>Dearborn St &amp; Monroe St</td><td>Subscriber</td><td>4</td></tr>",
                            "<tr><td>2014</td><td>4</td><td>1470</td><td>Franklin St &amp; Arcade Pl</td><td>Subscriber</td><td>5</td></tr>",
                            "<tr><td>2014</td><td>4</td><td>1264</td><td>LaSalle St &amp; Jackson Blvd</td><td>Subscriber</td><td>6</td></tr>",
                            "<tr><td>2014</td><td>4</td><td>1167</td><td>Larrabee St &amp; Kingsbury St</td><td>Subscriber</td><td>7</td></tr>",
                            "<tr><td>2014</td><td>4</td><td>1156</td><td>Orleans St &amp; Merchandise Mart Plaza</td><td>Subscriber</td><td>8</td></tr>",
                            "<tr><td>2014</td><td>4</td><td>1096</td><td>Canal St &amp; Monroe St</td><td>Subscriber</td><td>9</td></tr>",
                            "<tr><td>2014</td><td>4</td><td>1086</td><td>Michigan Ave &amp; Lake St</td><td>Subscriber</td><td>10</td></tr>",
                            "<tr><td>2014</td><td>5</td><td>3375</td><td>Clinton St &amp; Washington Blvd</td><td>Subscriber</td><td>1</td></tr>",
                            "<tr><td>2014</td><td>5</td><td>2759</td><td>Canal St &amp; Adams St</td><td>Subscriber</td><td>2</td></tr>",
                            "<tr><td>2014</td><td>5</td><td>2528</td><td>Canal St &amp; Madison St</td><td>Subscriber</td><td>3</td></tr>",
                            "<tr><td>2014</td><td>5</td><td>2150</td><td>Franklin St &amp; Arcade Pl</td><td>Subscriber</td><td>4</td></tr>",
                            "<tr><td>2014</td><td>5</td><td>1945</td><td>Columbus Dr &amp; Randolph St</td><td>Subscriber</td><td>5</td></tr>",
                            "<tr><td>2014</td><td>5</td><td>1928</td><td>Dearborn St &amp; Monroe St</td><td>Subscriber</td><td>6</td></tr>",
                            "<tr><td>2014</td><td>5</td><td>1810</td><td>LaSalle St &amp; Jackson Blvd</td><td>Subscriber</td><td>7</td></tr>",
                            "<tr><td>2014</td><td>5</td><td>1693</td><td>Theater on the Lake</td><td>Subscriber</td><td>8</td></tr>",
                            "<tr><td>2014</td><td>5</td><td>1603</td><td>Orleans St &amp; Merchandise Mart Plaza</td><td>Subscriber</td><td>9</td></tr>",
                            "<tr><td>2014</td><td>5</td><td>1564</td><td>Canal St &amp; Monroe St</td><td>Subscriber</td><td>10</td></tr>",
                            "<tr><td>2014</td><td>6</td><td>4058</td><td>Clinton St &amp; Washington Blvd</td><td>Subscriber</td><td>1</td></tr>",
                            "<tr><td>2014</td><td>6</td><td>3287</td><td>Canal St &amp; Adams St</td><td>Subscriber</td><td>2</td></tr>",
                            "<tr><td>2014</td><td>6</td><td>3129</td><td>Canal St &amp; Madison St</td><td>Subscriber</td><td>3</td></tr>",
                            "<tr><td>2014</td><td>6</td><td>2639</td><td>Franklin St &amp; Arcade Pl</td><td>Subscriber</td><td>4</td></tr>",
                            "<tr><td>2014</td><td>6</td><td>2568</td><td>Columbus Dr &amp; Randolph St</td><td>Subscriber</td><td>5</td></tr>",
                            "<tr><td>2014</td><td>6</td><td>2328</td><td>Theater on the Lake</td><td>Subscriber</td><td>6</td></tr>",
                            "<tr><td>2014</td><td>6</td><td>2215</td><td>Dearborn St &amp; Monroe St</td><td>Subscriber</td><td>7</td></tr>",
                            "<tr><td>2014</td><td>6</td><td>2113</td><td>Clinton St &amp; Madison St</td><td>Subscriber</td><td>8</td></tr>",
                            "<tr><td>2014</td><td>6</td><td>2087</td><td>LaSalle St &amp; Jackson Blvd</td><td>Subscriber</td><td>9</td></tr>",
                            "<tr><td>2014</td><td>6</td><td>2049</td><td>Orleans St &amp; Merchandise Mart Plaza</td><td>Subscriber</td><td>10</td></tr>",
                            "<tr><td>2014</td><td>7</td><td>4758</td><td>Clinton St &amp; Washington Blvd</td><td>Subscriber</td><td>1</td></tr>",
                            "<tr><td>2014</td><td>7</td><td>4362</td><td>Canal St &amp; Adams St</td><td>Subscriber</td><td>2</td></tr>",
                            "<tr><td>2014</td><td>7</td><td>3851</td><td>Canal St &amp; Madison St</td><td>Subscriber</td><td>3</td></tr>",
                            "<tr><td>2014</td><td>7</td><td>3415</td><td>Columbus Dr &amp; Randolph St</td><td>Subscriber</td><td>4</td></tr>",
                            "<tr><td>2014</td><td>7</td><td>2781</td><td>Theater on the Lake</td><td>Subscriber</td><td>5</td></tr>",
                            "<tr><td>2014</td><td>7</td><td>2751</td><td>Franklin St &amp; Arcade Pl</td><td>Subscriber</td><td>6</td></tr>",
                            "<tr><td>2014</td><td>7</td><td>2524</td><td>Daley Center Plaza</td><td>Subscriber</td><td>7</td></tr>",
                            "<tr><td>2014</td><td>7</td><td>2516</td><td>Clinton St &amp; Madison St</td><td>Subscriber</td><td>8</td></tr>",
                            "<tr><td>2014</td><td>7</td><td>2446</td><td>Lake Shore Dr &amp; North Blvd</td><td>Subscriber</td><td>9</td></tr>",
                            "<tr><td>2014</td><td>7</td><td>2428</td><td>Clark St &amp; Elm St</td><td>Subscriber</td><td>10</td></tr>",
                            "<tr><td>2014</td><td>8</td><td>4129</td><td>Clinton St &amp; Washington Blvd</td><td>Subscriber</td><td>1</td></tr>",
                            "<tr><td>2014</td><td>8</td><td>3531</td><td>Canal St &amp; Madison St</td><td>Subscriber</td><td>2</td></tr>",
                            "<tr><td>2014</td><td>8</td><td>3309</td><td>Canal St &amp; Adams St</td><td>Subscriber</td><td>3</td></tr>",
                            "<tr><td>2014</td><td>8</td><td>3037</td><td>Columbus Dr &amp; Randolph St</td><td>Subscriber</td><td>4</td></tr>",
                            "<tr><td>2014</td><td>8</td><td>2691</td><td>Franklin St &amp; Arcade Pl</td><td>Subscriber</td><td>5</td></tr>",
                            "<tr><td>2014</td><td>8</td><td>2504</td><td>Canal St &amp; Jackson Blvd</td><td>Subscriber</td><td>6</td></tr>",
                            "<tr><td>2014</td><td>8</td><td>2460</td><td>Theater on the Lake</td><td>Subscriber</td><td>7</td></tr>",
                            "<tr><td>2014</td><td>8</td><td>2414</td><td>Clinton St &amp; Madison St</td><td>Subscriber</td><td>8</td></tr>",
                            "<tr><td>2014</td><td>8</td><td>2364</td><td>Clark St &amp; Elm St</td><td>Subscriber</td><td>9</td></tr>",
                            "<tr><td>2014</td><td>8</td><td>2221</td><td>Wells St &amp; Concord Ln</td><td>Subscriber</td><td>10</td></tr>",
                            "<tr><td>2014</td><td>9</td><td>4364</td><td>Clinton St &amp; Washington Blvd</td><td>Subscriber</td><td>1</td></tr>",
                            "<tr><td>2014</td><td>9</td><td>3536</td><td>Canal St &amp; Madison St</td><td>Subscriber</td><td>2</td></tr>",
                            "<tr><td>2014</td><td>9</td><td>3226</td><td>Canal St &amp; Adams St</td><td>Subscriber</td><td>3</td></tr>",
                            "<tr><td>2014</td><td>9</td><td>2638</td><td>Columbus Dr &amp; Randolph St</td><td>Subscriber</td><td>4</td></tr>",
                            "<tr><td>2014</td><td>9</td><td>2353</td><td>Franklin St &amp; Arcade Pl</td><td>Subscriber</td><td>5</td></tr>",
                            "<tr><td>2014</td><td>9</td><td>2318</td><td>Canal St &amp; Jackson Blvd</td><td>Subscriber</td><td>6</td></tr>",
                            "<tr><td>2014</td><td>9</td><td>2215</td><td>LaSalle St &amp; Jackson Blvd</td><td>Subscriber</td><td>7</td></tr>",
                            "<tr><td>2014</td><td>9</td><td>2177</td><td>Clinton St &amp; Madison St</td><td>Subscriber</td><td>8</td></tr>",
                            "<tr><td>2014</td><td>9</td><td>2151</td><td>Daley Center Plaza</td><td>Subscriber</td><td>9</td></tr>",
                            "<tr><td>2014</td><td>9</td><td>2087</td><td>Clinton St &amp; Lake St</td><td>Subscriber</td><td>10</td></tr>",
                            "<tr><td>2014</td><td>10</td><td>4176</td><td>Clinton St &amp; Washington Blvd</td><td>Subscriber</td><td>1</td></tr>",
                            "<tr><td>2014</td><td>10</td><td>3296</td><td>Canal St &amp; Madison St</td><td>Subscriber</td><td>2</td></tr>",
                            "<tr><td>2014</td><td>10</td><td>3236</td><td>Canal St &amp; Adams St</td><td>Subscriber</td><td>3</td></tr>",
                            "<tr><td>2014</td><td>10</td><td>2480</td><td>Canal St &amp; Jackson Blvd</td><td>Subscriber</td><td>4</td></tr>",
                            "<tr><td>2014</td><td>10</td><td>2432</td><td>Columbus Dr &amp; Randolph St</td><td>Subscriber</td><td>5</td></tr>",
                            "<tr><td>2014</td><td>10</td><td>2241</td><td>Franklin St &amp; Arcade Pl</td><td>Subscriber</td><td>6</td></tr>",
                            "<tr><td>2014</td><td>10</td><td>2189</td><td>LaSalle St &amp; Jackson Blvd</td><td>Subscriber</td><td>7</td></tr>",
                            "<tr><td>2014</td><td>10</td><td>1982</td><td>Clinton St &amp; Madison St</td><td>Subscriber</td><td>8</td></tr>",
                            "<tr><td>2014</td><td>10</td><td>1954</td><td>Daley Center Plaza</td><td>Subscriber</td><td>9</td></tr>",
                            "<tr><td>2014</td><td>10</td><td>1899</td><td>Larrabee St &amp; Kingsbury St</td><td>Subscriber</td><td>10</td></tr>",
                            "<tr><td>2014</td><td>11</td><td>2518</td><td>Clinton St &amp; Washington Blvd</td><td>Subscriber</td><td>1</td></tr>",
                            "<tr><td>2014</td><td>11</td><td>1892</td><td>Canal St &amp; Madison St</td><td>Subscriber</td><td>2</td></tr>",
                            "<tr><td>2014</td><td>11</td><td>1821</td><td>Canal St &amp; Adams St</td><td>Subscriber</td><td>3</td></tr>",
                            "<tr><td>2014</td><td>11</td><td>1392</td><td>Canal St &amp; Jackson Blvd</td><td>Subscriber</td><td>4</td></tr>",
                            "<tr><td>2014</td><td>11</td><td>1240</td><td>Franklin St &amp; Arcade Pl</td><td>Subscriber</td><td>5</td></tr>",
                            "<tr><td>2014</td><td>11</td><td>1212</td><td>LaSalle St &amp; Jackson Blvd</td><td>Subscriber</td><td>6</td></tr>",
                            "<tr><td>2014</td><td>11</td><td>1150</td><td>Columbus Dr &amp; Randolph St</td><td>Subscriber</td><td>7</td></tr>",
                            "<tr><td>2014</td><td>11</td><td>1090</td><td>Dearborn St &amp; Monroe St</td><td>Subscriber</td><td>8</td></tr>",
                            "<tr><td>2014</td><td>11</td><td>1081</td><td>Daley Center Plaza</td><td>Subscriber</td><td>9</td></tr>",
                            "<tr><td>2014</td><td>11</td><td>1067</td><td>Clinton St &amp; Madison St</td><td>Subscriber</td><td>10</td></tr>",
                            "<tr><td>2014</td><td>12</td><td>2131</td><td>Clinton St &amp; Washington Blvd</td><td>Subscriber</td><td>1</td></tr>",
                            "<tr><td>2014</td><td>12</td><td>1476</td><td>Canal St &amp; Madison St</td><td>Subscriber</td><td>2</td></tr>",
                            "<tr><td>2014</td><td>12</td><td>1466</td><td>Canal St &amp; Adams St</td><td>Subscriber</td><td>3</td></tr>",
                            "<tr><td>2014</td><td>12</td><td>1178</td><td>Canal St &amp; Jackson Blvd</td><td>Subscriber</td><td>4</td></tr>",
                            "<tr><td>2014</td><td>12</td><td>1056</td><td>LaSalle St &amp; Jackson Blvd</td><td>Subscriber</td><td>5</td></tr>",
                            "<tr><td>2014</td><td>12</td><td>1045</td><td>Franklin St &amp; Arcade Pl</td><td>Subscriber</td><td>6</td></tr>",
                            "<tr><td>2014</td><td>12</td><td>994</td><td>Dearborn St &amp; Monroe St</td><td>Subscriber</td><td>7</td></tr>",
                            "<tr><td>2014</td><td>12</td><td>896</td><td>Clinton St &amp; Madison St</td><td>Subscriber</td><td>8</td></tr>",
                            "<tr><td>2014</td><td>12</td><td>875</td><td>Daley Center Plaza</td><td>Subscriber</td><td>9</td></tr>",
                            "<tr><td>2014</td><td>12</td><td>858</td><td>Larrabee St &amp; Kingsbury St</td><td>Subscriber</td><td>10</td></tr>",
                            "<tr><td>2015</td><td>1</td><td>1558</td><td>Clinton St &amp; Washington Blvd</td><td>Subscriber</td><td>1</td></tr>",
                            "<tr><td>2015</td><td>1</td><td>1134</td><td>Canal St &amp; Madison St</td><td>Subscriber</td><td>2</td></tr>",
                            "<tr><td>2015</td><td>1</td><td>1038</td><td>Canal St &amp; Adams St</td><td>Subscriber</td><td>3</td></tr>",
                            "<tr><td>2015</td><td>1</td><td>897</td><td>Franklin St &amp; Arcade Pl</td><td>Subscriber</td><td>4</td></tr>",
                            "<tr><td>2015</td><td>1</td><td>831</td><td>LaSalle St &amp; Jackson Blvd</td><td>Subscriber</td><td>5</td></tr>",
                            "<tr><td>2015</td><td>1</td><td>788</td><td>Canal St &amp; Jackson Blvd</td><td>Subscriber</td><td>6</td></tr>",
                            "<tr><td>2015</td><td>1</td><td>675</td><td>Dearborn St &amp; Monroe St</td><td>Subscriber</td><td>7</td></tr>",
                            "<tr><td>2015</td><td>1</td><td>661</td><td>Clinton St &amp; Madison St</td><td>Subscriber</td><td>8</td></tr>",
                            "<tr><td>2015</td><td>1</td><td>635</td><td>Larrabee St &amp; Kingsbury St</td><td>Subscriber</td><td>9</td></tr>",
                            "<tr><td>2015</td><td>1</td><td>621</td><td>Columbus Dr &amp; Randolph St</td><td>Subscriber</td><td>10</td></tr>",
                            "<tr><td>2015</td><td>2</td><td>1201</td><td>Clinton St &amp; Washington Blvd</td><td>Subscriber</td><td>1</td></tr>",
                            "<tr><td>2015</td><td>2</td><td>813</td><td>Canal St &amp; Madison St</td><td>Subscriber</td><td>2</td></tr>",
                            "<tr><td>2015</td><td>2</td><td>738</td><td>Canal St &amp; Adams St</td><td>Subscriber</td><td>3</td></tr>",
                            "<tr><td>2015</td><td>2</td><td>588</td><td>Franklin St &amp; Arcade Pl</td><td>Subscriber</td><td>4</td></tr>",
                            "<tr><td>2015</td><td>2</td><td>562</td><td>LaSalle St &amp; Jackson Blvd</td><td>Subscriber</td><td>5</td></tr>",
                            "<tr><td>2015</td><td>2</td><td>547</td><td>Canal St &amp; Jackson Blvd</td><td>Subscriber</td><td>6</td></tr>",
                            "<tr><td>2015</td><td>2</td><td>474</td><td>Dearborn St &amp; Monroe St</td><td>Subscriber</td><td>7</td></tr>",
                            "<tr><td>2015</td><td>2</td><td>450</td><td>Larrabee St &amp; Kingsbury St</td><td>Subscriber</td><td>8</td></tr>",
                            "<tr><td>2015</td><td>2</td><td>423</td><td>Clinton St &amp; Madison St</td><td>Subscriber</td><td>9</td></tr>",
                            "<tr><td>2015</td><td>2</td><td>395</td><td>Daley Center Plaza</td><td>Subscriber</td><td>10</td></tr>",
                            "<tr><td>2015</td><td>3</td><td>2206</td><td>Clinton St &amp; Washington Blvd</td><td>Subscriber</td><td>1</td></tr>",
                            "<tr><td>2015</td><td>3</td><td>1575</td><td>Canal St &amp; Madison St</td><td>Subscriber</td><td>2</td></tr>",
                            "<tr><td>2015</td><td>3</td><td>1316</td><td>Canal St &amp; Adams St</td><td>Subscriber</td><td>3</td></tr>",
                            "<tr><td>2015</td><td>3</td><td>1298</td><td>Canal St &amp; Jackson Blvd</td><td>Subscriber</td><td>4</td></tr>",
                            "<tr><td>2015</td><td>3</td><td>1077</td><td>Franklin St &amp; Arcade Pl</td><td>Subscriber</td><td>5</td></tr>",
                            "<tr><td>2015</td><td>3</td><td>1027</td><td>Dearborn St &amp; Monroe St</td><td>Subscriber</td><td>6</td></tr>",
                            "<tr><td>2015</td><td>3</td><td>957</td><td>LaSalle St &amp; Jackson Blvd</td><td>Subscriber</td><td>7</td></tr>",
                            "<tr><td>2015</td><td>3</td><td>908</td><td>Clinton St &amp; Madison St</td><td>Subscriber</td><td>8</td></tr>",
                            "<tr><td>2015</td><td>3</td><td>856</td><td>Daley Center Plaza</td><td>Subscriber</td><td>9</td></tr>",
                            "<tr><td>2015</td><td>3</td><td>856</td><td>Columbus Dr &amp; Randolph St</td><td>Subscriber</td><td>9</td></tr>",
                            "<tr><td>2015</td><td>3</td><td>821</td><td>Wells St &amp; Hubbard St</td><td>Subscriber</td><td>10</td></tr>",
                            "<tr><td>2015</td><td>4</td><td>2607</td><td>Clinton St &amp; Washington Blvd</td><td>Subscriber</td><td>1</td></tr>",
                            "<tr><td>2015</td><td>4</td><td>2220</td><td>Canal St &amp; Madison St</td><td>Subscriber</td><td>2</td></tr>",
                            "<tr><td>2015</td><td>4</td><td>1945</td><td>Canal St &amp; Adams St</td><td>Subscriber</td><td>3</td></tr>",
                            "<tr><td>2015</td><td>4</td><td>1808</td><td>Canal St &amp; Jackson Blvd</td><td>Subscriber</td><td>4</td></tr>",
                            "<tr><td>2015</td><td>4</td><td>1596</td><td>LaSalle St &amp; Jackson Blvd</td><td>Subscriber</td><td>5</td></tr>",
                            "<tr><td>2015</td><td>4</td><td>1413</td><td>Dearborn St &amp; Monroe St</td><td>Subscriber</td><td>6</td></tr>",
                            "<tr><td>2015</td><td>4</td><td>1370</td><td>Franklin St &amp; Arcade Pl</td><td>Subscriber</td><td>7</td></tr>",
                            "<tr><td>2015</td><td>4</td><td>1280</td><td>Clinton St &amp; Madison St</td><td>Subscriber</td><td>8</td></tr>",
                            "<tr><td>2015</td><td>4</td><td>1212</td><td>Wells St &amp; Concord Ln</td><td>Subscriber</td><td>9</td></tr>",
                            "<tr><td>2015</td><td>4</td><td>1211</td><td>Clark St &amp; Elm St</td><td>Subscriber</td><td>10</td></tr>",
                            "<tr><td>2015</td><td>5</td><td>3307</td><td>Clinton St &amp; Washington Blvd</td><td>Subscriber</td><td>1</td></tr>",
                            "<tr><td>2015</td><td>5</td><td>2708</td><td>Canal St &amp; Adams St</td><td>Subscriber</td><td>2</td></tr>",
                            "<tr><td>2015</td><td>5</td><td>2458</td><td>Canal St &amp; Madison St</td><td>Subscriber</td><td>3</td></tr>",
                            "<tr><td>2015</td><td>5</td><td>2173</td><td>Canal St &amp; Jackson Blvd</td><td>Subscriber</td><td>4</td></tr>",
                            "<tr><td>2015</td><td>5</td><td>2171</td><td>Franklin St &amp; Arcade Pl</td><td>Subscriber</td><td>5</td></tr>",
                            "<tr><td>2015</td><td>5</td><td>1833</td><td>Clinton St &amp; Madison St</td><td>Subscriber</td><td>6</td></tr>",
                            "<tr><td>2015</td><td>5</td><td>1817</td><td>Wells St &amp; Concord Ln</td><td>Subscriber</td><td>7</td></tr>",
                            "<tr><td>2015</td><td>5</td><td>1793</td><td>Dearborn St &amp; Monroe St</td><td>Subscriber</td><td>8</td></tr>",
                            "<tr><td>2015</td><td>5</td><td>1695</td><td>LaSalle St &amp; Jackson Blvd</td><td>Subscriber</td><td>9</td></tr>",
                            "<tr><td>2015</td><td>5</td><td>1660</td><td>Columbus Dr &amp; Randolph St</td><td>Subscriber</td><td>10</td></tr>",
                            "<tr><td>2015</td><td>6</td><td>4273</td><td>Clinton St &amp; Washington Blvd</td><td>Subscriber</td><td>1</td></tr>",
                            "<tr><td>2015</td><td>6</td><td>4067</td><td>Canal St &amp; Adams St</td><td>Subscriber</td><td>2</td></tr>",
                            "<tr><td>2015</td><td>6</td><td>3155</td><td>Canal St &amp; Madison St</td><td>Subscriber</td><td>3</td></tr>",
                            "<tr><td>2015</td><td>6</td><td>2646</td><td>Franklin St &amp; Arcade Pl</td><td>Subscriber</td><td>4</td></tr>",
                            "<tr><td>2015</td><td>6</td><td>2483</td><td>Clinton St &amp; Madison St</td><td>Subscriber</td><td>5</td></tr>",
                            "<tr><td>2015</td><td>6</td><td>2334</td><td>Theater on the Lake</td><td>Subscriber</td><td>6</td></tr>",
                            "<tr><td>2015</td><td>6</td><td>2325</td><td>Wells St &amp; Concord Ln</td><td>Subscriber</td><td>7</td></tr>",
                            "<tr><td>2015</td><td>6</td><td>2294</td><td>LaSalle St &amp; Jackson Blvd</td><td>Subscriber</td><td>8</td></tr>",
                            "<tr><td>2015</td><td>6</td><td>2283</td><td>Kingsbury St &amp; Kinzie St</td><td>Subscriber</td><td>9</td></tr>",
                            "<tr><td>2015</td><td>6</td><td>2234</td><td>Canal St &amp; Jackson Blvd</td><td>Subscriber</td><td>10</td></tr>",
                            "<tr><td>2015</td><td>7</td><td>4662</td><td>Canal St &amp; Adams St</td><td>Subscriber</td><td>1</td></tr>",
                            "<tr><td>2015</td><td>7</td><td>4209</td><td>Clinton St &amp; Washington Blvd</td><td>Subscriber</td><td>2</td></tr>",
                            "<tr><td>2015</td><td>7</td><td>3624</td><td>Canal St &amp; Madison St</td><td>Subscriber</td><td>3</td></tr>",
                            "<tr><td>2015</td><td>7</td><td>3256</td><td>Theater on the Lake</td><td>Subscriber</td><td>4</td></tr>",
                            "<tr><td>2015</td><td>7</td><td>3254</td><td>Lake Shore Dr &amp; North Blvd</td><td>Subscriber</td><td>5</td></tr>",
                            "<tr><td>2015</td><td>7</td><td>3102</td><td>Clinton St &amp; Madison St</td><td>Subscriber</td><td>6</td></tr>",
                            "<tr><td>2015</td><td>7</td><td>2694</td><td>Kingsbury St &amp; Kinzie St</td><td>Subscriber</td><td>7</td></tr>",
                            "<tr><td>2015</td><td>7</td><td>2689</td><td>Wells St &amp; Concord Pl</td><td>Subscriber</td><td>8</td></tr>",
                            "<tr><td>2015</td><td>7</td><td>2576</td><td>Franklin St &amp; Monroe St</td><td>Subscriber</td><td>9</td></tr>",
                            "<tr><td>2015</td><td>7</td><td>2422</td><td>Columbus Dr &amp; Randolph St</td><td>Subscriber</td><td>10</td></tr>",
                            "<tr><td>2015</td><td>8</td><td>4711</td><td>Canal St &amp; Adams St</td><td>Subscriber</td><td>1</td></tr>",
                            "<tr><td>2015</td><td>8</td><td>4187</td><td>Clinton St &amp; Washington Blvd</td><td>Subscriber</td><td>2</td></tr>",
                            "<tr><td>2015</td><td>8</td><td>3817</td><td>Canal St &amp; Madison St</td><td>Subscriber</td><td>3</td></tr>",
                            "<tr><td>2015</td><td>8</td><td>3309</td><td>Clinton St &amp; Madison St</td><td>Subscriber</td><td>4</td></tr>",
                            "<tr><td>2015</td><td>8</td><td>3133</td><td>Theater on the Lake</td><td>Subscriber</td><td>5</td></tr>",
                            "<tr><td>2015</td><td>8</td><td>2914</td><td>Kingsbury St &amp; Kinzie St</td><td>Subscriber</td><td>6</td></tr>",
                            "<tr><td>2015</td><td>8</td><td>2871</td><td>Lake Shore Dr &amp; North Blvd</td><td>Subscriber</td><td>7</td></tr>",
                            "<tr><td>2015</td><td>8</td><td>2687</td><td>LaSalle St &amp; Jackson Blvd</td><td>Subscriber</td><td>8</td></tr>",
                            "<tr><td>2015</td><td>8</td><td>2615</td><td>Columbus Dr &amp; Randolph St</td><td>Subscriber</td><td>9</td></tr>",
                            "<tr><td>2015</td><td>8</td><td>2601</td><td>Wells St &amp; Concord Pl</td><td>Subscriber</td><td>10</td></tr>",
                            "<tr><td>2015</td><td>9</td><td>4341</td><td>Canal St &amp; Adams St</td><td>Subscriber</td><td>1</td></tr>",
                            "<tr><td>2015</td><td>9</td><td>4232</td><td>Clinton St &amp; Washington Blvd</td><td>Subscriber</td><td>2</td></tr>",
                            "<tr><td>2015</td><td>9</td><td>3494</td><td>Canal St &amp; Madison St</td><td>Subscriber</td><td>3</td></tr>",
                            "<tr><td>2015</td><td>9</td><td>3264</td><td>Clinton St &amp; Madison St</td><td>Subscriber</td><td>4</td></tr>",
                            "<tr><td>2015</td><td>9</td><td>2700</td><td>Kingsbury St &amp; Kinzie St</td><td>Subscriber</td><td>5</td></tr>",
                            "<tr><td>2015</td><td>9</td><td>2679</td><td>Franklin St &amp; Monroe St</td><td>Subscriber</td><td>6</td></tr>",
                            "<tr><td>2015</td><td>9</td><td>2595</td><td>Dearborn St &amp; Monroe St</td><td>Subscriber</td><td>7</td></tr>",
                            "<tr><td>2015</td><td>9</td><td>2496</td><td>Theater on the Lake</td><td>Subscriber</td><td>8</td></tr>",
                            "<tr><td>2015</td><td>9</td><td>2488</td><td>LaSalle St &amp; Jackson Blvd</td><td>Subscriber</td><td>9</td></tr>",
                            "<tr><td>2015</td><td>9</td><td>2365</td><td>Columbus Dr &amp; Randolph St</td><td>Subscriber</td><td>10</td></tr>",
                            "<tr><td>2015</td><td>10</td><td>4209</td><td>Clinton St &amp; Washington Blvd</td><td>Subscriber</td><td>1</td></tr>",
                            "<tr><td>2015</td><td>10</td><td>4146</td><td>Canal St &amp; Adams St</td><td>Subscriber</td><td>2</td></tr>",
                            "<tr><td>2015</td><td>10</td><td>3505</td><td>Canal St &amp; Madison St</td><td>Subscriber</td><td>3</td></tr>",
                            "<tr><td>2015</td><td>10</td><td>3180</td><td>Clinton St &amp; Madison St</td><td>Subscriber</td><td>4</td></tr>",
                            "<tr><td>2015</td><td>10</td><td>3046</td><td>Franklin St &amp; Monroe St</td><td>Subscriber</td><td>5</td></tr>",
                            "<tr><td>2015</td><td>10</td><td>2765</td><td>Dearborn St &amp; Monroe St</td><td>Subscriber</td><td>6</td></tr>",
                            "<tr><td>2015</td><td>10</td><td>2510</td><td>Kingsbury St &amp; Kinzie St</td><td>Subscriber</td><td>7</td></tr>",
                            "<tr><td>2015</td><td>10</td><td>2385</td><td>LaSalle St &amp; Jackson Blvd</td><td>Subscriber</td><td>8</td></tr>",
                            "<tr><td>2015</td><td>10</td><td>2289</td><td>Canal St &amp; Jackson Blvd</td><td>Subscriber</td><td>9</td></tr>",
                            "<tr><td>2015</td><td>10</td><td>2039</td><td>Columbus Dr &amp; Randolph St</td><td>Subscriber</td><td>10</td></tr>",
                            "<tr><td>2015</td><td>11</td><td>2851</td><td>Clinton St &amp; Washington Blvd</td><td>Subscriber</td><td>1</td></tr>",
                            "<tr><td>2015</td><td>11</td><td>2618</td><td>Canal St &amp; Adams St</td><td>Subscriber</td><td>2</td></tr>",
                            "<tr><td>2015</td><td>11</td><td>2478</td><td>Clinton St &amp; Madison St</td><td>Subscriber</td><td>3</td></tr>",
                            "<tr><td>2015</td><td>11</td><td>2359</td><td>Canal St &amp; Madison St</td><td>Subscriber</td><td>4</td></tr>",
                            "<tr><td>2015</td><td>11</td><td>1781</td><td>Kingsbury St &amp; Kinzie St</td><td>Subscriber</td><td>5</td></tr>",
                            "<tr><td>2015</td><td>11</td><td>1744</td><td>Canal St &amp; Jackson Blvd</td><td>Subscriber</td><td>6</td></tr>",
                            "<tr><td>2015</td><td>11</td><td>1612</td><td>LaSalle St &amp; Jackson Blvd</td><td>Subscriber</td><td>7</td></tr>",
                            "<tr><td>2015</td><td>11</td><td>1438</td><td>Franklin St &amp; Jackson Blvd</td><td>Subscriber</td><td>8</td></tr>",
                            "<tr><td>2015</td><td>11</td><td>1414</td><td>Clinton St &amp; Lake St</td><td>Subscriber</td><td>9</td></tr>",
                            "<tr><td>2015</td><td>11</td><td>1391</td><td>Franklin St &amp; Monroe St</td><td>Subscriber</td><td>10</td></tr>",
                            "<tr><td>2015</td><td>12</td><td>2266</td><td>Clinton St &amp; Washington Blvd</td><td>Subscriber</td><td>1</td></tr>",
                            "<tr><td>2015</td><td>12</td><td>1852</td><td>Canal St &amp; Adams St</td><td>Subscriber</td><td>2</td></tr>",
                            "<tr><td>2015</td><td>12</td><td>1823</td><td>Clinton St &amp; Madison St</td><td>Subscriber</td><td>3</td></tr>",
                            "<tr><td>2015</td><td>12</td><td>1455</td><td>Canal St &amp; Madison St</td><td>Subscriber</td><td>4</td></tr>",
                            "<tr><td>2015</td><td>12</td><td>1260</td><td>Kingsbury St &amp; Kinzie St</td><td>Subscriber</td><td>5</td></tr>",
                            "<tr><td>2015</td><td>12</td><td>1228</td><td>LaSalle St &amp; Jackson Blvd</td><td>Subscriber</td><td>6</td></tr>",
                            "<tr><td>2015</td><td>12</td><td>1192</td><td>Canal St &amp; Jackson Blvd</td><td>Subscriber</td><td>7</td></tr>",
                            "<tr><td>2015</td><td>12</td><td>1082</td><td>Dearborn St &amp; Monroe St</td><td>Subscriber</td><td>8</td></tr>",
                            "<tr><td>2015</td><td>12</td><td>1065</td><td>Columbus Dr &amp; Randolph St</td><td>Subscriber</td><td>9</td></tr>",
                            "<tr><td>2015</td><td>12</td><td>1058</td><td>Clinton St &amp; Lake St</td><td>Subscriber</td><td>10</td></tr>",
                            "<tr><td>2016</td><td>1</td><td>2145</td><td>Clinton St &amp; Washington Blvd</td><td>Subscriber</td><td>1</td></tr>",
                            "<tr><td>2016</td><td>1</td><td>1514</td><td>Canal St &amp; Adams St</td><td>Subscriber</td><td>2</td></tr>",
                            "<tr><td>2016</td><td>1</td><td>1471</td><td>Clinton St &amp; Madison St</td><td>Subscriber</td><td>3</td></tr>",
                            "<tr><td>2016</td><td>1</td><td>1323</td><td>Canal St &amp; Madison St</td><td>Subscriber</td><td>4</td></tr>",
                            "<tr><td>2016</td><td>1</td><td>1091</td><td>Canal St &amp; Jackson Blvd</td><td>Subscriber</td><td>5</td></tr>",
                            "<tr><td>2016</td><td>1</td><td>1061</td><td>Kingsbury St &amp; Kinzie St</td><td>Subscriber</td><td>6</td></tr>",
                            "<tr><td>2016</td><td>1</td><td>933</td><td>LaSalle St &amp; Jackson Blvd</td><td>Subscriber</td><td>7</td></tr>",
                            "<tr><td>2016</td><td>1</td><td>925</td><td>Franklin St &amp; Monroe St</td><td>Subscriber</td><td>8</td></tr>",
                            "<tr><td>2016</td><td>1</td><td>905</td><td>Clinton St &amp; Lake St</td><td>Subscriber</td><td>9</td></tr>",
                            "<tr><td>2016</td><td>1</td><td>831</td><td>Michigan Ave &amp; Lake St</td><td>Subscriber</td><td>10</td></tr>",
                            "<tr><td>2016</td><td>2</td><td>2383</td><td>Clinton St &amp; Washington Blvd</td><td>Subscriber</td><td>1</td></tr>",
                            "<tr><td>2016</td><td>2</td><td>1742</td><td>Clinton St &amp; Madison St</td><td>Subscriber</td><td>2</td></tr>",
                            "<tr><td>2016</td><td>2</td><td>1697</td><td>Canal St &amp; Adams St</td><td>Subscriber</td><td>3</td></tr>",
                            "<tr><td>2016</td><td>2</td><td>1483</td><td>Canal St &amp; Madison St</td><td>Subscriber</td><td>4</td></tr>",
                            "<tr><td>2016</td><td>2</td><td>1261</td><td>Canal St &amp; Jackson Blvd</td><td>Subscriber</td><td>5</td></tr>",
                            "<tr><td>2016</td><td>2</td><td>1162</td><td>Kingsbury St &amp; Kinzie St</td><td>Subscriber</td><td>6</td></tr>",
                            "<tr><td>2016</td><td>2</td><td>1063</td><td>Clinton St &amp; Lake St</td><td>Subscriber</td><td>7</td></tr>",
                            "<tr><td>2016</td><td>2</td><td>1057</td><td>LaSalle St &amp; Jackson Blvd</td><td>Subscriber</td><td>8</td></tr>",
                            "<tr><td>2016</td><td>2</td><td>982</td><td>Columbus Dr &amp; Randolph St</td><td>Subscriber</td><td>9</td></tr>",
                            "<tr><td>2016</td><td>2</td><td>974</td><td>Franklin St &amp; Monroe St</td><td>Subscriber</td><td>10</td></tr>",
                            "<tr><td>2016</td><td>3</td><td>3099</td><td>Clinton St &amp; Washington Blvd</td><td>Subscriber</td><td>1</td></tr>",
                            "<tr><td>2016</td><td>3</td><td>2355</td><td>Clinton St &amp; Madison St</td><td>Subscriber</td><td>2</td></tr>",
                            "<tr><td>2016</td><td>3</td><td>2254</td><td>Canal St &amp; Adams St</td><td>Subscriber</td><td>3</td></tr>",
                            "<tr><td>2016</td><td>3</td><td>2243</td><td>Canal St &amp; Madison St</td><td>Subscriber</td><td>4</td></tr>",
                            "<tr><td>2016</td><td>3</td><td>1886</td><td>Canal St &amp; Jackson Blvd</td><td>Subscriber</td><td>5</td></tr>",
                            "<tr><td>2016</td><td>3</td><td>1784</td><td>Kingsbury St &amp; Kinzie St</td><td>Subscriber</td><td>6</td></tr>",
                            "<tr><td>2016</td><td>3</td><td>1676</td><td>LaSalle St &amp; Jackson Blvd</td><td>Subscriber</td><td>7</td></tr>",
                            "<tr><td>2016</td><td>3</td><td>1465</td><td>Franklin St &amp; Monroe St</td><td>Subscriber</td><td>8</td></tr>",
                            "<tr><td>2016</td><td>3</td><td>1444</td><td>Franklin St &amp; Jackson Blvd</td><td>Subscriber</td><td>9</td></tr>",
                            "<tr><td>2016</td><td>3</td><td>1421</td><td>Clinton St &amp; Lake St</td><td>Subscriber</td><td>10</td></tr>",
                            "<tr><td>2016</td><td>4</td><td>3485</td><td>Clinton St &amp; Washington Blvd</td><td>Subscriber</td><td>1</td></tr>",
                            "<tr><td>2016</td><td>4</td><td>2588</td><td>Clinton St &amp; Madison St</td><td>Subscriber</td><td>2</td></tr>",
                            "<tr><td>2016</td><td>4</td><td>2430</td><td>Canal St &amp; Adams St</td><td>Subscriber</td><td>3</td></tr>",
                            "<tr><td>2016</td><td>4</td><td>2338</td><td>Canal St &amp; Madison St</td><td>Subscriber</td><td>4</td></tr>",
                            "<tr><td>2016</td><td>4</td><td>2097</td><td>Canal St &amp; Jackson Blvd</td><td>Subscriber</td><td>5</td></tr>",
                            "<tr><td>2016</td><td>4</td><td>1872</td><td>Kingsbury St &amp; Kinzie St</td><td>Subscriber</td><td>6</td></tr>",
                            "<tr><td>2016</td><td>4</td><td>1716</td><td>Franklin St &amp; Monroe St</td><td>Subscriber</td><td>7</td></tr>",
                            "<tr><td>2016</td><td>4</td><td>1646</td><td>LaSalle St &amp; Jackson Blvd</td><td>Subscriber</td><td>8</td></tr>",
                            "<tr><td>2016</td><td>4</td><td>1590</td><td>Clinton St &amp; Lake St</td><td>Subscriber</td><td>9</td></tr>",
                            "<tr><td>2016</td><td>4</td><td>1474</td><td>Dearborn St &amp; Monroe St</td><td>Subscriber</td><td>10</td></tr>",
                            "<tr><td>2016</td><td>5</td><td>4023</td><td>Clinton St &amp; Washington Blvd</td><td>Subscriber</td><td>1</td></tr>",
                            "<tr><td>2016</td><td>5</td><td>3374</td><td>Clinton St &amp; Madison St</td><td>Subscriber</td><td>2</td></tr>",
                            "<tr><td>2016</td><td>5</td><td>3224</td><td>Canal St &amp; Madison St</td><td>Subscriber</td><td>3</td></tr>",
                            "<tr><td>2016</td><td>5</td><td>2780</td><td>Canal St &amp; Adams St</td><td>Subscriber</td><td>4</td></tr>",
                            "<tr><td>2016</td><td>5</td><td>2738</td><td>Franklin St &amp; Monroe St</td><td>Subscriber</td><td>5</td></tr>",
                            "<tr><td>2016</td><td>5</td><td>2610</td><td>Theater on the Lake</td><td>Subscriber</td><td>6</td></tr>",
                            "<tr><td>2016</td><td>5</td><td>2533</td><td>Kingsbury St &amp; Kinzie St</td><td>Subscriber</td><td>7</td></tr>",
                            "<tr><td>2016</td><td>5</td><td>2521</td><td>Canal St &amp; Jackson Blvd</td><td>Subscriber</td><td>8</td></tr>",
                            "<tr><td>2016</td><td>5</td><td>2197</td><td>Clinton St &amp; Lake St</td><td>Subscriber</td><td>9</td></tr>",
                            "<tr><td>2016</td><td>5</td><td>1983</td><td>Daley Center Plaza</td><td>Subscriber</td><td>10</td></tr>",
                            "<tr><td>2016</td><td>6</td><td>3806</td><td>Lake Shore Dr &amp; North Blvd</td><td>Subscriber</td><td>4</td></tr>",
                            "<tr><td>2016</td><td>6</td><td>5136</td><td>Clinton St &amp; Washington Blvd</td><td>Subscriber</td><td>1</td></tr>",
                            "<tr><td>2016</td><td>6</td><td>3752</td><td>Theater on the Lake</td><td>Subscriber</td><td>5</td></tr>",
                            "<tr><td>2016</td><td>6</td><td>4586</td><td>Clinton St &amp; Madison St</td><td>Subscriber</td><td>2</td></tr>",
                            "<tr><td>2016</td><td>6</td><td>3525</td><td>Canal St &amp; Jackson Blvd</td><td>Subscriber</td><td>6</td></tr>",
                            "<tr><td>2016</td><td>6</td><td>4273</td><td>Canal St &amp; Madison St</td><td>Subscriber</td><td>3</td></tr>",
                            "<tr><td>2016</td><td>6</td><td>3512</td><td>Canal St &amp; Adams St</td><td>Subscriber</td><td>7</td></tr>",
                            "<tr><td>2016</td><td>6</td><td>3300</td><td>Kingsbury St &amp; Kinzie St</td><td>Subscriber</td><td>8</td></tr>",
                            "<tr><td>2016</td><td>6</td><td>3250</td><td>Franklin St &amp; Monroe St</td><td>Subscriber</td><td>9</td></tr>",
                            "<tr><td>2016</td><td>6</td><td>2882</td><td>Daley Center Plaza</td><td>Subscriber</td><td>10</td></tr>",
                            "<tr><td>2016</td><td>7</td><td>4727</td><td>Clinton St &amp; Washington Blvd</td><td>Subscriber</td><td>1</td></tr>",
                            "<tr><td>2016</td><td>7</td><td>4281</td><td>Clinton St &amp; Madison St</td><td>Subscriber</td><td>2</td></tr>",
                            "<tr><td>2016</td><td>7</td><td>3986</td><td>Theater on the Lake</td><td>Subscriber</td><td>3</td></tr>",
                            "<tr><td>2016</td><td>7</td><td>3699</td><td>Canal St &amp; Madison St</td><td>Subscriber</td><td>4</td></tr>",
                            "<tr><td>2016</td><td>7</td><td>3688</td><td>Kingsbury St &amp; Kinzie St</td><td>Subscriber</td><td>5</td></tr>",
                            "<tr><td>2016</td><td>7</td><td>3652</td><td>Lake Shore Dr &amp; North Blvd</td><td>Subscriber</td><td>6</td></tr>",
                            "<tr><td>2016</td><td>7</td><td>3428</td><td>Streeter Dr &amp; Grand Ave</td><td>Subscriber</td><td>7</td></tr>",
                            "<tr><td>2016</td><td>7</td><td>3166</td><td>Canal St &amp; Adams St</td><td>Subscriber</td><td>8</td></tr>",
                            "<tr><td>2016</td><td>7</td><td>3076</td><td>Canal St &amp; Jackson Blvd</td><td>Subscriber</td><td>9</td></tr>",
                            "<tr><td>2016</td><td>7</td><td>2616</td><td>Franklin St &amp; Monroe St</td><td>Subscriber</td><td>10</td></tr>",
                            "<tr><td>2016</td><td>8</td><td>5254</td><td>Clinton St &amp; Washington Blvd</td><td>Subscriber</td><td>1</td></tr>",
                            "<tr><td>2016</td><td>8</td><td>4816</td><td>Clinton St &amp; Madison St</td><td>Subscriber</td><td>2</td></tr>",
                            "<tr><td>2016</td><td>8</td><td>4191</td><td>Canal St &amp; Madison St</td><td>Subscriber</td><td>3</td></tr>",
                            "<tr><td>2016</td><td>8</td><td>3729</td><td>Kingsbury St &amp; Kinzie St</td><td>Subscriber</td><td>4</td></tr>",
                            "<tr><td>2016</td><td>8</td><td>3575</td><td>Canal St &amp; Adams St</td><td>Subscriber</td><td>5</td></tr>",
                            "<tr><td>2016</td><td>8</td><td>3508</td><td>Canal St &amp; Jackson Blvd</td><td>Subscriber</td><td>6</td></tr>",
                            "<tr><td>2016</td><td>8</td><td>3442</td><td>Theater on the Lake</td><td>Subscriber</td><td>7</td></tr>",
                            "<tr><td>2016</td><td>8</td><td>3289</td><td>Streeter Dr &amp; Grand Ave</td><td>Subscriber</td><td>8</td></tr>",
                            "<tr><td>2016</td><td>8</td><td>3149</td><td>Lake Shore Dr &amp; North Blvd</td><td>Subscriber</td><td>9</td></tr>",
                            "<tr><td>2016</td><td>8</td><td>2734</td><td>Daley Center Plaza</td><td>Subscriber</td><td>10</td></tr>",
                            "<tr><td>2016</td><td>8</td><td>2734</td><td>Franklin St &amp; Monroe St</td><td>Subscriber</td><td>10</td></tr>",
                            "<tr><td>2016</td><td>9</td><td>5167</td><td>Clinton St &amp; Washington Blvd</td><td>Subscriber</td><td>1</td></tr>",
                            "<tr><td>2016</td><td>9</td><td>4566</td><td>Clinton St &amp; Madison St</td><td>Subscriber</td><td>2</td></tr>",
                            "<tr><td>2016</td><td>9</td><td>3755</td><td>Canal St &amp; Madison St</td><td>Subscriber</td><td>3</td></tr>",
                            "<tr><td>2016</td><td>9</td><td>3588</td><td>Canal St &amp; Adams St</td><td>Subscriber</td><td>4</td></tr>",
                            "<tr><td>2016</td><td>9</td><td>3242</td><td>Kingsbury St &amp; Kinzie St</td><td>Subscriber</td><td>5</td></tr>",
                            "<tr><td>2016</td><td>9</td><td>3156</td><td>Canal St &amp; Jackson Blvd</td><td>Subscriber</td><td>6</td></tr>",
                            "<tr><td>2016</td><td>9</td><td>2861</td><td>Theater on the Lake</td><td>Subscriber</td><td>7</td></tr>",
                            "<tr><td>2016</td><td>9</td><td>2669</td><td>Daley Center Plaza</td><td>Subscriber</td><td>8</td></tr>",
                            "<tr><td>2016</td><td>9</td><td>2658</td><td>Franklin St &amp; Monroe St</td><td>Subscriber</td><td>9</td></tr>",
                            "<tr><td>2016</td><td>9</td><td>2654</td><td>Streeter Dr &amp; Grand Ave</td><td>Subscriber</td><td>10</td></tr>",
                            "<tr><td>2016</td><td>10</td><td>4941</td><td>Clinton St &amp; Washington Blvd</td><td>Subscriber</td><td>1</td></tr>",
                            "<tr><td>2016</td><td>10</td><td>4218</td><td>Clinton St &amp; Madison St</td><td>Subscriber</td><td>2</td></tr>",
                            "<tr><td>2016</td><td>10</td><td>3340</td><td>Canal St &amp; Madison St</td><td>Subscriber</td><td>3</td></tr>",
                            "<tr><td>2016</td><td>10</td><td>3210</td><td>Canal St &amp; Adams St</td><td>Subscriber</td><td>4</td></tr>",
                            "<tr><td>2016</td><td>10</td><td>3007</td><td>Clinton St &amp; Jackson Blvd</td><td>Subscriber</td><td>5</td></tr>",
                            "<tr><td>2016</td><td>10</td><td>2901</td><td>Kingsbury St &amp; Kinzie St</td><td>Subscriber</td><td>6</td></tr>",
                            "<tr><td>2016</td><td>10</td><td>2471</td><td>Daley Center Plaza</td><td>Subscriber</td><td>7</td></tr>",
                            "<tr><td>2016</td><td>10</td><td>2468</td><td>Franklin St &amp; Monroe St</td><td>Subscriber</td><td>8</td></tr>",
                            "<tr><td>2016</td><td>10</td><td>2247</td><td>Columbus Dr &amp; Randolph St</td><td>Subscriber</td><td>9</td></tr>",
                            "<tr><td>2016</td><td>10</td><td>2100</td><td>LaSalle St &amp; Jackson Blvd</td><td>Subscriber</td><td>10</td></tr>",
                            "<tr><td>2016</td><td>11</td><td>3754</td><td>Clinton St &amp; Washington Blvd</td><td>Subscriber</td><td>1</td></tr>",
                            "<tr><td>2016</td><td>11</td><td>3671</td><td>Clinton St &amp; Madison St</td><td>Subscriber</td><td>2</td></tr>",
                            "<tr><td>2016</td><td>11</td><td>2674</td><td>Canal St &amp; Adams St</td><td>Subscriber</td><td>3</td></tr>",
                            "<tr><td>2016</td><td>11</td><td>2639</td><td>Canal St &amp; Madison St</td><td>Subscriber</td><td>4</td></tr>",
                            "<tr><td>2016</td><td>11</td><td>2471</td><td>Clinton St &amp; Jackson Blvd</td><td>Subscriber</td><td>5</td></tr>",
                            "<tr><td>2016</td><td>11</td><td>2362</td><td>Kingsbury St &amp; Kinzie St</td><td>Subscriber</td><td>6</td></tr>",
                            "<tr><td>2016</td><td>11</td><td>2050</td><td>Franklin St &amp; Monroe St</td><td>Subscriber</td><td>7</td></tr>",
                            "<tr><td>2016</td><td>11</td><td>1771</td><td>LaSalle St &amp; Jackson Blvd</td><td>Subscriber</td><td>8</td></tr>",
                            "<tr><td>2016</td><td>11</td><td>1650</td><td>Franklin St &amp; Jackson Blvd</td><td>Subscriber</td><td>9</td></tr>",
                            "<tr><td>2016</td><td>11</td><td>1594</td><td>Michigan Ave &amp; Washington St</td><td>Subscriber</td><td>10</td></tr>",
                            "<tr><td>2016</td><td>12</td><td>1788</td><td>Clinton St &amp; Washington Blvd</td><td>Subscriber</td><td>1</td></tr>",
                            "<tr><td>2016</td><td>12</td><td>1732</td><td>Clinton St &amp; Madison St</td><td>Subscriber</td><td>2</td></tr>",
                            "<tr><td>2016</td><td>12</td><td>1397</td><td>Canal St &amp; Adams St</td><td>Subscriber</td><td>3</td></tr>",
                            "<tr><td>2016</td><td>12</td><td>1325</td><td>Clinton St &amp; Jackson Blvd</td><td>Subscriber</td><td>4</td></tr>",
                            "<tr><td>2016</td><td>12</td><td>1288</td><td>Canal St &amp; Madison St</td><td>Subscriber</td><td>5</td></tr>",
                            "<tr><td>2016</td><td>12</td><td>1224</td><td>Kingsbury St &amp; Kinzie St</td><td>Subscriber</td><td>6</td></tr>",
                            "<tr><td>2016</td><td>12</td><td>1027</td><td>LaSalle St &amp; Jackson Blvd</td><td>Subscriber</td><td>7</td></tr>",
                            "<tr><td>2016</td><td>12</td><td>1004</td><td>Franklin St &amp; Monroe St</td><td>Subscriber</td><td>8</td></tr>",
                            "<tr><td>2016</td><td>12</td><td>911</td><td>Dearborn St &amp; Monroe St</td><td>Subscriber</td><td>9</td></tr>",
                            "<tr><td>2016</td><td>12</td><td>817</td><td>Larrabee St &amp; Kingsbury St</td><td>Subscriber</td><td>10</td></tr>",
                            "<tr><td>2017</td><td>1</td><td>2151</td><td>Clinton St &amp; Washington Blvd</td><td>Subscriber</td><td>1</td></tr>",
                            "<tr><td>2017</td><td>1</td><td>1904</td><td>Clinton St &amp; Madison St</td><td>Subscriber</td><td>2</td></tr>",
                            "<tr><td>2017</td><td>1</td><td>1630</td><td>Canal St &amp; Adams St</td><td>Subscriber</td><td>3</td></tr>",
                            "<tr><td>2017</td><td>1</td><td>1530</td><td>Clinton St &amp; Jackson Blvd</td><td>Subscriber</td><td>4</td></tr>",
                            "<tr><td>2017</td><td>1</td><td>1438</td><td>Canal St &amp; Madison St</td><td>Subscriber</td><td>5</td></tr>",
                            "<tr><td>2017</td><td>1</td><td>1410</td><td>Kingsbury St &amp; Kinzie St</td><td>Subscriber</td><td>6</td></tr>",
                            "<tr><td>2017</td><td>1</td><td>1178</td><td>LaSalle St &amp; Jackson Blvd</td><td>Subscriber</td><td>7</td></tr>",
                            "<tr><td>2017</td><td>1</td><td>1039</td><td>Michigan Ave &amp; Washington St</td><td>Subscriber</td><td>8</td></tr>",
                            "<tr><td>2017</td><td>1</td><td>1004</td><td>Franklin St &amp; Monroe St</td><td>Subscriber</td><td>9</td></tr>",
                            "<tr><td>2017</td><td>1</td><td>989</td><td>Clinton St &amp; Lake St</td><td>Subscriber</td><td>10</td></tr>",
                            "<tr><td>2017</td><td>2</td><td>2885</td><td>Clinton St &amp; Washington Blvd</td><td>Subscriber</td><td>1</td></tr>",
                            "<tr><td>2017</td><td>2</td><td>2328</td><td>Clinton St &amp; Madison St</td><td>Subscriber</td><td>2</td></tr>",
                            "<tr><td>2017</td><td>2</td><td>2161</td><td>Canal St &amp; Adams St</td><td>Subscriber</td><td>3</td></tr>",
                            "<tr><td>2017</td><td>2</td><td>1840</td><td>Canal St &amp; Madison St</td><td>Subscriber</td><td>4</td></tr>",
                            "<tr><td>2017</td><td>2</td><td>1739</td><td>Clinton St &amp; Jackson Blvd</td><td>Subscriber</td><td>5</td></tr>",
                            "<tr><td>2017</td><td>2</td><td>1714</td><td>Kingsbury St &amp; Kinzie St</td><td>Subscriber</td><td>6</td></tr>",
                            "<tr><td>2017</td><td>2</td><td>1325</td><td>LaSalle St &amp; Jackson Blvd</td><td>Subscriber</td><td>7</td></tr>",
                            "<tr><td>2017</td><td>2</td><td>1301</td><td>Columbus Dr &amp; Randolph St</td><td>Subscriber</td><td>8</td></tr>",
                            "<tr><td>2017</td><td>2</td><td>1274</td><td>Franklin St &amp; Monroe St</td><td>Subscriber</td><td>9</td></tr>",
                            "<tr><td>2017</td><td>2</td><td>1241</td><td>Michigan Ave &amp; Lake St</td><td>Subscriber</td><td>10</td></tr>",
                            "<tr><td>2017</td><td>3</td><td>3063</td><td>Clinton St &amp; Washington Blvd</td><td>Subscriber</td><td>1</td></tr>",
                            "<tr><td>2017</td><td>3</td><td>2482</td><td>Canal St &amp; Adams St</td><td>Subscriber</td><td>2</td></tr>",
                            "<tr><td>2017</td><td>3</td><td>2472</td><td>Clinton St &amp; Madison St</td><td>Subscriber</td><td>3</td></tr>",
                            "<tr><td>2017</td><td>3</td><td>1898</td><td>Kingsbury St &amp; Kinzie St</td><td>Subscriber</td><td>4</td></tr>",
                            "<tr><td>2017</td><td>3</td><td>1875</td><td>Clinton St &amp; Jackson Blvd</td><td>Subscriber</td><td>5</td></tr>",
                            "<tr><td>2017</td><td>3</td><td>1863</td><td>Canal St &amp; Madison St</td><td>Subscriber</td><td>6</td></tr>",
                            "<tr><td>2017</td><td>3</td><td>1591</td><td>Franklin St &amp; Monroe St</td><td>Subscriber</td><td>7</td></tr>",
                            "<tr><td>2017</td><td>3</td><td>1386</td><td>Columbus Dr &amp; Randolph St</td><td>Subscriber</td><td>8</td></tr>",
                            "<tr><td>2017</td><td>3</td><td>1374</td><td>LaSalle St &amp; Jackson Blvd</td><td>Subscriber</td><td>9</td></tr>",
                            "<tr><td>2017</td><td>3</td><td>1366</td><td>Dearborn St &amp; Monroe St</td><td>Subscriber</td><td>10</td></tr>",
                            "<tr><td>2017</td><td>4</td><td>3624</td><td>Clinton St &amp; Washington Blvd</td><td>Subscriber</td><td>1</td></tr>",
                            "<tr><td>2017</td><td>4</td><td>2959</td><td>Clinton St &amp; Madison St</td><td>Subscriber</td><td>2</td></tr>",
                            "<tr><td>2017</td><td>4</td><td>2852</td><td>Canal St &amp; Adams St</td><td>Subscriber</td><td>3</td></tr>",
                            "<tr><td>2017</td><td>4</td><td>2405</td><td>Kingsbury St &amp; Kinzie St</td><td>Subscriber</td><td>4</td></tr>",
                            "<tr><td>2017</td><td>4</td><td>2264</td><td>Canal St &amp; Madison St</td><td>Subscriber</td><td>5</td></tr>",
                            "<tr><td>2017</td><td>4</td><td>2234</td><td>Franklin St &amp; Monroe St</td><td>Subscriber</td><td>6</td></tr>",
                            "<tr><td>2017</td><td>4</td><td>2184</td><td>Clinton St &amp; Jackson Blvd</td><td>Subscriber</td><td>7</td></tr>",
                            "<tr><td>2017</td><td>4</td><td>1877</td><td>Columbus Dr &amp; Randolph St</td><td>Subscriber</td><td>8</td></tr>",
                            "<tr><td>2017</td><td>4</td><td>1800</td><td>Orleans St &amp; Merchandise Mart Plaza</td><td>Subscriber</td><td>9</td></tr>",
                            "<tr><td>2017</td><td>4</td><td>1786</td><td>Daley Center Plaza</td><td>Subscriber</td><td>10</td></tr>",
                            "<tr><td>2017</td><td>5</td><td>4522</td><td>Clinton St &amp; Washington Blvd</td><td>Subscriber</td><td>1</td></tr>",
                            "<tr><td>2017</td><td>5</td><td>3733</td><td>Clinton St &amp; Madison St</td><td>Subscriber</td><td>2</td></tr>",
                            "<tr><td>2017</td><td>5</td><td>3494</td><td>Canal St &amp; Adams St</td><td>Subscriber</td><td>3</td></tr>",
                            "<tr><td>2017</td><td>5</td><td>2871</td><td>Canal St &amp; Madison St</td><td>Subscriber</td><td>4</td></tr>",
                            "<tr><td>2017</td><td>5</td><td>2733</td><td>Kingsbury St &amp; Kinzie St</td><td>Subscriber</td><td>5</td></tr>",
                            "<tr><td>2017</td><td>5</td><td>2713</td><td>Clinton St &amp; Jackson Blvd</td><td>Subscriber</td><td>6</td></tr>",
                            "<tr><td>2017</td><td>5</td><td>2637</td><td>Franklin St &amp; Monroe St</td><td>Subscriber</td><td>7</td></tr>",
                            "<tr><td>2017</td><td>5</td><td>2582</td><td>Columbus Dr &amp; Randolph St</td><td>Subscriber</td><td>8</td></tr>",
                            "<tr><td>2017</td><td>5</td><td>2427</td><td>Daley Center Plaza</td><td>Subscriber</td><td>9</td></tr>",
                            "<tr><td>2017</td><td>5</td><td>2384</td><td>Orleans St &amp; Merchandise Mart Plaza</td><td>Subscriber</td><td>10</td></tr>",
                            "<tr><td>2017</td><td>6</td><td>5576</td><td>Clinton St &amp; Washington Blvd</td><td>Subscriber</td><td>1</td></tr>",
                            "<tr><td>2017</td><td>6</td><td>4889</td><td>Clinton St &amp; Madison St</td><td>Subscriber</td><td>2</td></tr>",
                            "<tr><td>2017</td><td>6</td><td>4779</td><td>Canal St &amp; Adams St</td><td>Subscriber</td><td>3</td></tr>",
                            "<tr><td>2017</td><td>6</td><td>3972</td><td>Lake Shore Dr &amp; North Blvd</td><td>Subscriber</td><td>4</td></tr>",
                            "<tr><td>2017</td><td>6</td><td>3787</td><td>Daley Center Plaza</td><td>Subscriber</td><td>5</td></tr>",
                            "<tr><td>2017</td><td>6</td><td>3728</td><td>Kingsbury St &amp; Kinzie St</td><td>Subscriber</td><td>6</td></tr>",
                            "<tr><td>2017</td><td>6</td><td>3657</td><td>Canal St &amp; Madison St</td><td>Subscriber</td><td>7</td></tr>",
                            "<tr><td>2017</td><td>6</td><td>3628</td><td>Columbus Dr &amp; Randolph St</td><td>Subscriber</td><td>8</td></tr>",
                            "<tr><td>2017</td><td>6</td><td>3511</td><td>Franklin St &amp; Monroe St</td><td>Subscriber</td><td>9</td></tr>",
                            "<tr><td>2017</td><td>6</td><td>3505</td><td>Clinton St &amp; Jackson Blvd</td><td>Subscriber</td><td>10</td></tr>",
                            "<tr><td>2017</td><td>7</td><td>5368</td><td>Canal St &amp; Adams St</td><td>Subscriber</td><td>1</td></tr>",
                            "<tr><td>2017</td><td>7</td><td>4894</td><td>Clinton St &amp; Washington Blvd</td><td>Subscriber</td><td>2</td></tr>",
                            "<tr><td>2017</td><td>7</td><td>4640</td><td>Clinton St &amp; Madison St</td><td>Subscriber</td><td>3</td></tr>",
                            "<tr><td>2017</td><td>7</td><td>4439</td><td>Theater on the Lake</td><td>Subscriber</td><td>4</td></tr>",
                            "<tr><td>2017</td><td>7</td><td>4306</td><td>Lake Shore Dr &amp; North Blvd</td><td>Subscriber</td><td>5</td></tr>",
                            "<tr><td>2017</td><td>7</td><td>3875</td><td>Streeter Dr &amp; Grand Ave</td><td>Subscriber</td><td>6</td></tr>",
                            "<tr><td>2017</td><td>7</td><td>3815</td><td>Kingsbury St &amp; Kinzie St</td><td>Subscriber</td><td>7</td></tr>",
                            "<tr><td>2017</td><td>7</td><td>3724</td><td>Daley Center Plaza</td><td>Subscriber</td><td>8</td></tr>",
                            "<tr><td>2017</td><td>7</td><td>3667</td><td>Franklin St &amp; Monroe St</td><td>Subscriber</td><td>9</td></tr>",
                            "<tr><td>2017</td><td>7</td><td>3462</td><td>Columbus Dr &amp; Randolph St</td><td>Subscriber</td><td>10</td></tr>",
                            "<tr><td>2017</td><td>8</td><td>7485</td><td>Canal St &amp; Adams St</td><td>Subscriber</td><td>1</td></tr>",
                            "<tr><td>2017</td><td>8</td><td>6037</td><td>Clinton St &amp; Washington Blvd</td><td>Subscriber</td><td>2</td></tr>",
                            "<tr><td>2017</td><td>8</td><td>5429</td><td>Clinton St &amp; Madison St</td><td>Subscriber</td><td>3</td></tr>",
                            "<tr><td>2017</td><td>8</td><td>5000</td><td>Franklin St &amp; Monroe St</td><td>Subscriber</td><td>4</td></tr>",
                            "<tr><td>2017</td><td>8</td><td>4525</td><td>Daley Center Plaza</td><td>Subscriber</td><td>5</td></tr>",
                            "<tr><td>2017</td><td>8</td><td>4375</td><td>Orleans St &amp; Merchandise Mart Plaza</td><td>Subscriber</td><td>6</td></tr>",
                            "<tr><td>2017</td><td>8</td><td>4234</td><td>Canal St &amp; Madison St</td><td>Subscriber</td><td>7</td></tr>",
                            "<tr><td>2017</td><td>8</td><td>4142</td><td>Kingsbury St &amp; Kinzie St</td><td>Subscriber</td><td>8</td></tr>",
                            "<tr><td>2017</td><td>8</td><td>3879</td><td>Columbus Dr &amp; Randolph St</td><td>Subscriber</td><td>9</td></tr>",
                            "<tr><td>2017</td><td>8</td><td>3684</td><td>Theater on the Lake</td><td>Subscriber</td><td>10</td></tr>",
                            "<tr><td>2017</td><td>9</td><td>6374</td><td>Canal St &amp; Adams St</td><td>Subscriber</td><td>1</td></tr>",
                            "<tr><td>2017</td><td>9</td><td>5321</td><td>Clinton St &amp; Washington Blvd</td><td>Subscriber</td><td>2</td></tr>",
                            "<tr><td>2017</td><td>9</td><td>4887</td><td>Clinton St &amp; Madison St</td><td>Subscriber</td><td>3</td></tr>",
                            "<tr><td>2017</td><td>9</td><td>4405</td><td>Franklin St &amp; Monroe St</td><td>Subscriber</td><td>4</td></tr>",
                            "<tr><td>2017</td><td>9</td><td>3758</td><td>Kingsbury St &amp; Kinzie St</td><td>Subscriber</td><td>5</td></tr>",
                            "<tr><td>2017</td><td>9</td><td>3733</td><td>Daley Center Plaza</td><td>Subscriber</td><td>6</td></tr>",
                            "<tr><td>2017</td><td>9</td><td>3660</td><td>Columbus Dr &amp; Randolph St</td><td>Subscriber</td><td>7</td></tr>",
                            "<tr><td>2017</td><td>9</td><td>3626</td><td>Orleans St &amp; Merchandise Mart Plaza</td><td>Subscriber</td><td>8</td></tr>",
                            "<tr><td>2017</td><td>9</td><td>3463</td><td>Canal St &amp; Madison St</td><td>Subscriber</td><td>9</td></tr>",
                            "<tr><td>2017</td><td>9</td><td>3061</td><td>Michigan Ave &amp; Washington St</td><td>Subscriber</td><td>10</td></tr>",
                            "<tr><td>2017</td><td>10</td><td>5639</td><td>Canal St &amp; Adams St</td><td>Subscriber</td><td>1</td></tr>",
                            "<tr><td>2017</td><td>10</td><td>4603</td><td>Clinton St &amp; Washington Blvd</td><td>Subscriber</td><td>2</td></tr>",
                            "<tr><td>2017</td><td>10</td><td>4315</td><td>Clinton St &amp; Madison St</td><td>Subscriber</td><td>3</td></tr>",
                            "<tr><td>2017</td><td>10</td><td>3734</td><td>Franklin St &amp; Monroe St</td><td>Subscriber</td><td>4</td></tr>",
                            "<tr><td>2017</td><td>10</td><td>3398</td><td>Kingsbury St &amp; Kinzie St</td><td>Subscriber</td><td>5</td></tr>",
                            "<tr><td>2017</td><td>10</td><td>3141</td><td>Canal St &amp; Madison St</td><td>Subscriber</td><td>6</td></tr>",
                            "<tr><td>2017</td><td>10</td><td>3011</td><td>Columbus Dr &amp; Randolph St</td><td>Subscriber</td><td>7</td></tr>",
                            "<tr><td>2017</td><td>10</td><td>2956</td><td>Daley Center Plaza</td><td>Subscriber</td><td>8</td></tr>",
                            "<tr><td>2017</td><td>10</td><td>2892</td><td>Orleans St &amp; Merchandise Mart Plaza</td><td>Subscriber</td><td>9</td></tr>",
                            "<tr><td>2017</td><td>10</td><td>2849</td><td>Michigan Ave &amp; Washington St</td><td>Subscriber</td><td>10</td></tr>",
                            "<tr><td>2017</td><td>11</td><td>4122</td><td>Canal St &amp; Adams St</td><td>Subscriber</td><td>1</td></tr>",
                            "<tr><td>2017</td><td>11</td><td>3283</td><td>Clinton St &amp; Washington Blvd</td><td>Subscriber</td><td>2</td></tr>",
                            "<tr><td>2017</td><td>11</td><td>3026</td><td>Clinton St &amp; Madison St</td><td>Subscriber</td><td>3</td></tr>",
                            "<tr><td>2017</td><td>11</td><td>2230</td><td>Kingsbury St &amp; Kinzie St</td><td>Subscriber</td><td>4</td></tr>",
                            "<tr><td>2017</td><td>11</td><td>2187</td><td>Canal St &amp; Madison St</td><td>Subscriber</td><td>5</td></tr>",
                            "<tr><td>2017</td><td>11</td><td>2133</td><td>Franklin St &amp; Monroe St</td><td>Subscriber</td><td>6</td></tr>",
                            "<tr><td>2017</td><td>11</td><td>1971</td><td>Columbus Dr &amp; Randolph St</td><td>Subscriber</td><td>7</td></tr>",
                            "<tr><td>2017</td><td>11</td><td>1703</td><td>Michigan Ave &amp; Washington St</td><td>Subscriber</td><td>8</td></tr>",
                            "<tr><td>2017</td><td>11</td><td>1659</td><td>Larrabee St &amp; Kingsbury St</td><td>Subscriber</td><td>9</td></tr>",
                            "<tr><td>2017</td><td>11</td><td>1636</td><td>Clinton St &amp; Lake St</td><td>Subscriber</td><td>10</td></tr>",
                            "<tr><td>2017</td><td>12</td><td>2538</td><td>Canal St &amp; Adams St</td><td>Subscriber</td><td>1</td></tr>",
                            "<tr><td>2017</td><td>12</td><td>2176</td><td>Clinton St &amp; Washington Blvd</td><td>Subscriber</td><td>2</td></tr>",
                            "<tr><td>2017</td><td>12</td><td>1927</td><td>Clinton St &amp; Madison St</td><td>Subscriber</td><td>3</td></tr>",
                            "<tr><td>2017</td><td>12</td><td>1693</td><td>Kingsbury St &amp; Kinzie St</td><td>Subscriber</td><td>4</td></tr>",
                            "<tr><td>2017</td><td>12</td><td>1515</td><td>Canal St &amp; Madison St</td><td>Subscriber</td><td>5</td></tr>",
                            "<tr><td>2017</td><td>12</td><td>1366</td><td>Columbus Dr &amp; Randolph St</td><td>Subscriber</td><td>6</td></tr>",
                            "<tr><td>2017</td><td>12</td><td>1182</td><td>Larrabee St &amp; Kingsbury St</td><td>Subscriber</td><td>7</td></tr>",
                            "<tr><td>2017</td><td>12</td><td>1155</td><td>Clinton St &amp; Lake St</td><td>Subscriber</td><td>8</td></tr>",
                            "<tr><td>2017</td><td>12</td><td>1122</td><td>Daley Center Plaza</td><td>Subscriber</td><td>9</td></tr>",
                            "<tr><td>2017</td><td>12</td><td>1099</td><td>Michigan Ave &amp; Washington St</td><td>Subscriber</td><td>10</td></tr>",
                            "<tr><td>2018</td><td>1</td><td>2523</td><td>Canal St &amp; Adams St</td><td>Subscriber</td><td>1</td></tr>",
                            "<tr><td>2018</td><td>1</td><td>2349</td><td>Clinton St &amp; Washington Blvd</td><td>Subscriber</td><td>2</td></tr>",
                            "<tr><td>2018</td><td>1</td><td>1931</td><td>Clinton St &amp; Madison St</td><td>Subscriber</td><td>3</td></tr>",
                            "<tr><td>2018</td><td>1</td><td>1529</td><td>Kingsbury St &amp; Kinzie St</td><td>Subscriber</td><td>4</td></tr>",
                            "<tr><td>2018</td><td>1</td><td>1380</td><td>Canal St &amp; Madison St</td><td>Subscriber</td><td>5</td></tr>",
                            "<tr><td>2018</td><td>1</td><td>1199</td><td>Columbus Dr &amp; Randolph St</td><td>Subscriber</td><td>6</td></tr>",
                            "<tr><td>2018</td><td>1</td><td>1159</td><td>Michigan Ave &amp; Washington St</td><td>Subscriber</td><td>7</td></tr>",
                            "<tr><td>2018</td><td>1</td><td>1119</td><td>Larrabee St &amp; Kingsbury St</td><td>Subscriber</td><td>8</td></tr>",
                            "<tr><td>2018</td><td>1</td><td>1086</td><td>Franklin St &amp; Monroe St</td><td>Subscriber</td><td>9</td></tr>",
                            "<tr><td>2018</td><td>1</td><td>1055</td><td>Clinton St &amp; Lake St</td><td>Subscriber</td><td>10</td></tr>",
                            "<tr><td>2018</td><td>2</td><td>2377</td><td>Canal St &amp; Adams St</td><td>Subscriber</td><td>1</td></tr>",
                            "<tr><td>2018</td><td>2</td><td>2121</td><td>Clinton St &amp; Washington Blvd</td><td>Subscriber</td><td>2</td></tr>",
                            "<tr><td>2018</td><td>2</td><td>1711</td><td>Clinton St &amp; Madison St</td><td>Subscriber</td><td>3</td></tr>",
                            "<tr><td>2018</td><td>2</td><td>1292</td><td>Canal St &amp; Madison St</td><td>Subscriber</td><td>4</td></tr>",
                            "<tr><td>2018</td><td>2</td><td>1181</td><td>Kingsbury St &amp; Kinzie St</td><td>Subscriber</td><td>5</td></tr>",
                            "<tr><td>2018</td><td>2</td><td>1142</td><td>Michigan Ave &amp; Washington St</td><td>Subscriber</td><td>6</td></tr>",
                            "<tr><td>2018</td><td>2</td><td>1063</td><td>Columbus Dr &amp; Randolph St</td><td>Subscriber</td><td>7</td></tr>",
                            "<tr><td>2018</td><td>2</td><td>1008</td><td>Franklin St &amp; Monroe St</td><td>Subscriber</td><td>8</td></tr>",
                            "<tr><td>2018</td><td>2</td><td>996</td><td>Clinton St &amp; Lake St</td><td>Subscriber</td><td>9</td></tr>",
                            "<tr><td>2018</td><td>2</td><td>960</td><td>Larrabee St &amp; Kingsbury St</td><td>Subscriber</td><td>10</td></tr>",
                            "<tr><td>2018</td><td>3</td><td>3479</td><td>Canal St &amp; Adams St</td><td>Subscriber</td><td>1</td></tr>",
                            "<tr><td>2018</td><td>3</td><td>3144</td><td>Clinton St &amp; Washington Blvd</td><td>Subscriber</td><td>2</td></tr>",
                            "<tr><td>2018</td><td>3</td><td>2489</td><td>Clinton St &amp; Madison St</td><td>Subscriber</td><td>3</td></tr>",
                            "<tr><td>2018</td><td>3</td><td>2040</td><td>Kingsbury St &amp; Kinzie St</td><td>Subscriber</td><td>4</td></tr>",
                            "<tr><td>2018</td><td>3</td><td>1952</td><td>Canal St &amp; Madison St</td><td>Subscriber</td><td>5</td></tr>",
                            "<tr><td>2018</td><td>3</td><td>1800</td><td>Columbus Dr &amp; Randolph St</td><td>Subscriber</td><td>6</td></tr>",
                            "<tr><td>2018</td><td>3</td><td>1622</td><td>Michigan Ave &amp; Washington St</td><td>Subscriber</td><td>7</td></tr>",
                            "<tr><td>2018</td><td>3</td><td>1555</td><td>Larrabee St &amp; Kingsbury St</td><td>Subscriber</td><td>8</td></tr>",
                            "<tr><td>2018</td><td>3</td><td>1476</td><td>Dearborn St &amp; Monroe St</td><td>Subscriber</td><td>9</td></tr>",
                            "<tr><td>2018</td><td>3</td><td>1449</td><td>Franklin St &amp; Monroe St</td><td>Subscriber</td><td>10</td></tr>",
                            "<tr><td>2018</td><td>4</td><td>3946</td><td>Canal St &amp; Adams St</td><td>Subscriber</td><td>1</td></tr>",
                            "<tr><td>2018</td><td>4</td><td>3367</td><td>Clinton St &amp; Washington Blvd</td><td>Subscriber</td><td>2</td></tr>",
                            "<tr><td>2018</td><td>4</td><td>2723</td><td>Clinton St &amp; Madison St</td><td>Subscriber</td><td>3</td></tr>",
                            "<tr><td>2018</td><td>4</td><td>2211</td><td>Kingsbury St &amp; Kinzie St</td><td>Subscriber</td><td>4</td></tr>",
                            "<tr><td>2018</td><td>4</td><td>2148</td><td>Canal St &amp; Madison St</td><td>Subscriber</td><td>5</td></tr>",
                            "<tr><td>2018</td><td>4</td><td>2071</td><td>Columbus Dr &amp; Randolph St</td><td>Subscriber</td><td>6</td></tr>",
                            "<tr><td>2018</td><td>4</td><td>1857</td><td>Franklin St &amp; Monroe St</td><td>Subscriber</td><td>7</td></tr>",
                            "<tr><td>2018</td><td>4</td><td>1825</td><td>Michigan Ave &amp; Washington St</td><td>Subscriber</td><td>8</td></tr>",
                            "<tr><td>2018</td><td>4</td><td>1770</td><td>Daley Center Plaza</td><td>Subscriber</td><td>9</td></tr>",
                            "<tr><td>2018</td><td>4</td><td>1651</td><td>Orleans St &amp; Merchandise Mart Plaza</td><td>Subscriber</td><td>10</td></tr>",
                            "<tr><td>2018</td><td>5</td><td>5916</td><td>Canal St &amp; Adams St</td><td>Subscriber</td><td>1</td></tr>",
                            "<tr><td>2018</td><td>5</td><td>4903</td><td>Clinton St &amp; Washington Blvd</td><td>Subscriber</td><td>2</td></tr>",
                            "<tr><td>2018</td><td>5</td><td>4201</td><td>Clinton St &amp; Madison St</td><td>Subscriber</td><td>3</td></tr>",
                            "<tr><td>2018</td><td>5</td><td>3514</td><td>Daley Center Plaza</td><td>Subscriber</td><td>4</td></tr>",
                            "<tr><td>2018</td><td>5</td><td>3504</td><td>Kingsbury St &amp; Kinzie St</td><td>Subscriber</td><td>5</td></tr>",
                            "<tr><td>2018</td><td>5</td><td>3436</td><td>Franklin St &amp; Monroe St</td><td>Subscriber</td><td>6</td></tr>",
                            "<tr><td>2018</td><td>5</td><td>3114</td><td>Canal St &amp; Madison St</td><td>Subscriber</td><td>7</td></tr>",
                            "<tr><td>2018</td><td>5</td><td>3047</td><td>Columbus Dr &amp; Randolph St</td><td>Subscriber</td><td>8</td></tr>",
                            "<tr><td>2018</td><td>5</td><td>3008</td><td>Michigan Ave &amp; Washington St</td><td>Subscriber</td><td>9</td></tr>",
                            "<tr><td>2018</td><td>5</td><td>2980</td><td>Orleans St &amp; Merchandise Mart Plaza</td><td>Subscriber</td><td>10</td></tr>",
                            "<tr><td>2018</td><td>6</td><td>6928</td><td>Canal St &amp; Adams St</td><td>Subscriber</td><td>1</td></tr>",
                            "<tr><td>2018</td><td>6</td><td>5468</td><td>Clinton St &amp; Madison St</td><td>Subscriber</td><td>2</td></tr>",
                            "<tr><td>2018</td><td>6</td><td>4893</td><td>Clinton St &amp; Washington Blvd</td><td>Subscriber</td><td>3</td></tr>",
                            "<tr><td>2018</td><td>6</td><td>3993</td><td>Daley Center Plaza</td><td>Subscriber</td><td>4</td></tr>",
                            "<tr><td>2018</td><td>6</td><td>3522</td><td>Kingsbury St &amp; Kinzie St</td><td>Subscriber</td><td>5</td></tr>",
                            "<tr><td>2018</td><td>6</td><td>3502</td><td>Franklin St &amp; Monroe St</td><td>Subscriber</td><td>6</td></tr>",
                            "<tr><td>2018</td><td>6</td><td>3453</td><td>Michigan Ave &amp; Washington St</td><td>Subscriber</td><td>7</td></tr>",
                            "<tr><td>2018</td><td>6</td><td>3318</td><td>Canal St &amp; Madison St</td><td>Subscriber</td><td>8</td></tr>",
                            "<tr><td>2018</td><td>6</td><td>3198</td><td>Columbus Dr &amp; Randolph St</td><td>Subscriber</td><td>9</td></tr>",
                            "<tr><td>2018</td><td>6</td><td>3099</td><td>LaSalle St &amp; Jackson Blvd</td><td>Subscriber</td><td>10</td></tr>",
                            "<tr><td>2018</td><td>7</td><td>7885</td><td>Canal St &amp; Adams St</td><td>Subscriber</td><td>1</td></tr>",
                            "<tr><td>2018</td><td>7</td><td>6865</td><td>Clinton St &amp; Madison St</td><td>Subscriber</td><td>2</td></tr>",
                            "<tr><td>2018</td><td>7</td><td>5020</td><td>Clinton St &amp; Washington Blvd</td><td>Subscriber</td><td>3</td></tr>",
                            "<tr><td>2018</td><td>7</td><td>4292</td><td>Daley Center Plaza</td><td>Subscriber</td><td>4</td></tr>",
                            "<tr><td>2018</td><td>7</td><td>4140</td><td>Michigan Ave &amp; Washington St</td><td>Subscriber</td><td>5</td></tr>",
                            "<tr><td>2018</td><td>7</td><td>4088</td><td>Franklin St &amp; Monroe St</td><td>Subscriber</td><td>6</td></tr>",
                            "<tr><td>2018</td><td>7</td><td>3943</td><td>Kingsbury St &amp; Kinzie St</td><td>Subscriber</td><td>7</td></tr>",
                            "<tr><td>2018</td><td>7</td><td>3873</td><td>Theater on the Lake</td><td>Subscriber</td><td>8</td></tr>",
                            "<tr><td>2018</td><td>7</td><td>3750</td><td>Orleans St &amp; Merchandise Mart Plaza</td><td>Subscriber</td><td>9</td></tr>",
                            "<tr><td>2018</td><td>7</td><td>3651</td><td>Lake Shore Dr &amp; North Blvd</td><td>Subscriber</td><td>10</td></tr>",
                            "<tr><td>2018</td><td>8</td><td>8426</td><td>Canal St &amp; Adams St</td><td>Subscriber</td><td>1</td></tr>",
                            "<tr><td>2018</td><td>8</td><td>7012</td><td>Clinton St &amp; Madison St</td><td>Subscriber</td><td>2</td></tr>",
                            "<tr><td>2018</td><td>8</td><td>5622</td><td>Clinton St &amp; Washington Blvd</td><td>Subscriber</td><td>3</td></tr>",
                            "<tr><td>2018</td><td>8</td><td>4564</td><td>Daley Center Plaza</td><td>Subscriber</td><td>4</td></tr>",
                            "<tr><td>2018</td><td>8</td><td>4412</td><td>Michigan Ave &amp; Washington St</td><td>Subscriber</td><td>5</td></tr>",
                            "<tr><td>2018</td><td>8</td><td>4406</td><td>Canal St &amp; Madison St</td><td>Subscriber</td><td>6</td></tr>",
                            "<tr><td>2018</td><td>8</td><td>4278</td><td>Kingsbury St &amp; Kinzie St</td><td>Subscriber</td><td>7</td></tr>",
                            "<tr><td>2018</td><td>8</td><td>4262</td><td>Franklin St &amp; Monroe St</td><td>Subscriber</td><td>8</td></tr>",
                            "<tr><td>2018</td><td>8</td><td>3920</td><td>Orleans St &amp; Merchandise Mart Plaza</td><td>Subscriber</td><td>9</td></tr>",
                            "<tr><td>2018</td><td>8</td><td>3735</td><td>Columbus Dr &amp; Randolph St</td><td>Subscriber</td><td>10</td></tr>",
                            "<tr><td>2018</td><td>9</td><td>6798</td><td>Canal St &amp; Adams St</td><td>Subscriber</td><td>1</td></tr>",
                            "<tr><td>2018</td><td>9</td><td>5601</td><td>Clinton St &amp; Madison St</td><td>Subscriber</td><td>2</td></tr>",
                            "<tr><td>2018</td><td>9</td><td>5013</td><td>Clinton St &amp; Washington Blvd</td><td>Subscriber</td><td>3</td></tr>",
                            "<tr><td>2018</td><td>9</td><td>3829</td><td>Daley Center Plaza</td><td>Subscriber</td><td>4</td></tr>",
                            "<tr><td>2018</td><td>9</td><td>3661</td><td>Canal St &amp; Madison St</td><td>Subscriber</td><td>5</td></tr>",
                            "<tr><td>2018</td><td>9</td><td>3512</td><td>Kingsbury St &amp; Kinzie St</td><td>Subscriber</td><td>6</td></tr>",
                            "<tr><td>2018</td><td>9</td><td>3491</td><td>Michigan Ave &amp; Washington St</td><td>Subscriber</td><td>7</td></tr>",
                            "<tr><td>2018</td><td>9</td><td>3318</td><td>Franklin St &amp; Monroe St</td><td>Subscriber</td><td>8</td></tr>",
                            "<tr><td>2018</td><td>9</td><td>3172</td><td>Columbus Dr &amp; Randolph St</td><td>Subscriber</td><td>9</td></tr>",
                            "<tr><td>2018</td><td>9</td><td>3156</td><td>Orleans St &amp; Merchandise Mart Plaza</td><td>Subscriber</td><td>10</td></tr>",
                            "<tr><td>2018</td><td>10</td><td>6101</td><td>Canal St &amp; Adams St</td><td>Subscriber</td><td>1</td></tr>",
                            "<tr><td>2018</td><td>10</td><td>5377</td><td>Clinton St &amp; Madison St</td><td>Subscriber</td><td>2</td></tr>",
                            "<tr><td>2018</td><td>10</td><td>5047</td><td>Clinton St &amp; Washington Blvd</td><td>Subscriber</td><td>3</td></tr>",
                            "<tr><td>2018</td><td>10</td><td>3645</td><td>Daley Center Plaza</td><td>Subscriber</td><td>4</td></tr>",
                            "<tr><td>2018</td><td>10</td><td>3515</td><td>Canal St &amp; Madison St</td><td>Subscriber</td><td>5</td></tr>",
                            "<tr><td>2018</td><td>10</td><td>3406</td><td>Franklin St &amp; Monroe St</td><td>Subscriber</td><td>6</td></tr>",
                            "<tr><td>2018</td><td>10</td><td>3332</td><td>Michigan Ave &amp; Washington St</td><td>Subscriber</td><td>7</td></tr>",
                            "<tr><td>2018</td><td>10</td><td>3270</td><td>Kingsbury St &amp; Kinzie St</td><td>Subscriber</td><td>8</td></tr>",
                            "<tr><td>2018</td><td>10</td><td>3109</td><td>Orleans St &amp; Merchandise Mart Plaza</td><td>Subscriber</td><td>9</td></tr>",
                            "<tr><td>2018</td><td>10</td><td>3046</td><td>Columbus Dr &amp; Randolph St</td><td>Subscriber</td><td>10</td></tr>",
                            "<tr><td>2018</td><td>11</td><td>3433</td><td>Clinton St &amp; Madison St</td><td>Subscriber</td><td>1</td></tr>",
                            "<tr><td>2018</td><td>11</td><td>3197</td><td>Canal St &amp; Adams St</td><td>Subscriber</td><td>2</td></tr>",
                            "<tr><td>2018</td><td>11</td><td>2472</td><td>Clinton St &amp; Washington Blvd</td><td>Subscriber</td><td>3</td></tr>",
                            "<tr><td>2018</td><td>11</td><td>1866</td><td>Canal St &amp; Madison St</td><td>Subscriber</td><td>4</td></tr>",
                            "<tr><td>2018</td><td>11</td><td>1865</td><td>Kingsbury St &amp; Kinzie St</td><td>Subscriber</td><td>5</td></tr>",
                            "<tr><td>2018</td><td>11</td><td>1794</td><td>Columbus Dr &amp; Randolph St</td><td>Subscriber</td><td>6</td></tr>",
                            "<tr><td>2018</td><td>11</td><td>1722</td><td>Franklin St &amp; Monroe St</td><td>Subscriber</td><td>7</td></tr>",
                            "<tr><td>2018</td><td>11</td><td>1668</td><td>Michigan Ave &amp; Washington St</td><td>Subscriber</td><td>8</td></tr>",
                            "<tr><td>2018</td><td>11</td><td>1526</td><td>Daley Center Plaza</td><td>Subscriber</td><td>9</td></tr>",
                            "<tr><td>2018</td><td>11</td><td>1448</td><td>Clinton St &amp; Lake St</td><td>Subscriber</td><td>10</td></tr>",
                            "<tr><td>2018</td><td>12</td><td>2546</td><td>Clinton St &amp; Washington Blvd</td><td>Subscriber</td><td>1</td></tr>",
                            "<tr><td>2018</td><td>12</td><td>2050</td><td>Clinton St &amp; Madison St</td><td>Subscriber</td><td>2</td></tr>",
                            "<tr><td>2018</td><td>12</td><td>1961</td><td>Canal St &amp; Adams St</td><td>Subscriber</td><td>3</td></tr>",
                            "<tr><td>2018</td><td>12</td><td>1482</td><td>Canal St &amp; Madison St</td><td>Subscriber</td><td>4</td></tr>",
                            "<tr><td>2018</td><td>12</td><td>1469</td><td>Kingsbury St &amp; Kinzie St</td><td>Subscriber</td><td>5</td></tr>",
                            "<tr><td>2018</td><td>12</td><td>1384</td><td>Columbus Dr &amp; Randolph St</td><td>Subscriber</td><td>6</td></tr>",
                            "<tr><td>2018</td><td>12</td><td>1172</td><td>Larrabee St &amp; Kingsbury St</td><td>Subscriber</td><td>7</td></tr>",
                            "<tr><td>2018</td><td>12</td><td>1168</td><td>Michigan Ave &amp; Washington St</td><td>Subscriber</td><td>8</td></tr>",
                            "<tr><td>2018</td><td>12</td><td>1098</td><td>Franklin St &amp; Monroe St</td><td>Subscriber</td><td>9</td></tr>",
                            "<tr><td>2018</td><td>12</td><td>1088</td><td>Dearborn St &amp; Monroe St</td><td>Subscriber</td><td>10</td></tr>",
                            "<tr><td>2019</td><td>1</td><td>2309</td><td>Clinton St &amp; Washington Blvd</td><td>Subscriber</td><td>1</td></tr>",
                            "<tr><td>2019</td><td>1</td><td>1944</td><td>Clinton St &amp; Madison St</td><td>Subscriber</td><td>2</td></tr>",
                            "<tr><td>2019</td><td>1</td><td>1899</td><td>Canal St &amp; Adams St</td><td>Subscriber</td><td>3</td></tr>",
                            "<tr><td>2019</td><td>1</td><td>1350</td><td>Canal St &amp; Madison St</td><td>Subscriber</td><td>4</td></tr>",
                            "<tr><td>2019</td><td>1</td><td>1295</td><td>Columbus Dr &amp; Randolph St</td><td>Subscriber</td><td>5</td></tr>",
                            "<tr><td>2019</td><td>1</td><td>1290</td><td>Kingsbury St &amp; Kinzie St</td><td>Subscriber</td><td>6</td></tr>",
                            "<tr><td>2019</td><td>1</td><td>1154</td><td>Michigan Ave &amp; Washington St</td><td>Subscriber</td><td>7</td></tr>",
                            "<tr><td>2019</td><td>1</td><td>992</td><td>Franklin St &amp; Monroe St</td><td>Subscriber</td><td>8</td></tr>",
                            "<tr><td>2019</td><td>1</td><td>950</td><td>Larrabee St &amp; Kingsbury St</td><td>Subscriber</td><td>9</td></tr>",
                            "<tr><td>2019</td><td>1</td><td>939</td><td>Dearborn St &amp; Monroe St</td><td>Subscriber</td><td>10</td></tr>",
                            "<tr><td>2019</td><td>2</td><td>2160</td><td>Clinton St &amp; Washington Blvd</td><td>Subscriber</td><td>1</td></tr>",
                            "<tr><td>2019</td><td>2</td><td>1902</td><td>Clinton St &amp; Madison St</td><td>Subscriber</td><td>2</td></tr>",
                            "<tr><td>2019</td><td>2</td><td>1760</td><td>Canal St &amp; Adams St</td><td>Subscriber</td><td>3</td></tr>",
                            "<tr><td>2019</td><td>2</td><td>1227</td><td>Canal St &amp; Madison St</td><td>Subscriber</td><td>4</td></tr>",
                            "<tr><td>2019</td><td>2</td><td>1222</td><td>Columbus Dr &amp; Randolph St</td><td>Subscriber</td><td>5</td></tr>",
                            "<tr><td>2019</td><td>2</td><td>1187</td><td>Kingsbury St &amp; Kinzie St</td><td>Subscriber</td><td>6</td></tr>",
                            "<tr><td>2019</td><td>2</td><td>1071</td><td>Franklin St &amp; Monroe St</td><td>Subscriber</td><td>7</td></tr>",
                            "<tr><td>2019</td><td>2</td><td>1062</td><td>Michigan Ave &amp; Washington St</td><td>Subscriber</td><td>8</td></tr>",
                            "<tr><td>2019</td><td>2</td><td>946</td><td>LaSalle St &amp; Jackson Blvd</td><td>Subscriber</td><td>9</td></tr>",
                            "<tr><td>2019</td><td>2</td><td>931</td><td>Dearborn St &amp; Monroe St</td><td>Subscriber</td><td>10</td></tr>",
                            "<tr><td>2019</td><td>2</td><td>931</td><td>Clinton St &amp; Lake St</td><td>Subscriber</td><td>10</td></tr>",
                            "<tr><td>2019</td><td>3</td><td>3142</td><td>Clinton St &amp; Washington Blvd</td><td>Subscriber</td><td>1</td></tr>",
                            "<tr><td>2019</td><td>3</td><td>2552</td><td>Canal St &amp; Adams St</td><td>Subscriber</td><td>2</td></tr>",
                            "<tr><td>2019</td><td>3</td><td>2498</td><td>Clinton St &amp; Madison St</td><td>Subscriber</td><td>3</td></tr>",
                            "<tr><td>2019</td><td>3</td><td>1899</td><td>Columbus Dr &amp; Randolph St</td><td>Subscriber</td><td>4</td></tr>",
                            "<tr><td>2019</td><td>3</td><td>1884</td><td>Canal St &amp; Madison St</td><td>Subscriber</td><td>5</td></tr>",
                            "<tr><td>2019</td><td>3</td><td>1751</td><td>Kingsbury St &amp; Kinzie St</td><td>Subscriber</td><td>6</td></tr>",
                            "<tr><td>2019</td><td>3</td><td>1430</td><td>Michigan Ave &amp; Washington St</td><td>Subscriber</td><td>7</td></tr>",
                            "<tr><td>2019</td><td>3</td><td>1365</td><td>Franklin St &amp; Monroe St</td><td>Subscriber</td><td>8</td></tr>",
                            "<tr><td>2019</td><td>3</td><td>1327</td><td>LaSalle St &amp; Jackson Blvd</td><td>Subscriber</td><td>9</td></tr>",
                            "<tr><td>2019</td><td>3</td><td>1284</td><td>Larrabee St &amp; Kingsbury St</td><td>Subscriber</td><td>10</td></tr>",
                            "<tr><td>2019</td><td>4</td><td>3978</td><td>Clinton St &amp; Washington Blvd</td><td>Subscriber</td><td>1</td></tr>",
                            "<tr><td>2019</td><td>4</td><td>3796</td><td>Canal St &amp; Adams St</td><td>Subscriber</td><td>2</td></tr>",
                            "<tr><td>2019</td><td>4</td><td>3594</td><td>Clinton St &amp; Madison St</td><td>Subscriber</td><td>3</td></tr>",
                            "<tr><td>2019</td><td>4</td><td>2758</td><td>Columbus Dr &amp; Randolph St</td><td>Subscriber</td><td>4</td></tr>",
                            "<tr><td>2019</td><td>4</td><td>2590</td><td>Canal St &amp; Madison St</td><td>Subscriber</td><td>5</td></tr>",
                            "<tr><td>2019</td><td>4</td><td>2518</td><td>Franklin St &amp; Monroe St</td><td>Subscriber</td><td>6</td></tr>",
                            "<tr><td>2019</td><td>4</td><td>2359</td><td>Daley Center Plaza</td><td>Subscriber</td><td>7</td></tr>",
                            "<tr><td>2019</td><td>4</td><td>2292</td><td>Kingsbury St &amp; Kinzie St</td><td>Subscriber</td><td>8</td></tr>",
                            "<tr><td>2019</td><td>4</td><td>1849</td><td>Orleans St &amp; Merchandise Mart Plaza</td><td>Subscriber</td><td>9</td></tr>",
                            "<tr><td>2019</td><td>4</td><td>1720</td><td>Clinton St &amp; Lake St</td><td>Subscriber</td><td>10</td></tr>",
                            "<tr><td>2019</td><td>5</td><td>4701</td><td>Canal St &amp; Adams St</td><td>Subscriber</td><td>1</td></tr>",
                            "<tr><td>2019</td><td>5</td><td>4413</td><td>Clinton St &amp; Washington Blvd</td><td>Subscriber</td><td>2</td></tr>",
                            "<tr><td>2019</td><td>5</td><td>4313</td><td>Clinton St &amp; Madison St</td><td>Subscriber</td><td>3</td></tr>",
                            "<tr><td>2019</td><td>5</td><td>3342</td><td>Columbus Dr &amp; Randolph St</td><td>Subscriber</td><td>4</td></tr>",
                            "<tr><td>2019</td><td>5</td><td>3098</td><td>Franklin St &amp; Monroe St</td><td>Subscriber</td><td>5</td></tr>",
                            "<tr><td>2019</td><td>5</td><td>2986</td><td>Daley Center Plaza</td><td>Subscriber</td><td>6</td></tr>",
                            "<tr><td>2019</td><td>5</td><td>2939</td><td>Canal St &amp; Madison St</td><td>Subscriber</td><td>7</td></tr>",
                            "<tr><td>2019</td><td>5</td><td>2720</td><td>Kingsbury St &amp; Kinzie St</td><td>Subscriber</td><td>8</td></tr>",
                            "<tr><td>2019</td><td>5</td><td>2199</td><td>Orleans St &amp; Merchandise Mart Plaza</td><td>Subscriber</td><td>9</td></tr>",
                            "<tr><td>2019</td><td>5</td><td>2118</td><td>Michigan Ave &amp; Washington St</td><td>Subscriber</td><td>10</td></tr>",
                            "<tr><td>2019</td><td>6</td><td>5436</td><td>Canal St &amp; Adams St</td><td>Subscriber</td><td>1</td></tr>",
                            "<tr><td>2019</td><td>6</td><td>4860</td><td>Clinton St &amp; Madison St</td><td>Subscriber</td><td>2</td></tr>",
                            "<tr><td>2019</td><td>6</td><td>4588</td><td>Clinton St &amp; Washington Blvd</td><td>Subscriber</td><td>3</td></tr>",
                            "<tr><td>2019</td><td>6</td><td>3701</td><td>Daley Center Plaza</td><td>Subscriber</td><td>4</td></tr>",
                            "<tr><td>2019</td><td>6</td><td>3596</td><td>Franklin St &amp; Monroe St</td><td>Subscriber</td><td>5</td></tr>",
                            "<tr><td>2019</td><td>6</td><td>3438</td><td>Columbus Dr &amp; Randolph St</td><td>Subscriber</td><td>6</td></tr>",
                            "<tr><td>2019</td><td>6</td><td>3352</td><td>Kingsbury St &amp; Kinzie St</td><td>Subscriber</td><td>7</td></tr>",
                            "<tr><td>2019</td><td>6</td><td>2968</td><td>Canal St &amp; Madison St</td><td>Subscriber</td><td>8</td></tr>",
                            "<tr><td>2019</td><td>6</td><td>2963</td><td>Michigan Ave &amp; Washington St</td><td>Subscriber</td><td>9</td></tr>",
                            "<tr><td>2019</td><td>6</td><td>2769</td><td>Theater on the Lake</td><td>Subscriber</td><td>10</td></tr>",
                            "<tr><td>2019</td><td>7</td><td>5891</td><td>Canal St &amp; Adams St</td><td>Subscriber</td><td>1</td></tr>",
                            "<tr><td>2019</td><td>7</td><td>5429</td><td>Clinton St &amp; Madison St</td><td>Subscriber</td><td>2</td></tr>",
                            "<tr><td>2019</td><td>7</td><td>4976</td><td>Clinton St &amp; Washington Blvd</td><td>Subscriber</td><td>3</td></tr>",
                            "<tr><td>2019</td><td>7</td><td>4162</td><td>Daley Center Plaza</td><td>Subscriber</td><td>4</td></tr>",
                            "<tr><td>2019</td><td>7</td><td>3826</td><td>Lake Shore Dr &amp; North Blvd</td><td>Subscriber</td><td>5</td></tr>",
                            "<tr><td>2019</td><td>7</td><td>3709</td><td>Kingsbury St &amp; Kinzie St</td><td>Subscriber</td><td>6</td></tr>",
                            "<tr><td>2019</td><td>7</td><td>3650</td><td>Franklin St &amp; Monroe St</td><td>Subscriber</td><td>7</td></tr>",
                            "<tr><td>2019</td><td>7</td><td>3633</td><td>Theater on the Lake</td><td>Subscriber</td><td>8</td></tr>",
                            "<tr><td>2019</td><td>7</td><td>3607</td><td>Michigan Ave &amp; Washington St</td><td>Subscriber</td><td>9</td></tr>",
                            "<tr><td>2019</td><td>7</td><td>3369</td><td>Columbus Dr &amp; Randolph St</td><td>Subscriber</td><td>10</td></tr>",
                            "<tr><td>2019</td><td>8</td><td>6240</td><td>Canal St &amp; Adams St</td><td>Subscriber</td><td>1</td></tr>",
                            "<tr><td>2019</td><td>8</td><td>6054</td><td>Clinton St &amp; Madison St</td><td>Subscriber</td><td>2</td></tr>",
                            "<tr><td>2019</td><td>8</td><td>5349</td><td>Clinton St &amp; Washington Blvd</td><td>Subscriber</td><td>3</td></tr>",
                            "<tr><td>2019</td><td>8</td><td>4479</td><td>Daley Center Plaza</td><td>Subscriber</td><td>4</td></tr>",
                            "<tr><td>2019</td><td>8</td><td>4295</td><td>Franklin St &amp; Monroe St</td><td>Subscriber</td><td>5</td></tr>",
                            "<tr><td>2019</td><td>8</td><td>3917</td><td>Kingsbury St &amp; Kinzie St</td><td>Subscriber</td><td>6</td></tr>",
                            "<tr><td>2019</td><td>8</td><td>3867</td><td>Columbus Dr &amp; Randolph St</td><td>Subscriber</td><td>7</td></tr>",
                            "<tr><td>2019</td><td>8</td><td>3390</td><td>Michigan Ave &amp; Washington St</td><td>Subscriber</td><td>8</td></tr>",
                            "<tr><td>2019</td><td>8</td><td>3356</td><td>Theater on the Lake</td><td>Subscriber</td><td>9</td></tr>",
                            "<tr><td>2019</td><td>8</td><td>3313</td><td>Lake Shore Dr &amp; North Blvd</td><td>Subscriber</td><td>10</td></tr>",
                            "<tr><td>2019</td><td>9</td><td>5998</td><td>Canal St &amp; Adams St</td><td>Subscriber</td><td>1</td></tr>",
                            "<tr><td>2019</td><td>9</td><td>5495</td><td>Clinton St &amp; Madison St</td><td>Subscriber</td><td>2</td></tr>",
                            "<tr><td>2019</td><td>9</td><td>5044</td><td>Clinton St &amp; Washington Blvd</td><td>Subscriber</td><td>3</td></tr>",
                            "<tr><td>2019</td><td>9</td><td>4138</td><td>Daley Center Plaza</td><td>Subscriber</td><td>4</td></tr>",
                            "<tr><td>2019</td><td>9</td><td>3844</td><td>Franklin St &amp; Monroe St</td><td>Subscriber</td><td>5</td></tr>",
                            "<tr><td>2019</td><td>9</td><td>3563</td><td>Kingsbury St &amp; Kinzie St</td><td>Subscriber</td><td>6</td></tr>",
                            "<tr><td>2019</td><td>9</td><td>3413</td><td>Columbus Dr &amp; Randolph St</td><td>Subscriber</td><td>7</td></tr>",
                            "<tr><td>2019</td><td>9</td><td>3181</td><td>Michigan Ave &amp; Washington St</td><td>Subscriber</td><td>8</td></tr>",
                            "<tr><td>2019</td><td>9</td><td>3006</td><td>Canal St &amp; Madison St</td><td>Subscriber</td><td>9</td></tr>",
                            "<tr><td>2019</td><td>9</td><td>2838</td><td>LaSalle St &amp; Jackson Blvd</td><td>Subscriber</td><td>10</td></tr>",
                            "<tr><td>2019</td><td>10</td><td>6161</td><td>Canal St &amp; Adams St</td><td>Subscriber</td><td>1</td></tr>",
                            "<tr><td>2019</td><td>10</td><td>4935</td><td>Clinton St &amp; Madison St</td><td>Subscriber</td><td>2</td></tr>",
                            "<tr><td>2019</td><td>10</td><td>4633</td><td>Clinton St &amp; Washington Blvd</td><td>Subscriber</td><td>3</td></tr>",
                            "<tr><td>2019</td><td>10</td><td>3435</td><td>Franklin St &amp; Monroe St</td><td>Subscriber</td><td>4</td></tr>",
                            "<tr><td>2019</td><td>10</td><td>3312</td><td>Columbus Dr &amp; Randolph St</td><td>Subscriber</td><td>5</td></tr>",
                            "<tr><td>2019</td><td>10</td><td>3177</td><td>Kingsbury St &amp; Kinzie St</td><td>Subscriber</td><td>6</td></tr>",
                            "<tr><td>2019</td><td>10</td><td>3110</td><td>Daley Center Plaza</td><td>Subscriber</td><td>7</td></tr>",
                            "<tr><td>2019</td><td>10</td><td>2704</td><td>Michigan Ave &amp; Washington St</td><td>Subscriber</td><td>8</td></tr>",
                            "<tr><td>2019</td><td>10</td><td>2583</td><td>LaSalle St &amp; Jackson Blvd</td><td>Subscriber</td><td>9</td></tr>",
                            "<tr><td>2019</td><td>10</td><td>2560</td><td>Canal St &amp; Madison St</td><td>Subscriber</td><td>10</td></tr>",
                            "<tr><td>2019</td><td>11</td><td>3311</td><td>Canal St &amp; Adams St</td><td>Subscriber</td><td>1</td></tr>",
                            "<tr><td>2019</td><td>11</td><td>2603</td><td>Clinton St &amp; Madison St</td><td>Subscriber</td><td>2</td></tr>",
                            "<tr><td>2019</td><td>11</td><td>2599</td><td>Clinton St &amp; Washington Blvd</td><td>Subscriber</td><td>3</td></tr>",
                            "<tr><td>2019</td><td>11</td><td>1890</td><td>Kingsbury St &amp; Kinzie St</td><td>Subscriber</td><td>4</td></tr>",
                            "<tr><td>2019</td><td>11</td><td>1835</td><td>Columbus Dr &amp; Randolph St</td><td>Subscriber</td><td>5</td></tr>",
                            "<tr><td>2019</td><td>11</td><td>1609</td><td>Franklin St &amp; Monroe St</td><td>Subscriber</td><td>6</td></tr>",
                            "<tr><td>2019</td><td>11</td><td>1468</td><td>Larrabee St &amp; Kingsbury St</td><td>Subscriber</td><td>7</td></tr>",
                            "<tr><td>2019</td><td>11</td><td>1423</td><td>Clinton St &amp; Lake St</td><td>Subscriber</td><td>8</td></tr>",
                            "<tr><td>2019</td><td>11</td><td>1376</td><td>LaSalle St &amp; Jackson Blvd</td><td>Subscriber</td><td>9</td></tr>",
                            "<tr><td>2019</td><td>11</td><td>1361</td><td>Daley Center Plaza</td><td>Subscriber</td><td>10</td></tr>",
                            "<tr><td>2019</td><td>12</td><td>2824</td><td>Canal St &amp; Adams St</td><td>Subscriber</td><td>1</td></tr>",
                            "<tr><td>2019</td><td>12</td><td>2359</td><td>Clinton St &amp; Madison St</td><td>Subscriber</td><td>2</td></tr>",
                            "<tr><td>2019</td><td>12</td><td>2184</td><td>Clinton St &amp; Washington Blvd</td><td>Subscriber</td><td>3</td></tr>",
                            "<tr><td>2019</td><td>12</td><td>1802</td><td>Kingsbury St &amp; Kinzie St</td><td>Subscriber</td><td>4</td></tr>",
                            "<tr><td>2019</td><td>12</td><td>1619</td><td>Columbus Dr &amp; Randolph St</td><td>Subscriber</td><td>5</td></tr>",
                            "<tr><td>2019</td><td>12</td><td>1355</td><td>Franklin St &amp; Monroe St</td><td>Subscriber</td><td>6</td></tr>",
                            "<tr><td>2019</td><td>12</td><td>1251</td><td>LaSalle St &amp; Jackson Blvd</td><td>Subscriber</td><td>7</td></tr>",
                            "<tr><td>2019</td><td>12</td><td>1241</td><td>Larrabee St &amp; Kingsbury St</td><td>Subscriber</td><td>8</td></tr>",
                            "<tr><td>2019</td><td>12</td><td>1220</td><td>Daley Center Plaza</td><td>Subscriber</td><td>9</td></tr>",
                            "<tr><td>2019</td><td>12</td><td>1212</td><td>Clinton St &amp; Lake St</td><td>Subscriber</td><td>10</td></tr>",
                            "</table>"
                        ]
                    }
                }
            ],
            "execution_count": 12
        },
        {
            "cell_type": "code",
            "source": [
                "SELECT  *\n",
                "FROM    \n",
                "        (\n",
                "            SELECT trip_year, trip_month, trips_made, from_station_name, usertype,\n",
                "            DENSE_RANK() OVER(PARTITION BY trip_year, trip_month ORDER BY trips_made DESC) AS rn\n",
                "            FROM trips_month_location_member\n",
                "            WHERE usertype = 'Customer'\n",
                "        ) s\n",
                "WHERE   rn <= 10\n",
                "ORDER   BY trip_year, trip_month"
            ],
            "metadata": {
                "language": "sql",
                "azdata_cell_guid": "fa769c9f-a217-4268-821c-6b06a6da72b1"
            },
            "outputs": [
                {
                    "output_type": "display_data",
                    "data": {
                        "text/html": "(821 rows affected)"
                    },
                    "metadata": {}
                },
                {
                    "output_type": "display_data",
                    "data": {
                        "text/html": "Total execution time: 00:00:00.369"
                    },
                    "metadata": {}
                },
                {
                    "output_type": "execute_result",
                    "metadata": {},
                    "execution_count": 13,
                    "data": {
                        "application/vnd.dataresource+json": {
                            "schema": {
                                "fields": [
                                    {
                                        "name": "trip_year"
                                    },
                                    {
                                        "name": "trip_month"
                                    },
                                    {
                                        "name": "trips_made"
                                    },
                                    {
                                        "name": "from_station_name"
                                    },
                                    {
                                        "name": "usertype"
                                    },
                                    {
                                        "name": "rn"
                                    }
                                ]
                            },
                            "data": [
                                {
                                    "0": "2013",
                                    "1": "6",
                                    "2": "191",
                                    "3": "Millennium Park",
                                    "4": "Customer",
                                    "5": "1"
                                },
                                {
                                    "0": "2013",
                                    "1": "6",
                                    "2": "172",
                                    "3": "Lake Shore Dr & Monroe St",
                                    "4": "Customer",
                                    "5": "2"
                                },
                                {
                                    "0": "2013",
                                    "1": "6",
                                    "2": "170",
                                    "3": "Michigan Ave & Oak St",
                                    "4": "Customer",
                                    "5": "3"
                                },
                                {
                                    "0": "2013",
                                    "1": "6",
                                    "2": "156",
                                    "3": "McClurg Ct & Illinois St",
                                    "4": "Customer",
                                    "5": "4"
                                },
                                {
                                    "0": "2013",
                                    "1": "6",
                                    "2": "103",
                                    "3": "Michigan Ave & Pearson St",
                                    "4": "Customer",
                                    "5": "5"
                                },
                                {
                                    "0": "2013",
                                    "1": "6",
                                    "2": "88",
                                    "3": "Michigan Ave & Lake St",
                                    "4": "Customer",
                                    "5": "6"
                                },
                                {
                                    "0": "2013",
                                    "1": "6",
                                    "2": "88",
                                    "3": "Wabash Ave & Roosevelt Rd",
                                    "4": "Customer",
                                    "5": "6"
                                },
                                {
                                    "0": "2013",
                                    "1": "6",
                                    "2": "87",
                                    "3": "Cannon Dr & Fullerton Ave",
                                    "4": "Customer",
                                    "5": "7"
                                },
                                {
                                    "0": "2013",
                                    "1": "6",
                                    "2": "74",
                                    "3": "McCormick Place",
                                    "4": "Customer",
                                    "5": "8"
                                },
                                {
                                    "0": "2013",
                                    "1": "6",
                                    "2": "62",
                                    "3": "Fairbanks Ct & Grand Ave",
                                    "4": "Customer",
                                    "5": "9"
                                },
                                {
                                    "0": "2013",
                                    "1": "6",
                                    "2": "57",
                                    "3": "Dearborn St & Adams St",
                                    "4": "Customer",
                                    "5": "10"
                                },
                                {
                                    "0": "2013",
                                    "1": "7",
                                    "2": "3376",
                                    "3": "Millennium Park",
                                    "4": "Customer",
                                    "5": "1"
                                },
                                {
                                    "0": "2013",
                                    "1": "7",
                                    "2": "3065",
                                    "3": "Lake Shore Dr & Monroe St",
                                    "4": "Customer",
                                    "5": "2"
                                },
                                {
                                    "0": "2013",
                                    "1": "7",
                                    "2": "2479",
                                    "3": "Michigan Ave & Oak St",
                                    "4": "Customer",
                                    "5": "3"
                                },
                                {
                                    "0": "2013",
                                    "1": "7",
                                    "2": "2433",
                                    "3": "McClurg Ct & Illinois St",
                                    "4": "Customer",
                                    "5": "4"
                                },
                                {
                                    "0": "2013",
                                    "1": "7",
                                    "2": "2409",
                                    "3": "Museum Campus",
                                    "4": "Customer",
                                    "5": "5"
                                },
                                {
                                    "0": "2013",
                                    "1": "7",
                                    "2": "1857",
                                    "3": "Michigan Ave & Pearson St",
                                    "4": "Customer",
                                    "5": "6"
                                },
                                {
                                    "0": "2013",
                                    "1": "7",
                                    "2": "1590",
                                    "3": "Cannon Dr & Fullerton Ave",
                                    "4": "Customer",
                                    "5": "7"
                                },
                                {
                                    "0": "2013",
                                    "1": "7",
                                    "2": "1531",
                                    "3": "Michigan Ave & Lake St",
                                    "4": "Customer",
                                    "5": "8"
                                },
                                {
                                    "0": "2013",
                                    "1": "7",
                                    "2": "1158",
                                    "3": "Wabash Ave & Roosevelt Rd",
                                    "4": "Customer",
                                    "5": "9"
                                },
                                {
                                    "0": "2013",
                                    "1": "7",
                                    "2": "1143",
                                    "3": "Fairbanks Ct & Grand Ave",
                                    "4": "Customer",
                                    "5": "10"
                                },
                                {
                                    "0": "2013",
                                    "1": "8",
                                    "2": "5678",
                                    "3": "Streeter Dr & Illinois St",
                                    "4": "Customer",
                                    "5": "1"
                                },
                                {
                                    "0": "2013",
                                    "1": "8",
                                    "2": "4452",
                                    "3": "Lake Shore Dr & Monroe St",
                                    "4": "Customer",
                                    "5": "2"
                                },
                                {
                                    "0": "2013",
                                    "1": "8",
                                    "2": "4192",
                                    "3": "Millennium Park",
                                    "4": "Customer",
                                    "5": "3"
                                },
                                {
                                    "0": "2013",
                                    "1": "8",
                                    "2": "3496",
                                    "3": "Museum Campus",
                                    "4": "Customer",
                                    "5": "4"
                                },
                                {
                                    "0": "2013",
                                    "1": "8",
                                    "2": "3435",
                                    "3": "Michigan Ave & Oak St",
                                    "4": "Customer",
                                    "5": "5"
                                },
                                {
                                    "0": "2013",
                                    "1": "8",
                                    "2": "2508",
                                    "3": "Clark St & North Ave",
                                    "4": "Customer",
                                    "5": "6"
                                },
                                {
                                    "0": "2013",
                                    "1": "8",
                                    "2": "2234",
                                    "3": "McClurg Ct & Illinois St",
                                    "4": "Customer",
                                    "5": "7"
                                },
                                {
                                    "0": "2013",
                                    "1": "8",
                                    "2": "2180",
                                    "3": "Theater on the Lake",
                                    "4": "Customer",
                                    "5": "8"
                                },
                                {
                                    "0": "2013",
                                    "1": "8",
                                    "2": "1919",
                                    "3": "Lake Shore Dr & Ohio St",
                                    "4": "Customer",
                                    "5": "9"
                                },
                                {
                                    "0": "2013",
                                    "1": "8",
                                    "2": "1889",
                                    "3": "Michigan Ave & Lake St",
                                    "4": "Customer",
                                    "5": "10"
                                },
                                {
                                    "0": "2013",
                                    "1": "9",
                                    "2": "5362",
                                    "3": "Streeter Dr & Illinois St",
                                    "4": "Customer",
                                    "5": "1"
                                },
                                {
                                    "0": "2013",
                                    "1": "9",
                                    "2": "3523",
                                    "3": "Millennium Park",
                                    "4": "Customer",
                                    "5": "2"
                                },
                                {
                                    "0": "2013",
                                    "1": "9",
                                    "2": "3226",
                                    "3": "Lake Shore Dr & Monroe St",
                                    "4": "Customer",
                                    "5": "3"
                                },
                                {
                                    "0": "2013",
                                    "1": "9",
                                    "2": "3051",
                                    "3": "Theater on the Lake",
                                    "4": "Customer",
                                    "5": "4"
                                },
                                {
                                    "0": "2013",
                                    "1": "9",
                                    "2": "2799",
                                    "3": "Museum Campus",
                                    "4": "Customer",
                                    "5": "5"
                                },
                                {
                                    "0": "2013",
                                    "1": "9",
                                    "2": "2568",
                                    "3": "Michigan Ave & Oak St",
                                    "4": "Customer",
                                    "5": "6"
                                },
                                {
                                    "0": "2013",
                                    "1": "9",
                                    "2": "1600",
                                    "3": "McClurg Ct & Illinois St",
                                    "4": "Customer",
                                    "5": "7"
                                },
                                {
                                    "0": "2013",
                                    "1": "9",
                                    "2": "1502",
                                    "3": "Clark St & North Ave",
                                    "4": "Customer",
                                    "5": "8"
                                },
                                {
                                    "0": "2013",
                                    "1": "9",
                                    "2": "1393",
                                    "3": "Michigan Ave & Pearson St",
                                    "4": "Customer",
                                    "5": "9"
                                },
                                {
                                    "0": "2013",
                                    "1": "9",
                                    "2": "1337",
                                    "3": "Michigan Ave & Washington St",
                                    "4": "Customer",
                                    "5": "10"
                                },
                                {
                                    "0": "2013",
                                    "1": "10",
                                    "2": "3254",
                                    "3": "Streeter Dr & Illinois St",
                                    "4": "Customer",
                                    "5": "1"
                                },
                                {
                                    "0": "2013",
                                    "1": "10",
                                    "2": "2096",
                                    "3": "Lake Shore Dr & Monroe St",
                                    "4": "Customer",
                                    "5": "2"
                                },
                                {
                                    "0": "2013",
                                    "1": "10",
                                    "2": "1990",
                                    "3": "Millennium Park",
                                    "4": "Customer",
                                    "5": "3"
                                },
                                {
                                    "0": "2013",
                                    "1": "10",
                                    "2": "1619",
                                    "3": "Museum Campus",
                                    "4": "Customer",
                                    "5": "4"
                                },
                                {
                                    "0": "2013",
                                    "1": "10",
                                    "2": "1470",
                                    "3": "Theater on the Lake",
                                    "4": "Customer",
                                    "5": "5"
                                },
                                {
                                    "0": "2013",
                                    "1": "10",
                                    "2": "1288",
                                    "3": "Michigan Ave & Oak St",
                                    "4": "Customer",
                                    "5": "6"
                                },
                                {
                                    "0": "2013",
                                    "1": "10",
                                    "2": "886",
                                    "3": "Lake Shore Dr & North Blvd",
                                    "4": "Customer",
                                    "5": "7"
                                },
                                {
                                    "0": "2013",
                                    "1": "10",
                                    "2": "830",
                                    "3": "Michigan Ave & Pearson St",
                                    "4": "Customer",
                                    "5": "8"
                                },
                                {
                                    "0": "2013",
                                    "1": "10",
                                    "2": "816",
                                    "3": "McClurg Ct & Illinois St",
                                    "4": "Customer",
                                    "5": "9"
                                },
                                {
                                    "0": "2013",
                                    "1": "10",
                                    "2": "775",
                                    "3": "Michigan Ave & Jackson Blvd",
                                    "4": "Customer",
                                    "5": "10"
                                },
                                {
                                    "0": "2013",
                                    "1": "11",
                                    "2": "815",
                                    "3": "Streeter Dr & Illinois St",
                                    "4": "Customer",
                                    "5": "1"
                                },
                                {
                                    "0": "2013",
                                    "1": "11",
                                    "2": "639",
                                    "3": "Lake Shore Dr & Monroe St",
                                    "4": "Customer",
                                    "5": "2"
                                },
                                {
                                    "0": "2013",
                                    "1": "11",
                                    "2": "605",
                                    "3": "Millennium Park",
                                    "4": "Customer",
                                    "5": "3"
                                },
                                {
                                    "0": "2013",
                                    "1": "11",
                                    "2": "504",
                                    "3": "Museum Campus",
                                    "4": "Customer",
                                    "5": "4"
                                },
                                {
                                    "0": "2013",
                                    "1": "11",
                                    "2": "326",
                                    "3": "Michigan Ave & Oak St",
                                    "4": "Customer",
                                    "5": "5"
                                },
                                {
                                    "0": "2013",
                                    "1": "11",
                                    "2": "313",
                                    "3": "Theater on the Lake",
                                    "4": "Customer",
                                    "5": "6"
                                },
                                {
                                    "0": "2013",
                                    "1": "11",
                                    "2": "311",
                                    "3": "Adler Planetarium",
                                    "4": "Customer",
                                    "5": "7"
                                },
                                {
                                    "0": "2013",
                                    "1": "11",
                                    "2": "302",
                                    "3": "Michigan Ave & Washington St",
                                    "4": "Customer",
                                    "5": "8"
                                },
                                {
                                    "0": "2013",
                                    "1": "11",
                                    "2": "248",
                                    "3": "Lake Shore Dr & North Blvd",
                                    "4": "Customer",
                                    "5": "9"
                                },
                                {
                                    "0": "2013",
                                    "1": "11",
                                    "2": "246",
                                    "3": "Michigan Ave & Pearson St",
                                    "4": "Customer",
                                    "5": "10"
                                },
                                {
                                    "0": "2013",
                                    "1": "12",
                                    "2": "157",
                                    "3": "Millennium Park",
                                    "4": "Customer",
                                    "5": "1"
                                },
                                {
                                    "0": "2013",
                                    "1": "12",
                                    "2": "125",
                                    "3": "Streeter Dr & Illinois St",
                                    "4": "Customer",
                                    "5": "2"
                                },
                                {
                                    "0": "2013",
                                    "1": "12",
                                    "2": "118",
                                    "3": "Museum Campus",
                                    "4": "Customer",
                                    "5": "3"
                                },
                                {
                                    "0": "2013",
                                    "1": "12",
                                    "2": "98",
                                    "3": "Lake Shore Dr & Monroe St",
                                    "4": "Customer",
                                    "5": "4"
                                },
                                {
                                    "0": "2013",
                                    "1": "12",
                                    "2": "67",
                                    "3": "Michigan Ave & Oak St",
                                    "4": "Customer",
                                    "5": "5"
                                },
                                {
                                    "0": "2013",
                                    "1": "12",
                                    "2": "60",
                                    "3": "McCormick Place",
                                    "4": "Customer",
                                    "5": "6"
                                },
                                {
                                    "0": "2013",
                                    "1": "12",
                                    "2": "59",
                                    "3": "Michigan Ave & Jackson Blvd",
                                    "4": "Customer",
                                    "5": "7"
                                },
                                {
                                    "0": "2013",
                                    "1": "12",
                                    "2": "53",
                                    "3": "Michigan Ave & Washington St",
                                    "4": "Customer",
                                    "5": "8"
                                },
                                {
                                    "0": "2013",
                                    "1": "12",
                                    "2": "51",
                                    "3": "Theater on the Lake",
                                    "4": "Customer",
                                    "5": "9"
                                },
                                {
                                    "0": "2013",
                                    "1": "12",
                                    "2": "50",
                                    "3": "Michigan Ave & Pearson St",
                                    "4": "Customer",
                                    "5": "10"
                                },
                                {
                                    "0": "2013",
                                    "1": "12",
                                    "2": "50",
                                    "3": "Adler Planetarium",
                                    "4": "Customer",
                                    "5": "10"
                                },
                                {
                                    "0": "2014",
                                    "1": "1",
                                    "2": "27",
                                    "3": "Michigan Ave & Washington St",
                                    "4": "Customer",
                                    "5": "1"
                                },
                                {
                                    "0": "2014",
                                    "1": "1",
                                    "2": "24",
                                    "3": "Streeter Dr & Illinois St",
                                    "4": "Customer",
                                    "5": "2"
                                },
                                {
                                    "0": "2014",
                                    "1": "1",
                                    "2": "21",
                                    "3": "Michigan Ave & Congress Pkwy",
                                    "4": "Customer",
                                    "5": "3"
                                },
                                {
                                    "0": "2014",
                                    "1": "1",
                                    "2": "20",
                                    "3": "Franklin St & Jackson Blvd",
                                    "4": "Customer",
                                    "5": "4"
                                },
                                {
                                    "0": "2014",
                                    "1": "1",
                                    "2": "17",
                                    "3": "Wells St & Erie St",
                                    "4": "Customer",
                                    "5": "5"
                                },
                                {
                                    "0": "2014",
                                    "1": "1",
                                    "2": "17",
                                    "3": "Millennium Park",
                                    "4": "Customer",
                                    "5": "5"
                                },
                                {
                                    "0": "2014",
                                    "1": "1",
                                    "2": "17",
                                    "3": "Lake Shore Dr & Monroe St",
                                    "4": "Customer",
                                    "5": "5"
                                },
                                {
                                    "0": "2014",
                                    "1": "1",
                                    "2": "16",
                                    "3": "Green St & Milwaukee Ave",
                                    "4": "Customer",
                                    "5": "6"
                                },
                                {
                                    "0": "2014",
                                    "1": "1",
                                    "2": "15",
                                    "3": "Wabash Ave & Roosevelt Rd",
                                    "4": "Customer",
                                    "5": "7"
                                },
                                {
                                    "0": "2014",
                                    "1": "1",
                                    "2": "15",
                                    "3": "Michigan Ave & Lake St",
                                    "4": "Customer",
                                    "5": "7"
                                },
                                {
                                    "0": "2014",
                                    "1": "1",
                                    "2": "13",
                                    "3": "Sheridan Rd & Montrose Ave",
                                    "4": "Customer",
                                    "5": "8"
                                },
                                {
                                    "0": "2014",
                                    "1": "1",
                                    "2": "13",
                                    "3": "Museum Campus",
                                    "4": "Customer",
                                    "5": "8"
                                },
                                {
                                    "0": "2014",
                                    "1": "1",
                                    "2": "11",
                                    "3": "Peoria St & Jackson Blvd",
                                    "4": "Customer",
                                    "5": "9"
                                },
                                {
                                    "0": "2014",
                                    "1": "1",
                                    "2": "11",
                                    "3": "Halsted St & Madison St",
                                    "4": "Customer",
                                    "5": "9"
                                },
                                {
                                    "0": "2014",
                                    "1": "1",
                                    "2": "11",
                                    "3": "Clark St & Schiller St",
                                    "4": "Customer",
                                    "5": "9"
                                },
                                {
                                    "0": "2014",
                                    "1": "1",
                                    "2": "10",
                                    "3": "Eckhart Park",
                                    "4": "Customer",
                                    "5": "10"
                                },
                                {
                                    "0": "2014",
                                    "1": "1",
                                    "2": "10",
                                    "3": "Columbus Dr & Randolph St",
                                    "4": "Customer",
                                    "5": "10"
                                },
                                {
                                    "0": "2014",
                                    "1": "1",
                                    "2": "10",
                                    "3": "Fairbanks Ct & Grand Ave",
                                    "4": "Customer",
                                    "5": "10"
                                },
                                {
                                    "0": "2014",
                                    "1": "1",
                                    "2": "10",
                                    "3": "Adler Planetarium",
                                    "4": "Customer",
                                    "5": "10"
                                },
                                {
                                    "0": "2014",
                                    "1": "1",
                                    "2": "10",
                                    "3": "Michigan Ave & Pearson St",
                                    "4": "Customer",
                                    "5": "10"
                                },
                                {
                                    "0": "2014",
                                    "1": "1",
                                    "2": "10",
                                    "3": "Desplaines St & Kinzie St",
                                    "4": "Customer",
                                    "5": "10"
                                },
                                {
                                    "0": "2014",
                                    "1": "1",
                                    "2": "10",
                                    "3": "State St & Kinzie St",
                                    "4": "Customer",
                                    "5": "10"
                                },
                                {
                                    "0": "2014",
                                    "1": "1",
                                    "2": "10",
                                    "3": "LaSalle St & Illinois St",
                                    "4": "Customer",
                                    "5": "10"
                                },
                                {
                                    "0": "2014",
                                    "1": "2",
                                    "2": "46",
                                    "3": "Lake Shore Dr & Monroe St",
                                    "4": "Customer",
                                    "5": "1"
                                },
                                {
                                    "0": "2014",
                                    "1": "2",
                                    "2": "31",
                                    "3": "Michigan Ave & Washington St",
                                    "4": "Customer",
                                    "5": "2"
                                },
                                {
                                    "0": "2014",
                                    "1": "2",
                                    "2": "28",
                                    "3": "Museum Campus",
                                    "4": "Customer",
                                    "5": "3"
                                },
                                {
                                    "0": "2014",
                                    "1": "2",
                                    "2": "28",
                                    "3": "Streeter Dr & Illinois St",
                                    "4": "Customer",
                                    "5": "3"
                                },
                                {
                                    "0": "2014",
                                    "1": "2",
                                    "2": "25",
                                    "3": "Adler Planetarium",
                                    "4": "Customer",
                                    "5": "4"
                                },
                                {
                                    "0": "2014",
                                    "1": "2",
                                    "2": "20",
                                    "3": "Franklin St & Jackson Blvd",
                                    "4": "Customer",
                                    "5": "5"
                                },
                                {
                                    "0": "2014",
                                    "1": "2",
                                    "2": "18",
                                    "3": "Michigan Ave & Oak St",
                                    "4": "Customer",
                                    "5": "6"
                                },
                                {
                                    "0": "2014",
                                    "1": "2",
                                    "2": "18",
                                    "3": "Michigan Ave & Jackson Blvd",
                                    "4": "Customer",
                                    "5": "6"
                                },
                                {
                                    "0": "2014",
                                    "1": "2",
                                    "2": "18",
                                    "3": "McClurg Ct & Illinois St",
                                    "4": "Customer",
                                    "5": "6"
                                },
                                {
                                    "0": "2014",
                                    "1": "2",
                                    "2": "17",
                                    "3": "Dearborn St & Monroe St",
                                    "4": "Customer",
                                    "5": "7"
                                },
                                {
                                    "0": "2014",
                                    "1": "2",
                                    "2": "16",
                                    "3": "Michigan Ave & 18th St",
                                    "4": "Customer",
                                    "5": "8"
                                },
                                {
                                    "0": "2014",
                                    "1": "2",
                                    "2": "16",
                                    "3": "Lake Shore Dr & Ohio St",
                                    "4": "Customer",
                                    "5": "8"
                                },
                                {
                                    "0": "2014",
                                    "1": "2",
                                    "2": "16",
                                    "3": "Franklin St & Arcade Pl",
                                    "4": "Customer",
                                    "5": "8"
                                },
                                {
                                    "0": "2014",
                                    "1": "2",
                                    "2": "15",
                                    "3": "Mies van der Rohe Way & Chicago Ave",
                                    "4": "Customer",
                                    "5": "9"
                                },
                                {
                                    "0": "2014",
                                    "1": "2",
                                    "2": "15",
                                    "3": "Michigan Ave & Congress Pkwy",
                                    "4": "Customer",
                                    "5": "9"
                                },
                                {
                                    "0": "2014",
                                    "1": "2",
                                    "2": "15",
                                    "3": "Wells St & Erie St",
                                    "4": "Customer",
                                    "5": "9"
                                },
                                {
                                    "0": "2014",
                                    "1": "2",
                                    "2": "15",
                                    "3": "Theater on the Lake",
                                    "4": "Customer",
                                    "5": "9"
                                },
                                {
                                    "0": "2014",
                                    "1": "2",
                                    "2": "14",
                                    "3": "LaSalle St & Illinois St",
                                    "4": "Customer",
                                    "5": "10"
                                },
                                {
                                    "0": "2014",
                                    "1": "3",
                                    "2": "576",
                                    "3": "Streeter Dr & Illinois St",
                                    "4": "Customer",
                                    "5": "1"
                                },
                                {
                                    "0": "2014",
                                    "1": "3",
                                    "2": "473",
                                    "3": "Lake Shore Dr & Monroe St",
                                    "4": "Customer",
                                    "5": "2"
                                },
                                {
                                    "0": "2014",
                                    "1": "3",
                                    "2": "339",
                                    "3": "Museum Campus",
                                    "4": "Customer",
                                    "5": "3"
                                },
                                {
                                    "0": "2014",
                                    "1": "3",
                                    "2": "321",
                                    "3": "Millennium Park",
                                    "4": "Customer",
                                    "5": "4"
                                },
                                {
                                    "0": "2014",
                                    "1": "3",
                                    "2": "314",
                                    "3": "Theater on the Lake",
                                    "4": "Customer",
                                    "5": "5"
                                },
                                {
                                    "0": "2014",
                                    "1": "3",
                                    "2": "233",
                                    "3": "Michigan Ave & Oak St",
                                    "4": "Customer",
                                    "5": "6"
                                },
                                {
                                    "0": "2014",
                                    "1": "3",
                                    "2": "230",
                                    "3": "Lake Shore Dr & North Blvd",
                                    "4": "Customer",
                                    "5": "7"
                                },
                                {
                                    "0": "2014",
                                    "1": "3",
                                    "2": "208",
                                    "3": "Michigan Ave & Pearson St",
                                    "4": "Customer",
                                    "5": "8"
                                },
                                {
                                    "0": "2014",
                                    "1": "3",
                                    "2": "191",
                                    "3": "Adler Planetarium",
                                    "4": "Customer",
                                    "5": "9"
                                },
                                {
                                    "0": "2014",
                                    "1": "3",
                                    "2": "187",
                                    "3": "Lake Shore Dr & Ohio St",
                                    "4": "Customer",
                                    "5": "10"
                                },
                                {
                                    "0": "2014",
                                    "1": "4",
                                    "2": "2906",
                                    "3": "Streeter Dr & Illinois St",
                                    "4": "Customer",
                                    "5": "1"
                                },
                                {
                                    "0": "2014",
                                    "1": "4",
                                    "2": "2210",
                                    "3": "Lake Shore Dr & Monroe St",
                                    "4": "Customer",
                                    "5": "2"
                                },
                                {
                                    "0": "2014",
                                    "1": "4",
                                    "2": "1612",
                                    "3": "Theater on the Lake",
                                    "4": "Customer",
                                    "5": "3"
                                },
                                {
                                    "0": "2014",
                                    "1": "4",
                                    "2": "1505",
                                    "3": "Museum Campus",
                                    "4": "Customer",
                                    "5": "4"
                                },
                                {
                                    "0": "2014",
                                    "1": "4",
                                    "2": "1488",
                                    "3": "Millennium Park",
                                    "4": "Customer",
                                    "5": "5"
                                },
                                {
                                    "0": "2014",
                                    "1": "4",
                                    "2": "1365",
                                    "3": "Michigan Ave & Oak St",
                                    "4": "Customer",
                                    "5": "6"
                                },
                                {
                                    "0": "2014",
                                    "1": "4",
                                    "2": "1003",
                                    "3": "Lake Shore Dr & North Blvd",
                                    "4": "Customer",
                                    "5": "7"
                                },
                                {
                                    "0": "2014",
                                    "1": "4",
                                    "2": "782",
                                    "3": "Michigan Ave & Washington St",
                                    "4": "Customer",
                                    "5": "8"
                                },
                                {
                                    "0": "2014",
                                    "1": "4",
                                    "2": "778",
                                    "3": "Adler Planetarium",
                                    "4": "Customer",
                                    "5": "9"
                                },
                                {
                                    "0": "2014",
                                    "1": "4",
                                    "2": "761",
                                    "3": "Indiana Ave & Roosevelt Rd",
                                    "4": "Customer",
                                    "5": "10"
                                },
                                {
                                    "0": "2014",
                                    "1": "5",
                                    "2": "1844",
                                    "3": "McClurg Ct & Illinois St",
                                    "4": "Customer",
                                    "5": "8"
                                },
                                {
                                    "0": "2014",
                                    "1": "5",
                                    "2": "5863",
                                    "3": "Streeter Dr & Illinois St",
                                    "4": "Customer",
                                    "5": "1"
                                },
                                {
                                    "0": "2014",
                                    "1": "5",
                                    "2": "1602",
                                    "3": "Indiana Ave & Roosevelt Rd",
                                    "4": "Customer",
                                    "5": "9"
                                },
                                {
                                    "0": "2014",
                                    "1": "5",
                                    "2": "4627",
                                    "3": "Lake Shore Dr & Monroe St",
                                    "4": "Customer",
                                    "5": "2"
                                },
                                {
                                    "0": "2014",
                                    "1": "5",
                                    "2": "1581",
                                    "3": "Adler Planetarium",
                                    "4": "Customer",
                                    "5": "10"
                                },
                                {
                                    "0": "2014",
                                    "1": "5",
                                    "2": "3498",
                                    "3": "Theater on the Lake",
                                    "4": "Customer",
                                    "5": "3"
                                },
                                {
                                    "0": "2014",
                                    "1": "5",
                                    "2": "3025",
                                    "3": "Millennium Park",
                                    "4": "Customer",
                                    "5": "4"
                                },
                                {
                                    "0": "2014",
                                    "1": "5",
                                    "2": "3000",
                                    "3": "Michigan Ave & Oak St",
                                    "4": "Customer",
                                    "5": "5"
                                },
                                {
                                    "0": "2014",
                                    "1": "5",
                                    "2": "2809",
                                    "3": "Museum Campus",
                                    "4": "Customer",
                                    "5": "6"
                                },
                                {
                                    "0": "2014",
                                    "1": "5",
                                    "2": "2120",
                                    "3": "Lake Shore Dr & North Blvd",
                                    "4": "Customer",
                                    "5": "7"
                                },
                                {
                                    "0": "2014",
                                    "1": "6",
                                    "2": "6768",
                                    "3": "Streeter Dr & Illinois St",
                                    "4": "Customer",
                                    "5": "1"
                                },
                                {
                                    "0": "2014",
                                    "1": "6",
                                    "2": "5107",
                                    "3": "Lake Shore Dr & Monroe St",
                                    "4": "Customer",
                                    "5": "2"
                                },
                                {
                                    "0": "2014",
                                    "1": "6",
                                    "2": "4358",
                                    "3": "Theater on the Lake",
                                    "4": "Customer",
                                    "5": "3"
                                },
                                {
                                    "0": "2014",
                                    "1": "6",
                                    "2": "3984",
                                    "3": "Michigan Ave & Oak St",
                                    "4": "Customer",
                                    "5": "4"
                                },
                                {
                                    "0": "2014",
                                    "1": "6",
                                    "2": "3730",
                                    "3": "Lake Shore Dr & North Blvd",
                                    "4": "Customer",
                                    "5": "5"
                                },
                                {
                                    "0": "2014",
                                    "1": "6",
                                    "2": "3602",
                                    "3": "Millennium Park",
                                    "4": "Customer",
                                    "5": "6"
                                },
                                {
                                    "0": "2014",
                                    "1": "6",
                                    "2": "3315",
                                    "3": "Museum Campus",
                                    "4": "Customer",
                                    "5": "7"
                                },
                                {
                                    "0": "2014",
                                    "1": "6",
                                    "2": "2199",
                                    "3": "McClurg Ct & Illinois St",
                                    "4": "Customer",
                                    "5": "8"
                                },
                                {
                                    "0": "2014",
                                    "1": "6",
                                    "2": "1850",
                                    "3": "Michigan Ave & Jackson Blvd",
                                    "4": "Customer",
                                    "5": "9"
                                },
                                {
                                    "0": "2014",
                                    "1": "6",
                                    "2": "1642",
                                    "3": "Adler Planetarium",
                                    "4": "Customer",
                                    "5": "10"
                                },
                                {
                                    "0": "2014",
                                    "1": "7",
                                    "2": "9094",
                                    "3": "Streeter Dr & Illinois St",
                                    "4": "Customer",
                                    "5": "1"
                                },
                                {
                                    "0": "2014",
                                    "1": "7",
                                    "2": "6721",
                                    "3": "Lake Shore Dr & Monroe St",
                                    "4": "Customer",
                                    "5": "2"
                                },
                                {
                                    "0": "2014",
                                    "1": "7",
                                    "2": "5577",
                                    "3": "Theater on the Lake",
                                    "4": "Customer",
                                    "5": "3"
                                },
                                {
                                    "0": "2014",
                                    "1": "7",
                                    "2": "5204",
                                    "3": "Michigan Ave & Oak St",
                                    "4": "Customer",
                                    "5": "4"
                                },
                                {
                                    "0": "2014",
                                    "1": "7",
                                    "2": "4425",
                                    "3": "Lake Shore Dr & North Blvd",
                                    "4": "Customer",
                                    "5": "5"
                                },
                                {
                                    "0": "2014",
                                    "1": "7",
                                    "2": "3902",
                                    "3": "Millennium Park",
                                    "4": "Customer",
                                    "5": "6"
                                },
                                {
                                    "0": "2014",
                                    "1": "7",
                                    "2": "3754",
                                    "3": "Museum Campus",
                                    "4": "Customer",
                                    "5": "7"
                                },
                                {
                                    "0": "2014",
                                    "1": "7",
                                    "2": "2198",
                                    "3": "McClurg Ct & Illinois St",
                                    "4": "Customer",
                                    "5": "8"
                                },
                                {
                                    "0": "2014",
                                    "1": "7",
                                    "2": "2191",
                                    "3": "Adler Planetarium",
                                    "4": "Customer",
                                    "5": "9"
                                },
                                {
                                    "0": "2014",
                                    "1": "7",
                                    "2": "2139",
                                    "3": "Indiana Ave & Roosevelt Rd",
                                    "4": "Customer",
                                    "5": "10"
                                },
                                {
                                    "0": "2014",
                                    "1": "8",
                                    "2": "9163",
                                    "3": "Streeter Dr & Illinois St",
                                    "4": "Customer",
                                    "5": "1"
                                },
                                {
                                    "0": "2014",
                                    "1": "8",
                                    "2": "6452",
                                    "3": "Lake Shore Dr & Monroe St",
                                    "4": "Customer",
                                    "5": "2"
                                },
                                {
                                    "0": "2014",
                                    "1": "8",
                                    "2": "5032",
                                    "3": "Michigan Ave & Oak St",
                                    "4": "Customer",
                                    "5": "3"
                                },
                                {
                                    "0": "2014",
                                    "1": "8",
                                    "2": "4884",
                                    "3": "Theater on the Lake",
                                    "4": "Customer",
                                    "5": "4"
                                },
                                {
                                    "0": "2014",
                                    "1": "8",
                                    "2": "4779",
                                    "3": "Millennium Park",
                                    "4": "Customer",
                                    "5": "5"
                                },
                                {
                                    "0": "2014",
                                    "1": "8",
                                    "2": "4211",
                                    "3": "Lake Shore Dr & North Blvd",
                                    "4": "Customer",
                                    "5": "6"
                                },
                                {
                                    "0": "2014",
                                    "1": "8",
                                    "2": "4018",
                                    "3": "Museum Campus",
                                    "4": "Customer",
                                    "5": "7"
                                },
                                {
                                    "0": "2014",
                                    "1": "8",
                                    "2": "2440",
                                    "3": "Adler Planetarium",
                                    "4": "Customer",
                                    "5": "8"
                                },
                                {
                                    "0": "2014",
                                    "1": "8",
                                    "2": "2264",
                                    "3": "Lake Shore Dr & Ohio St",
                                    "4": "Customer",
                                    "5": "9"
                                },
                                {
                                    "0": "2014",
                                    "1": "8",
                                    "2": "2230",
                                    "3": "McClurg Ct & Illinois St",
                                    "4": "Customer",
                                    "5": "10"
                                },
                                {
                                    "0": "2014",
                                    "1": "9",
                                    "2": "5855",
                                    "3": "Streeter Dr & Illinois St",
                                    "4": "Customer",
                                    "5": "1"
                                },
                                {
                                    "0": "2014",
                                    "1": "9",
                                    "2": "3964",
                                    "3": "Lake Shore Dr & Monroe St",
                                    "4": "Customer",
                                    "5": "2"
                                },
                                {
                                    "0": "2014",
                                    "1": "9",
                                    "2": "3061",
                                    "3": "Theater on the Lake",
                                    "4": "Customer",
                                    "5": "3"
                                },
                                {
                                    "0": "2014",
                                    "1": "9",
                                    "2": "2853",
                                    "3": "Millennium Park",
                                    "4": "Customer",
                                    "5": "4"
                                },
                                {
                                    "0": "2014",
                                    "1": "9",
                                    "2": "2721",
                                    "3": "Michigan Ave & Oak St",
                                    "4": "Customer",
                                    "5": "5"
                                },
                                {
                                    "0": "2014",
                                    "1": "9",
                                    "2": "2439",
                                    "3": "Museum Campus",
                                    "4": "Customer",
                                    "5": "6"
                                },
                                {
                                    "0": "2014",
                                    "1": "9",
                                    "2": "2269",
                                    "3": "Lake Shore Dr & North Blvd",
                                    "4": "Customer",
                                    "5": "7"
                                },
                                {
                                    "0": "2014",
                                    "1": "9",
                                    "2": "1788",
                                    "3": "Adler Planetarium",
                                    "4": "Customer",
                                    "5": "8"
                                },
                                {
                                    "0": "2014",
                                    "1": "9",
                                    "2": "1338",
                                    "3": "McClurg Ct & Illinois St",
                                    "4": "Customer",
                                    "5": "9"
                                },
                                {
                                    "0": "2014",
                                    "1": "9",
                                    "2": "1229",
                                    "3": "Indiana Ave & Roosevelt Rd",
                                    "4": "Customer",
                                    "5": "10"
                                },
                                {
                                    "0": "2014",
                                    "1": "10",
                                    "2": "2848",
                                    "3": "Streeter Dr & Illinois St",
                                    "4": "Customer",
                                    "5": "1"
                                },
                                {
                                    "0": "2014",
                                    "1": "10",
                                    "2": "2374",
                                    "3": "Lake Shore Dr & Monroe St",
                                    "4": "Customer",
                                    "5": "2"
                                },
                                {
                                    "0": "2014",
                                    "1": "10",
                                    "2": "1590",
                                    "3": "Millennium Park",
                                    "4": "Customer",
                                    "5": "3"
                                },
                                {
                                    "0": "2014",
                                    "1": "10",
                                    "2": "1477",
                                    "3": "Museum Campus",
                                    "4": "Customer",
                                    "5": "4"
                                },
                                {
                                    "0": "2014",
                                    "1": "10",
                                    "2": "1221",
                                    "3": "Theater on the Lake",
                                    "4": "Customer",
                                    "5": "5"
                                },
                                {
                                    "0": "2014",
                                    "1": "10",
                                    "2": "1185",
                                    "3": "Michigan Ave & Oak St",
                                    "4": "Customer",
                                    "5": "6"
                                },
                                {
                                    "0": "2014",
                                    "1": "10",
                                    "2": "1000",
                                    "3": "Lake Shore Dr & North Blvd",
                                    "4": "Customer",
                                    "5": "7"
                                },
                                {
                                    "0": "2014",
                                    "1": "10",
                                    "2": "939",
                                    "3": "Adler Planetarium",
                                    "4": "Customer",
                                    "5": "8"
                                },
                                {
                                    "0": "2014",
                                    "1": "10",
                                    "2": "874",
                                    "3": "McClurg Ct & Illinois St",
                                    "4": "Customer",
                                    "5": "9"
                                },
                                {
                                    "0": "2014",
                                    "1": "10",
                                    "2": "730",
                                    "3": "Michigan Ave & Jackson Blvd",
                                    "4": "Customer",
                                    "5": "10"
                                },
                                {
                                    "0": "2014",
                                    "1": "11",
                                    "2": "726",
                                    "3": "Streeter Dr & Illinois St",
                                    "4": "Customer",
                                    "5": "1"
                                },
                                {
                                    "0": "2014",
                                    "1": "11",
                                    "2": "588",
                                    "3": "Lake Shore Dr & Monroe St",
                                    "4": "Customer",
                                    "5": "2"
                                },
                                {
                                    "0": "2014",
                                    "1": "11",
                                    "2": "423",
                                    "3": "Millennium Park",
                                    "4": "Customer",
                                    "5": "3"
                                },
                                {
                                    "0": "2014",
                                    "1": "11",
                                    "2": "419",
                                    "3": "Museum Campus",
                                    "4": "Customer",
                                    "5": "4"
                                },
                                {
                                    "0": "2014",
                                    "1": "11",
                                    "2": "269",
                                    "3": "Adler Planetarium",
                                    "4": "Customer",
                                    "5": "5"
                                },
                                {
                                    "0": "2014",
                                    "1": "11",
                                    "2": "217",
                                    "3": "Theater on the Lake",
                                    "4": "Customer",
                                    "5": "6"
                                },
                                {
                                    "0": "2014",
                                    "1": "11",
                                    "2": "216",
                                    "3": "Michigan Ave & Oak St",
                                    "4": "Customer",
                                    "5": "7"
                                },
                                {
                                    "0": "2014",
                                    "1": "11",
                                    "2": "212",
                                    "3": "McClurg Ct & Illinois St",
                                    "4": "Customer",
                                    "5": "8"
                                },
                                {
                                    "0": "2014",
                                    "1": "11",
                                    "2": "206",
                                    "3": "Michigan Ave & Washington St",
                                    "4": "Customer",
                                    "5": "9"
                                },
                                {
                                    "0": "2014",
                                    "1": "11",
                                    "2": "180",
                                    "3": "Michigan Ave & Congress Pkwy",
                                    "4": "Customer",
                                    "5": "10"
                                },
                                {
                                    "0": "2014",
                                    "1": "12",
                                    "2": "438",
                                    "3": "Lake Shore Dr & Monroe St",
                                    "4": "Customer",
                                    "5": "1"
                                },
                                {
                                    "0": "2014",
                                    "1": "12",
                                    "2": "364",
                                    "3": "Streeter Dr & Illinois St",
                                    "4": "Customer",
                                    "5": "2"
                                },
                                {
                                    "0": "2014",
                                    "1": "12",
                                    "2": "300",
                                    "3": "Millennium Park",
                                    "4": "Customer",
                                    "5": "3"
                                },
                                {
                                    "0": "2014",
                                    "1": "12",
                                    "2": "259",
                                    "3": "Museum Campus",
                                    "4": "Customer",
                                    "5": "4"
                                },
                                {
                                    "0": "2014",
                                    "1": "12",
                                    "2": "165",
                                    "3": "Michigan Ave & Washington St",
                                    "4": "Customer",
                                    "5": "5"
                                },
                                {
                                    "0": "2014",
                                    "1": "12",
                                    "2": "149",
                                    "3": "Michigan Ave & Oak St",
                                    "4": "Customer",
                                    "5": "6"
                                },
                                {
                                    "0": "2014",
                                    "1": "12",
                                    "2": "137",
                                    "3": "Adler Planetarium",
                                    "4": "Customer",
                                    "5": "7"
                                },
                                {
                                    "0": "2014",
                                    "1": "12",
                                    "2": "133",
                                    "3": "Michigan Ave & Congress Pkwy",
                                    "4": "Customer",
                                    "5": "8"
                                },
                                {
                                    "0": "2014",
                                    "1": "12",
                                    "2": "126",
                                    "3": "Indiana Ave & Roosevelt Rd",
                                    "4": "Customer",
                                    "5": "9"
                                },
                                {
                                    "0": "2014",
                                    "1": "12",
                                    "2": "114",
                                    "3": "Clark St & Elm St",
                                    "4": "Customer",
                                    "5": "10"
                                },
                                {
                                    "0": "2015",
                                    "1": "1",
                                    "2": "177",
                                    "3": "Clark St & Elm St",
                                    "4": "Customer",
                                    "5": "1"
                                },
                                {
                                    "0": "2015",
                                    "1": "1",
                                    "2": "131",
                                    "3": "Millennium Park",
                                    "4": "Customer",
                                    "5": "2"
                                },
                                {
                                    "0": "2015",
                                    "1": "1",
                                    "2": "128",
                                    "3": "Streeter Dr & Illinois St",
                                    "4": "Customer",
                                    "5": "3"
                                },
                                {
                                    "0": "2015",
                                    "1": "1",
                                    "2": "122",
                                    "3": "Lake Shore Dr & Monroe St",
                                    "4": "Customer",
                                    "5": "4"
                                },
                                {
                                    "0": "2015",
                                    "1": "1",
                                    "2": "72",
                                    "3": "Museum Campus",
                                    "4": "Customer",
                                    "5": "5"
                                },
                                {
                                    "0": "2015",
                                    "1": "1",
                                    "2": "71",
                                    "3": "Adler Planetarium",
                                    "4": "Customer",
                                    "5": "6"
                                },
                                {
                                    "0": "2015",
                                    "1": "1",
                                    "2": "69",
                                    "3": "Michigan Ave & Washington St",
                                    "4": "Customer",
                                    "5": "7"
                                },
                                {
                                    "0": "2015",
                                    "1": "1",
                                    "2": "67",
                                    "3": "LaSalle St & Washington St",
                                    "4": "Customer",
                                    "5": "8"
                                },
                                {
                                    "0": "2015",
                                    "1": "1",
                                    "2": "60",
                                    "3": "Michigan Ave & Oak St",
                                    "4": "Customer",
                                    "5": "9"
                                },
                                {
                                    "0": "2015",
                                    "1": "1",
                                    "2": "54",
                                    "3": "Dearborn St & Adams St",
                                    "4": "Customer",
                                    "5": "10"
                                },
                                {
                                    "0": "2015",
                                    "1": "2",
                                    "2": "46",
                                    "3": "LaSalle St & Washington St",
                                    "4": "Customer",
                                    "5": "1"
                                },
                                {
                                    "0": "2015",
                                    "1": "2",
                                    "2": "33",
                                    "3": "Damen Ave & Pierce Ave",
                                    "4": "Customer",
                                    "5": "2"
                                },
                                {
                                    "0": "2015",
                                    "1": "2",
                                    "2": "30",
                                    "3": "Museum Campus",
                                    "4": "Customer",
                                    "5": "3"
                                },
                                {
                                    "0": "2015",
                                    "1": "2",
                                    "2": "24",
                                    "3": "Kingsbury St & Erie St",
                                    "4": "Customer",
                                    "5": "4"
                                },
                                {
                                    "0": "2015",
                                    "1": "2",
                                    "2": "20",
                                    "3": "Michigan Ave & Washington St",
                                    "4": "Customer",
                                    "5": "5"
                                },
                                {
                                    "0": "2015",
                                    "1": "2",
                                    "2": "18",
                                    "3": "Dearborn St & Adams St",
                                    "4": "Customer",
                                    "5": "6"
                                },
                                {
                                    "0": "2015",
                                    "1": "2",
                                    "2": "18",
                                    "3": "Millennium Park",
                                    "4": "Customer",
                                    "5": "6"
                                },
                                {
                                    "0": "2015",
                                    "1": "2",
                                    "2": "17",
                                    "3": "Michigan Ave & Lake St",
                                    "4": "Customer",
                                    "5": "7"
                                },
                                {
                                    "0": "2015",
                                    "1": "2",
                                    "2": "17",
                                    "3": "Southport Ave & Roscoe St",
                                    "4": "Customer",
                                    "5": "7"
                                },
                                {
                                    "0": "2015",
                                    "1": "2",
                                    "2": "17",
                                    "3": "LaSalle St & Jackson Blvd",
                                    "4": "Customer",
                                    "5": "7"
                                },
                                {
                                    "0": "2015",
                                    "1": "2",
                                    "2": "16",
                                    "3": "Lake Shore Dr & Monroe St",
                                    "4": "Customer",
                                    "5": "8"
                                },
                                {
                                    "0": "2015",
                                    "1": "2",
                                    "2": "15",
                                    "3": "Cityfront Plaza Dr & Pioneer Ct",
                                    "4": "Customer",
                                    "5": "9"
                                },
                                {
                                    "0": "2015",
                                    "1": "2",
                                    "2": "14",
                                    "3": "Dearborn St & Monroe St",
                                    "4": "Customer",
                                    "5": "10"
                                },
                                {
                                    "0": "2015",
                                    "1": "3",
                                    "2": "1228",
                                    "3": "Streeter Dr & Illinois St",
                                    "4": "Customer",
                                    "5": "1"
                                },
                                {
                                    "0": "2015",
                                    "1": "3",
                                    "2": "1037",
                                    "3": "Lake Shore Dr & Monroe St",
                                    "4": "Customer",
                                    "5": "2"
                                },
                                {
                                    "0": "2015",
                                    "1": "3",
                                    "2": "497",
                                    "3": "Museum Campus",
                                    "4": "Customer",
                                    "5": "3"
                                },
                                {
                                    "0": "2015",
                                    "1": "3",
                                    "2": "489",
                                    "3": "Millennium Park",
                                    "4": "Customer",
                                    "5": "4"
                                },
                                {
                                    "0": "2015",
                                    "1": "3",
                                    "2": "473",
                                    "3": "Michigan Ave & Oak St",
                                    "4": "Customer",
                                    "5": "5"
                                },
                                {
                                    "0": "2015",
                                    "1": "3",
                                    "2": "461",
                                    "3": "Lake Shore Dr & North Blvd",
                                    "4": "Customer",
                                    "5": "6"
                                },
                                {
                                    "0": "2015",
                                    "1": "3",
                                    "2": "415",
                                    "3": "Theater on the Lake",
                                    "4": "Customer",
                                    "5": "7"
                                },
                                {
                                    "0": "2015",
                                    "1": "3",
                                    "2": "336",
                                    "3": "Michigan Ave & Washington St",
                                    "4": "Customer",
                                    "5": "8"
                                },
                                {
                                    "0": "2015",
                                    "1": "3",
                                    "2": "320",
                                    "3": "Adler Planetarium",
                                    "4": "Customer",
                                    "5": "9"
                                },
                                {
                                    "0": "2015",
                                    "1": "3",
                                    "2": "309",
                                    "3": "Indiana Ave & Roosevelt Rd",
                                    "4": "Customer",
                                    "5": "10"
                                },
                                {
                                    "0": "2015",
                                    "1": "4",
                                    "2": "2633",
                                    "3": "Streeter Dr & Illinois St",
                                    "4": "Customer",
                                    "5": "1"
                                },
                                {
                                    "0": "2015",
                                    "1": "4",
                                    "2": "1985",
                                    "3": "Lake Shore Dr & Monroe St",
                                    "4": "Customer",
                                    "5": "2"
                                },
                                {
                                    "0": "2015",
                                    "1": "4",
                                    "2": "1216",
                                    "3": "Millennium Park",
                                    "4": "Customer",
                                    "5": "3"
                                },
                                {
                                    "0": "2015",
                                    "1": "4",
                                    "2": "1132",
                                    "3": "Theater on the Lake",
                                    "4": "Customer",
                                    "5": "4"
                                },
                                {
                                    "0": "2015",
                                    "1": "4",
                                    "2": "1087",
                                    "3": "Museum Campus",
                                    "4": "Customer",
                                    "5": "5"
                                },
                                {
                                    "0": "2015",
                                    "1": "4",
                                    "2": "1035",
                                    "3": "Michigan Ave & Oak St",
                                    "4": "Customer",
                                    "5": "6"
                                },
                                {
                                    "0": "2015",
                                    "1": "4",
                                    "2": "821",
                                    "3": "Adler Planetarium",
                                    "4": "Customer",
                                    "5": "7"
                                },
                                {
                                    "0": "2015",
                                    "1": "4",
                                    "2": "600",
                                    "3": "Lake Shore Dr & North Blvd",
                                    "4": "Customer",
                                    "5": "8"
                                },
                                {
                                    "0": "2015",
                                    "1": "4",
                                    "2": "566",
                                    "3": "Indiana Ave & Roosevelt Rd",
                                    "4": "Customer",
                                    "5": "9"
                                },
                                {
                                    "0": "2015",
                                    "1": "4",
                                    "2": "542",
                                    "3": "Montrose Harbor",
                                    "4": "Customer",
                                    "5": "10"
                                },
                                {
                                    "0": "2015",
                                    "1": "5",
                                    "2": "5762",
                                    "3": "Streeter Dr & Illinois St",
                                    "4": "Customer",
                                    "5": "1"
                                },
                                {
                                    "0": "2015",
                                    "1": "5",
                                    "2": "4394",
                                    "3": "Lake Shore Dr & Monroe St",
                                    "4": "Customer",
                                    "5": "2"
                                },
                                {
                                    "0": "2015",
                                    "1": "5",
                                    "2": "2805",
                                    "3": "Millennium Park",
                                    "4": "Customer",
                                    "5": "3"
                                },
                                {
                                    "0": "2015",
                                    "1": "5",
                                    "2": "2794",
                                    "3": "Michigan Ave & Oak St",
                                    "4": "Customer",
                                    "5": "4"
                                },
                                {
                                    "0": "2015",
                                    "1": "5",
                                    "2": "2597",
                                    "3": "Theater on the Lake",
                                    "4": "Customer",
                                    "5": "5"
                                },
                                {
                                    "0": "2015",
                                    "1": "5",
                                    "2": "2416",
                                    "3": "Lake Shore Dr & North Blvd",
                                    "4": "Customer",
                                    "5": "6"
                                },
                                {
                                    "0": "2015",
                                    "1": "5",
                                    "2": "2053",
                                    "3": "Shedd Aquarium",
                                    "4": "Customer",
                                    "5": "7"
                                },
                                {
                                    "0": "2015",
                                    "1": "5",
                                    "2": "1673",
                                    "3": "Michigan Ave & Balbo Ave",
                                    "4": "Customer",
                                    "5": "8"
                                },
                                {
                                    "0": "2015",
                                    "1": "5",
                                    "2": "1563",
                                    "3": "McClurg Ct & Illinois St",
                                    "4": "Customer",
                                    "5": "9"
                                },
                                {
                                    "0": "2015",
                                    "1": "5",
                                    "2": "1458",
                                    "3": "Adler Planetarium",
                                    "4": "Customer",
                                    "5": "10"
                                },
                                {
                                    "0": "2015",
                                    "1": "6",
                                    "2": "8269",
                                    "3": "Streeter Dr & Illinois St",
                                    "4": "Customer",
                                    "5": "1"
                                },
                                {
                                    "0": "2015",
                                    "1": "6",
                                    "2": "6245",
                                    "3": "Lake Shore Dr & Monroe St",
                                    "4": "Customer",
                                    "5": "2"
                                },
                                {
                                    "0": "2015",
                                    "1": "6",
                                    "2": "4441",
                                    "3": "Theater on the Lake",
                                    "4": "Customer",
                                    "5": "3"
                                },
                                {
                                    "0": "2015",
                                    "1": "6",
                                    "2": "4440",
                                    "3": "Lake Shore Dr & North Blvd",
                                    "4": "Customer",
                                    "5": "4"
                                },
                                {
                                    "0": "2015",
                                    "1": "6",
                                    "2": "4060",
                                    "3": "Michigan Ave & Oak St",
                                    "4": "Customer",
                                    "5": "5"
                                },
                                {
                                    "0": "2015",
                                    "1": "6",
                                    "2": "3722",
                                    "3": "Millennium Park",
                                    "4": "Customer",
                                    "5": "6"
                                },
                                {
                                    "0": "2015",
                                    "1": "6",
                                    "2": "2943",
                                    "3": "Michigan Ave & Balbo Ave",
                                    "4": "Customer",
                                    "5": "7"
                                },
                                {
                                    "0": "2015",
                                    "1": "6",
                                    "2": "2863",
                                    "3": "Shedd Aquarium",
                                    "4": "Customer",
                                    "5": "8"
                                },
                                {
                                    "0": "2015",
                                    "1": "6",
                                    "2": "2383",
                                    "3": "Dusable Harbor",
                                    "4": "Customer",
                                    "5": "9"
                                },
                                {
                                    "0": "2015",
                                    "1": "6",
                                    "2": "2310",
                                    "3": "Adler Planetarium",
                                    "4": "Customer",
                                    "5": "10"
                                },
                                {
                                    "0": "2015",
                                    "1": "7",
                                    "2": "11816",
                                    "3": "Streeter Dr & Illinois St",
                                    "4": "Customer",
                                    "5": "1"
                                },
                                {
                                    "0": "2015",
                                    "1": "7",
                                    "2": "9057",
                                    "3": "Lake Shore Dr & Monroe St",
                                    "4": "Customer",
                                    "5": "2"
                                },
                                {
                                    "0": "2015",
                                    "1": "7",
                                    "2": "7293",
                                    "3": "Lake Shore Dr & North Blvd",
                                    "4": "Customer",
                                    "5": "3"
                                },
                                {
                                    "0": "2015",
                                    "1": "7",
                                    "2": "6472",
                                    "3": "Theater on the Lake",
                                    "4": "Customer",
                                    "5": "4"
                                },
                                {
                                    "0": "2015",
                                    "1": "7",
                                    "2": "6393",
                                    "3": "Michigan Ave & Oak St",
                                    "4": "Customer",
                                    "5": "5"
                                },
                                {
                                    "0": "2015",
                                    "1": "7",
                                    "2": "5376",
                                    "3": "Millennium Park",
                                    "4": "Customer",
                                    "5": "6"
                                },
                                {
                                    "0": "2015",
                                    "1": "7",
                                    "2": "5173",
                                    "3": "Shedd Aquarium",
                                    "4": "Customer",
                                    "5": "7"
                                },
                                {
                                    "0": "2015",
                                    "1": "7",
                                    "2": "3504",
                                    "3": "Dusable Harbor",
                                    "4": "Customer",
                                    "5": "8"
                                },
                                {
                                    "0": "2015",
                                    "1": "7",
                                    "2": "3240",
                                    "3": "Burnham Harbor",
                                    "4": "Customer",
                                    "5": "9"
                                },
                                {
                                    "0": "2015",
                                    "1": "7",
                                    "2": "3084",
                                    "3": "Adler Planetarium",
                                    "4": "Customer",
                                    "5": "10"
                                },
                                {
                                    "0": "2015",
                                    "1": "8",
                                    "2": "10742",
                                    "3": "Streeter Dr & Illinois St",
                                    "4": "Customer",
                                    "5": "1"
                                },
                                {
                                    "0": "2015",
                                    "1": "8",
                                    "2": "7046",
                                    "3": "Lake Shore Dr & Monroe St",
                                    "4": "Customer",
                                    "5": "2"
                                },
                                {
                                    "0": "2015",
                                    "1": "8",
                                    "2": "5938",
                                    "3": "Lake Shore Dr & North Blvd",
                                    "4": "Customer",
                                    "5": "3"
                                },
                                {
                                    "0": "2015",
                                    "1": "8",
                                    "2": "5403",
                                    "3": "Theater on the Lake",
                                    "4": "Customer",
                                    "5": "4"
                                },
                                {
                                    "0": "2015",
                                    "1": "8",
                                    "2": "5362",
                                    "3": "Michigan Ave & Oak St",
                                    "4": "Customer",
                                    "5": "5"
                                },
                                {
                                    "0": "2015",
                                    "1": "8",
                                    "2": "4433",
                                    "3": "Millennium Park",
                                    "4": "Customer",
                                    "5": "6"
                                },
                                {
                                    "0": "2015",
                                    "1": "8",
                                    "2": "3849",
                                    "3": "Shedd Aquarium",
                                    "4": "Customer",
                                    "5": "7"
                                },
                                {
                                    "0": "2015",
                                    "1": "8",
                                    "2": "2693",
                                    "3": "Adler Planetarium",
                                    "4": "Customer",
                                    "5": "8"
                                },
                                {
                                    "0": "2015",
                                    "1": "8",
                                    "2": "2508",
                                    "3": "Dusable Harbor",
                                    "4": "Customer",
                                    "5": "9"
                                },
                                {
                                    "0": "2015",
                                    "1": "8",
                                    "2": "2365",
                                    "3": "Burnham Harbor",
                                    "4": "Customer",
                                    "5": "10"
                                },
                                {
                                    "0": "2015",
                                    "1": "9",
                                    "2": "7988",
                                    "3": "Streeter Dr & Illinois St",
                                    "4": "Customer",
                                    "5": "1"
                                },
                                {
                                    "0": "2015",
                                    "1": "9",
                                    "2": "5173",
                                    "3": "Lake Shore Dr & Monroe St",
                                    "4": "Customer",
                                    "5": "2"
                                },
                                {
                                    "0": "2015",
                                    "1": "9",
                                    "2": "3851",
                                    "3": "Millennium Park",
                                    "4": "Customer",
                                    "5": "3"
                                },
                                {
                                    "0": "2015",
                                    "1": "9",
                                    "2": "3811",
                                    "3": "Theater on the Lake",
                                    "4": "Customer",
                                    "5": "4"
                                },
                                {
                                    "0": "2015",
                                    "1": "9",
                                    "2": "3697",
                                    "3": "Lake Shore Dr & North Blvd",
                                    "4": "Customer",
                                    "5": "5"
                                },
                                {
                                    "0": "2015",
                                    "1": "9",
                                    "2": "3322",
                                    "3": "Michigan Ave & Oak St",
                                    "4": "Customer",
                                    "5": "6"
                                },
                                {
                                    "0": "2015",
                                    "1": "9",
                                    "2": "3081",
                                    "3": "Shedd Aquarium",
                                    "4": "Customer",
                                    "5": "7"
                                },
                                {
                                    "0": "2015",
                                    "1": "9",
                                    "2": "2582",
                                    "3": "Adler Planetarium",
                                    "4": "Customer",
                                    "5": "8"
                                },
                                {
                                    "0": "2015",
                                    "1": "9",
                                    "2": "2515",
                                    "3": "Buckingham Fountain",
                                    "4": "Customer",
                                    "5": "9"
                                },
                                {
                                    "0": "2015",
                                    "1": "9",
                                    "2": "1848",
                                    "3": "Dusable Harbor",
                                    "4": "Customer",
                                    "5": "10"
                                },
                                {
                                    "0": "2015",
                                    "1": "10",
                                    "2": "3689",
                                    "3": "Streeter Dr & Illinois St",
                                    "4": "Customer",
                                    "5": "1"
                                },
                                {
                                    "0": "2015",
                                    "1": "10",
                                    "2": "2869",
                                    "3": "Lake Shore Dr & Monroe St",
                                    "4": "Customer",
                                    "5": "2"
                                },
                                {
                                    "0": "2015",
                                    "1": "10",
                                    "2": "1881",
                                    "3": "Millennium Park",
                                    "4": "Customer",
                                    "5": "3"
                                },
                                {
                                    "0": "2015",
                                    "1": "10",
                                    "2": "1723",
                                    "3": "Shedd Aquarium",
                                    "4": "Customer",
                                    "5": "4"
                                },
                                {
                                    "0": "2015",
                                    "1": "10",
                                    "2": "1502",
                                    "3": "Adler Planetarium",
                                    "4": "Customer",
                                    "5": "5"
                                },
                                {
                                    "0": "2015",
                                    "1": "10",
                                    "2": "1467",
                                    "3": "Michigan Ave & Oak St",
                                    "4": "Customer",
                                    "5": "6"
                                },
                                {
                                    "0": "2015",
                                    "1": "10",
                                    "2": "1399",
                                    "3": "Theater on the Lake",
                                    "4": "Customer",
                                    "5": "7"
                                },
                                {
                                    "0": "2015",
                                    "1": "10",
                                    "2": "1316",
                                    "3": "Lake Shore Dr & North Blvd",
                                    "4": "Customer",
                                    "5": "8"
                                },
                                {
                                    "0": "2015",
                                    "1": "10",
                                    "2": "956",
                                    "3": "Dusable Harbor",
                                    "4": "Customer",
                                    "5": "9"
                                },
                                {
                                    "0": "2015",
                                    "1": "10",
                                    "2": "920",
                                    "3": "Museum Campus",
                                    "4": "Customer",
                                    "5": "10"
                                },
                                {
                                    "0": "2015",
                                    "1": "11",
                                    "2": "1645",
                                    "3": "Streeter Dr & Illinois St",
                                    "4": "Customer",
                                    "5": "1"
                                },
                                {
                                    "0": "2015",
                                    "1": "11",
                                    "2": "1240",
                                    "3": "Lake Shore Dr & Monroe St",
                                    "4": "Customer",
                                    "5": "2"
                                },
                                {
                                    "0": "2015",
                                    "1": "11",
                                    "2": "871",
                                    "3": "Shedd Aquarium",
                                    "4": "Customer",
                                    "5": "3"
                                },
                                {
                                    "0": "2015",
                                    "1": "11",
                                    "2": "847",
                                    "3": "Millennium Park",
                                    "4": "Customer",
                                    "5": "4"
                                },
                                {
                                    "0": "2015",
                                    "1": "11",
                                    "2": "656",
                                    "3": "Adler Planetarium",
                                    "4": "Customer",
                                    "5": "5"
                                },
                                {
                                    "0": "2015",
                                    "1": "11",
                                    "2": "590",
                                    "3": "Michigan Ave & Oak St",
                                    "4": "Customer",
                                    "5": "6"
                                },
                                {
                                    "0": "2015",
                                    "1": "11",
                                    "2": "562",
                                    "3": "Theater on the Lake",
                                    "4": "Customer",
                                    "5": "7"
                                },
                                {
                                    "0": "2015",
                                    "1": "11",
                                    "2": "540",
                                    "3": "Lake Shore Dr & North Blvd",
                                    "4": "Customer",
                                    "5": "8"
                                },
                                {
                                    "0": "2015",
                                    "1": "11",
                                    "2": "494",
                                    "3": "Burnham Harbor",
                                    "4": "Customer",
                                    "5": "9"
                                },
                                {
                                    "0": "2015",
                                    "1": "11",
                                    "2": "379",
                                    "3": "Museum Campus",
                                    "4": "Customer",
                                    "5": "10"
                                },
                                {
                                    "0": "2015",
                                    "1": "12",
                                    "2": "352",
                                    "3": "Lake Shore Dr & Monroe St",
                                    "4": "Customer",
                                    "5": "1"
                                },
                                {
                                    "0": "2015",
                                    "1": "12",
                                    "2": "345",
                                    "3": "Streeter Dr & Illinois St",
                                    "4": "Customer",
                                    "5": "2"
                                },
                                {
                                    "0": "2015",
                                    "1": "12",
                                    "2": "268",
                                    "3": "Shedd Aquarium",
                                    "4": "Customer",
                                    "5": "3"
                                },
                                {
                                    "0": "2015",
                                    "1": "12",
                                    "2": "250",
                                    "3": "Millennium Park",
                                    "4": "Customer",
                                    "5": "4"
                                },
                                {
                                    "0": "2015",
                                    "1": "12",
                                    "2": "153",
                                    "3": "Adler Planetarium",
                                    "4": "Customer",
                                    "5": "5"
                                },
                                {
                                    "0": "2015",
                                    "1": "12",
                                    "2": "144",
                                    "3": "Museum Campus",
                                    "4": "Customer",
                                    "5": "6"
                                },
                                {
                                    "0": "2015",
                                    "1": "12",
                                    "2": "134",
                                    "3": "Michigan Ave & Washington St",
                                    "4": "Customer",
                                    "5": "7"
                                },
                                {
                                    "0": "2015",
                                    "1": "12",
                                    "2": "127",
                                    "3": "Buckingham Fountain",
                                    "4": "Customer",
                                    "5": "8"
                                },
                                {
                                    "0": "2015",
                                    "1": "12",
                                    "2": "124",
                                    "3": "Lake Shore Dr & North Blvd",
                                    "4": "Customer",
                                    "5": "9"
                                },
                                {
                                    "0": "2015",
                                    "1": "12",
                                    "2": "121",
                                    "3": "Indiana Ave & Roosevelt Rd",
                                    "4": "Customer",
                                    "5": "10"
                                },
                                {
                                    "0": "2016",
                                    "1": "1",
                                    "2": "182",
                                    "3": "Streeter Dr & Grand Ave",
                                    "4": "Customer",
                                    "5": "1"
                                },
                                {
                                    "0": "2016",
                                    "1": "1",
                                    "2": "165",
                                    "3": "Lake Shore Dr & Monroe St",
                                    "4": "Customer",
                                    "5": "2"
                                },
                                {
                                    "0": "2016",
                                    "1": "1",
                                    "2": "120",
                                    "3": "Shedd Aquarium",
                                    "4": "Customer",
                                    "5": "3"
                                },
                                {
                                    "0": "2016",
                                    "1": "1",
                                    "2": "87",
                                    "3": "Millennium Park",
                                    "4": "Customer",
                                    "5": "4"
                                },
                                {
                                    "0": "2016",
                                    "1": "1",
                                    "2": "86",
                                    "3": "Adler Planetarium",
                                    "4": "Customer",
                                    "5": "5"
                                },
                                {
                                    "0": "2016",
                                    "1": "1",
                                    "2": "85",
                                    "3": "Michigan Ave & Oak St",
                                    "4": "Customer",
                                    "5": "6"
                                },
                                {
                                    "0": "2016",
                                    "1": "1",
                                    "2": "71",
                                    "3": "Michigan Ave & Washington St",
                                    "4": "Customer",
                                    "5": "7"
                                },
                                {
                                    "0": "2016",
                                    "1": "1",
                                    "2": "60",
                                    "3": "Museum Campus",
                                    "4": "Customer",
                                    "5": "8"
                                },
                                {
                                    "0": "2016",
                                    "1": "1",
                                    "2": "55",
                                    "3": "Michigan Ave & Pearson St",
                                    "4": "Customer",
                                    "5": "9"
                                },
                                {
                                    "0": "2016",
                                    "1": "1",
                                    "2": "51",
                                    "3": "Lake Shore Dr & North Blvd",
                                    "4": "Customer",
                                    "5": "10"
                                },
                                {
                                    "0": "2016",
                                    "1": "2",
                                    "2": "809",
                                    "3": "Streeter Dr & Grand Ave",
                                    "4": "Customer",
                                    "5": "1"
                                },
                                {
                                    "0": "2016",
                                    "1": "2",
                                    "2": "640",
                                    "3": "Lake Shore Dr & Monroe St",
                                    "4": "Customer",
                                    "5": "2"
                                },
                                {
                                    "0": "2016",
                                    "1": "2",
                                    "2": "381",
                                    "3": "Millennium Park",
                                    "4": "Customer",
                                    "5": "3"
                                },
                                {
                                    "0": "2016",
                                    "1": "2",
                                    "2": "358",
                                    "3": "Shedd Aquarium",
                                    "4": "Customer",
                                    "5": "4"
                                },
                                {
                                    "0": "2016",
                                    "1": "2",
                                    "2": "262",
                                    "3": "Michigan Ave & Oak St",
                                    "4": "Customer",
                                    "5": "5"
                                },
                                {
                                    "0": "2016",
                                    "1": "2",
                                    "2": "250",
                                    "3": "Lake Shore Dr & North Blvd",
                                    "4": "Customer",
                                    "5": "6"
                                },
                                {
                                    "0": "2016",
                                    "1": "2",
                                    "2": "220",
                                    "3": "Adler Planetarium",
                                    "4": "Customer",
                                    "5": "7"
                                },
                                {
                                    "0": "2016",
                                    "1": "2",
                                    "2": "207",
                                    "3": "Theater on the Lake",
                                    "4": "Customer",
                                    "5": "8"
                                },
                                {
                                    "0": "2016",
                                    "1": "2",
                                    "2": "192",
                                    "3": "Burnham Harbor",
                                    "4": "Customer",
                                    "5": "9"
                                },
                                {
                                    "0": "2016",
                                    "1": "2",
                                    "2": "183",
                                    "3": "Museum Campus",
                                    "4": "Customer",
                                    "5": "10"
                                },
                                {
                                    "0": "2016",
                                    "1": "3",
                                    "2": "2020",
                                    "3": "Streeter Dr & Grand Ave",
                                    "4": "Customer",
                                    "5": "1"
                                },
                                {
                                    "0": "2016",
                                    "1": "3",
                                    "2": "1528",
                                    "3": "Lake Shore Dr & Monroe St",
                                    "4": "Customer",
                                    "5": "2"
                                },
                                {
                                    "0": "2016",
                                    "1": "3",
                                    "2": "1104",
                                    "3": "Shedd Aquarium",
                                    "4": "Customer",
                                    "5": "3"
                                },
                                {
                                    "0": "2016",
                                    "1": "3",
                                    "2": "775",
                                    "3": "Millennium Park",
                                    "4": "Customer",
                                    "5": "4"
                                },
                                {
                                    "0": "2016",
                                    "1": "3",
                                    "2": "654",
                                    "3": "Dusable Harbor",
                                    "4": "Customer",
                                    "5": "5"
                                },
                                {
                                    "0": "2016",
                                    "1": "3",
                                    "2": "633",
                                    "3": "Michigan Ave & Oak St",
                                    "4": "Customer",
                                    "5": "6"
                                },
                                {
                                    "0": "2016",
                                    "1": "3",
                                    "2": "619",
                                    "3": "Adler Planetarium",
                                    "4": "Customer",
                                    "5": "7"
                                },
                                {
                                    "0": "2016",
                                    "1": "3",
                                    "2": "538",
                                    "3": "Lake Shore Dr & North Blvd",
                                    "4": "Customer",
                                    "5": "8"
                                },
                                {
                                    "0": "2016",
                                    "1": "3",
                                    "2": "504",
                                    "3": "Museum Campus",
                                    "4": "Customer",
                                    "5": "9"
                                },
                                {
                                    "0": "2016",
                                    "1": "3",
                                    "2": "479",
                                    "3": "Theater on the Lake",
                                    "4": "Customer",
                                    "5": "10"
                                },
                                {
                                    "0": "2016",
                                    "1": "4",
                                    "2": "2942",
                                    "3": "Streeter Dr & Grand Ave",
                                    "4": "Customer",
                                    "5": "1"
                                },
                                {
                                    "0": "2016",
                                    "1": "4",
                                    "2": "2591",
                                    "3": "Lake Shore Dr & Monroe St",
                                    "4": "Customer",
                                    "5": "2"
                                },
                                {
                                    "0": "2016",
                                    "1": "4",
                                    "2": "1489",
                                    "3": "Lake Shore Dr & North Blvd",
                                    "4": "Customer",
                                    "5": "3"
                                },
                                {
                                    "0": "2016",
                                    "1": "4",
                                    "2": "1451",
                                    "3": "Shedd Aquarium",
                                    "4": "Customer",
                                    "5": "4"
                                },
                                {
                                    "0": "2016",
                                    "1": "4",
                                    "2": "1392",
                                    "3": "Millennium Park",
                                    "4": "Customer",
                                    "5": "5"
                                },
                                {
                                    "0": "2016",
                                    "1": "4",
                                    "2": "1387",
                                    "3": "Theater on the Lake",
                                    "4": "Customer",
                                    "5": "6"
                                },
                                {
                                    "0": "2016",
                                    "1": "4",
                                    "2": "1260",
                                    "3": "Michigan Ave & Oak St",
                                    "4": "Customer",
                                    "5": "7"
                                },
                                {
                                    "0": "2016",
                                    "1": "4",
                                    "2": "962",
                                    "3": "Adler Planetarium",
                                    "4": "Customer",
                                    "5": "8"
                                },
                                {
                                    "0": "2016",
                                    "1": "4",
                                    "2": "948",
                                    "3": "Dusable Harbor",
                                    "4": "Customer",
                                    "5": "9"
                                },
                                {
                                    "0": "2016",
                                    "1": "4",
                                    "2": "840",
                                    "3": "Burnham Harbor",
                                    "4": "Customer",
                                    "5": "10"
                                },
                                {
                                    "0": "2016",
                                    "1": "5",
                                    "2": "7635",
                                    "3": "Streeter Dr & Grand Ave",
                                    "4": "Customer",
                                    "5": "1"
                                },
                                {
                                    "0": "2016",
                                    "1": "5",
                                    "2": "4775",
                                    "3": "Lake Shore Dr & Monroe St",
                                    "4": "Customer",
                                    "5": "2"
                                },
                                {
                                    "0": "2016",
                                    "1": "5",
                                    "2": "3585",
                                    "3": "Lake Shore Dr & North Blvd",
                                    "4": "Customer",
                                    "5": "3"
                                },
                                {
                                    "0": "2016",
                                    "1": "5",
                                    "2": "3433",
                                    "3": "Theater on the Lake",
                                    "4": "Customer",
                                    "5": "4"
                                },
                                {
                                    "0": "2016",
                                    "1": "5",
                                    "2": "3018",
                                    "3": "Millennium Park",
                                    "4": "Customer",
                                    "5": "5"
                                },
                                {
                                    "0": "2016",
                                    "1": "5",
                                    "2": "2805",
                                    "3": "Michigan Ave & Oak St",
                                    "4": "Customer",
                                    "5": "6"
                                },
                                {
                                    "0": "2016",
                                    "1": "5",
                                    "2": "2610",
                                    "3": "Shedd Aquarium",
                                    "4": "Customer",
                                    "5": "7"
                                },
                                {
                                    "0": "2016",
                                    "1": "5",
                                    "2": "1986",
                                    "3": "Michigan Ave & Balbo Ave",
                                    "4": "Customer",
                                    "5": "8"
                                },
                                {
                                    "0": "2016",
                                    "1": "5",
                                    "2": "1820",
                                    "3": "Adler Planetarium",
                                    "4": "Customer",
                                    "5": "9"
                                },
                                {
                                    "0": "2016",
                                    "1": "5",
                                    "2": "1559",
                                    "3": "Dusable Harbor",
                                    "4": "Customer",
                                    "5": "10"
                                },
                                {
                                    "0": "2016",
                                    "1": "6",
                                    "2": "10393",
                                    "3": "Streeter Dr & Grand Ave",
                                    "4": "Customer",
                                    "5": "1"
                                },
                                {
                                    "0": "2016",
                                    "1": "6",
                                    "2": "4853",
                                    "3": "Lake Shore Dr & Monroe St",
                                    "4": "Customer",
                                    "5": "2"
                                },
                                {
                                    "0": "2016",
                                    "1": "6",
                                    "2": "4535",
                                    "3": "Lake Shore Dr & North Blvd",
                                    "4": "Customer",
                                    "5": "3"
                                },
                                {
                                    "0": "2016",
                                    "1": "6",
                                    "2": "3925",
                                    "3": "Millennium Park",
                                    "4": "Customer",
                                    "5": "4"
                                },
                                {
                                    "0": "2016",
                                    "1": "6",
                                    "2": "3652",
                                    "3": "Michigan Ave & Oak St",
                                    "4": "Customer",
                                    "5": "5"
                                },
                                {
                                    "0": "2016",
                                    "1": "6",
                                    "2": "3625",
                                    "3": "Theater on the Lake",
                                    "4": "Customer",
                                    "5": "6"
                                },
                                {
                                    "0": "2016",
                                    "1": "6",
                                    "2": "2958",
                                    "3": "Shedd Aquarium",
                                    "4": "Customer",
                                    "5": "7"
                                },
                                {
                                    "0": "2016",
                                    "1": "6",
                                    "2": "2299",
                                    "3": "Dusable Harbor",
                                    "4": "Customer",
                                    "5": "8"
                                },
                                {
                                    "0": "2016",
                                    "1": "6",
                                    "2": "2294",
                                    "3": "Michigan Ave & Balbo Ave",
                                    "4": "Customer",
                                    "5": "9"
                                },
                                {
                                    "0": "2016",
                                    "1": "6",
                                    "2": "2277",
                                    "3": "Adler Planetarium",
                                    "4": "Customer",
                                    "5": "10"
                                },
                                {
                                    "0": "2016",
                                    "1": "7",
                                    "2": "14105",
                                    "3": "Streeter Dr & Grand Ave",
                                    "4": "Customer",
                                    "5": "1"
                                },
                                {
                                    "0": "2016",
                                    "1": "7",
                                    "2": "8047",
                                    "3": "Lake Shore Dr & Monroe St",
                                    "4": "Customer",
                                    "5": "2"
                                },
                                {
                                    "0": "2016",
                                    "1": "7",
                                    "2": "6338",
                                    "3": "Lake Shore Dr & North Blvd",
                                    "4": "Customer",
                                    "5": "3"
                                },
                                {
                                    "0": "2016",
                                    "1": "7",
                                    "2": "5662",
                                    "3": "Theater on the Lake",
                                    "4": "Customer",
                                    "5": "4"
                                },
                                {
                                    "0": "2016",
                                    "1": "7",
                                    "2": "4982",
                                    "3": "Michigan Ave & Oak St",
                                    "4": "Customer",
                                    "5": "5"
                                },
                                {
                                    "0": "2016",
                                    "1": "7",
                                    "2": "4740",
                                    "3": "Millennium Park",
                                    "4": "Customer",
                                    "5": "6"
                                },
                                {
                                    "0": "2016",
                                    "1": "7",
                                    "2": "4165",
                                    "3": "Shedd Aquarium",
                                    "4": "Customer",
                                    "5": "7"
                                },
                                {
                                    "0": "2016",
                                    "1": "7",
                                    "2": "3099",
                                    "3": "Dusable Harbor",
                                    "4": "Customer",
                                    "5": "8"
                                },
                                {
                                    "0": "2016",
                                    "1": "7",
                                    "2": "2891",
                                    "3": "Adler Planetarium",
                                    "4": "Customer",
                                    "5": "9"
                                },
                                {
                                    "0": "2016",
                                    "1": "7",
                                    "2": "2585",
                                    "3": "Burnham Harbor",
                                    "4": "Customer",
                                    "5": "10"
                                },
                                {
                                    "0": "2016",
                                    "1": "8",
                                    "2": "12486",
                                    "3": "Streeter Dr & Grand Ave",
                                    "4": "Customer",
                                    "5": "1"
                                },
                                {
                                    "0": "2016",
                                    "1": "8",
                                    "2": "5790",
                                    "3": "Lake Shore Dr & Monroe St",
                                    "4": "Customer",
                                    "5": "2"
                                },
                                {
                                    "0": "2016",
                                    "1": "8",
                                    "2": "4811",
                                    "3": "Lake Shore Dr & North Blvd",
                                    "4": "Customer",
                                    "5": "3"
                                },
                                {
                                    "0": "2016",
                                    "1": "8",
                                    "2": "4472",
                                    "3": "Theater on the Lake",
                                    "4": "Customer",
                                    "5": "4"
                                },
                                {
                                    "0": "2016",
                                    "1": "8",
                                    "2": "4375",
                                    "3": "Millennium Park",
                                    "4": "Customer",
                                    "5": "5"
                                },
                                {
                                    "0": "2016",
                                    "1": "8",
                                    "2": "4047",
                                    "3": "Michigan Ave & Oak St",
                                    "4": "Customer",
                                    "5": "6"
                                },
                                {
                                    "0": "2016",
                                    "1": "8",
                                    "2": "3500",
                                    "3": "Shedd Aquarium",
                                    "4": "Customer",
                                    "5": "7"
                                },
                                {
                                    "0": "2016",
                                    "1": "8",
                                    "2": "2702",
                                    "3": "Adler Planetarium",
                                    "4": "Customer",
                                    "5": "8"
                                },
                                {
                                    "0": "2016",
                                    "1": "8",
                                    "2": "2524",
                                    "3": "Dusable Harbor",
                                    "4": "Customer",
                                    "5": "9"
                                },
                                {
                                    "0": "2016",
                                    "1": "8",
                                    "2": "1913",
                                    "3": "Indiana Ave & Roosevelt Rd",
                                    "4": "Customer",
                                    "5": "10"
                                },
                                {
                                    "0": "2016",
                                    "1": "9",
                                    "2": "10914",
                                    "3": "Streeter Dr & Grand Ave",
                                    "4": "Customer",
                                    "5": "1"
                                },
                                {
                                    "0": "2016",
                                    "1": "9",
                                    "2": "6089",
                                    "3": "Lake Shore Dr & Monroe St",
                                    "4": "Customer",
                                    "5": "2"
                                },
                                {
                                    "0": "2016",
                                    "1": "9",
                                    "2": "3935",
                                    "3": "Theater on the Lake",
                                    "4": "Customer",
                                    "5": "3"
                                },
                                {
                                    "0": "2016",
                                    "1": "9",
                                    "2": "3749",
                                    "3": "Millennium Park",
                                    "4": "Customer",
                                    "5": "4"
                                },
                                {
                                    "0": "2016",
                                    "1": "9",
                                    "2": "3659",
                                    "3": "Lake Shore Dr & North Blvd",
                                    "4": "Customer",
                                    "5": "5"
                                },
                                {
                                    "0": "2016",
                                    "1": "9",
                                    "2": "3380",
                                    "3": "Shedd Aquarium",
                                    "4": "Customer",
                                    "5": "6"
                                },
                                {
                                    "0": "2016",
                                    "1": "9",
                                    "2": "3146",
                                    "3": "Michigan Ave & Oak St",
                                    "4": "Customer",
                                    "5": "7"
                                },
                                {
                                    "0": "2016",
                                    "1": "9",
                                    "2": "2486",
                                    "3": "Adler Planetarium",
                                    "4": "Customer",
                                    "5": "8"
                                },
                                {
                                    "0": "2016",
                                    "1": "9",
                                    "2": "2092",
                                    "3": "Dusable Harbor",
                                    "4": "Customer",
                                    "5": "9"
                                },
                                {
                                    "0": "2016",
                                    "1": "9",
                                    "2": "1760",
                                    "3": "Burnham Harbor",
                                    "4": "Customer",
                                    "5": "10"
                                },
                                {
                                    "0": "2016",
                                    "1": "10",
                                    "2": "6345",
                                    "3": "Streeter Dr & Grand Ave",
                                    "4": "Customer",
                                    "5": "1"
                                },
                                {
                                    "0": "2016",
                                    "1": "10",
                                    "2": "4095",
                                    "3": "Lake Shore Dr & Monroe St",
                                    "4": "Customer",
                                    "5": "2"
                                },
                                {
                                    "0": "2016",
                                    "1": "10",
                                    "2": "2277",
                                    "3": "Shedd Aquarium",
                                    "4": "Customer",
                                    "5": "3"
                                },
                                {
                                    "0": "2016",
                                    "1": "10",
                                    "2": "2195",
                                    "3": "Millennium Park",
                                    "4": "Customer",
                                    "5": "4"
                                },
                                {
                                    "0": "2016",
                                    "1": "10",
                                    "2": "2015",
                                    "3": "Theater on the Lake",
                                    "4": "Customer",
                                    "5": "5"
                                },
                                {
                                    "0": "2016",
                                    "1": "10",
                                    "2": "1675",
                                    "3": "Michigan Ave & Oak St",
                                    "4": "Customer",
                                    "5": "6"
                                },
                                {
                                    "0": "2016",
                                    "1": "10",
                                    "2": "1644",
                                    "3": "Lake Shore Dr & North Blvd",
                                    "4": "Customer",
                                    "5": "7"
                                },
                                {
                                    "0": "2016",
                                    "1": "10",
                                    "2": "1490",
                                    "3": "Adler Planetarium",
                                    "4": "Customer",
                                    "5": "8"
                                },
                                {
                                    "0": "2016",
                                    "1": "10",
                                    "2": "1331",
                                    "3": "Dusable Harbor",
                                    "4": "Customer",
                                    "5": "9"
                                },
                                {
                                    "0": "2016",
                                    "1": "10",
                                    "2": "1181",
                                    "3": "Field Museum",
                                    "4": "Customer",
                                    "5": "10"
                                },
                                {
                                    "0": "2016",
                                    "1": "11",
                                    "2": "2816",
                                    "3": "Streeter Dr & Grand Ave",
                                    "4": "Customer",
                                    "5": "1"
                                },
                                {
                                    "0": "2016",
                                    "1": "11",
                                    "2": "1673",
                                    "3": "Lake Shore Dr & Monroe St",
                                    "4": "Customer",
                                    "5": "2"
                                },
                                {
                                    "0": "2016",
                                    "1": "11",
                                    "2": "1085",
                                    "3": "Shedd Aquarium",
                                    "4": "Customer",
                                    "5": "3"
                                },
                                {
                                    "0": "2016",
                                    "1": "11",
                                    "2": "1011",
                                    "3": "Millennium Park",
                                    "4": "Customer",
                                    "5": "4"
                                },
                                {
                                    "0": "2016",
                                    "1": "11",
                                    "2": "903",
                                    "3": "Theater on the Lake",
                                    "4": "Customer",
                                    "5": "5"
                                },
                                {
                                    "0": "2016",
                                    "1": "11",
                                    "2": "761",
                                    "3": "Lake Shore Dr & North Blvd",
                                    "4": "Customer",
                                    "5": "6"
                                },
                                {
                                    "0": "2016",
                                    "1": "11",
                                    "2": "681",
                                    "3": "Dusable Harbor",
                                    "4": "Customer",
                                    "5": "7"
                                },
                                {
                                    "0": "2016",
                                    "1": "11",
                                    "2": "680",
                                    "3": "Adler Planetarium",
                                    "4": "Customer",
                                    "5": "8"
                                },
                                {
                                    "0": "2016",
                                    "1": "11",
                                    "2": "630",
                                    "3": "Michigan Ave & Oak St",
                                    "4": "Customer",
                                    "5": "9"
                                },
                                {
                                    "0": "2016",
                                    "1": "11",
                                    "2": "559",
                                    "3": "Burnham Harbor",
                                    "4": "Customer",
                                    "5": "10"
                                },
                                {
                                    "0": "2016",
                                    "1": "12",
                                    "2": "265",
                                    "3": "Streeter Dr & Grand Ave",
                                    "4": "Customer",
                                    "5": "1"
                                },
                                {
                                    "0": "2016",
                                    "1": "12",
                                    "2": "219",
                                    "3": "Lake Shore Dr & Monroe St",
                                    "4": "Customer",
                                    "5": "2"
                                },
                                {
                                    "0": "2016",
                                    "1": "12",
                                    "2": "152",
                                    "3": "Shedd Aquarium",
                                    "4": "Customer",
                                    "5": "3"
                                },
                                {
                                    "0": "2016",
                                    "1": "12",
                                    "2": "112",
                                    "3": "Millennium Park",
                                    "4": "Customer",
                                    "5": "4"
                                },
                                {
                                    "0": "2016",
                                    "1": "12",
                                    "2": "71",
                                    "3": "Dusable Harbor",
                                    "4": "Customer",
                                    "5": "5"
                                },
                                {
                                    "0": "2016",
                                    "1": "12",
                                    "2": "66",
                                    "3": "Adler Planetarium",
                                    "4": "Customer",
                                    "5": "6"
                                },
                                {
                                    "0": "2016",
                                    "1": "12",
                                    "2": "59",
                                    "3": "Michigan Ave & Washington St",
                                    "4": "Customer",
                                    "5": "7"
                                },
                                {
                                    "0": "2016",
                                    "1": "12",
                                    "2": "59",
                                    "3": "Field Museum",
                                    "4": "Customer",
                                    "5": "7"
                                },
                                {
                                    "0": "2016",
                                    "1": "12",
                                    "2": "56",
                                    "3": "Michigan Ave & Oak St",
                                    "4": "Customer",
                                    "5": "8"
                                },
                                {
                                    "0": "2016",
                                    "1": "12",
                                    "2": "55",
                                    "3": "Indiana Ave & Roosevelt Rd",
                                    "4": "Customer",
                                    "5": "9"
                                },
                                {
                                    "0": "2016",
                                    "1": "12",
                                    "2": "52",
                                    "3": "Theater on the Lake",
                                    "4": "Customer",
                                    "5": "10"
                                },
                                {
                                    "0": "2017",
                                    "1": "1",
                                    "2": "339",
                                    "3": "Streeter Dr & Grand Ave",
                                    "4": "Customer",
                                    "5": "1"
                                },
                                {
                                    "0": "2017",
                                    "1": "1",
                                    "2": "271",
                                    "3": "Lake Shore Dr & Monroe St",
                                    "4": "Customer",
                                    "5": "2"
                                },
                                {
                                    "0": "2017",
                                    "1": "1",
                                    "2": "163",
                                    "3": "Millennium Park",
                                    "4": "Customer",
                                    "5": "3"
                                },
                                {
                                    "0": "2017",
                                    "1": "1",
                                    "2": "154",
                                    "3": "Shedd Aquarium",
                                    "4": "Customer",
                                    "5": "4"
                                },
                                {
                                    "0": "2017",
                                    "1": "1",
                                    "2": "135",
                                    "3": "Theater on the Lake",
                                    "4": "Customer",
                                    "5": "5"
                                },
                                {
                                    "0": "2017",
                                    "1": "1",
                                    "2": "117",
                                    "3": "Michigan Ave & Washington St",
                                    "4": "Customer",
                                    "5": "6"
                                },
                                {
                                    "0": "2017",
                                    "1": "1",
                                    "2": "116",
                                    "3": "Lake Shore Dr & North Blvd",
                                    "4": "Customer",
                                    "5": "7"
                                },
                                {
                                    "0": "2017",
                                    "1": "1",
                                    "2": "103",
                                    "3": "Michigan Ave & Oak St",
                                    "4": "Customer",
                                    "5": "8"
                                },
                                {
                                    "0": "2017",
                                    "1": "1",
                                    "2": "87",
                                    "3": "Adler Planetarium",
                                    "4": "Customer",
                                    "5": "9"
                                },
                                {
                                    "0": "2017",
                                    "1": "1",
                                    "2": "80",
                                    "3": "Dusable Harbor",
                                    "4": "Customer",
                                    "5": "10"
                                },
                                {
                                    "0": "2017",
                                    "1": "2",
                                    "2": "1940",
                                    "3": "Streeter Dr & Grand Ave",
                                    "4": "Customer",
                                    "5": "1"
                                },
                                {
                                    "0": "2017",
                                    "1": "2",
                                    "2": "1232",
                                    "3": "Lake Shore Dr & Monroe St",
                                    "4": "Customer",
                                    "5": "2"
                                },
                                {
                                    "0": "2017",
                                    "1": "2",
                                    "2": "794",
                                    "3": "Theater on the Lake",
                                    "4": "Customer",
                                    "5": "3"
                                },
                                {
                                    "0": "2017",
                                    "1": "2",
                                    "2": "772",
                                    "3": "Shedd Aquarium",
                                    "4": "Customer",
                                    "5": "4"
                                },
                                {
                                    "0": "2017",
                                    "1": "2",
                                    "2": "701",
                                    "3": "Millennium Park",
                                    "4": "Customer",
                                    "5": "5"
                                },
                                {
                                    "0": "2017",
                                    "1": "2",
                                    "2": "544",
                                    "3": "Michigan Ave & Oak St",
                                    "4": "Customer",
                                    "5": "6"
                                },
                                {
                                    "0": "2017",
                                    "1": "2",
                                    "2": "542",
                                    "3": "Lake Shore Dr & North Blvd",
                                    "4": "Customer",
                                    "5": "7"
                                },
                                {
                                    "0": "2017",
                                    "1": "2",
                                    "2": "513",
                                    "3": "Adler Planetarium",
                                    "4": "Customer",
                                    "5": "8"
                                },
                                {
                                    "0": "2017",
                                    "1": "2",
                                    "2": "449",
                                    "3": "Dusable Harbor",
                                    "4": "Customer",
                                    "5": "9"
                                },
                                {
                                    "0": "2017",
                                    "1": "2",
                                    "2": "415",
                                    "3": "Burnham Harbor",
                                    "4": "Customer",
                                    "5": "10"
                                },
                                {
                                    "0": "2017",
                                    "1": "3",
                                    "2": "1141",
                                    "3": "Streeter Dr & Grand Ave",
                                    "4": "Customer",
                                    "5": "1"
                                },
                                {
                                    "0": "2017",
                                    "1": "3",
                                    "2": "843",
                                    "3": "Lake Shore Dr & Monroe St",
                                    "4": "Customer",
                                    "5": "2"
                                },
                                {
                                    "0": "2017",
                                    "1": "3",
                                    "2": "556",
                                    "3": "Shedd Aquarium",
                                    "4": "Customer",
                                    "5": "3"
                                },
                                {
                                    "0": "2017",
                                    "1": "3",
                                    "2": "365",
                                    "3": "Millennium Park",
                                    "4": "Customer",
                                    "5": "4"
                                },
                                {
                                    "0": "2017",
                                    "1": "3",
                                    "2": "322",
                                    "3": "Theater on the Lake",
                                    "4": "Customer",
                                    "5": "5"
                                },
                                {
                                    "0": "2017",
                                    "1": "3",
                                    "2": "298",
                                    "3": "Dusable Harbor",
                                    "4": "Customer",
                                    "5": "6"
                                },
                                {
                                    "0": "2017",
                                    "1": "3",
                                    "2": "298",
                                    "3": "Lake Shore Dr & North Blvd",
                                    "4": "Customer",
                                    "5": "6"
                                },
                                {
                                    "0": "2017",
                                    "1": "3",
                                    "2": "279",
                                    "3": "Adler Planetarium",
                                    "4": "Customer",
                                    "5": "7"
                                },
                                {
                                    "0": "2017",
                                    "1": "3",
                                    "2": "268",
                                    "3": "Michigan Ave & Oak St",
                                    "4": "Customer",
                                    "5": "8"
                                },
                                {
                                    "0": "2017",
                                    "1": "3",
                                    "2": "164",
                                    "3": "Michigan Ave & Washington St",
                                    "4": "Customer",
                                    "5": "9"
                                },
                                {
                                    "0": "2017",
                                    "1": "3",
                                    "2": "156",
                                    "3": "Michigan Ave & Jackson Blvd",
                                    "4": "Customer",
                                    "5": "10"
                                },
                                {
                                    "0": "2017",
                                    "1": "4",
                                    "2": "5501",
                                    "3": "Streeter Dr & Grand Ave",
                                    "4": "Customer",
                                    "5": "1"
                                },
                                {
                                    "0": "2017",
                                    "1": "4",
                                    "2": "3455",
                                    "3": "Lake Shore Dr & Monroe St",
                                    "4": "Customer",
                                    "5": "2"
                                },
                                {
                                    "0": "2017",
                                    "1": "4",
                                    "2": "1995",
                                    "3": "Shedd Aquarium",
                                    "4": "Customer",
                                    "5": "3"
                                },
                                {
                                    "0": "2017",
                                    "1": "4",
                                    "2": "1751",
                                    "3": "Lake Shore Dr & North Blvd",
                                    "4": "Customer",
                                    "5": "4"
                                },
                                {
                                    "0": "2017",
                                    "1": "4",
                                    "2": "1737",
                                    "3": "Millennium Park",
                                    "4": "Customer",
                                    "5": "5"
                                },
                                {
                                    "0": "2017",
                                    "1": "4",
                                    "2": "1628",
                                    "3": "Theater on the Lake",
                                    "4": "Customer",
                                    "5": "6"
                                },
                                {
                                    "0": "2017",
                                    "1": "4",
                                    "2": "1530",
                                    "3": "Michigan Ave & Oak St",
                                    "4": "Customer",
                                    "5": "7"
                                },
                                {
                                    "0": "2017",
                                    "1": "4",
                                    "2": "1245",
                                    "3": "Adler Planetarium",
                                    "4": "Customer",
                                    "5": "8"
                                },
                                {
                                    "0": "2017",
                                    "1": "4",
                                    "2": "1179",
                                    "3": "Burnham Harbor",
                                    "4": "Customer",
                                    "5": "9"
                                },
                                {
                                    "0": "2017",
                                    "1": "4",
                                    "2": "1038",
                                    "3": "Dusable Harbor",
                                    "4": "Customer",
                                    "5": "10"
                                },
                                {
                                    "0": "2017",
                                    "1": "5",
                                    "2": "7259",
                                    "3": "Streeter Dr & Grand Ave",
                                    "4": "Customer",
                                    "5": "1"
                                },
                                {
                                    "0": "2017",
                                    "1": "5",
                                    "2": "4854",
                                    "3": "Lake Shore Dr & Monroe St",
                                    "4": "Customer",
                                    "5": "2"
                                },
                                {
                                    "0": "2017",
                                    "1": "5",
                                    "2": "2683",
                                    "3": "Lake Shore Dr & North Blvd",
                                    "4": "Customer",
                                    "5": "3"
                                },
                                {
                                    "0": "2017",
                                    "1": "5",
                                    "2": "2496",
                                    "3": "Shedd Aquarium",
                                    "4": "Customer",
                                    "5": "4"
                                },
                                {
                                    "0": "2017",
                                    "1": "5",
                                    "2": "2433",
                                    "3": "Theater on the Lake",
                                    "4": "Customer",
                                    "5": "5"
                                },
                                {
                                    "0": "2017",
                                    "1": "5",
                                    "2": "2409",
                                    "3": "Millennium Park",
                                    "4": "Customer",
                                    "5": "6"
                                },
                                {
                                    "0": "2017",
                                    "1": "5",
                                    "2": "2072",
                                    "3": "Michigan Ave & Oak St",
                                    "4": "Customer",
                                    "5": "7"
                                },
                                {
                                    "0": "2017",
                                    "1": "5",
                                    "2": "1811",
                                    "3": "Dusable Harbor",
                                    "4": "Customer",
                                    "5": "8"
                                },
                                {
                                    "0": "2017",
                                    "1": "5",
                                    "2": "1769",
                                    "3": "Adler Planetarium",
                                    "4": "Customer",
                                    "5": "9"
                                },
                                {
                                    "0": "2017",
                                    "1": "5",
                                    "2": "1382",
                                    "3": "Burnham Harbor",
                                    "4": "Customer",
                                    "5": "10"
                                },
                                {
                                    "0": "2017",
                                    "1": "6",
                                    "2": "12286",
                                    "3": "Streeter Dr & Grand Ave",
                                    "4": "Customer",
                                    "5": "1"
                                },
                                {
                                    "0": "2017",
                                    "1": "6",
                                    "2": "6411",
                                    "3": "Lake Shore Dr & Monroe St",
                                    "4": "Customer",
                                    "5": "2"
                                },
                                {
                                    "0": "2017",
                                    "1": "6",
                                    "2": "4765",
                                    "3": "Lake Shore Dr & North Blvd",
                                    "4": "Customer",
                                    "5": "3"
                                },
                                {
                                    "0": "2017",
                                    "1": "6",
                                    "2": "3966",
                                    "3": "Millennium Park",
                                    "4": "Customer",
                                    "5": "4"
                                },
                                {
                                    "0": "2017",
                                    "1": "6",
                                    "2": "3721",
                                    "3": "Michigan Ave & Oak St",
                                    "4": "Customer",
                                    "5": "5"
                                },
                                {
                                    "0": "2017",
                                    "1": "6",
                                    "2": "3669",
                                    "3": "Theater on the Lake",
                                    "4": "Customer",
                                    "5": "6"
                                },
                                {
                                    "0": "2017",
                                    "1": "6",
                                    "2": "3553",
                                    "3": "Shedd Aquarium",
                                    "4": "Customer",
                                    "5": "7"
                                },
                                {
                                    "0": "2017",
                                    "1": "6",
                                    "2": "2829",
                                    "3": "Dusable Harbor",
                                    "4": "Customer",
                                    "5": "8"
                                },
                                {
                                    "0": "2017",
                                    "1": "6",
                                    "2": "2621",
                                    "3": "Adler Planetarium",
                                    "4": "Customer",
                                    "5": "9"
                                },
                                {
                                    "0": "2017",
                                    "1": "6",
                                    "2": "2267",
                                    "3": "Burnham Harbor",
                                    "4": "Customer",
                                    "5": "10"
                                },
                                {
                                    "0": "2017",
                                    "1": "7",
                                    "2": "17035",
                                    "3": "Streeter Dr & Grand Ave",
                                    "4": "Customer",
                                    "5": "1"
                                },
                                {
                                    "0": "2017",
                                    "1": "7",
                                    "2": "9022",
                                    "3": "Lake Shore Dr & Monroe St",
                                    "4": "Customer",
                                    "5": "2"
                                },
                                {
                                    "0": "2017",
                                    "1": "7",
                                    "2": "6937",
                                    "3": "Lake Shore Dr & North Blvd",
                                    "4": "Customer",
                                    "5": "3"
                                },
                                {
                                    "0": "2017",
                                    "1": "7",
                                    "2": "6317",
                                    "3": "Theater on the Lake",
                                    "4": "Customer",
                                    "5": "4"
                                },
                                {
                                    "0": "2017",
                                    "1": "7",
                                    "2": "5661",
                                    "3": "Michigan Ave & Oak St",
                                    "4": "Customer",
                                    "5": "5"
                                },
                                {
                                    "0": "2017",
                                    "1": "7",
                                    "2": "5043",
                                    "3": "Shedd Aquarium",
                                    "4": "Customer",
                                    "5": "6"
                                },
                                {
                                    "0": "2017",
                                    "1": "7",
                                    "2": "4330",
                                    "3": "Millennium Park",
                                    "4": "Customer",
                                    "5": "7"
                                },
                                {
                                    "0": "2017",
                                    "1": "7",
                                    "2": "3881",
                                    "3": "Adler Planetarium",
                                    "4": "Customer",
                                    "5": "8"
                                },
                                {
                                    "0": "2017",
                                    "1": "7",
                                    "2": "3708",
                                    "3": "Dusable Harbor",
                                    "4": "Customer",
                                    "5": "9"
                                },
                                {
                                    "0": "2017",
                                    "1": "7",
                                    "2": "3085",
                                    "3": "Burnham Harbor",
                                    "4": "Customer",
                                    "5": "10"
                                },
                                {
                                    "0": "2017",
                                    "1": "8",
                                    "2": "14479",
                                    "3": "Streeter Dr & Grand Ave",
                                    "4": "Customer",
                                    "5": "1"
                                },
                                {
                                    "0": "2017",
                                    "1": "8",
                                    "2": "6536",
                                    "3": "Lake Shore Dr & Monroe St",
                                    "4": "Customer",
                                    "5": "2"
                                },
                                {
                                    "0": "2017",
                                    "1": "8",
                                    "2": "5309",
                                    "3": "Lake Shore Dr & North Blvd",
                                    "4": "Customer",
                                    "5": "3"
                                },
                                {
                                    "0": "2017",
                                    "1": "8",
                                    "2": "4892",
                                    "3": "Theater on the Lake",
                                    "4": "Customer",
                                    "5": "4"
                                },
                                {
                                    "0": "2017",
                                    "1": "8",
                                    "2": "4392",
                                    "3": "Michigan Ave & Oak St",
                                    "4": "Customer",
                                    "5": "5"
                                },
                                {
                                    "0": "2017",
                                    "1": "8",
                                    "2": "4232",
                                    "3": "Shedd Aquarium",
                                    "4": "Customer",
                                    "5": "6"
                                },
                                {
                                    "0": "2017",
                                    "1": "8",
                                    "2": "4036",
                                    "3": "Millennium Park",
                                    "4": "Customer",
                                    "5": "7"
                                },
                                {
                                    "0": "2017",
                                    "1": "8",
                                    "2": "3242",
                                    "3": "Adler Planetarium",
                                    "4": "Customer",
                                    "5": "8"
                                },
                                {
                                    "0": "2017",
                                    "1": "8",
                                    "2": "3087",
                                    "3": "Dusable Harbor",
                                    "4": "Customer",
                                    "5": "9"
                                },
                                {
                                    "0": "2017",
                                    "1": "8",
                                    "2": "2114",
                                    "3": "Buckingham Fountain",
                                    "4": "Customer",
                                    "5": "10"
                                },
                                {
                                    "0": "2017",
                                    "1": "9",
                                    "2": "10690",
                                    "3": "Streeter Dr & Grand Ave",
                                    "4": "Customer",
                                    "5": "1"
                                },
                                {
                                    "0": "2017",
                                    "1": "9",
                                    "2": "5393",
                                    "3": "Lake Shore Dr & Monroe St",
                                    "4": "Customer",
                                    "5": "2"
                                },
                                {
                                    "0": "2017",
                                    "1": "9",
                                    "2": "3986",
                                    "3": "Theater on the Lake",
                                    "4": "Customer",
                                    "5": "3"
                                },
                                {
                                    "0": "2017",
                                    "1": "9",
                                    "2": "3888",
                                    "3": "Lake Shore Dr & North Blvd",
                                    "4": "Customer",
                                    "5": "4"
                                },
                                {
                                    "0": "2017",
                                    "1": "9",
                                    "2": "3639",
                                    "3": "Shedd Aquarium",
                                    "4": "Customer",
                                    "5": "5"
                                },
                                {
                                    "0": "2017",
                                    "1": "9",
                                    "2": "3263",
                                    "3": "Millennium Park",
                                    "4": "Customer",
                                    "5": "6"
                                },
                                {
                                    "0": "2017",
                                    "1": "9",
                                    "2": "3085",
                                    "3": "Michigan Ave & Oak St",
                                    "4": "Customer",
                                    "5": "7"
                                },
                                {
                                    "0": "2017",
                                    "1": "9",
                                    "2": "2566",
                                    "3": "Dusable Harbor",
                                    "4": "Customer",
                                    "5": "8"
                                },
                                {
                                    "0": "2017",
                                    "1": "9",
                                    "2": "2562",
                                    "3": "Adler Planetarium",
                                    "4": "Customer",
                                    "5": "9"
                                },
                                {
                                    "0": "2017",
                                    "1": "9",
                                    "2": "2119",
                                    "3": "Buckingham Fountain",
                                    "4": "Customer",
                                    "5": "10"
                                },
                                {
                                    "0": "2017",
                                    "1": "10",
                                    "2": "5197",
                                    "3": "Streeter Dr & Grand Ave",
                                    "4": "Customer",
                                    "5": "1"
                                },
                                {
                                    "0": "2017",
                                    "1": "10",
                                    "2": "3143",
                                    "3": "Lake Shore Dr & Monroe St",
                                    "4": "Customer",
                                    "5": "2"
                                },
                                {
                                    "0": "2017",
                                    "1": "10",
                                    "2": "1932",
                                    "3": "Shedd Aquarium",
                                    "4": "Customer",
                                    "5": "3"
                                },
                                {
                                    "0": "2017",
                                    "1": "10",
                                    "2": "1821",
                                    "3": "Theater on the Lake",
                                    "4": "Customer",
                                    "5": "4"
                                },
                                {
                                    "0": "2017",
                                    "1": "10",
                                    "2": "1809",
                                    "3": "Millennium Park",
                                    "4": "Customer",
                                    "5": "5"
                                },
                                {
                                    "0": "2017",
                                    "1": "10",
                                    "2": "1474",
                                    "3": "Lake Shore Dr & North Blvd",
                                    "4": "Customer",
                                    "5": "6"
                                },
                                {
                                    "0": "2017",
                                    "1": "10",
                                    "2": "1463",
                                    "3": "Michigan Ave & Oak St",
                                    "4": "Customer",
                                    "5": "7"
                                },
                                {
                                    "0": "2017",
                                    "1": "10",
                                    "2": "1333",
                                    "3": "Dusable Harbor",
                                    "4": "Customer",
                                    "5": "8"
                                },
                                {
                                    "0": "2017",
                                    "1": "10",
                                    "2": "1277",
                                    "3": "Adler Planetarium",
                                    "4": "Customer",
                                    "5": "9"
                                },
                                {
                                    "0": "2017",
                                    "1": "10",
                                    "2": "935",
                                    "3": "Burnham Harbor",
                                    "4": "Customer",
                                    "5": "10"
                                },
                                {
                                    "0": "2017",
                                    "1": "11",
                                    "2": "967",
                                    "3": "Streeter Dr & Grand Ave",
                                    "4": "Customer",
                                    "5": "1"
                                },
                                {
                                    "0": "2017",
                                    "1": "11",
                                    "2": "631",
                                    "3": "Lake Shore Dr & Monroe St",
                                    "4": "Customer",
                                    "5": "2"
                                },
                                {
                                    "0": "2017",
                                    "1": "11",
                                    "2": "603",
                                    "3": "Shedd Aquarium",
                                    "4": "Customer",
                                    "5": "3"
                                },
                                {
                                    "0": "2017",
                                    "1": "11",
                                    "2": "440",
                                    "3": "Millennium Park",
                                    "4": "Customer",
                                    "5": "4"
                                },
                                {
                                    "0": "2017",
                                    "1": "11",
                                    "2": "340",
                                    "3": "Adler Planetarium",
                                    "4": "Customer",
                                    "5": "5"
                                },
                                {
                                    "0": "2017",
                                    "1": "11",
                                    "2": "290",
                                    "3": "Dusable Harbor",
                                    "4": "Customer",
                                    "5": "6"
                                },
                                {
                                    "0": "2017",
                                    "1": "11",
                                    "2": "262",
                                    "3": "Theater on the Lake",
                                    "4": "Customer",
                                    "5": "7"
                                },
                                {
                                    "0": "2017",
                                    "1": "11",
                                    "2": "255",
                                    "3": "Burnham Harbor",
                                    "4": "Customer",
                                    "5": "8"
                                },
                                {
                                    "0": "2017",
                                    "1": "11",
                                    "2": "236",
                                    "3": "Field Museum",
                                    "4": "Customer",
                                    "5": "9"
                                },
                                {
                                    "0": "2017",
                                    "1": "11",
                                    "2": "203",
                                    "3": "Lake Shore Dr & North Blvd",
                                    "4": "Customer",
                                    "5": "10"
                                },
                                {
                                    "0": "2017",
                                    "1": "12",
                                    "2": "529",
                                    "3": "Streeter Dr & Grand Ave",
                                    "4": "Customer",
                                    "5": "1"
                                },
                                {
                                    "0": "2017",
                                    "1": "12",
                                    "2": "353",
                                    "3": "Lake Shore Dr & Monroe St",
                                    "4": "Customer",
                                    "5": "2"
                                },
                                {
                                    "0": "2017",
                                    "1": "12",
                                    "2": "265",
                                    "3": "Shedd Aquarium",
                                    "4": "Customer",
                                    "5": "3"
                                },
                                {
                                    "0": "2017",
                                    "1": "12",
                                    "2": "237",
                                    "3": "Millennium Park",
                                    "4": "Customer",
                                    "5": "4"
                                },
                                {
                                    "0": "2017",
                                    "1": "12",
                                    "2": "168",
                                    "3": "Michigan Ave & Oak St",
                                    "4": "Customer",
                                    "5": "5"
                                },
                                {
                                    "0": "2017",
                                    "1": "12",
                                    "2": "150",
                                    "3": "Dusable Harbor",
                                    "4": "Customer",
                                    "5": "6"
                                },
                                {
                                    "0": "2017",
                                    "1": "12",
                                    "2": "135",
                                    "3": "Theater on the Lake",
                                    "4": "Customer",
                                    "5": "7"
                                },
                                {
                                    "0": "2017",
                                    "1": "12",
                                    "2": "130",
                                    "3": "Lake Shore Dr & North Blvd",
                                    "4": "Customer",
                                    "5": "8"
                                },
                                {
                                    "0": "2017",
                                    "1": "12",
                                    "2": "115",
                                    "3": "Michigan Ave & Washington St",
                                    "4": "Customer",
                                    "5": "9"
                                },
                                {
                                    "0": "2017",
                                    "1": "12",
                                    "2": "111",
                                    "3": "Adler Planetarium",
                                    "4": "Customer",
                                    "5": "10"
                                },
                                {
                                    "0": "2018",
                                    "1": "1",
                                    "2": "201",
                                    "3": "Streeter Dr & Grand Ave",
                                    "4": "Customer",
                                    "5": "1"
                                },
                                {
                                    "0": "2018",
                                    "1": "1",
                                    "2": "141",
                                    "3": "Shedd Aquarium",
                                    "4": "Customer",
                                    "5": "2"
                                },
                                {
                                    "0": "2018",
                                    "1": "1",
                                    "2": "137",
                                    "3": "Lake Shore Dr & Monroe St",
                                    "4": "Customer",
                                    "5": "3"
                                },
                                {
                                    "0": "2018",
                                    "1": "1",
                                    "2": "78",
                                    "3": "Adler Planetarium",
                                    "4": "Customer",
                                    "5": "4"
                                },
                                {
                                    "0": "2018",
                                    "1": "1",
                                    "2": "73",
                                    "3": "Millennium Park",
                                    "4": "Customer",
                                    "5": "5"
                                },
                                {
                                    "0": "2018",
                                    "1": "1",
                                    "2": "66",
                                    "3": "Theater on the Lake",
                                    "4": "Customer",
                                    "5": "6"
                                },
                                {
                                    "0": "2018",
                                    "1": "1",
                                    "2": "65",
                                    "3": "Buckingham Fountain",
                                    "4": "Customer",
                                    "5": "7"
                                },
                                {
                                    "0": "2018",
                                    "1": "1",
                                    "2": "62",
                                    "3": "Dusable Harbor",
                                    "4": "Customer",
                                    "5": "8"
                                },
                                {
                                    "0": "2018",
                                    "1": "1",
                                    "2": "52",
                                    "3": "Field Museum",
                                    "4": "Customer",
                                    "5": "9"
                                },
                                {
                                    "0": "2018",
                                    "1": "1",
                                    "2": "48",
                                    "3": "Michigan Ave & Washington St",
                                    "4": "Customer",
                                    "5": "10"
                                },
                                {
                                    "0": "2018",
                                    "1": "2",
                                    "2": "223",
                                    "3": "Streeter Dr & Grand Ave",
                                    "4": "Customer",
                                    "5": "1"
                                },
                                {
                                    "0": "2018",
                                    "1": "2",
                                    "2": "214",
                                    "3": "Lake Shore Dr & Monroe St",
                                    "4": "Customer",
                                    "5": "2"
                                },
                                {
                                    "0": "2018",
                                    "1": "2",
                                    "2": "164",
                                    "3": "Shedd Aquarium",
                                    "4": "Customer",
                                    "5": "3"
                                },
                                {
                                    "0": "2018",
                                    "1": "2",
                                    "2": "100",
                                    "3": "Adler Planetarium",
                                    "4": "Customer",
                                    "5": "4"
                                },
                                {
                                    "0": "2018",
                                    "1": "2",
                                    "2": "96",
                                    "3": "Millennium Park",
                                    "4": "Customer",
                                    "5": "5"
                                },
                                {
                                    "0": "2018",
                                    "1": "2",
                                    "2": "85",
                                    "3": "Dusable Harbor",
                                    "4": "Customer",
                                    "5": "6"
                                },
                                {
                                    "0": "2018",
                                    "1": "2",
                                    "2": "62",
                                    "3": "Michigan Ave & Oak St",
                                    "4": "Customer",
                                    "5": "7"
                                },
                                {
                                    "0": "2018",
                                    "1": "2",
                                    "2": "47",
                                    "3": "Michigan Ave & Washington St",
                                    "4": "Customer",
                                    "5": "8"
                                },
                                {
                                    "0": "2018",
                                    "1": "2",
                                    "2": "46",
                                    "3": "Columbus Dr & Randolph St",
                                    "4": "Customer",
                                    "5": "9"
                                },
                                {
                                    "0": "2018",
                                    "1": "2",
                                    "2": "42",
                                    "3": "Field Museum",
                                    "4": "Customer",
                                    "5": "10"
                                },
                                {
                                    "0": "2018",
                                    "1": "3",
                                    "2": "1123",
                                    "3": "Lake Shore Dr & Monroe St",
                                    "4": "Customer",
                                    "5": "1"
                                },
                                {
                                    "0": "2018",
                                    "1": "3",
                                    "2": "1112",
                                    "3": "Streeter Dr & Grand Ave",
                                    "4": "Customer",
                                    "5": "2"
                                },
                                {
                                    "0": "2018",
                                    "1": "3",
                                    "2": "942",
                                    "3": "Shedd Aquarium",
                                    "4": "Customer",
                                    "5": "3"
                                },
                                {
                                    "0": "2018",
                                    "1": "3",
                                    "2": "526",
                                    "3": "Millennium Park",
                                    "4": "Customer",
                                    "5": "4"
                                },
                                {
                                    "0": "2018",
                                    "1": "3",
                                    "2": "402",
                                    "3": "Adler Planetarium",
                                    "4": "Customer",
                                    "5": "5"
                                },
                                {
                                    "0": "2018",
                                    "1": "3",
                                    "2": "378",
                                    "3": "Dusable Harbor",
                                    "4": "Customer",
                                    "5": "6"
                                },
                                {
                                    "0": "2018",
                                    "1": "3",
                                    "2": "301",
                                    "3": "Field Museum",
                                    "4": "Customer",
                                    "5": "7"
                                },
                                {
                                    "0": "2018",
                                    "1": "3",
                                    "2": "298",
                                    "3": "Michigan Ave & Oak St",
                                    "4": "Customer",
                                    "5": "8"
                                },
                                {
                                    "0": "2018",
                                    "1": "3",
                                    "2": "260",
                                    "3": "Michigan Ave & Washington St",
                                    "4": "Customer",
                                    "5": "9"
                                },
                                {
                                    "0": "2018",
                                    "1": "3",
                                    "2": "228",
                                    "3": "Buckingham Fountain",
                                    "4": "Customer",
                                    "5": "10"
                                },
                                {
                                    "0": "2018",
                                    "1": "4",
                                    "2": "1439",
                                    "3": "Streeter Dr & Grand Ave",
                                    "4": "Customer",
                                    "5": "1"
                                },
                                {
                                    "0": "2018",
                                    "1": "4",
                                    "2": "1330",
                                    "3": "Lake Shore Dr & Monroe St",
                                    "4": "Customer",
                                    "5": "2"
                                },
                                {
                                    "0": "2018",
                                    "1": "4",
                                    "2": "1016",
                                    "3": "Shedd Aquarium",
                                    "4": "Customer",
                                    "5": "3"
                                },
                                {
                                    "0": "2018",
                                    "1": "4",
                                    "2": "648",
                                    "3": "Millennium Park",
                                    "4": "Customer",
                                    "5": "4"
                                },
                                {
                                    "0": "2018",
                                    "1": "4",
                                    "2": "460",
                                    "3": "Michigan Ave & Oak St",
                                    "4": "Customer",
                                    "5": "5"
                                },
                                {
                                    "0": "2018",
                                    "1": "4",
                                    "2": "453",
                                    "3": "Adler Planetarium",
                                    "4": "Customer",
                                    "5": "6"
                                },
                                {
                                    "0": "2018",
                                    "1": "4",
                                    "2": "417",
                                    "3": "Dusable Harbor",
                                    "4": "Customer",
                                    "5": "7"
                                },
                                {
                                    "0": "2018",
                                    "1": "4",
                                    "2": "309",
                                    "3": "Theater on the Lake",
                                    "4": "Customer",
                                    "5": "8"
                                },
                                {
                                    "0": "2018",
                                    "1": "4",
                                    "2": "287",
                                    "3": "Michigan Ave & 8th St",
                                    "4": "Customer",
                                    "5": "9"
                                },
                                {
                                    "0": "2018",
                                    "1": "4",
                                    "2": "286",
                                    "3": "Buckingham Fountain",
                                    "4": "Customer",
                                    "5": "10"
                                },
                                {
                                    "0": "2018",
                                    "1": "5",
                                    "2": "6777",
                                    "3": "Streeter Dr & Grand Ave",
                                    "4": "Customer",
                                    "5": "1"
                                },
                                {
                                    "0": "2018",
                                    "1": "5",
                                    "2": "4164",
                                    "3": "Lake Shore Dr & Monroe St",
                                    "4": "Customer",
                                    "5": "2"
                                },
                                {
                                    "0": "2018",
                                    "1": "5",
                                    "2": "2953",
                                    "3": "Millennium Park",
                                    "4": "Customer",
                                    "5": "3"
                                },
                                {
                                    "0": "2018",
                                    "1": "5",
                                    "2": "2349",
                                    "3": "Shedd Aquarium",
                                    "4": "Customer",
                                    "5": "4"
                                },
                                {
                                    "0": "2018",
                                    "1": "5",
                                    "2": "2172",
                                    "3": "Michigan Ave & Oak St",
                                    "4": "Customer",
                                    "5": "5"
                                },
                                {
                                    "0": "2018",
                                    "1": "5",
                                    "2": "1906",
                                    "3": "Theater on the Lake",
                                    "4": "Customer",
                                    "5": "6"
                                },
                                {
                                    "0": "2018",
                                    "1": "5",
                                    "2": "1873",
                                    "3": "Lake Shore Dr & North Blvd",
                                    "4": "Customer",
                                    "5": "7"
                                },
                                {
                                    "0": "2018",
                                    "1": "5",
                                    "2": "1460",
                                    "3": "Adler Planetarium",
                                    "4": "Customer",
                                    "5": "8"
                                },
                                {
                                    "0": "2018",
                                    "1": "5",
                                    "2": "1305",
                                    "3": "Dusable Harbor",
                                    "4": "Customer",
                                    "5": "9"
                                },
                                {
                                    "0": "2018",
                                    "1": "5",
                                    "2": "1284",
                                    "3": "Buckingham Fountain",
                                    "4": "Customer",
                                    "5": "10"
                                },
                                {
                                    "0": "2018",
                                    "1": "6",
                                    "2": "8030",
                                    "3": "Streeter Dr & Grand Ave",
                                    "4": "Customer",
                                    "5": "1"
                                },
                                {
                                    "0": "2018",
                                    "1": "6",
                                    "2": "4418",
                                    "3": "Lake Shore Dr & Monroe St",
                                    "4": "Customer",
                                    "5": "2"
                                },
                                {
                                    "0": "2018",
                                    "1": "6",
                                    "2": "3035",
                                    "3": "Millennium Park",
                                    "4": "Customer",
                                    "5": "3"
                                },
                                {
                                    "0": "2018",
                                    "1": "6",
                                    "2": "2812",
                                    "3": "Shedd Aquarium",
                                    "4": "Customer",
                                    "5": "4"
                                },
                                {
                                    "0": "2018",
                                    "1": "6",
                                    "2": "2732",
                                    "3": "Lake Shore Dr & North Blvd",
                                    "4": "Customer",
                                    "5": "5"
                                },
                                {
                                    "0": "2018",
                                    "1": "6",
                                    "2": "2511",
                                    "3": "Michigan Ave & Oak St",
                                    "4": "Customer",
                                    "5": "6"
                                },
                                {
                                    "0": "2018",
                                    "1": "6",
                                    "2": "2209",
                                    "3": "Theater on the Lake",
                                    "4": "Customer",
                                    "5": "7"
                                },
                                {
                                    "0": "2018",
                                    "1": "6",
                                    "2": "1852",
                                    "3": "Buckingham Fountain",
                                    "4": "Customer",
                                    "5": "8"
                                },
                                {
                                    "0": "2018",
                                    "1": "6",
                                    "2": "1592",
                                    "3": "Dusable Harbor",
                                    "4": "Customer",
                                    "5": "9"
                                },
                                {
                                    "0": "2018",
                                    "1": "6",
                                    "2": "1578",
                                    "3": "Adler Planetarium",
                                    "4": "Customer",
                                    "5": "10"
                                },
                                {
                                    "0": "2018",
                                    "1": "7",
                                    "2": "11972",
                                    "3": "Streeter Dr & Grand Ave",
                                    "4": "Customer",
                                    "5": "1"
                                },
                                {
                                    "0": "2018",
                                    "1": "7",
                                    "2": "6021",
                                    "3": "Lake Shore Dr & Monroe St",
                                    "4": "Customer",
                                    "5": "2"
                                },
                                {
                                    "0": "2018",
                                    "1": "7",
                                    "2": "4248",
                                    "3": "Millennium Park",
                                    "4": "Customer",
                                    "5": "3"
                                },
                                {
                                    "0": "2018",
                                    "1": "7",
                                    "2": "4168",
                                    "3": "Lake Shore Dr & North Blvd",
                                    "4": "Customer",
                                    "5": "4"
                                },
                                {
                                    "0": "2018",
                                    "1": "7",
                                    "2": "3979",
                                    "3": "Michigan Ave & Oak St",
                                    "4": "Customer",
                                    "5": "5"
                                },
                                {
                                    "0": "2018",
                                    "1": "7",
                                    "2": "3364",
                                    "3": "Shedd Aquarium",
                                    "4": "Customer",
                                    "5": "6"
                                },
                                {
                                    "0": "2018",
                                    "1": "7",
                                    "2": "3278",
                                    "3": "Theater on the Lake",
                                    "4": "Customer",
                                    "5": "7"
                                },
                                {
                                    "0": "2018",
                                    "1": "7",
                                    "2": "2115",
                                    "3": "Adler Planetarium",
                                    "4": "Customer",
                                    "5": "8"
                                },
                                {
                                    "0": "2018",
                                    "1": "7",
                                    "2": "1820",
                                    "3": "Montrose Harbor",
                                    "4": "Customer",
                                    "5": "9"
                                },
                                {
                                    "0": "2018",
                                    "1": "7",
                                    "2": "1757",
                                    "3": "Dusable Harbor",
                                    "4": "Customer",
                                    "5": "10"
                                },
                                {
                                    "0": "2018",
                                    "1": "8",
                                    "2": "9579",
                                    "3": "Streeter Dr & Grand Ave",
                                    "4": "Customer",
                                    "5": "1"
                                },
                                {
                                    "0": "2018",
                                    "1": "8",
                                    "2": "4190",
                                    "3": "Lake Shore Dr & Monroe St",
                                    "4": "Customer",
                                    "5": "2"
                                },
                                {
                                    "0": "2018",
                                    "1": "8",
                                    "2": "3812",
                                    "3": "Lake Shore Dr & North Blvd",
                                    "4": "Customer",
                                    "5": "3"
                                },
                                {
                                    "0": "2018",
                                    "1": "8",
                                    "2": "3756",
                                    "3": "Millennium Park",
                                    "4": "Customer",
                                    "5": "4"
                                },
                                {
                                    "0": "2018",
                                    "1": "8",
                                    "2": "3675",
                                    "3": "Michigan Ave & Oak St",
                                    "4": "Customer",
                                    "5": "5"
                                },
                                {
                                    "0": "2018",
                                    "1": "8",
                                    "2": "2765",
                                    "3": "Shedd Aquarium",
                                    "4": "Customer",
                                    "5": "6"
                                },
                                {
                                    "0": "2018",
                                    "1": "8",
                                    "2": "2693",
                                    "3": "Theater on the Lake",
                                    "4": "Customer",
                                    "5": "7"
                                },
                                {
                                    "0": "2018",
                                    "1": "8",
                                    "2": "1748",
                                    "3": "Adler Planetarium",
                                    "4": "Customer",
                                    "5": "8"
                                },
                                {
                                    "0": "2018",
                                    "1": "8",
                                    "2": "1513",
                                    "3": "Dusable Harbor",
                                    "4": "Customer",
                                    "5": "9"
                                },
                                {
                                    "0": "2018",
                                    "1": "8",
                                    "2": "1490",
                                    "3": "Montrose Harbor",
                                    "4": "Customer",
                                    "5": "10"
                                },
                                {
                                    "0": "2018",
                                    "1": "9",
                                    "2": "6984",
                                    "3": "Streeter Dr & Grand Ave",
                                    "4": "Customer",
                                    "5": "1"
                                },
                                {
                                    "0": "2018",
                                    "1": "9",
                                    "2": "2931",
                                    "3": "Lake Shore Dr & Monroe St",
                                    "4": "Customer",
                                    "5": "2"
                                },
                                {
                                    "0": "2018",
                                    "1": "9",
                                    "2": "2862",
                                    "3": "Millennium Park",
                                    "4": "Customer",
                                    "5": "3"
                                },
                                {
                                    "0": "2018",
                                    "1": "9",
                                    "2": "2448",
                                    "3": "Shedd Aquarium",
                                    "4": "Customer",
                                    "5": "4"
                                },
                                {
                                    "0": "2018",
                                    "1": "9",
                                    "2": "2286",
                                    "3": "Michigan Ave & Oak St",
                                    "4": "Customer",
                                    "5": "5"
                                },
                                {
                                    "0": "2018",
                                    "1": "9",
                                    "2": "1832",
                                    "3": "Lake Shore Dr & North Blvd",
                                    "4": "Customer",
                                    "5": "6"
                                },
                                {
                                    "0": "2018",
                                    "1": "9",
                                    "2": "1557",
                                    "3": "Theater on the Lake",
                                    "4": "Customer",
                                    "5": "7"
                                },
                                {
                                    "0": "2018",
                                    "1": "9",
                                    "2": "1381",
                                    "3": "Adler Planetarium",
                                    "4": "Customer",
                                    "5": "8"
                                },
                                {
                                    "0": "2018",
                                    "1": "9",
                                    "2": "1159",
                                    "3": "Buckingham Fountain",
                                    "4": "Customer",
                                    "5": "9"
                                },
                                {
                                    "0": "2018",
                                    "1": "9",
                                    "2": "1091",
                                    "3": "Dusable Harbor",
                                    "4": "Customer",
                                    "5": "10"
                                },
                                {
                                    "0": "2018",
                                    "1": "10",
                                    "2": "2683",
                                    "3": "Streeter Dr & Grand Ave",
                                    "4": "Customer",
                                    "5": "1"
                                },
                                {
                                    "0": "2018",
                                    "1": "10",
                                    "2": "1904",
                                    "3": "Lake Shore Dr & Monroe St",
                                    "4": "Customer",
                                    "5": "2"
                                },
                                {
                                    "0": "2018",
                                    "1": "10",
                                    "2": "1300",
                                    "3": "Millennium Park",
                                    "4": "Customer",
                                    "5": "3"
                                },
                                {
                                    "0": "2018",
                                    "1": "10",
                                    "2": "1195",
                                    "3": "Shedd Aquarium",
                                    "4": "Customer",
                                    "5": "4"
                                },
                                {
                                    "0": "2018",
                                    "1": "10",
                                    "2": "896",
                                    "3": "Michigan Ave & Oak St",
                                    "4": "Customer",
                                    "5": "5"
                                },
                                {
                                    "0": "2018",
                                    "1": "10",
                                    "2": "742",
                                    "3": "Adler Planetarium",
                                    "4": "Customer",
                                    "5": "6"
                                },
                                {
                                    "0": "2018",
                                    "1": "10",
                                    "2": "563",
                                    "3": "Dusable Harbor",
                                    "4": "Customer",
                                    "5": "7"
                                },
                                {
                                    "0": "2018",
                                    "1": "10",
                                    "2": "514",
                                    "3": "Field Museum",
                                    "4": "Customer",
                                    "5": "8"
                                },
                                {
                                    "0": "2018",
                                    "1": "10",
                                    "2": "495",
                                    "3": "Lake Shore Dr & North Blvd",
                                    "4": "Customer",
                                    "5": "9"
                                },
                                {
                                    "0": "2018",
                                    "1": "10",
                                    "2": "463",
                                    "3": "Theater on the Lake",
                                    "4": "Customer",
                                    "5": "10"
                                },
                                {
                                    "0": "2018",
                                    "1": "11",
                                    "2": "620",
                                    "3": "Lake Shore Dr & Monroe St",
                                    "4": "Customer",
                                    "5": "1"
                                },
                                {
                                    "0": "2018",
                                    "1": "11",
                                    "2": "474",
                                    "3": "Streeter Dr & Grand Ave",
                                    "4": "Customer",
                                    "5": "2"
                                },
                                {
                                    "0": "2018",
                                    "1": "11",
                                    "2": "429",
                                    "3": "Shedd Aquarium",
                                    "4": "Customer",
                                    "5": "3"
                                },
                                {
                                    "0": "2018",
                                    "1": "11",
                                    "2": "275",
                                    "3": "Millennium Park",
                                    "4": "Customer",
                                    "5": "4"
                                },
                                {
                                    "0": "2018",
                                    "1": "11",
                                    "2": "168",
                                    "3": "Dusable Harbor",
                                    "4": "Customer",
                                    "5": "5"
                                },
                                {
                                    "0": "2018",
                                    "1": "11",
                                    "2": "156",
                                    "3": "Field Museum",
                                    "4": "Customer",
                                    "5": "6"
                                },
                                {
                                    "0": "2018",
                                    "1": "11",
                                    "2": "151",
                                    "3": "Michigan Ave & Oak St",
                                    "4": "Customer",
                                    "5": "7"
                                },
                                {
                                    "0": "2018",
                                    "1": "11",
                                    "2": "149",
                                    "3": "Adler Planetarium",
                                    "4": "Customer",
                                    "5": "8"
                                },
                                {
                                    "0": "2018",
                                    "1": "11",
                                    "2": "119",
                                    "3": "Buckingham Fountain",
                                    "4": "Customer",
                                    "5": "9"
                                },
                                {
                                    "0": "2018",
                                    "1": "11",
                                    "2": "112",
                                    "3": "Columbus Dr & Randolph St",
                                    "4": "Customer",
                                    "5": "10"
                                },
                                {
                                    "0": "2018",
                                    "1": "12",
                                    "2": "404",
                                    "3": "Lake Shore Dr & Monroe St",
                                    "4": "Customer",
                                    "5": "1"
                                },
                                {
                                    "0": "2018",
                                    "1": "12",
                                    "2": "324",
                                    "3": "Streeter Dr & Grand Ave",
                                    "4": "Customer",
                                    "5": "2"
                                },
                                {
                                    "0": "2018",
                                    "1": "12",
                                    "2": "293",
                                    "3": "Shedd Aquarium",
                                    "4": "Customer",
                                    "5": "3"
                                },
                                {
                                    "0": "2018",
                                    "1": "12",
                                    "2": "217",
                                    "3": "Millennium Park",
                                    "4": "Customer",
                                    "5": "4"
                                },
                                {
                                    "0": "2018",
                                    "1": "12",
                                    "2": "142",
                                    "3": "Adler Planetarium",
                                    "4": "Customer",
                                    "5": "5"
                                },
                                {
                                    "0": "2018",
                                    "1": "12",
                                    "2": "126",
                                    "3": "Field Museum",
                                    "4": "Customer",
                                    "5": "6"
                                },
                                {
                                    "0": "2018",
                                    "1": "12",
                                    "2": "125",
                                    "3": "Michigan Ave & Oak St",
                                    "4": "Customer",
                                    "5": "7"
                                },
                                {
                                    "0": "2018",
                                    "1": "12",
                                    "2": "111",
                                    "3": "Michigan Ave & Washington St",
                                    "4": "Customer",
                                    "5": "8"
                                },
                                {
                                    "0": "2018",
                                    "1": "12",
                                    "2": "108",
                                    "3": "Buckingham Fountain",
                                    "4": "Customer",
                                    "5": "9"
                                },
                                {
                                    "0": "2018",
                                    "1": "12",
                                    "2": "105",
                                    "3": "Columbus Dr & Randolph St",
                                    "4": "Customer",
                                    "5": "10"
                                },
                                {
                                    "0": "2019",
                                    "1": "1",
                                    "2": "247",
                                    "3": "Lake Shore Dr & Monroe St",
                                    "4": "Customer",
                                    "5": "1"
                                },
                                {
                                    "0": "2019",
                                    "1": "1",
                                    "2": "172",
                                    "3": "Streeter Dr & Grand Ave",
                                    "4": "Customer",
                                    "5": "2"
                                },
                                {
                                    "0": "2019",
                                    "1": "1",
                                    "2": "135",
                                    "3": "Shedd Aquarium",
                                    "4": "Customer",
                                    "5": "3"
                                },
                                {
                                    "0": "2019",
                                    "1": "1",
                                    "2": "130",
                                    "3": "Millennium Park",
                                    "4": "Customer",
                                    "5": "4"
                                },
                                {
                                    "0": "2019",
                                    "1": "1",
                                    "2": "80",
                                    "3": "Michigan Ave & Washington St",
                                    "4": "Customer",
                                    "5": "5"
                                },
                                {
                                    "0": "2019",
                                    "1": "1",
                                    "2": "75",
                                    "3": "Field Museum",
                                    "4": "Customer",
                                    "5": "6"
                                },
                                {
                                    "0": "2019",
                                    "1": "1",
                                    "2": "65",
                                    "3": "Michigan Ave & Oak St",
                                    "4": "Customer",
                                    "5": "7"
                                },
                                {
                                    "0": "2019",
                                    "1": "1",
                                    "2": "61",
                                    "3": "Adler Planetarium",
                                    "4": "Customer",
                                    "5": "8"
                                },
                                {
                                    "0": "2019",
                                    "1": "1",
                                    "2": "56",
                                    "3": "Clinton St & Madison St",
                                    "4": "Customer",
                                    "5": "9"
                                },
                                {
                                    "0": "2019",
                                    "1": "1",
                                    "2": "54",
                                    "3": "Dusable Harbor",
                                    "4": "Customer",
                                    "5": "10"
                                },
                                {
                                    "0": "2019",
                                    "1": "2",
                                    "2": "125",
                                    "3": "Lake Shore Dr & Monroe St",
                                    "4": "Customer",
                                    "5": "1"
                                },
                                {
                                    "0": "2019",
                                    "1": "2",
                                    "2": "94",
                                    "3": "Shedd Aquarium",
                                    "4": "Customer",
                                    "5": "2"
                                },
                                {
                                    "0": "2019",
                                    "1": "2",
                                    "2": "74",
                                    "3": "Streeter Dr & Grand Ave",
                                    "4": "Customer",
                                    "5": "3"
                                },
                                {
                                    "0": "2019",
                                    "1": "2",
                                    "2": "46",
                                    "3": "Michigan Ave & Washington St",
                                    "4": "Customer",
                                    "5": "4"
                                },
                                {
                                    "0": "2019",
                                    "1": "2",
                                    "2": "45",
                                    "3": "Clinton St & Madison St",
                                    "4": "Customer",
                                    "5": "5"
                                },
                                {
                                    "0": "2019",
                                    "1": "2",
                                    "2": "38",
                                    "3": "Millennium Park",
                                    "4": "Customer",
                                    "5": "6"
                                },
                                {
                                    "0": "2019",
                                    "1": "2",
                                    "2": "37",
                                    "3": "Canal St & Madison St",
                                    "4": "Customer",
                                    "5": "7"
                                },
                                {
                                    "0": "2019",
                                    "1": "2",
                                    "2": "37",
                                    "3": "Dusable Harbor",
                                    "4": "Customer",
                                    "5": "7"
                                },
                                {
                                    "0": "2019",
                                    "1": "2",
                                    "2": "36",
                                    "3": "Adler Planetarium",
                                    "4": "Customer",
                                    "5": "8"
                                },
                                {
                                    "0": "2019",
                                    "1": "2",
                                    "2": "36",
                                    "3": "Michigan Ave & Oak St",
                                    "4": "Customer",
                                    "5": "8"
                                },
                                {
                                    "0": "2019",
                                    "1": "2",
                                    "2": "35",
                                    "3": "Kingsbury St & Kinzie St",
                                    "4": "Customer",
                                    "5": "9"
                                },
                                {
                                    "0": "2019",
                                    "1": "2",
                                    "2": "30",
                                    "3": "Michigan Ave & Lake St",
                                    "4": "Customer",
                                    "5": "10"
                                },
                                {
                                    "0": "2019",
                                    "1": "3",
                                    "2": "972",
                                    "3": "Streeter Dr & Grand Ave",
                                    "4": "Customer",
                                    "5": "1"
                                },
                                {
                                    "0": "2019",
                                    "1": "3",
                                    "2": "768",
                                    "3": "Lake Shore Dr & Monroe St",
                                    "4": "Customer",
                                    "5": "2"
                                },
                                {
                                    "0": "2019",
                                    "1": "3",
                                    "2": "604",
                                    "3": "Shedd Aquarium",
                                    "4": "Customer",
                                    "5": "3"
                                },
                                {
                                    "0": "2019",
                                    "1": "3",
                                    "2": "458",
                                    "3": "Millennium Park",
                                    "4": "Customer",
                                    "5": "4"
                                },
                                {
                                    "0": "2019",
                                    "1": "3",
                                    "2": "285",
                                    "3": "Michigan Ave & Oak St",
                                    "4": "Customer",
                                    "5": "5"
                                },
                                {
                                    "0": "2019",
                                    "1": "3",
                                    "2": "265",
                                    "3": "Adler Planetarium",
                                    "4": "Customer",
                                    "5": "6"
                                },
                                {
                                    "0": "2019",
                                    "1": "3",
                                    "2": "251",
                                    "3": "Dusable Harbor",
                                    "4": "Customer",
                                    "5": "7"
                                },
                                {
                                    "0": "2019",
                                    "1": "3",
                                    "2": "216",
                                    "3": "Michigan Ave & Washington St",
                                    "4": "Customer",
                                    "5": "8"
                                },
                                {
                                    "0": "2019",
                                    "1": "3",
                                    "2": "203",
                                    "3": "Buckingham Fountain (Temp)",
                                    "4": "Customer",
                                    "5": "9"
                                },
                                {
                                    "0": "2019",
                                    "1": "3",
                                    "2": "194",
                                    "3": "Field Museum",
                                    "4": "Customer",
                                    "5": "10"
                                },
                                {
                                    "0": "2019",
                                    "1": "4",
                                    "2": "2978",
                                    "3": "Streeter Dr & Grand Ave",
                                    "4": "Customer",
                                    "5": "1"
                                },
                                {
                                    "0": "2019",
                                    "1": "4",
                                    "2": "2707",
                                    "3": "Lake Shore Dr & Monroe St",
                                    "4": "Customer",
                                    "5": "2"
                                },
                                {
                                    "0": "2019",
                                    "1": "4",
                                    "2": "1373",
                                    "3": "Shedd Aquarium",
                                    "4": "Customer",
                                    "5": "3"
                                },
                                {
                                    "0": "2019",
                                    "1": "4",
                                    "2": "1164",
                                    "3": "Millennium Park",
                                    "4": "Customer",
                                    "5": "4"
                                },
                                {
                                    "0": "2019",
                                    "1": "4",
                                    "2": "1087",
                                    "3": "Michigan Ave & Oak St",
                                    "4": "Customer",
                                    "5": "5"
                                },
                                {
                                    "0": "2019",
                                    "1": "4",
                                    "2": "869",
                                    "3": "Michigan Ave & Washington St",
                                    "4": "Customer",
                                    "5": "6"
                                },
                                {
                                    "0": "2019",
                                    "1": "4",
                                    "2": "827",
                                    "3": "Adler Planetarium",
                                    "4": "Customer",
                                    "5": "7"
                                },
                                {
                                    "0": "2019",
                                    "1": "4",
                                    "2": "655",
                                    "3": "Lake Shore Dr & North Blvd",
                                    "4": "Customer",
                                    "5": "8"
                                },
                                {
                                    "0": "2019",
                                    "1": "4",
                                    "2": "641",
                                    "3": "Theater on the Lake",
                                    "4": "Customer",
                                    "5": "9"
                                },
                                {
                                    "0": "2019",
                                    "1": "4",
                                    "2": "603",
                                    "3": "Dusable Harbor",
                                    "4": "Customer",
                                    "5": "10"
                                },
                                {
                                    "0": "2019",
                                    "1": "5",
                                    "2": "4645",
                                    "3": "Streeter Dr & Grand Ave",
                                    "4": "Customer",
                                    "5": "1"
                                },
                                {
                                    "0": "2019",
                                    "1": "5",
                                    "2": "3917",
                                    "3": "Lake Shore Dr & Monroe St",
                                    "4": "Customer",
                                    "5": "2"
                                },
                                {
                                    "0": "2019",
                                    "1": "5",
                                    "2": "2048",
                                    "3": "Shedd Aquarium",
                                    "4": "Customer",
                                    "5": "3"
                                },
                                {
                                    "0": "2019",
                                    "1": "5",
                                    "2": "1994",
                                    "3": "Michigan Ave & Oak St",
                                    "4": "Customer",
                                    "5": "4"
                                },
                                {
                                    "0": "2019",
                                    "1": "5",
                                    "2": "1855",
                                    "3": "Millennium Park",
                                    "4": "Customer",
                                    "5": "5"
                                },
                                {
                                    "0": "2019",
                                    "1": "5",
                                    "2": "1516",
                                    "3": "Michigan Ave & Washington St",
                                    "4": "Customer",
                                    "5": "6"
                                },
                                {
                                    "0": "2019",
                                    "1": "5",
                                    "2": "1490",
                                    "3": "Lake Shore Dr & North Blvd",
                                    "4": "Customer",
                                    "5": "7"
                                },
                                {
                                    "0": "2019",
                                    "1": "5",
                                    "2": "1446",
                                    "3": "Theater on the Lake",
                                    "4": "Customer",
                                    "5": "8"
                                },
                                {
                                    "0": "2019",
                                    "1": "5",
                                    "2": "1301",
                                    "3": "Buckingham Fountain (Temp)",
                                    "4": "Customer",
                                    "5": "9"
                                },
                                {
                                    "0": "2019",
                                    "1": "5",
                                    "2": "1251",
                                    "3": "Adler Planetarium",
                                    "4": "Customer",
                                    "5": "10"
                                },
                                {
                                    "0": "2019",
                                    "1": "6",
                                    "2": "7406",
                                    "3": "Streeter Dr & Grand Ave",
                                    "4": "Customer",
                                    "5": "1"
                                },
                                {
                                    "0": "2019",
                                    "1": "6",
                                    "2": "5868",
                                    "3": "Lake Shore Dr & Monroe St",
                                    "4": "Customer",
                                    "5": "2"
                                },
                                {
                                    "0": "2019",
                                    "1": "6",
                                    "2": "3061",
                                    "3": "Michigan Ave & Oak St",
                                    "4": "Customer",
                                    "5": "3"
                                },
                                {
                                    "0": "2019",
                                    "1": "6",
                                    "2": "3016",
                                    "3": "Shedd Aquarium",
                                    "4": "Customer",
                                    "5": "4"
                                },
                                {
                                    "0": "2019",
                                    "1": "6",
                                    "2": "2984",
                                    "3": "Millennium Park",
                                    "4": "Customer",
                                    "5": "5"
                                },
                                {
                                    "0": "2019",
                                    "1": "6",
                                    "2": "2974",
                                    "3": "Lake Shore Dr & North Blvd",
                                    "4": "Customer",
                                    "5": "6"
                                },
                                {
                                    "0": "2019",
                                    "1": "6",
                                    "2": "2561",
                                    "3": "Michigan Ave & Washington St",
                                    "4": "Customer",
                                    "5": "7"
                                },
                                {
                                    "0": "2019",
                                    "1": "6",
                                    "2": "2306",
                                    "3": "Theater on the Lake",
                                    "4": "Customer",
                                    "5": "8"
                                },
                                {
                                    "0": "2019",
                                    "1": "6",
                                    "2": "1874",
                                    "3": "Dusable Harbor",
                                    "4": "Customer",
                                    "5": "9"
                                },
                                {
                                    "0": "2019",
                                    "1": "6",
                                    "2": "1866",
                                    "3": "Buckingham Fountain (Temp)",
                                    "4": "Customer",
                                    "5": "10"
                                },
                                {
                                    "0": "2019",
                                    "1": "7",
                                    "2": "11628",
                                    "3": "Streeter Dr & Grand Ave",
                                    "4": "Customer",
                                    "5": "1"
                                },
                                {
                                    "0": "2019",
                                    "1": "7",
                                    "2": "7775",
                                    "3": "Lake Shore Dr & Monroe St",
                                    "4": "Customer",
                                    "5": "2"
                                },
                                {
                                    "0": "2019",
                                    "1": "7",
                                    "2": "5340",
                                    "3": "Lake Shore Dr & North Blvd",
                                    "4": "Customer",
                                    "5": "3"
                                },
                                {
                                    "0": "2019",
                                    "1": "7",
                                    "2": "4914",
                                    "3": "Michigan Ave & Oak St",
                                    "4": "Customer",
                                    "5": "4"
                                },
                                {
                                    "0": "2019",
                                    "1": "7",
                                    "2": "4154",
                                    "3": "Millennium Park",
                                    "4": "Customer",
                                    "5": "5"
                                },
                                {
                                    "0": "2019",
                                    "1": "7",
                                    "2": "3741",
                                    "3": "Theater on the Lake",
                                    "4": "Customer",
                                    "5": "6"
                                },
                                {
                                    "0": "2019",
                                    "1": "7",
                                    "2": "3698",
                                    "3": "Shedd Aquarium",
                                    "4": "Customer",
                                    "5": "7"
                                },
                                {
                                    "0": "2019",
                                    "1": "7",
                                    "2": "3398",
                                    "3": "Michigan Ave & Washington St",
                                    "4": "Customer",
                                    "5": "8"
                                },
                                {
                                    "0": "2019",
                                    "1": "7",
                                    "2": "2438",
                                    "3": "Dusable Harbor",
                                    "4": "Customer",
                                    "5": "9"
                                },
                                {
                                    "0": "2019",
                                    "1": "7",
                                    "2": "2275",
                                    "3": "Michigan Ave & 8th St",
                                    "4": "Customer",
                                    "5": "10"
                                },
                                {
                                    "0": "2019",
                                    "1": "8",
                                    "2": "12484",
                                    "3": "Streeter Dr & Grand Ave",
                                    "4": "Customer",
                                    "5": "1"
                                },
                                {
                                    "0": "2019",
                                    "1": "8",
                                    "2": "7807",
                                    "3": "Lake Shore Dr & Monroe St",
                                    "4": "Customer",
                                    "5": "2"
                                },
                                {
                                    "0": "2019",
                                    "1": "8",
                                    "2": "5358",
                                    "3": "Michigan Ave & Oak St",
                                    "4": "Customer",
                                    "5": "3"
                                },
                                {
                                    "0": "2019",
                                    "1": "8",
                                    "2": "5118",
                                    "3": "Millennium Park",
                                    "4": "Customer",
                                    "5": "4"
                                },
                                {
                                    "0": "2019",
                                    "1": "8",
                                    "2": "5078",
                                    "3": "Lake Shore Dr & North Blvd",
                                    "4": "Customer",
                                    "5": "5"
                                },
                                {
                                    "0": "2019",
                                    "1": "8",
                                    "2": "3930",
                                    "3": "Shedd Aquarium",
                                    "4": "Customer",
                                    "5": "6"
                                },
                                {
                                    "0": "2019",
                                    "1": "8",
                                    "2": "3613",
                                    "3": "Theater on the Lake",
                                    "4": "Customer",
                                    "5": "7"
                                },
                                {
                                    "0": "2019",
                                    "1": "8",
                                    "2": "2690",
                                    "3": "Dusable Harbor",
                                    "4": "Customer",
                                    "5": "8"
                                },
                                {
                                    "0": "2019",
                                    "1": "8",
                                    "2": "2434",
                                    "3": "Adler Planetarium",
                                    "4": "Customer",
                                    "5": "9"
                                },
                                {
                                    "0": "2019",
                                    "1": "8",
                                    "2": "1904",
                                    "3": "Montrose Harbor",
                                    "4": "Customer",
                                    "5": "10"
                                },
                                {
                                    "0": "2019",
                                    "1": "9",
                                    "2": "7723",
                                    "3": "Streeter Dr & Grand Ave",
                                    "4": "Customer",
                                    "5": "1"
                                },
                                {
                                    "0": "2019",
                                    "1": "9",
                                    "2": "5148",
                                    "3": "Lake Shore Dr & Monroe St",
                                    "4": "Customer",
                                    "5": "2"
                                },
                                {
                                    "0": "2019",
                                    "1": "9",
                                    "2": "3418",
                                    "3": "Millennium Park",
                                    "4": "Customer",
                                    "5": "3"
                                },
                                {
                                    "0": "2019",
                                    "1": "9",
                                    "2": "2967",
                                    "3": "Michigan Ave & Oak St",
                                    "4": "Customer",
                                    "5": "4"
                                },
                                {
                                    "0": "2019",
                                    "1": "9",
                                    "2": "2862",
                                    "3": "Shedd Aquarium",
                                    "4": "Customer",
                                    "5": "5"
                                },
                                {
                                    "0": "2019",
                                    "1": "9",
                                    "2": "2196",
                                    "3": "Lake Shore Dr & North Blvd",
                                    "4": "Customer",
                                    "5": "6"
                                },
                                {
                                    "0": "2019",
                                    "1": "9",
                                    "2": "2064",
                                    "3": "Theater on the Lake",
                                    "4": "Customer",
                                    "5": "7"
                                },
                                {
                                    "0": "2019",
                                    "1": "9",
                                    "2": "1685",
                                    "3": "Dusable Harbor",
                                    "4": "Customer",
                                    "5": "8"
                                },
                                {
                                    "0": "2019",
                                    "1": "9",
                                    "2": "1630",
                                    "3": "Adler Planetarium",
                                    "4": "Customer",
                                    "5": "9"
                                },
                                {
                                    "0": "2019",
                                    "1": "9",
                                    "2": "1151",
                                    "3": "Michigan Ave & 8th St",
                                    "4": "Customer",
                                    "5": "10"
                                },
                                {
                                    "0": "2019",
                                    "1": "10",
                                    "2": "3514",
                                    "3": "Streeter Dr & Grand Ave",
                                    "4": "Customer",
                                    "5": "1"
                                },
                                {
                                    "0": "2019",
                                    "1": "10",
                                    "2": "3257",
                                    "3": "Lake Shore Dr & Monroe St",
                                    "4": "Customer",
                                    "5": "2"
                                },
                                {
                                    "0": "2019",
                                    "1": "10",
                                    "2": "1784",
                                    "3": "Shedd Aquarium",
                                    "4": "Customer",
                                    "5": "3"
                                },
                                {
                                    "0": "2019",
                                    "1": "10",
                                    "2": "1557",
                                    "3": "Millennium Park",
                                    "4": "Customer",
                                    "5": "4"
                                },
                                {
                                    "0": "2019",
                                    "1": "10",
                                    "2": "1164",
                                    "3": "Michigan Ave & Oak St",
                                    "4": "Customer",
                                    "5": "5"
                                },
                                {
                                    "0": "2019",
                                    "1": "10",
                                    "2": "1143",
                                    "3": "Dusable Harbor",
                                    "4": "Customer",
                                    "5": "6"
                                },
                                {
                                    "0": "2019",
                                    "1": "10",
                                    "2": "945",
                                    "3": "Adler Planetarium",
                                    "4": "Customer",
                                    "5": "7"
                                },
                                {
                                    "0": "2019",
                                    "1": "10",
                                    "2": "814",
                                    "3": "Michigan Ave & 8th St",
                                    "4": "Customer",
                                    "5": "8"
                                },
                                {
                                    "0": "2019",
                                    "1": "10",
                                    "2": "759",
                                    "3": "Field Museum",
                                    "4": "Customer",
                                    "5": "9"
                                },
                                {
                                    "0": "2019",
                                    "1": "10",
                                    "2": "748",
                                    "3": "Theater on the Lake",
                                    "4": "Customer",
                                    "5": "10"
                                },
                                {
                                    "0": "2019",
                                    "1": "11",
                                    "2": "860",
                                    "3": "Lake Shore Dr & Monroe St",
                                    "4": "Customer",
                                    "5": "1"
                                },
                                {
                                    "0": "2019",
                                    "1": "11",
                                    "2": "680",
                                    "3": "Streeter Dr & Grand Ave",
                                    "4": "Customer",
                                    "5": "2"
                                },
                                {
                                    "0": "2019",
                                    "1": "11",
                                    "2": "557",
                                    "3": "Shedd Aquarium",
                                    "4": "Customer",
                                    "5": "3"
                                },
                                {
                                    "0": "2019",
                                    "1": "11",
                                    "2": "410",
                                    "3": "Millennium Park",
                                    "4": "Customer",
                                    "5": "4"
                                },
                                {
                                    "0": "2019",
                                    "1": "11",
                                    "2": "351",
                                    "3": "Dusable Harbor",
                                    "4": "Customer",
                                    "5": "5"
                                },
                                {
                                    "0": "2019",
                                    "1": "11",
                                    "2": "224",
                                    "3": "Michigan Ave & Washington St",
                                    "4": "Customer",
                                    "5": "6"
                                },
                                {
                                    "0": "2019",
                                    "1": "11",
                                    "2": "218",
                                    "3": "Field Museum",
                                    "4": "Customer",
                                    "5": "7"
                                },
                                {
                                    "0": "2019",
                                    "1": "11",
                                    "2": "216",
                                    "3": "Adler Planetarium",
                                    "4": "Customer",
                                    "5": "8"
                                },
                                {
                                    "0": "2019",
                                    "1": "11",
                                    "2": "192",
                                    "3": "Buckingham Fountain",
                                    "4": "Customer",
                                    "5": "9"
                                },
                                {
                                    "0": "2019",
                                    "1": "11",
                                    "2": "179",
                                    "3": "Wabash Ave & Grand Ave",
                                    "4": "Customer",
                                    "5": "10"
                                },
                                {
                                    "0": "2019",
                                    "1": "11",
                                    "2": "179",
                                    "3": "Michigan Ave & 8th St",
                                    "4": "Customer",
                                    "5": "10"
                                },
                                {
                                    "0": "2019",
                                    "1": "12",
                                    "2": "795",
                                    "3": "Streeter Dr & Grand Ave",
                                    "4": "Customer",
                                    "5": "1"
                                },
                                {
                                    "0": "2019",
                                    "1": "12",
                                    "2": "730",
                                    "3": "Lake Shore Dr & Monroe St",
                                    "4": "Customer",
                                    "5": "2"
                                },
                                {
                                    "0": "2019",
                                    "1": "12",
                                    "2": "508",
                                    "3": "Shedd Aquarium",
                                    "4": "Customer",
                                    "5": "3"
                                },
                                {
                                    "0": "2019",
                                    "1": "12",
                                    "2": "442",
                                    "3": "Millennium Park",
                                    "4": "Customer",
                                    "5": "4"
                                },
                                {
                                    "0": "2019",
                                    "1": "12",
                                    "2": "273",
                                    "3": "Michigan Ave & Oak St",
                                    "4": "Customer",
                                    "5": "5"
                                },
                                {
                                    "0": "2019",
                                    "1": "12",
                                    "2": "252",
                                    "3": "Adler Planetarium",
                                    "4": "Customer",
                                    "5": "6"
                                },
                                {
                                    "0": "2019",
                                    "1": "12",
                                    "2": "227",
                                    "3": "Michigan Ave & Washington St",
                                    "4": "Customer",
                                    "5": "7"
                                },
                                {
                                    "0": "2019",
                                    "1": "12",
                                    "2": "213",
                                    "3": "Dusable Harbor",
                                    "4": "Customer",
                                    "5": "8"
                                },
                                {
                                    "0": "2019",
                                    "1": "12",
                                    "2": "196",
                                    "3": "Michigan Ave & 8th St",
                                    "4": "Customer",
                                    "5": "9"
                                },
                                {
                                    "0": "2019",
                                    "1": "12",
                                    "2": "186",
                                    "3": "Columbus Dr & Randolph St",
                                    "4": "Customer",
                                    "5": "10"
                                }
                            ]
                        },
                        "text/html": [
                            "<table>",
                            "<tr><th>trip_year</th><th>trip_month</th><th>trips_made</th><th>from_station_name</th><th>usertype</th><th>rn</th></tr>",
                            "<tr><td>2013</td><td>6</td><td>191</td><td>Millennium Park</td><td>Customer</td><td>1</td></tr>",
                            "<tr><td>2013</td><td>6</td><td>172</td><td>Lake Shore Dr &amp; Monroe St</td><td>Customer</td><td>2</td></tr>",
                            "<tr><td>2013</td><td>6</td><td>170</td><td>Michigan Ave &amp; Oak St</td><td>Customer</td><td>3</td></tr>",
                            "<tr><td>2013</td><td>6</td><td>156</td><td>McClurg Ct &amp; Illinois St</td><td>Customer</td><td>4</td></tr>",
                            "<tr><td>2013</td><td>6</td><td>103</td><td>Michigan Ave &amp; Pearson St</td><td>Customer</td><td>5</td></tr>",
                            "<tr><td>2013</td><td>6</td><td>88</td><td>Michigan Ave &amp; Lake St</td><td>Customer</td><td>6</td></tr>",
                            "<tr><td>2013</td><td>6</td><td>88</td><td>Wabash Ave &amp; Roosevelt Rd</td><td>Customer</td><td>6</td></tr>",
                            "<tr><td>2013</td><td>6</td><td>87</td><td>Cannon Dr &amp; Fullerton Ave</td><td>Customer</td><td>7</td></tr>",
                            "<tr><td>2013</td><td>6</td><td>74</td><td>McCormick Place</td><td>Customer</td><td>8</td></tr>",
                            "<tr><td>2013</td><td>6</td><td>62</td><td>Fairbanks Ct &amp; Grand Ave</td><td>Customer</td><td>9</td></tr>",
                            "<tr><td>2013</td><td>6</td><td>57</td><td>Dearborn St &amp; Adams St</td><td>Customer</td><td>10</td></tr>",
                            "<tr><td>2013</td><td>7</td><td>3376</td><td>Millennium Park</td><td>Customer</td><td>1</td></tr>",
                            "<tr><td>2013</td><td>7</td><td>3065</td><td>Lake Shore Dr &amp; Monroe St</td><td>Customer</td><td>2</td></tr>",
                            "<tr><td>2013</td><td>7</td><td>2479</td><td>Michigan Ave &amp; Oak St</td><td>Customer</td><td>3</td></tr>",
                            "<tr><td>2013</td><td>7</td><td>2433</td><td>McClurg Ct &amp; Illinois St</td><td>Customer</td><td>4</td></tr>",
                            "<tr><td>2013</td><td>7</td><td>2409</td><td>Museum Campus</td><td>Customer</td><td>5</td></tr>",
                            "<tr><td>2013</td><td>7</td><td>1857</td><td>Michigan Ave &amp; Pearson St</td><td>Customer</td><td>6</td></tr>",
                            "<tr><td>2013</td><td>7</td><td>1590</td><td>Cannon Dr &amp; Fullerton Ave</td><td>Customer</td><td>7</td></tr>",
                            "<tr><td>2013</td><td>7</td><td>1531</td><td>Michigan Ave &amp; Lake St</td><td>Customer</td><td>8</td></tr>",
                            "<tr><td>2013</td><td>7</td><td>1158</td><td>Wabash Ave &amp; Roosevelt Rd</td><td>Customer</td><td>9</td></tr>",
                            "<tr><td>2013</td><td>7</td><td>1143</td><td>Fairbanks Ct &amp; Grand Ave</td><td>Customer</td><td>10</td></tr>",
                            "<tr><td>2013</td><td>8</td><td>5678</td><td>Streeter Dr &amp; Illinois St</td><td>Customer</td><td>1</td></tr>",
                            "<tr><td>2013</td><td>8</td><td>4452</td><td>Lake Shore Dr &amp; Monroe St</td><td>Customer</td><td>2</td></tr>",
                            "<tr><td>2013</td><td>8</td><td>4192</td><td>Millennium Park</td><td>Customer</td><td>3</td></tr>",
                            "<tr><td>2013</td><td>8</td><td>3496</td><td>Museum Campus</td><td>Customer</td><td>4</td></tr>",
                            "<tr><td>2013</td><td>8</td><td>3435</td><td>Michigan Ave &amp; Oak St</td><td>Customer</td><td>5</td></tr>",
                            "<tr><td>2013</td><td>8</td><td>2508</td><td>Clark St &amp; North Ave</td><td>Customer</td><td>6</td></tr>",
                            "<tr><td>2013</td><td>8</td><td>2234</td><td>McClurg Ct &amp; Illinois St</td><td>Customer</td><td>7</td></tr>",
                            "<tr><td>2013</td><td>8</td><td>2180</td><td>Theater on the Lake</td><td>Customer</td><td>8</td></tr>",
                            "<tr><td>2013</td><td>8</td><td>1919</td><td>Lake Shore Dr &amp; Ohio St</td><td>Customer</td><td>9</td></tr>",
                            "<tr><td>2013</td><td>8</td><td>1889</td><td>Michigan Ave &amp; Lake St</td><td>Customer</td><td>10</td></tr>",
                            "<tr><td>2013</td><td>9</td><td>5362</td><td>Streeter Dr &amp; Illinois St</td><td>Customer</td><td>1</td></tr>",
                            "<tr><td>2013</td><td>9</td><td>3523</td><td>Millennium Park</td><td>Customer</td><td>2</td></tr>",
                            "<tr><td>2013</td><td>9</td><td>3226</td><td>Lake Shore Dr &amp; Monroe St</td><td>Customer</td><td>3</td></tr>",
                            "<tr><td>2013</td><td>9</td><td>3051</td><td>Theater on the Lake</td><td>Customer</td><td>4</td></tr>",
                            "<tr><td>2013</td><td>9</td><td>2799</td><td>Museum Campus</td><td>Customer</td><td>5</td></tr>",
                            "<tr><td>2013</td><td>9</td><td>2568</td><td>Michigan Ave &amp; Oak St</td><td>Customer</td><td>6</td></tr>",
                            "<tr><td>2013</td><td>9</td><td>1600</td><td>McClurg Ct &amp; Illinois St</td><td>Customer</td><td>7</td></tr>",
                            "<tr><td>2013</td><td>9</td><td>1502</td><td>Clark St &amp; North Ave</td><td>Customer</td><td>8</td></tr>",
                            "<tr><td>2013</td><td>9</td><td>1393</td><td>Michigan Ave &amp; Pearson St</td><td>Customer</td><td>9</td></tr>",
                            "<tr><td>2013</td><td>9</td><td>1337</td><td>Michigan Ave &amp; Washington St</td><td>Customer</td><td>10</td></tr>",
                            "<tr><td>2013</td><td>10</td><td>3254</td><td>Streeter Dr &amp; Illinois St</td><td>Customer</td><td>1</td></tr>",
                            "<tr><td>2013</td><td>10</td><td>2096</td><td>Lake Shore Dr &amp; Monroe St</td><td>Customer</td><td>2</td></tr>",
                            "<tr><td>2013</td><td>10</td><td>1990</td><td>Millennium Park</td><td>Customer</td><td>3</td></tr>",
                            "<tr><td>2013</td><td>10</td><td>1619</td><td>Museum Campus</td><td>Customer</td><td>4</td></tr>",
                            "<tr><td>2013</td><td>10</td><td>1470</td><td>Theater on the Lake</td><td>Customer</td><td>5</td></tr>",
                            "<tr><td>2013</td><td>10</td><td>1288</td><td>Michigan Ave &amp; Oak St</td><td>Customer</td><td>6</td></tr>",
                            "<tr><td>2013</td><td>10</td><td>886</td><td>Lake Shore Dr &amp; North Blvd</td><td>Customer</td><td>7</td></tr>",
                            "<tr><td>2013</td><td>10</td><td>830</td><td>Michigan Ave &amp; Pearson St</td><td>Customer</td><td>8</td></tr>",
                            "<tr><td>2013</td><td>10</td><td>816</td><td>McClurg Ct &amp; Illinois St</td><td>Customer</td><td>9</td></tr>",
                            "<tr><td>2013</td><td>10</td><td>775</td><td>Michigan Ave &amp; Jackson Blvd</td><td>Customer</td><td>10</td></tr>",
                            "<tr><td>2013</td><td>11</td><td>815</td><td>Streeter Dr &amp; Illinois St</td><td>Customer</td><td>1</td></tr>",
                            "<tr><td>2013</td><td>11</td><td>639</td><td>Lake Shore Dr &amp; Monroe St</td><td>Customer</td><td>2</td></tr>",
                            "<tr><td>2013</td><td>11</td><td>605</td><td>Millennium Park</td><td>Customer</td><td>3</td></tr>",
                            "<tr><td>2013</td><td>11</td><td>504</td><td>Museum Campus</td><td>Customer</td><td>4</td></tr>",
                            "<tr><td>2013</td><td>11</td><td>326</td><td>Michigan Ave &amp; Oak St</td><td>Customer</td><td>5</td></tr>",
                            "<tr><td>2013</td><td>11</td><td>313</td><td>Theater on the Lake</td><td>Customer</td><td>6</td></tr>",
                            "<tr><td>2013</td><td>11</td><td>311</td><td>Adler Planetarium</td><td>Customer</td><td>7</td></tr>",
                            "<tr><td>2013</td><td>11</td><td>302</td><td>Michigan Ave &amp; Washington St</td><td>Customer</td><td>8</td></tr>",
                            "<tr><td>2013</td><td>11</td><td>248</td><td>Lake Shore Dr &amp; North Blvd</td><td>Customer</td><td>9</td></tr>",
                            "<tr><td>2013</td><td>11</td><td>246</td><td>Michigan Ave &amp; Pearson St</td><td>Customer</td><td>10</td></tr>",
                            "<tr><td>2013</td><td>12</td><td>157</td><td>Millennium Park</td><td>Customer</td><td>1</td></tr>",
                            "<tr><td>2013</td><td>12</td><td>125</td><td>Streeter Dr &amp; Illinois St</td><td>Customer</td><td>2</td></tr>",
                            "<tr><td>2013</td><td>12</td><td>118</td><td>Museum Campus</td><td>Customer</td><td>3</td></tr>",
                            "<tr><td>2013</td><td>12</td><td>98</td><td>Lake Shore Dr &amp; Monroe St</td><td>Customer</td><td>4</td></tr>",
                            "<tr><td>2013</td><td>12</td><td>67</td><td>Michigan Ave &amp; Oak St</td><td>Customer</td><td>5</td></tr>",
                            "<tr><td>2013</td><td>12</td><td>60</td><td>McCormick Place</td><td>Customer</td><td>6</td></tr>",
                            "<tr><td>2013</td><td>12</td><td>59</td><td>Michigan Ave &amp; Jackson Blvd</td><td>Customer</td><td>7</td></tr>",
                            "<tr><td>2013</td><td>12</td><td>53</td><td>Michigan Ave &amp; Washington St</td><td>Customer</td><td>8</td></tr>",
                            "<tr><td>2013</td><td>12</td><td>51</td><td>Theater on the Lake</td><td>Customer</td><td>9</td></tr>",
                            "<tr><td>2013</td><td>12</td><td>50</td><td>Michigan Ave &amp; Pearson St</td><td>Customer</td><td>10</td></tr>",
                            "<tr><td>2013</td><td>12</td><td>50</td><td>Adler Planetarium</td><td>Customer</td><td>10</td></tr>",
                            "<tr><td>2014</td><td>1</td><td>27</td><td>Michigan Ave &amp; Washington St</td><td>Customer</td><td>1</td></tr>",
                            "<tr><td>2014</td><td>1</td><td>24</td><td>Streeter Dr &amp; Illinois St</td><td>Customer</td><td>2</td></tr>",
                            "<tr><td>2014</td><td>1</td><td>21</td><td>Michigan Ave &amp; Congress Pkwy</td><td>Customer</td><td>3</td></tr>",
                            "<tr><td>2014</td><td>1</td><td>20</td><td>Franklin St &amp; Jackson Blvd</td><td>Customer</td><td>4</td></tr>",
                            "<tr><td>2014</td><td>1</td><td>17</td><td>Wells St &amp; Erie St</td><td>Customer</td><td>5</td></tr>",
                            "<tr><td>2014</td><td>1</td><td>17</td><td>Millennium Park</td><td>Customer</td><td>5</td></tr>",
                            "<tr><td>2014</td><td>1</td><td>17</td><td>Lake Shore Dr &amp; Monroe St</td><td>Customer</td><td>5</td></tr>",
                            "<tr><td>2014</td><td>1</td><td>16</td><td>Green St &amp; Milwaukee Ave</td><td>Customer</td><td>6</td></tr>",
                            "<tr><td>2014</td><td>1</td><td>15</td><td>Wabash Ave &amp; Roosevelt Rd</td><td>Customer</td><td>7</td></tr>",
                            "<tr><td>2014</td><td>1</td><td>15</td><td>Michigan Ave &amp; Lake St</td><td>Customer</td><td>7</td></tr>",
                            "<tr><td>2014</td><td>1</td><td>13</td><td>Sheridan Rd &amp; Montrose Ave</td><td>Customer</td><td>8</td></tr>",
                            "<tr><td>2014</td><td>1</td><td>13</td><td>Museum Campus</td><td>Customer</td><td>8</td></tr>",
                            "<tr><td>2014</td><td>1</td><td>11</td><td>Peoria St &amp; Jackson Blvd</td><td>Customer</td><td>9</td></tr>",
                            "<tr><td>2014</td><td>1</td><td>11</td><td>Halsted St &amp; Madison St</td><td>Customer</td><td>9</td></tr>",
                            "<tr><td>2014</td><td>1</td><td>11</td><td>Clark St &amp; Schiller St</td><td>Customer</td><td>9</td></tr>",
                            "<tr><td>2014</td><td>1</td><td>10</td><td>Eckhart Park</td><td>Customer</td><td>10</td></tr>",
                            "<tr><td>2014</td><td>1</td><td>10</td><td>Columbus Dr &amp; Randolph St</td><td>Customer</td><td>10</td></tr>",
                            "<tr><td>2014</td><td>1</td><td>10</td><td>Fairbanks Ct &amp; Grand Ave</td><td>Customer</td><td>10</td></tr>",
                            "<tr><td>2014</td><td>1</td><td>10</td><td>Adler Planetarium</td><td>Customer</td><td>10</td></tr>",
                            "<tr><td>2014</td><td>1</td><td>10</td><td>Michigan Ave &amp; Pearson St</td><td>Customer</td><td>10</td></tr>",
                            "<tr><td>2014</td><td>1</td><td>10</td><td>Desplaines St &amp; Kinzie St</td><td>Customer</td><td>10</td></tr>",
                            "<tr><td>2014</td><td>1</td><td>10</td><td>State St &amp; Kinzie St</td><td>Customer</td><td>10</td></tr>",
                            "<tr><td>2014</td><td>1</td><td>10</td><td>LaSalle St &amp; Illinois St</td><td>Customer</td><td>10</td></tr>",
                            "<tr><td>2014</td><td>2</td><td>46</td><td>Lake Shore Dr &amp; Monroe St</td><td>Customer</td><td>1</td></tr>",
                            "<tr><td>2014</td><td>2</td><td>31</td><td>Michigan Ave &amp; Washington St</td><td>Customer</td><td>2</td></tr>",
                            "<tr><td>2014</td><td>2</td><td>28</td><td>Museum Campus</td><td>Customer</td><td>3</td></tr>",
                            "<tr><td>2014</td><td>2</td><td>28</td><td>Streeter Dr &amp; Illinois St</td><td>Customer</td><td>3</td></tr>",
                            "<tr><td>2014</td><td>2</td><td>25</td><td>Adler Planetarium</td><td>Customer</td><td>4</td></tr>",
                            "<tr><td>2014</td><td>2</td><td>20</td><td>Franklin St &amp; Jackson Blvd</td><td>Customer</td><td>5</td></tr>",
                            "<tr><td>2014</td><td>2</td><td>18</td><td>Michigan Ave &amp; Oak St</td><td>Customer</td><td>6</td></tr>",
                            "<tr><td>2014</td><td>2</td><td>18</td><td>Michigan Ave &amp; Jackson Blvd</td><td>Customer</td><td>6</td></tr>",
                            "<tr><td>2014</td><td>2</td><td>18</td><td>McClurg Ct &amp; Illinois St</td><td>Customer</td><td>6</td></tr>",
                            "<tr><td>2014</td><td>2</td><td>17</td><td>Dearborn St &amp; Monroe St</td><td>Customer</td><td>7</td></tr>",
                            "<tr><td>2014</td><td>2</td><td>16</td><td>Michigan Ave &amp; 18th St</td><td>Customer</td><td>8</td></tr>",
                            "<tr><td>2014</td><td>2</td><td>16</td><td>Lake Shore Dr &amp; Ohio St</td><td>Customer</td><td>8</td></tr>",
                            "<tr><td>2014</td><td>2</td><td>16</td><td>Franklin St &amp; Arcade Pl</td><td>Customer</td><td>8</td></tr>",
                            "<tr><td>2014</td><td>2</td><td>15</td><td>Mies van der Rohe Way &amp; Chicago Ave</td><td>Customer</td><td>9</td></tr>",
                            "<tr><td>2014</td><td>2</td><td>15</td><td>Michigan Ave &amp; Congress Pkwy</td><td>Customer</td><td>9</td></tr>",
                            "<tr><td>2014</td><td>2</td><td>15</td><td>Wells St &amp; Erie St</td><td>Customer</td><td>9</td></tr>",
                            "<tr><td>2014</td><td>2</td><td>15</td><td>Theater on the Lake</td><td>Customer</td><td>9</td></tr>",
                            "<tr><td>2014</td><td>2</td><td>14</td><td>LaSalle St &amp; Illinois St</td><td>Customer</td><td>10</td></tr>",
                            "<tr><td>2014</td><td>3</td><td>576</td><td>Streeter Dr &amp; Illinois St</td><td>Customer</td><td>1</td></tr>",
                            "<tr><td>2014</td><td>3</td><td>473</td><td>Lake Shore Dr &amp; Monroe St</td><td>Customer</td><td>2</td></tr>",
                            "<tr><td>2014</td><td>3</td><td>339</td><td>Museum Campus</td><td>Customer</td><td>3</td></tr>",
                            "<tr><td>2014</td><td>3</td><td>321</td><td>Millennium Park</td><td>Customer</td><td>4</td></tr>",
                            "<tr><td>2014</td><td>3</td><td>314</td><td>Theater on the Lake</td><td>Customer</td><td>5</td></tr>",
                            "<tr><td>2014</td><td>3</td><td>233</td><td>Michigan Ave &amp; Oak St</td><td>Customer</td><td>6</td></tr>",
                            "<tr><td>2014</td><td>3</td><td>230</td><td>Lake Shore Dr &amp; North Blvd</td><td>Customer</td><td>7</td></tr>",
                            "<tr><td>2014</td><td>3</td><td>208</td><td>Michigan Ave &amp; Pearson St</td><td>Customer</td><td>8</td></tr>",
                            "<tr><td>2014</td><td>3</td><td>191</td><td>Adler Planetarium</td><td>Customer</td><td>9</td></tr>",
                            "<tr><td>2014</td><td>3</td><td>187</td><td>Lake Shore Dr &amp; Ohio St</td><td>Customer</td><td>10</td></tr>",
                            "<tr><td>2014</td><td>4</td><td>2906</td><td>Streeter Dr &amp; Illinois St</td><td>Customer</td><td>1</td></tr>",
                            "<tr><td>2014</td><td>4</td><td>2210</td><td>Lake Shore Dr &amp; Monroe St</td><td>Customer</td><td>2</td></tr>",
                            "<tr><td>2014</td><td>4</td><td>1612</td><td>Theater on the Lake</td><td>Customer</td><td>3</td></tr>",
                            "<tr><td>2014</td><td>4</td><td>1505</td><td>Museum Campus</td><td>Customer</td><td>4</td></tr>",
                            "<tr><td>2014</td><td>4</td><td>1488</td><td>Millennium Park</td><td>Customer</td><td>5</td></tr>",
                            "<tr><td>2014</td><td>4</td><td>1365</td><td>Michigan Ave &amp; Oak St</td><td>Customer</td><td>6</td></tr>",
                            "<tr><td>2014</td><td>4</td><td>1003</td><td>Lake Shore Dr &amp; North Blvd</td><td>Customer</td><td>7</td></tr>",
                            "<tr><td>2014</td><td>4</td><td>782</td><td>Michigan Ave &amp; Washington St</td><td>Customer</td><td>8</td></tr>",
                            "<tr><td>2014</td><td>4</td><td>778</td><td>Adler Planetarium</td><td>Customer</td><td>9</td></tr>",
                            "<tr><td>2014</td><td>4</td><td>761</td><td>Indiana Ave &amp; Roosevelt Rd</td><td>Customer</td><td>10</td></tr>",
                            "<tr><td>2014</td><td>5</td><td>1844</td><td>McClurg Ct &amp; Illinois St</td><td>Customer</td><td>8</td></tr>",
                            "<tr><td>2014</td><td>5</td><td>5863</td><td>Streeter Dr &amp; Illinois St</td><td>Customer</td><td>1</td></tr>",
                            "<tr><td>2014</td><td>5</td><td>1602</td><td>Indiana Ave &amp; Roosevelt Rd</td><td>Customer</td><td>9</td></tr>",
                            "<tr><td>2014</td><td>5</td><td>4627</td><td>Lake Shore Dr &amp; Monroe St</td><td>Customer</td><td>2</td></tr>",
                            "<tr><td>2014</td><td>5</td><td>1581</td><td>Adler Planetarium</td><td>Customer</td><td>10</td></tr>",
                            "<tr><td>2014</td><td>5</td><td>3498</td><td>Theater on the Lake</td><td>Customer</td><td>3</td></tr>",
                            "<tr><td>2014</td><td>5</td><td>3025</td><td>Millennium Park</td><td>Customer</td><td>4</td></tr>",
                            "<tr><td>2014</td><td>5</td><td>3000</td><td>Michigan Ave &amp; Oak St</td><td>Customer</td><td>5</td></tr>",
                            "<tr><td>2014</td><td>5</td><td>2809</td><td>Museum Campus</td><td>Customer</td><td>6</td></tr>",
                            "<tr><td>2014</td><td>5</td><td>2120</td><td>Lake Shore Dr &amp; North Blvd</td><td>Customer</td><td>7</td></tr>",
                            "<tr><td>2014</td><td>6</td><td>6768</td><td>Streeter Dr &amp; Illinois St</td><td>Customer</td><td>1</td></tr>",
                            "<tr><td>2014</td><td>6</td><td>5107</td><td>Lake Shore Dr &amp; Monroe St</td><td>Customer</td><td>2</td></tr>",
                            "<tr><td>2014</td><td>6</td><td>4358</td><td>Theater on the Lake</td><td>Customer</td><td>3</td></tr>",
                            "<tr><td>2014</td><td>6</td><td>3984</td><td>Michigan Ave &amp; Oak St</td><td>Customer</td><td>4</td></tr>",
                            "<tr><td>2014</td><td>6</td><td>3730</td><td>Lake Shore Dr &amp; North Blvd</td><td>Customer</td><td>5</td></tr>",
                            "<tr><td>2014</td><td>6</td><td>3602</td><td>Millennium Park</td><td>Customer</td><td>6</td></tr>",
                            "<tr><td>2014</td><td>6</td><td>3315</td><td>Museum Campus</td><td>Customer</td><td>7</td></tr>",
                            "<tr><td>2014</td><td>6</td><td>2199</td><td>McClurg Ct &amp; Illinois St</td><td>Customer</td><td>8</td></tr>",
                            "<tr><td>2014</td><td>6</td><td>1850</td><td>Michigan Ave &amp; Jackson Blvd</td><td>Customer</td><td>9</td></tr>",
                            "<tr><td>2014</td><td>6</td><td>1642</td><td>Adler Planetarium</td><td>Customer</td><td>10</td></tr>",
                            "<tr><td>2014</td><td>7</td><td>9094</td><td>Streeter Dr &amp; Illinois St</td><td>Customer</td><td>1</td></tr>",
                            "<tr><td>2014</td><td>7</td><td>6721</td><td>Lake Shore Dr &amp; Monroe St</td><td>Customer</td><td>2</td></tr>",
                            "<tr><td>2014</td><td>7</td><td>5577</td><td>Theater on the Lake</td><td>Customer</td><td>3</td></tr>",
                            "<tr><td>2014</td><td>7</td><td>5204</td><td>Michigan Ave &amp; Oak St</td><td>Customer</td><td>4</td></tr>",
                            "<tr><td>2014</td><td>7</td><td>4425</td><td>Lake Shore Dr &amp; North Blvd</td><td>Customer</td><td>5</td></tr>",
                            "<tr><td>2014</td><td>7</td><td>3902</td><td>Millennium Park</td><td>Customer</td><td>6</td></tr>",
                            "<tr><td>2014</td><td>7</td><td>3754</td><td>Museum Campus</td><td>Customer</td><td>7</td></tr>",
                            "<tr><td>2014</td><td>7</td><td>2198</td><td>McClurg Ct &amp; Illinois St</td><td>Customer</td><td>8</td></tr>",
                            "<tr><td>2014</td><td>7</td><td>2191</td><td>Adler Planetarium</td><td>Customer</td><td>9</td></tr>",
                            "<tr><td>2014</td><td>7</td><td>2139</td><td>Indiana Ave &amp; Roosevelt Rd</td><td>Customer</td><td>10</td></tr>",
                            "<tr><td>2014</td><td>8</td><td>9163</td><td>Streeter Dr &amp; Illinois St</td><td>Customer</td><td>1</td></tr>",
                            "<tr><td>2014</td><td>8</td><td>6452</td><td>Lake Shore Dr &amp; Monroe St</td><td>Customer</td><td>2</td></tr>",
                            "<tr><td>2014</td><td>8</td><td>5032</td><td>Michigan Ave &amp; Oak St</td><td>Customer</td><td>3</td></tr>",
                            "<tr><td>2014</td><td>8</td><td>4884</td><td>Theater on the Lake</td><td>Customer</td><td>4</td></tr>",
                            "<tr><td>2014</td><td>8</td><td>4779</td><td>Millennium Park</td><td>Customer</td><td>5</td></tr>",
                            "<tr><td>2014</td><td>8</td><td>4211</td><td>Lake Shore Dr &amp; North Blvd</td><td>Customer</td><td>6</td></tr>",
                            "<tr><td>2014</td><td>8</td><td>4018</td><td>Museum Campus</td><td>Customer</td><td>7</td></tr>",
                            "<tr><td>2014</td><td>8</td><td>2440</td><td>Adler Planetarium</td><td>Customer</td><td>8</td></tr>",
                            "<tr><td>2014</td><td>8</td><td>2264</td><td>Lake Shore Dr &amp; Ohio St</td><td>Customer</td><td>9</td></tr>",
                            "<tr><td>2014</td><td>8</td><td>2230</td><td>McClurg Ct &amp; Illinois St</td><td>Customer</td><td>10</td></tr>",
                            "<tr><td>2014</td><td>9</td><td>5855</td><td>Streeter Dr &amp; Illinois St</td><td>Customer</td><td>1</td></tr>",
                            "<tr><td>2014</td><td>9</td><td>3964</td><td>Lake Shore Dr &amp; Monroe St</td><td>Customer</td><td>2</td></tr>",
                            "<tr><td>2014</td><td>9</td><td>3061</td><td>Theater on the Lake</td><td>Customer</td><td>3</td></tr>",
                            "<tr><td>2014</td><td>9</td><td>2853</td><td>Millennium Park</td><td>Customer</td><td>4</td></tr>",
                            "<tr><td>2014</td><td>9</td><td>2721</td><td>Michigan Ave &amp; Oak St</td><td>Customer</td><td>5</td></tr>",
                            "<tr><td>2014</td><td>9</td><td>2439</td><td>Museum Campus</td><td>Customer</td><td>6</td></tr>",
                            "<tr><td>2014</td><td>9</td><td>2269</td><td>Lake Shore Dr &amp; North Blvd</td><td>Customer</td><td>7</td></tr>",
                            "<tr><td>2014</td><td>9</td><td>1788</td><td>Adler Planetarium</td><td>Customer</td><td>8</td></tr>",
                            "<tr><td>2014</td><td>9</td><td>1338</td><td>McClurg Ct &amp; Illinois St</td><td>Customer</td><td>9</td></tr>",
                            "<tr><td>2014</td><td>9</td><td>1229</td><td>Indiana Ave &amp; Roosevelt Rd</td><td>Customer</td><td>10</td></tr>",
                            "<tr><td>2014</td><td>10</td><td>2848</td><td>Streeter Dr &amp; Illinois St</td><td>Customer</td><td>1</td></tr>",
                            "<tr><td>2014</td><td>10</td><td>2374</td><td>Lake Shore Dr &amp; Monroe St</td><td>Customer</td><td>2</td></tr>",
                            "<tr><td>2014</td><td>10</td><td>1590</td><td>Millennium Park</td><td>Customer</td><td>3</td></tr>",
                            "<tr><td>2014</td><td>10</td><td>1477</td><td>Museum Campus</td><td>Customer</td><td>4</td></tr>",
                            "<tr><td>2014</td><td>10</td><td>1221</td><td>Theater on the Lake</td><td>Customer</td><td>5</td></tr>",
                            "<tr><td>2014</td><td>10</td><td>1185</td><td>Michigan Ave &amp; Oak St</td><td>Customer</td><td>6</td></tr>",
                            "<tr><td>2014</td><td>10</td><td>1000</td><td>Lake Shore Dr &amp; North Blvd</td><td>Customer</td><td>7</td></tr>",
                            "<tr><td>2014</td><td>10</td><td>939</td><td>Adler Planetarium</td><td>Customer</td><td>8</td></tr>",
                            "<tr><td>2014</td><td>10</td><td>874</td><td>McClurg Ct &amp; Illinois St</td><td>Customer</td><td>9</td></tr>",
                            "<tr><td>2014</td><td>10</td><td>730</td><td>Michigan Ave &amp; Jackson Blvd</td><td>Customer</td><td>10</td></tr>",
                            "<tr><td>2014</td><td>11</td><td>726</td><td>Streeter Dr &amp; Illinois St</td><td>Customer</td><td>1</td></tr>",
                            "<tr><td>2014</td><td>11</td><td>588</td><td>Lake Shore Dr &amp; Monroe St</td><td>Customer</td><td>2</td></tr>",
                            "<tr><td>2014</td><td>11</td><td>423</td><td>Millennium Park</td><td>Customer</td><td>3</td></tr>",
                            "<tr><td>2014</td><td>11</td><td>419</td><td>Museum Campus</td><td>Customer</td><td>4</td></tr>",
                            "<tr><td>2014</td><td>11</td><td>269</td><td>Adler Planetarium</td><td>Customer</td><td>5</td></tr>",
                            "<tr><td>2014</td><td>11</td><td>217</td><td>Theater on the Lake</td><td>Customer</td><td>6</td></tr>",
                            "<tr><td>2014</td><td>11</td><td>216</td><td>Michigan Ave &amp; Oak St</td><td>Customer</td><td>7</td></tr>",
                            "<tr><td>2014</td><td>11</td><td>212</td><td>McClurg Ct &amp; Illinois St</td><td>Customer</td><td>8</td></tr>",
                            "<tr><td>2014</td><td>11</td><td>206</td><td>Michigan Ave &amp; Washington St</td><td>Customer</td><td>9</td></tr>",
                            "<tr><td>2014</td><td>11</td><td>180</td><td>Michigan Ave &amp; Congress Pkwy</td><td>Customer</td><td>10</td></tr>",
                            "<tr><td>2014</td><td>12</td><td>438</td><td>Lake Shore Dr &amp; Monroe St</td><td>Customer</td><td>1</td></tr>",
                            "<tr><td>2014</td><td>12</td><td>364</td><td>Streeter Dr &amp; Illinois St</td><td>Customer</td><td>2</td></tr>",
                            "<tr><td>2014</td><td>12</td><td>300</td><td>Millennium Park</td><td>Customer</td><td>3</td></tr>",
                            "<tr><td>2014</td><td>12</td><td>259</td><td>Museum Campus</td><td>Customer</td><td>4</td></tr>",
                            "<tr><td>2014</td><td>12</td><td>165</td><td>Michigan Ave &amp; Washington St</td><td>Customer</td><td>5</td></tr>",
                            "<tr><td>2014</td><td>12</td><td>149</td><td>Michigan Ave &amp; Oak St</td><td>Customer</td><td>6</td></tr>",
                            "<tr><td>2014</td><td>12</td><td>137</td><td>Adler Planetarium</td><td>Customer</td><td>7</td></tr>",
                            "<tr><td>2014</td><td>12</td><td>133</td><td>Michigan Ave &amp; Congress Pkwy</td><td>Customer</td><td>8</td></tr>",
                            "<tr><td>2014</td><td>12</td><td>126</td><td>Indiana Ave &amp; Roosevelt Rd</td><td>Customer</td><td>9</td></tr>",
                            "<tr><td>2014</td><td>12</td><td>114</td><td>Clark St &amp; Elm St</td><td>Customer</td><td>10</td></tr>",
                            "<tr><td>2015</td><td>1</td><td>177</td><td>Clark St &amp; Elm St</td><td>Customer</td><td>1</td></tr>",
                            "<tr><td>2015</td><td>1</td><td>131</td><td>Millennium Park</td><td>Customer</td><td>2</td></tr>",
                            "<tr><td>2015</td><td>1</td><td>128</td><td>Streeter Dr &amp; Illinois St</td><td>Customer</td><td>3</td></tr>",
                            "<tr><td>2015</td><td>1</td><td>122</td><td>Lake Shore Dr &amp; Monroe St</td><td>Customer</td><td>4</td></tr>",
                            "<tr><td>2015</td><td>1</td><td>72</td><td>Museum Campus</td><td>Customer</td><td>5</td></tr>",
                            "<tr><td>2015</td><td>1</td><td>71</td><td>Adler Planetarium</td><td>Customer</td><td>6</td></tr>",
                            "<tr><td>2015</td><td>1</td><td>69</td><td>Michigan Ave &amp; Washington St</td><td>Customer</td><td>7</td></tr>",
                            "<tr><td>2015</td><td>1</td><td>67</td><td>LaSalle St &amp; Washington St</td><td>Customer</td><td>8</td></tr>",
                            "<tr><td>2015</td><td>1</td><td>60</td><td>Michigan Ave &amp; Oak St</td><td>Customer</td><td>9</td></tr>",
                            "<tr><td>2015</td><td>1</td><td>54</td><td>Dearborn St &amp; Adams St</td><td>Customer</td><td>10</td></tr>",
                            "<tr><td>2015</td><td>2</td><td>46</td><td>LaSalle St &amp; Washington St</td><td>Customer</td><td>1</td></tr>",
                            "<tr><td>2015</td><td>2</td><td>33</td><td>Damen Ave &amp; Pierce Ave</td><td>Customer</td><td>2</td></tr>",
                            "<tr><td>2015</td><td>2</td><td>30</td><td>Museum Campus</td><td>Customer</td><td>3</td></tr>",
                            "<tr><td>2015</td><td>2</td><td>24</td><td>Kingsbury St &amp; Erie St</td><td>Customer</td><td>4</td></tr>",
                            "<tr><td>2015</td><td>2</td><td>20</td><td>Michigan Ave &amp; Washington St</td><td>Customer</td><td>5</td></tr>",
                            "<tr><td>2015</td><td>2</td><td>18</td><td>Dearborn St &amp; Adams St</td><td>Customer</td><td>6</td></tr>",
                            "<tr><td>2015</td><td>2</td><td>18</td><td>Millennium Park</td><td>Customer</td><td>6</td></tr>",
                            "<tr><td>2015</td><td>2</td><td>17</td><td>Michigan Ave &amp; Lake St</td><td>Customer</td><td>7</td></tr>",
                            "<tr><td>2015</td><td>2</td><td>17</td><td>Southport Ave &amp; Roscoe St</td><td>Customer</td><td>7</td></tr>",
                            "<tr><td>2015</td><td>2</td><td>17</td><td>LaSalle St &amp; Jackson Blvd</td><td>Customer</td><td>7</td></tr>",
                            "<tr><td>2015</td><td>2</td><td>16</td><td>Lake Shore Dr &amp; Monroe St</td><td>Customer</td><td>8</td></tr>",
                            "<tr><td>2015</td><td>2</td><td>15</td><td>Cityfront Plaza Dr &amp; Pioneer Ct</td><td>Customer</td><td>9</td></tr>",
                            "<tr><td>2015</td><td>2</td><td>14</td><td>Dearborn St &amp; Monroe St</td><td>Customer</td><td>10</td></tr>",
                            "<tr><td>2015</td><td>3</td><td>1228</td><td>Streeter Dr &amp; Illinois St</td><td>Customer</td><td>1</td></tr>",
                            "<tr><td>2015</td><td>3</td><td>1037</td><td>Lake Shore Dr &amp; Monroe St</td><td>Customer</td><td>2</td></tr>",
                            "<tr><td>2015</td><td>3</td><td>497</td><td>Museum Campus</td><td>Customer</td><td>3</td></tr>",
                            "<tr><td>2015</td><td>3</td><td>489</td><td>Millennium Park</td><td>Customer</td><td>4</td></tr>",
                            "<tr><td>2015</td><td>3</td><td>473</td><td>Michigan Ave &amp; Oak St</td><td>Customer</td><td>5</td></tr>",
                            "<tr><td>2015</td><td>3</td><td>461</td><td>Lake Shore Dr &amp; North Blvd</td><td>Customer</td><td>6</td></tr>",
                            "<tr><td>2015</td><td>3</td><td>415</td><td>Theater on the Lake</td><td>Customer</td><td>7</td></tr>",
                            "<tr><td>2015</td><td>3</td><td>336</td><td>Michigan Ave &amp; Washington St</td><td>Customer</td><td>8</td></tr>",
                            "<tr><td>2015</td><td>3</td><td>320</td><td>Adler Planetarium</td><td>Customer</td><td>9</td></tr>",
                            "<tr><td>2015</td><td>3</td><td>309</td><td>Indiana Ave &amp; Roosevelt Rd</td><td>Customer</td><td>10</td></tr>",
                            "<tr><td>2015</td><td>4</td><td>2633</td><td>Streeter Dr &amp; Illinois St</td><td>Customer</td><td>1</td></tr>",
                            "<tr><td>2015</td><td>4</td><td>1985</td><td>Lake Shore Dr &amp; Monroe St</td><td>Customer</td><td>2</td></tr>",
                            "<tr><td>2015</td><td>4</td><td>1216</td><td>Millennium Park</td><td>Customer</td><td>3</td></tr>",
                            "<tr><td>2015</td><td>4</td><td>1132</td><td>Theater on the Lake</td><td>Customer</td><td>4</td></tr>",
                            "<tr><td>2015</td><td>4</td><td>1087</td><td>Museum Campus</td><td>Customer</td><td>5</td></tr>",
                            "<tr><td>2015</td><td>4</td><td>1035</td><td>Michigan Ave &amp; Oak St</td><td>Customer</td><td>6</td></tr>",
                            "<tr><td>2015</td><td>4</td><td>821</td><td>Adler Planetarium</td><td>Customer</td><td>7</td></tr>",
                            "<tr><td>2015</td><td>4</td><td>600</td><td>Lake Shore Dr &amp; North Blvd</td><td>Customer</td><td>8</td></tr>",
                            "<tr><td>2015</td><td>4</td><td>566</td><td>Indiana Ave &amp; Roosevelt Rd</td><td>Customer</td><td>9</td></tr>",
                            "<tr><td>2015</td><td>4</td><td>542</td><td>Montrose Harbor</td><td>Customer</td><td>10</td></tr>",
                            "<tr><td>2015</td><td>5</td><td>5762</td><td>Streeter Dr &amp; Illinois St</td><td>Customer</td><td>1</td></tr>",
                            "<tr><td>2015</td><td>5</td><td>4394</td><td>Lake Shore Dr &amp; Monroe St</td><td>Customer</td><td>2</td></tr>",
                            "<tr><td>2015</td><td>5</td><td>2805</td><td>Millennium Park</td><td>Customer</td><td>3</td></tr>",
                            "<tr><td>2015</td><td>5</td><td>2794</td><td>Michigan Ave &amp; Oak St</td><td>Customer</td><td>4</td></tr>",
                            "<tr><td>2015</td><td>5</td><td>2597</td><td>Theater on the Lake</td><td>Customer</td><td>5</td></tr>",
                            "<tr><td>2015</td><td>5</td><td>2416</td><td>Lake Shore Dr &amp; North Blvd</td><td>Customer</td><td>6</td></tr>",
                            "<tr><td>2015</td><td>5</td><td>2053</td><td>Shedd Aquarium</td><td>Customer</td><td>7</td></tr>",
                            "<tr><td>2015</td><td>5</td><td>1673</td><td>Michigan Ave &amp; Balbo Ave</td><td>Customer</td><td>8</td></tr>",
                            "<tr><td>2015</td><td>5</td><td>1563</td><td>McClurg Ct &amp; Illinois St</td><td>Customer</td><td>9</td></tr>",
                            "<tr><td>2015</td><td>5</td><td>1458</td><td>Adler Planetarium</td><td>Customer</td><td>10</td></tr>",
                            "<tr><td>2015</td><td>6</td><td>8269</td><td>Streeter Dr &amp; Illinois St</td><td>Customer</td><td>1</td></tr>",
                            "<tr><td>2015</td><td>6</td><td>6245</td><td>Lake Shore Dr &amp; Monroe St</td><td>Customer</td><td>2</td></tr>",
                            "<tr><td>2015</td><td>6</td><td>4441</td><td>Theater on the Lake</td><td>Customer</td><td>3</td></tr>",
                            "<tr><td>2015</td><td>6</td><td>4440</td><td>Lake Shore Dr &amp; North Blvd</td><td>Customer</td><td>4</td></tr>",
                            "<tr><td>2015</td><td>6</td><td>4060</td><td>Michigan Ave &amp; Oak St</td><td>Customer</td><td>5</td></tr>",
                            "<tr><td>2015</td><td>6</td><td>3722</td><td>Millennium Park</td><td>Customer</td><td>6</td></tr>",
                            "<tr><td>2015</td><td>6</td><td>2943</td><td>Michigan Ave &amp; Balbo Ave</td><td>Customer</td><td>7</td></tr>",
                            "<tr><td>2015</td><td>6</td><td>2863</td><td>Shedd Aquarium</td><td>Customer</td><td>8</td></tr>",
                            "<tr><td>2015</td><td>6</td><td>2383</td><td>Dusable Harbor</td><td>Customer</td><td>9</td></tr>",
                            "<tr><td>2015</td><td>6</td><td>2310</td><td>Adler Planetarium</td><td>Customer</td><td>10</td></tr>",
                            "<tr><td>2015</td><td>7</td><td>11816</td><td>Streeter Dr &amp; Illinois St</td><td>Customer</td><td>1</td></tr>",
                            "<tr><td>2015</td><td>7</td><td>9057</td><td>Lake Shore Dr &amp; Monroe St</td><td>Customer</td><td>2</td></tr>",
                            "<tr><td>2015</td><td>7</td><td>7293</td><td>Lake Shore Dr &amp; North Blvd</td><td>Customer</td><td>3</td></tr>",
                            "<tr><td>2015</td><td>7</td><td>6472</td><td>Theater on the Lake</td><td>Customer</td><td>4</td></tr>",
                            "<tr><td>2015</td><td>7</td><td>6393</td><td>Michigan Ave &amp; Oak St</td><td>Customer</td><td>5</td></tr>",
                            "<tr><td>2015</td><td>7</td><td>5376</td><td>Millennium Park</td><td>Customer</td><td>6</td></tr>",
                            "<tr><td>2015</td><td>7</td><td>5173</td><td>Shedd Aquarium</td><td>Customer</td><td>7</td></tr>",
                            "<tr><td>2015</td><td>7</td><td>3504</td><td>Dusable Harbor</td><td>Customer</td><td>8</td></tr>",
                            "<tr><td>2015</td><td>7</td><td>3240</td><td>Burnham Harbor</td><td>Customer</td><td>9</td></tr>",
                            "<tr><td>2015</td><td>7</td><td>3084</td><td>Adler Planetarium</td><td>Customer</td><td>10</td></tr>",
                            "<tr><td>2015</td><td>8</td><td>10742</td><td>Streeter Dr &amp; Illinois St</td><td>Customer</td><td>1</td></tr>",
                            "<tr><td>2015</td><td>8</td><td>7046</td><td>Lake Shore Dr &amp; Monroe St</td><td>Customer</td><td>2</td></tr>",
                            "<tr><td>2015</td><td>8</td><td>5938</td><td>Lake Shore Dr &amp; North Blvd</td><td>Customer</td><td>3</td></tr>",
                            "<tr><td>2015</td><td>8</td><td>5403</td><td>Theater on the Lake</td><td>Customer</td><td>4</td></tr>",
                            "<tr><td>2015</td><td>8</td><td>5362</td><td>Michigan Ave &amp; Oak St</td><td>Customer</td><td>5</td></tr>",
                            "<tr><td>2015</td><td>8</td><td>4433</td><td>Millennium Park</td><td>Customer</td><td>6</td></tr>",
                            "<tr><td>2015</td><td>8</td><td>3849</td><td>Shedd Aquarium</td><td>Customer</td><td>7</td></tr>",
                            "<tr><td>2015</td><td>8</td><td>2693</td><td>Adler Planetarium</td><td>Customer</td><td>8</td></tr>",
                            "<tr><td>2015</td><td>8</td><td>2508</td><td>Dusable Harbor</td><td>Customer</td><td>9</td></tr>",
                            "<tr><td>2015</td><td>8</td><td>2365</td><td>Burnham Harbor</td><td>Customer</td><td>10</td></tr>",
                            "<tr><td>2015</td><td>9</td><td>7988</td><td>Streeter Dr &amp; Illinois St</td><td>Customer</td><td>1</td></tr>",
                            "<tr><td>2015</td><td>9</td><td>5173</td><td>Lake Shore Dr &amp; Monroe St</td><td>Customer</td><td>2</td></tr>",
                            "<tr><td>2015</td><td>9</td><td>3851</td><td>Millennium Park</td><td>Customer</td><td>3</td></tr>",
                            "<tr><td>2015</td><td>9</td><td>3811</td><td>Theater on the Lake</td><td>Customer</td><td>4</td></tr>",
                            "<tr><td>2015</td><td>9</td><td>3697</td><td>Lake Shore Dr &amp; North Blvd</td><td>Customer</td><td>5</td></tr>",
                            "<tr><td>2015</td><td>9</td><td>3322</td><td>Michigan Ave &amp; Oak St</td><td>Customer</td><td>6</td></tr>",
                            "<tr><td>2015</td><td>9</td><td>3081</td><td>Shedd Aquarium</td><td>Customer</td><td>7</td></tr>",
                            "<tr><td>2015</td><td>9</td><td>2582</td><td>Adler Planetarium</td><td>Customer</td><td>8</td></tr>",
                            "<tr><td>2015</td><td>9</td><td>2515</td><td>Buckingham Fountain</td><td>Customer</td><td>9</td></tr>",
                            "<tr><td>2015</td><td>9</td><td>1848</td><td>Dusable Harbor</td><td>Customer</td><td>10</td></tr>",
                            "<tr><td>2015</td><td>10</td><td>3689</td><td>Streeter Dr &amp; Illinois St</td><td>Customer</td><td>1</td></tr>",
                            "<tr><td>2015</td><td>10</td><td>2869</td><td>Lake Shore Dr &amp; Monroe St</td><td>Customer</td><td>2</td></tr>",
                            "<tr><td>2015</td><td>10</td><td>1881</td><td>Millennium Park</td><td>Customer</td><td>3</td></tr>",
                            "<tr><td>2015</td><td>10</td><td>1723</td><td>Shedd Aquarium</td><td>Customer</td><td>4</td></tr>",
                            "<tr><td>2015</td><td>10</td><td>1502</td><td>Adler Planetarium</td><td>Customer</td><td>5</td></tr>",
                            "<tr><td>2015</td><td>10</td><td>1467</td><td>Michigan Ave &amp; Oak St</td><td>Customer</td><td>6</td></tr>",
                            "<tr><td>2015</td><td>10</td><td>1399</td><td>Theater on the Lake</td><td>Customer</td><td>7</td></tr>",
                            "<tr><td>2015</td><td>10</td><td>1316</td><td>Lake Shore Dr &amp; North Blvd</td><td>Customer</td><td>8</td></tr>",
                            "<tr><td>2015</td><td>10</td><td>956</td><td>Dusable Harbor</td><td>Customer</td><td>9</td></tr>",
                            "<tr><td>2015</td><td>10</td><td>920</td><td>Museum Campus</td><td>Customer</td><td>10</td></tr>",
                            "<tr><td>2015</td><td>11</td><td>1645</td><td>Streeter Dr &amp; Illinois St</td><td>Customer</td><td>1</td></tr>",
                            "<tr><td>2015</td><td>11</td><td>1240</td><td>Lake Shore Dr &amp; Monroe St</td><td>Customer</td><td>2</td></tr>",
                            "<tr><td>2015</td><td>11</td><td>871</td><td>Shedd Aquarium</td><td>Customer</td><td>3</td></tr>",
                            "<tr><td>2015</td><td>11</td><td>847</td><td>Millennium Park</td><td>Customer</td><td>4</td></tr>",
                            "<tr><td>2015</td><td>11</td><td>656</td><td>Adler Planetarium</td><td>Customer</td><td>5</td></tr>",
                            "<tr><td>2015</td><td>11</td><td>590</td><td>Michigan Ave &amp; Oak St</td><td>Customer</td><td>6</td></tr>",
                            "<tr><td>2015</td><td>11</td><td>562</td><td>Theater on the Lake</td><td>Customer</td><td>7</td></tr>",
                            "<tr><td>2015</td><td>11</td><td>540</td><td>Lake Shore Dr &amp; North Blvd</td><td>Customer</td><td>8</td></tr>",
                            "<tr><td>2015</td><td>11</td><td>494</td><td>Burnham Harbor</td><td>Customer</td><td>9</td></tr>",
                            "<tr><td>2015</td><td>11</td><td>379</td><td>Museum Campus</td><td>Customer</td><td>10</td></tr>",
                            "<tr><td>2015</td><td>12</td><td>352</td><td>Lake Shore Dr &amp; Monroe St</td><td>Customer</td><td>1</td></tr>",
                            "<tr><td>2015</td><td>12</td><td>345</td><td>Streeter Dr &amp; Illinois St</td><td>Customer</td><td>2</td></tr>",
                            "<tr><td>2015</td><td>12</td><td>268</td><td>Shedd Aquarium</td><td>Customer</td><td>3</td></tr>",
                            "<tr><td>2015</td><td>12</td><td>250</td><td>Millennium Park</td><td>Customer</td><td>4</td></tr>",
                            "<tr><td>2015</td><td>12</td><td>153</td><td>Adler Planetarium</td><td>Customer</td><td>5</td></tr>",
                            "<tr><td>2015</td><td>12</td><td>144</td><td>Museum Campus</td><td>Customer</td><td>6</td></tr>",
                            "<tr><td>2015</td><td>12</td><td>134</td><td>Michigan Ave &amp; Washington St</td><td>Customer</td><td>7</td></tr>",
                            "<tr><td>2015</td><td>12</td><td>127</td><td>Buckingham Fountain</td><td>Customer</td><td>8</td></tr>",
                            "<tr><td>2015</td><td>12</td><td>124</td><td>Lake Shore Dr &amp; North Blvd</td><td>Customer</td><td>9</td></tr>",
                            "<tr><td>2015</td><td>12</td><td>121</td><td>Indiana Ave &amp; Roosevelt Rd</td><td>Customer</td><td>10</td></tr>",
                            "<tr><td>2016</td><td>1</td><td>182</td><td>Streeter Dr &amp; Grand Ave</td><td>Customer</td><td>1</td></tr>",
                            "<tr><td>2016</td><td>1</td><td>165</td><td>Lake Shore Dr &amp; Monroe St</td><td>Customer</td><td>2</td></tr>",
                            "<tr><td>2016</td><td>1</td><td>120</td><td>Shedd Aquarium</td><td>Customer</td><td>3</td></tr>",
                            "<tr><td>2016</td><td>1</td><td>87</td><td>Millennium Park</td><td>Customer</td><td>4</td></tr>",
                            "<tr><td>2016</td><td>1</td><td>86</td><td>Adler Planetarium</td><td>Customer</td><td>5</td></tr>",
                            "<tr><td>2016</td><td>1</td><td>85</td><td>Michigan Ave &amp; Oak St</td><td>Customer</td><td>6</td></tr>",
                            "<tr><td>2016</td><td>1</td><td>71</td><td>Michigan Ave &amp; Washington St</td><td>Customer</td><td>7</td></tr>",
                            "<tr><td>2016</td><td>1</td><td>60</td><td>Museum Campus</td><td>Customer</td><td>8</td></tr>",
                            "<tr><td>2016</td><td>1</td><td>55</td><td>Michigan Ave &amp; Pearson St</td><td>Customer</td><td>9</td></tr>",
                            "<tr><td>2016</td><td>1</td><td>51</td><td>Lake Shore Dr &amp; North Blvd</td><td>Customer</td><td>10</td></tr>",
                            "<tr><td>2016</td><td>2</td><td>809</td><td>Streeter Dr &amp; Grand Ave</td><td>Customer</td><td>1</td></tr>",
                            "<tr><td>2016</td><td>2</td><td>640</td><td>Lake Shore Dr &amp; Monroe St</td><td>Customer</td><td>2</td></tr>",
                            "<tr><td>2016</td><td>2</td><td>381</td><td>Millennium Park</td><td>Customer</td><td>3</td></tr>",
                            "<tr><td>2016</td><td>2</td><td>358</td><td>Shedd Aquarium</td><td>Customer</td><td>4</td></tr>",
                            "<tr><td>2016</td><td>2</td><td>262</td><td>Michigan Ave &amp; Oak St</td><td>Customer</td><td>5</td></tr>",
                            "<tr><td>2016</td><td>2</td><td>250</td><td>Lake Shore Dr &amp; North Blvd</td><td>Customer</td><td>6</td></tr>",
                            "<tr><td>2016</td><td>2</td><td>220</td><td>Adler Planetarium</td><td>Customer</td><td>7</td></tr>",
                            "<tr><td>2016</td><td>2</td><td>207</td><td>Theater on the Lake</td><td>Customer</td><td>8</td></tr>",
                            "<tr><td>2016</td><td>2</td><td>192</td><td>Burnham Harbor</td><td>Customer</td><td>9</td></tr>",
                            "<tr><td>2016</td><td>2</td><td>183</td><td>Museum Campus</td><td>Customer</td><td>10</td></tr>",
                            "<tr><td>2016</td><td>3</td><td>2020</td><td>Streeter Dr &amp; Grand Ave</td><td>Customer</td><td>1</td></tr>",
                            "<tr><td>2016</td><td>3</td><td>1528</td><td>Lake Shore Dr &amp; Monroe St</td><td>Customer</td><td>2</td></tr>",
                            "<tr><td>2016</td><td>3</td><td>1104</td><td>Shedd Aquarium</td><td>Customer</td><td>3</td></tr>",
                            "<tr><td>2016</td><td>3</td><td>775</td><td>Millennium Park</td><td>Customer</td><td>4</td></tr>",
                            "<tr><td>2016</td><td>3</td><td>654</td><td>Dusable Harbor</td><td>Customer</td><td>5</td></tr>",
                            "<tr><td>2016</td><td>3</td><td>633</td><td>Michigan Ave &amp; Oak St</td><td>Customer</td><td>6</td></tr>",
                            "<tr><td>2016</td><td>3</td><td>619</td><td>Adler Planetarium</td><td>Customer</td><td>7</td></tr>",
                            "<tr><td>2016</td><td>3</td><td>538</td><td>Lake Shore Dr &amp; North Blvd</td><td>Customer</td><td>8</td></tr>",
                            "<tr><td>2016</td><td>3</td><td>504</td><td>Museum Campus</td><td>Customer</td><td>9</td></tr>",
                            "<tr><td>2016</td><td>3</td><td>479</td><td>Theater on the Lake</td><td>Customer</td><td>10</td></tr>",
                            "<tr><td>2016</td><td>4</td><td>2942</td><td>Streeter Dr &amp; Grand Ave</td><td>Customer</td><td>1</td></tr>",
                            "<tr><td>2016</td><td>4</td><td>2591</td><td>Lake Shore Dr &amp; Monroe St</td><td>Customer</td><td>2</td></tr>",
                            "<tr><td>2016</td><td>4</td><td>1489</td><td>Lake Shore Dr &amp; North Blvd</td><td>Customer</td><td>3</td></tr>",
                            "<tr><td>2016</td><td>4</td><td>1451</td><td>Shedd Aquarium</td><td>Customer</td><td>4</td></tr>",
                            "<tr><td>2016</td><td>4</td><td>1392</td><td>Millennium Park</td><td>Customer</td><td>5</td></tr>",
                            "<tr><td>2016</td><td>4</td><td>1387</td><td>Theater on the Lake</td><td>Customer</td><td>6</td></tr>",
                            "<tr><td>2016</td><td>4</td><td>1260</td><td>Michigan Ave &amp; Oak St</td><td>Customer</td><td>7</td></tr>",
                            "<tr><td>2016</td><td>4</td><td>962</td><td>Adler Planetarium</td><td>Customer</td><td>8</td></tr>",
                            "<tr><td>2016</td><td>4</td><td>948</td><td>Dusable Harbor</td><td>Customer</td><td>9</td></tr>",
                            "<tr><td>2016</td><td>4</td><td>840</td><td>Burnham Harbor</td><td>Customer</td><td>10</td></tr>",
                            "<tr><td>2016</td><td>5</td><td>7635</td><td>Streeter Dr &amp; Grand Ave</td><td>Customer</td><td>1</td></tr>",
                            "<tr><td>2016</td><td>5</td><td>4775</td><td>Lake Shore Dr &amp; Monroe St</td><td>Customer</td><td>2</td></tr>",
                            "<tr><td>2016</td><td>5</td><td>3585</td><td>Lake Shore Dr &amp; North Blvd</td><td>Customer</td><td>3</td></tr>",
                            "<tr><td>2016</td><td>5</td><td>3433</td><td>Theater on the Lake</td><td>Customer</td><td>4</td></tr>",
                            "<tr><td>2016</td><td>5</td><td>3018</td><td>Millennium Park</td><td>Customer</td><td>5</td></tr>",
                            "<tr><td>2016</td><td>5</td><td>2805</td><td>Michigan Ave &amp; Oak St</td><td>Customer</td><td>6</td></tr>",
                            "<tr><td>2016</td><td>5</td><td>2610</td><td>Shedd Aquarium</td><td>Customer</td><td>7</td></tr>",
                            "<tr><td>2016</td><td>5</td><td>1986</td><td>Michigan Ave &amp; Balbo Ave</td><td>Customer</td><td>8</td></tr>",
                            "<tr><td>2016</td><td>5</td><td>1820</td><td>Adler Planetarium</td><td>Customer</td><td>9</td></tr>",
                            "<tr><td>2016</td><td>5</td><td>1559</td><td>Dusable Harbor</td><td>Customer</td><td>10</td></tr>",
                            "<tr><td>2016</td><td>6</td><td>10393</td><td>Streeter Dr &amp; Grand Ave</td><td>Customer</td><td>1</td></tr>",
                            "<tr><td>2016</td><td>6</td><td>4853</td><td>Lake Shore Dr &amp; Monroe St</td><td>Customer</td><td>2</td></tr>",
                            "<tr><td>2016</td><td>6</td><td>4535</td><td>Lake Shore Dr &amp; North Blvd</td><td>Customer</td><td>3</td></tr>",
                            "<tr><td>2016</td><td>6</td><td>3925</td><td>Millennium Park</td><td>Customer</td><td>4</td></tr>",
                            "<tr><td>2016</td><td>6</td><td>3652</td><td>Michigan Ave &amp; Oak St</td><td>Customer</td><td>5</td></tr>",
                            "<tr><td>2016</td><td>6</td><td>3625</td><td>Theater on the Lake</td><td>Customer</td><td>6</td></tr>",
                            "<tr><td>2016</td><td>6</td><td>2958</td><td>Shedd Aquarium</td><td>Customer</td><td>7</td></tr>",
                            "<tr><td>2016</td><td>6</td><td>2299</td><td>Dusable Harbor</td><td>Customer</td><td>8</td></tr>",
                            "<tr><td>2016</td><td>6</td><td>2294</td><td>Michigan Ave &amp; Balbo Ave</td><td>Customer</td><td>9</td></tr>",
                            "<tr><td>2016</td><td>6</td><td>2277</td><td>Adler Planetarium</td><td>Customer</td><td>10</td></tr>",
                            "<tr><td>2016</td><td>7</td><td>14105</td><td>Streeter Dr &amp; Grand Ave</td><td>Customer</td><td>1</td></tr>",
                            "<tr><td>2016</td><td>7</td><td>8047</td><td>Lake Shore Dr &amp; Monroe St</td><td>Customer</td><td>2</td></tr>",
                            "<tr><td>2016</td><td>7</td><td>6338</td><td>Lake Shore Dr &amp; North Blvd</td><td>Customer</td><td>3</td></tr>",
                            "<tr><td>2016</td><td>7</td><td>5662</td><td>Theater on the Lake</td><td>Customer</td><td>4</td></tr>",
                            "<tr><td>2016</td><td>7</td><td>4982</td><td>Michigan Ave &amp; Oak St</td><td>Customer</td><td>5</td></tr>",
                            "<tr><td>2016</td><td>7</td><td>4740</td><td>Millennium Park</td><td>Customer</td><td>6</td></tr>",
                            "<tr><td>2016</td><td>7</td><td>4165</td><td>Shedd Aquarium</td><td>Customer</td><td>7</td></tr>",
                            "<tr><td>2016</td><td>7</td><td>3099</td><td>Dusable Harbor</td><td>Customer</td><td>8</td></tr>",
                            "<tr><td>2016</td><td>7</td><td>2891</td><td>Adler Planetarium</td><td>Customer</td><td>9</td></tr>",
                            "<tr><td>2016</td><td>7</td><td>2585</td><td>Burnham Harbor</td><td>Customer</td><td>10</td></tr>",
                            "<tr><td>2016</td><td>8</td><td>12486</td><td>Streeter Dr &amp; Grand Ave</td><td>Customer</td><td>1</td></tr>",
                            "<tr><td>2016</td><td>8</td><td>5790</td><td>Lake Shore Dr &amp; Monroe St</td><td>Customer</td><td>2</td></tr>",
                            "<tr><td>2016</td><td>8</td><td>4811</td><td>Lake Shore Dr &amp; North Blvd</td><td>Customer</td><td>3</td></tr>",
                            "<tr><td>2016</td><td>8</td><td>4472</td><td>Theater on the Lake</td><td>Customer</td><td>4</td></tr>",
                            "<tr><td>2016</td><td>8</td><td>4375</td><td>Millennium Park</td><td>Customer</td><td>5</td></tr>",
                            "<tr><td>2016</td><td>8</td><td>4047</td><td>Michigan Ave &amp; Oak St</td><td>Customer</td><td>6</td></tr>",
                            "<tr><td>2016</td><td>8</td><td>3500</td><td>Shedd Aquarium</td><td>Customer</td><td>7</td></tr>",
                            "<tr><td>2016</td><td>8</td><td>2702</td><td>Adler Planetarium</td><td>Customer</td><td>8</td></tr>",
                            "<tr><td>2016</td><td>8</td><td>2524</td><td>Dusable Harbor</td><td>Customer</td><td>9</td></tr>",
                            "<tr><td>2016</td><td>8</td><td>1913</td><td>Indiana Ave &amp; Roosevelt Rd</td><td>Customer</td><td>10</td></tr>",
                            "<tr><td>2016</td><td>9</td><td>10914</td><td>Streeter Dr &amp; Grand Ave</td><td>Customer</td><td>1</td></tr>",
                            "<tr><td>2016</td><td>9</td><td>6089</td><td>Lake Shore Dr &amp; Monroe St</td><td>Customer</td><td>2</td></tr>",
                            "<tr><td>2016</td><td>9</td><td>3935</td><td>Theater on the Lake</td><td>Customer</td><td>3</td></tr>",
                            "<tr><td>2016</td><td>9</td><td>3749</td><td>Millennium Park</td><td>Customer</td><td>4</td></tr>",
                            "<tr><td>2016</td><td>9</td><td>3659</td><td>Lake Shore Dr &amp; North Blvd</td><td>Customer</td><td>5</td></tr>",
                            "<tr><td>2016</td><td>9</td><td>3380</td><td>Shedd Aquarium</td><td>Customer</td><td>6</td></tr>",
                            "<tr><td>2016</td><td>9</td><td>3146</td><td>Michigan Ave &amp; Oak St</td><td>Customer</td><td>7</td></tr>",
                            "<tr><td>2016</td><td>9</td><td>2486</td><td>Adler Planetarium</td><td>Customer</td><td>8</td></tr>",
                            "<tr><td>2016</td><td>9</td><td>2092</td><td>Dusable Harbor</td><td>Customer</td><td>9</td></tr>",
                            "<tr><td>2016</td><td>9</td><td>1760</td><td>Burnham Harbor</td><td>Customer</td><td>10</td></tr>",
                            "<tr><td>2016</td><td>10</td><td>6345</td><td>Streeter Dr &amp; Grand Ave</td><td>Customer</td><td>1</td></tr>",
                            "<tr><td>2016</td><td>10</td><td>4095</td><td>Lake Shore Dr &amp; Monroe St</td><td>Customer</td><td>2</td></tr>",
                            "<tr><td>2016</td><td>10</td><td>2277</td><td>Shedd Aquarium</td><td>Customer</td><td>3</td></tr>",
                            "<tr><td>2016</td><td>10</td><td>2195</td><td>Millennium Park</td><td>Customer</td><td>4</td></tr>",
                            "<tr><td>2016</td><td>10</td><td>2015</td><td>Theater on the Lake</td><td>Customer</td><td>5</td></tr>",
                            "<tr><td>2016</td><td>10</td><td>1675</td><td>Michigan Ave &amp; Oak St</td><td>Customer</td><td>6</td></tr>",
                            "<tr><td>2016</td><td>10</td><td>1644</td><td>Lake Shore Dr &amp; North Blvd</td><td>Customer</td><td>7</td></tr>",
                            "<tr><td>2016</td><td>10</td><td>1490</td><td>Adler Planetarium</td><td>Customer</td><td>8</td></tr>",
                            "<tr><td>2016</td><td>10</td><td>1331</td><td>Dusable Harbor</td><td>Customer</td><td>9</td></tr>",
                            "<tr><td>2016</td><td>10</td><td>1181</td><td>Field Museum</td><td>Customer</td><td>10</td></tr>",
                            "<tr><td>2016</td><td>11</td><td>2816</td><td>Streeter Dr &amp; Grand Ave</td><td>Customer</td><td>1</td></tr>",
                            "<tr><td>2016</td><td>11</td><td>1673</td><td>Lake Shore Dr &amp; Monroe St</td><td>Customer</td><td>2</td></tr>",
                            "<tr><td>2016</td><td>11</td><td>1085</td><td>Shedd Aquarium</td><td>Customer</td><td>3</td></tr>",
                            "<tr><td>2016</td><td>11</td><td>1011</td><td>Millennium Park</td><td>Customer</td><td>4</td></tr>",
                            "<tr><td>2016</td><td>11</td><td>903</td><td>Theater on the Lake</td><td>Customer</td><td>5</td></tr>",
                            "<tr><td>2016</td><td>11</td><td>761</td><td>Lake Shore Dr &amp; North Blvd</td><td>Customer</td><td>6</td></tr>",
                            "<tr><td>2016</td><td>11</td><td>681</td><td>Dusable Harbor</td><td>Customer</td><td>7</td></tr>",
                            "<tr><td>2016</td><td>11</td><td>680</td><td>Adler Planetarium</td><td>Customer</td><td>8</td></tr>",
                            "<tr><td>2016</td><td>11</td><td>630</td><td>Michigan Ave &amp; Oak St</td><td>Customer</td><td>9</td></tr>",
                            "<tr><td>2016</td><td>11</td><td>559</td><td>Burnham Harbor</td><td>Customer</td><td>10</td></tr>",
                            "<tr><td>2016</td><td>12</td><td>265</td><td>Streeter Dr &amp; Grand Ave</td><td>Customer</td><td>1</td></tr>",
                            "<tr><td>2016</td><td>12</td><td>219</td><td>Lake Shore Dr &amp; Monroe St</td><td>Customer</td><td>2</td></tr>",
                            "<tr><td>2016</td><td>12</td><td>152</td><td>Shedd Aquarium</td><td>Customer</td><td>3</td></tr>",
                            "<tr><td>2016</td><td>12</td><td>112</td><td>Millennium Park</td><td>Customer</td><td>4</td></tr>",
                            "<tr><td>2016</td><td>12</td><td>71</td><td>Dusable Harbor</td><td>Customer</td><td>5</td></tr>",
                            "<tr><td>2016</td><td>12</td><td>66</td><td>Adler Planetarium</td><td>Customer</td><td>6</td></tr>",
                            "<tr><td>2016</td><td>12</td><td>59</td><td>Michigan Ave &amp; Washington St</td><td>Customer</td><td>7</td></tr>",
                            "<tr><td>2016</td><td>12</td><td>59</td><td>Field Museum</td><td>Customer</td><td>7</td></tr>",
                            "<tr><td>2016</td><td>12</td><td>56</td><td>Michigan Ave &amp; Oak St</td><td>Customer</td><td>8</td></tr>",
                            "<tr><td>2016</td><td>12</td><td>55</td><td>Indiana Ave &amp; Roosevelt Rd</td><td>Customer</td><td>9</td></tr>",
                            "<tr><td>2016</td><td>12</td><td>52</td><td>Theater on the Lake</td><td>Customer</td><td>10</td></tr>",
                            "<tr><td>2017</td><td>1</td><td>339</td><td>Streeter Dr &amp; Grand Ave</td><td>Customer</td><td>1</td></tr>",
                            "<tr><td>2017</td><td>1</td><td>271</td><td>Lake Shore Dr &amp; Monroe St</td><td>Customer</td><td>2</td></tr>",
                            "<tr><td>2017</td><td>1</td><td>163</td><td>Millennium Park</td><td>Customer</td><td>3</td></tr>",
                            "<tr><td>2017</td><td>1</td><td>154</td><td>Shedd Aquarium</td><td>Customer</td><td>4</td></tr>",
                            "<tr><td>2017</td><td>1</td><td>135</td><td>Theater on the Lake</td><td>Customer</td><td>5</td></tr>",
                            "<tr><td>2017</td><td>1</td><td>117</td><td>Michigan Ave &amp; Washington St</td><td>Customer</td><td>6</td></tr>",
                            "<tr><td>2017</td><td>1</td><td>116</td><td>Lake Shore Dr &amp; North Blvd</td><td>Customer</td><td>7</td></tr>",
                            "<tr><td>2017</td><td>1</td><td>103</td><td>Michigan Ave &amp; Oak St</td><td>Customer</td><td>8</td></tr>",
                            "<tr><td>2017</td><td>1</td><td>87</td><td>Adler Planetarium</td><td>Customer</td><td>9</td></tr>",
                            "<tr><td>2017</td><td>1</td><td>80</td><td>Dusable Harbor</td><td>Customer</td><td>10</td></tr>",
                            "<tr><td>2017</td><td>2</td><td>1940</td><td>Streeter Dr &amp; Grand Ave</td><td>Customer</td><td>1</td></tr>",
                            "<tr><td>2017</td><td>2</td><td>1232</td><td>Lake Shore Dr &amp; Monroe St</td><td>Customer</td><td>2</td></tr>",
                            "<tr><td>2017</td><td>2</td><td>794</td><td>Theater on the Lake</td><td>Customer</td><td>3</td></tr>",
                            "<tr><td>2017</td><td>2</td><td>772</td><td>Shedd Aquarium</td><td>Customer</td><td>4</td></tr>",
                            "<tr><td>2017</td><td>2</td><td>701</td><td>Millennium Park</td><td>Customer</td><td>5</td></tr>",
                            "<tr><td>2017</td><td>2</td><td>544</td><td>Michigan Ave &amp; Oak St</td><td>Customer</td><td>6</td></tr>",
                            "<tr><td>2017</td><td>2</td><td>542</td><td>Lake Shore Dr &amp; North Blvd</td><td>Customer</td><td>7</td></tr>",
                            "<tr><td>2017</td><td>2</td><td>513</td><td>Adler Planetarium</td><td>Customer</td><td>8</td></tr>",
                            "<tr><td>2017</td><td>2</td><td>449</td><td>Dusable Harbor</td><td>Customer</td><td>9</td></tr>",
                            "<tr><td>2017</td><td>2</td><td>415</td><td>Burnham Harbor</td><td>Customer</td><td>10</td></tr>",
                            "<tr><td>2017</td><td>3</td><td>1141</td><td>Streeter Dr &amp; Grand Ave</td><td>Customer</td><td>1</td></tr>",
                            "<tr><td>2017</td><td>3</td><td>843</td><td>Lake Shore Dr &amp; Monroe St</td><td>Customer</td><td>2</td></tr>",
                            "<tr><td>2017</td><td>3</td><td>556</td><td>Shedd Aquarium</td><td>Customer</td><td>3</td></tr>",
                            "<tr><td>2017</td><td>3</td><td>365</td><td>Millennium Park</td><td>Customer</td><td>4</td></tr>",
                            "<tr><td>2017</td><td>3</td><td>322</td><td>Theater on the Lake</td><td>Customer</td><td>5</td></tr>",
                            "<tr><td>2017</td><td>3</td><td>298</td><td>Dusable Harbor</td><td>Customer</td><td>6</td></tr>",
                            "<tr><td>2017</td><td>3</td><td>298</td><td>Lake Shore Dr &amp; North Blvd</td><td>Customer</td><td>6</td></tr>",
                            "<tr><td>2017</td><td>3</td><td>279</td><td>Adler Planetarium</td><td>Customer</td><td>7</td></tr>",
                            "<tr><td>2017</td><td>3</td><td>268</td><td>Michigan Ave &amp; Oak St</td><td>Customer</td><td>8</td></tr>",
                            "<tr><td>2017</td><td>3</td><td>164</td><td>Michigan Ave &amp; Washington St</td><td>Customer</td><td>9</td></tr>",
                            "<tr><td>2017</td><td>3</td><td>156</td><td>Michigan Ave &amp; Jackson Blvd</td><td>Customer</td><td>10</td></tr>",
                            "<tr><td>2017</td><td>4</td><td>5501</td><td>Streeter Dr &amp; Grand Ave</td><td>Customer</td><td>1</td></tr>",
                            "<tr><td>2017</td><td>4</td><td>3455</td><td>Lake Shore Dr &amp; Monroe St</td><td>Customer</td><td>2</td></tr>",
                            "<tr><td>2017</td><td>4</td><td>1995</td><td>Shedd Aquarium</td><td>Customer</td><td>3</td></tr>",
                            "<tr><td>2017</td><td>4</td><td>1751</td><td>Lake Shore Dr &amp; North Blvd</td><td>Customer</td><td>4</td></tr>",
                            "<tr><td>2017</td><td>4</td><td>1737</td><td>Millennium Park</td><td>Customer</td><td>5</td></tr>",
                            "<tr><td>2017</td><td>4</td><td>1628</td><td>Theater on the Lake</td><td>Customer</td><td>6</td></tr>",
                            "<tr><td>2017</td><td>4</td><td>1530</td><td>Michigan Ave &amp; Oak St</td><td>Customer</td><td>7</td></tr>",
                            "<tr><td>2017</td><td>4</td><td>1245</td><td>Adler Planetarium</td><td>Customer</td><td>8</td></tr>",
                            "<tr><td>2017</td><td>4</td><td>1179</td><td>Burnham Harbor</td><td>Customer</td><td>9</td></tr>",
                            "<tr><td>2017</td><td>4</td><td>1038</td><td>Dusable Harbor</td><td>Customer</td><td>10</td></tr>",
                            "<tr><td>2017</td><td>5</td><td>7259</td><td>Streeter Dr &amp; Grand Ave</td><td>Customer</td><td>1</td></tr>",
                            "<tr><td>2017</td><td>5</td><td>4854</td><td>Lake Shore Dr &amp; Monroe St</td><td>Customer</td><td>2</td></tr>",
                            "<tr><td>2017</td><td>5</td><td>2683</td><td>Lake Shore Dr &amp; North Blvd</td><td>Customer</td><td>3</td></tr>",
                            "<tr><td>2017</td><td>5</td><td>2496</td><td>Shedd Aquarium</td><td>Customer</td><td>4</td></tr>",
                            "<tr><td>2017</td><td>5</td><td>2433</td><td>Theater on the Lake</td><td>Customer</td><td>5</td></tr>",
                            "<tr><td>2017</td><td>5</td><td>2409</td><td>Millennium Park</td><td>Customer</td><td>6</td></tr>",
                            "<tr><td>2017</td><td>5</td><td>2072</td><td>Michigan Ave &amp; Oak St</td><td>Customer</td><td>7</td></tr>",
                            "<tr><td>2017</td><td>5</td><td>1811</td><td>Dusable Harbor</td><td>Customer</td><td>8</td></tr>",
                            "<tr><td>2017</td><td>5</td><td>1769</td><td>Adler Planetarium</td><td>Customer</td><td>9</td></tr>",
                            "<tr><td>2017</td><td>5</td><td>1382</td><td>Burnham Harbor</td><td>Customer</td><td>10</td></tr>",
                            "<tr><td>2017</td><td>6</td><td>12286</td><td>Streeter Dr &amp; Grand Ave</td><td>Customer</td><td>1</td></tr>",
                            "<tr><td>2017</td><td>6</td><td>6411</td><td>Lake Shore Dr &amp; Monroe St</td><td>Customer</td><td>2</td></tr>",
                            "<tr><td>2017</td><td>6</td><td>4765</td><td>Lake Shore Dr &amp; North Blvd</td><td>Customer</td><td>3</td></tr>",
                            "<tr><td>2017</td><td>6</td><td>3966</td><td>Millennium Park</td><td>Customer</td><td>4</td></tr>",
                            "<tr><td>2017</td><td>6</td><td>3721</td><td>Michigan Ave &amp; Oak St</td><td>Customer</td><td>5</td></tr>",
                            "<tr><td>2017</td><td>6</td><td>3669</td><td>Theater on the Lake</td><td>Customer</td><td>6</td></tr>",
                            "<tr><td>2017</td><td>6</td><td>3553</td><td>Shedd Aquarium</td><td>Customer</td><td>7</td></tr>",
                            "<tr><td>2017</td><td>6</td><td>2829</td><td>Dusable Harbor</td><td>Customer</td><td>8</td></tr>",
                            "<tr><td>2017</td><td>6</td><td>2621</td><td>Adler Planetarium</td><td>Customer</td><td>9</td></tr>",
                            "<tr><td>2017</td><td>6</td><td>2267</td><td>Burnham Harbor</td><td>Customer</td><td>10</td></tr>",
                            "<tr><td>2017</td><td>7</td><td>17035</td><td>Streeter Dr &amp; Grand Ave</td><td>Customer</td><td>1</td></tr>",
                            "<tr><td>2017</td><td>7</td><td>9022</td><td>Lake Shore Dr &amp; Monroe St</td><td>Customer</td><td>2</td></tr>",
                            "<tr><td>2017</td><td>7</td><td>6937</td><td>Lake Shore Dr &amp; North Blvd</td><td>Customer</td><td>3</td></tr>",
                            "<tr><td>2017</td><td>7</td><td>6317</td><td>Theater on the Lake</td><td>Customer</td><td>4</td></tr>",
                            "<tr><td>2017</td><td>7</td><td>5661</td><td>Michigan Ave &amp; Oak St</td><td>Customer</td><td>5</td></tr>",
                            "<tr><td>2017</td><td>7</td><td>5043</td><td>Shedd Aquarium</td><td>Customer</td><td>6</td></tr>",
                            "<tr><td>2017</td><td>7</td><td>4330</td><td>Millennium Park</td><td>Customer</td><td>7</td></tr>",
                            "<tr><td>2017</td><td>7</td><td>3881</td><td>Adler Planetarium</td><td>Customer</td><td>8</td></tr>",
                            "<tr><td>2017</td><td>7</td><td>3708</td><td>Dusable Harbor</td><td>Customer</td><td>9</td></tr>",
                            "<tr><td>2017</td><td>7</td><td>3085</td><td>Burnham Harbor</td><td>Customer</td><td>10</td></tr>",
                            "<tr><td>2017</td><td>8</td><td>14479</td><td>Streeter Dr &amp; Grand Ave</td><td>Customer</td><td>1</td></tr>",
                            "<tr><td>2017</td><td>8</td><td>6536</td><td>Lake Shore Dr &amp; Monroe St</td><td>Customer</td><td>2</td></tr>",
                            "<tr><td>2017</td><td>8</td><td>5309</td><td>Lake Shore Dr &amp; North Blvd</td><td>Customer</td><td>3</td></tr>",
                            "<tr><td>2017</td><td>8</td><td>4892</td><td>Theater on the Lake</td><td>Customer</td><td>4</td></tr>",
                            "<tr><td>2017</td><td>8</td><td>4392</td><td>Michigan Ave &amp; Oak St</td><td>Customer</td><td>5</td></tr>",
                            "<tr><td>2017</td><td>8</td><td>4232</td><td>Shedd Aquarium</td><td>Customer</td><td>6</td></tr>",
                            "<tr><td>2017</td><td>8</td><td>4036</td><td>Millennium Park</td><td>Customer</td><td>7</td></tr>",
                            "<tr><td>2017</td><td>8</td><td>3242</td><td>Adler Planetarium</td><td>Customer</td><td>8</td></tr>",
                            "<tr><td>2017</td><td>8</td><td>3087</td><td>Dusable Harbor</td><td>Customer</td><td>9</td></tr>",
                            "<tr><td>2017</td><td>8</td><td>2114</td><td>Buckingham Fountain</td><td>Customer</td><td>10</td></tr>",
                            "<tr><td>2017</td><td>9</td><td>10690</td><td>Streeter Dr &amp; Grand Ave</td><td>Customer</td><td>1</td></tr>",
                            "<tr><td>2017</td><td>9</td><td>5393</td><td>Lake Shore Dr &amp; Monroe St</td><td>Customer</td><td>2</td></tr>",
                            "<tr><td>2017</td><td>9</td><td>3986</td><td>Theater on the Lake</td><td>Customer</td><td>3</td></tr>",
                            "<tr><td>2017</td><td>9</td><td>3888</td><td>Lake Shore Dr &amp; North Blvd</td><td>Customer</td><td>4</td></tr>",
                            "<tr><td>2017</td><td>9</td><td>3639</td><td>Shedd Aquarium</td><td>Customer</td><td>5</td></tr>",
                            "<tr><td>2017</td><td>9</td><td>3263</td><td>Millennium Park</td><td>Customer</td><td>6</td></tr>",
                            "<tr><td>2017</td><td>9</td><td>3085</td><td>Michigan Ave &amp; Oak St</td><td>Customer</td><td>7</td></tr>",
                            "<tr><td>2017</td><td>9</td><td>2566</td><td>Dusable Harbor</td><td>Customer</td><td>8</td></tr>",
                            "<tr><td>2017</td><td>9</td><td>2562</td><td>Adler Planetarium</td><td>Customer</td><td>9</td></tr>",
                            "<tr><td>2017</td><td>9</td><td>2119</td><td>Buckingham Fountain</td><td>Customer</td><td>10</td></tr>",
                            "<tr><td>2017</td><td>10</td><td>5197</td><td>Streeter Dr &amp; Grand Ave</td><td>Customer</td><td>1</td></tr>",
                            "<tr><td>2017</td><td>10</td><td>3143</td><td>Lake Shore Dr &amp; Monroe St</td><td>Customer</td><td>2</td></tr>",
                            "<tr><td>2017</td><td>10</td><td>1932</td><td>Shedd Aquarium</td><td>Customer</td><td>3</td></tr>",
                            "<tr><td>2017</td><td>10</td><td>1821</td><td>Theater on the Lake</td><td>Customer</td><td>4</td></tr>",
                            "<tr><td>2017</td><td>10</td><td>1809</td><td>Millennium Park</td><td>Customer</td><td>5</td></tr>",
                            "<tr><td>2017</td><td>10</td><td>1474</td><td>Lake Shore Dr &amp; North Blvd</td><td>Customer</td><td>6</td></tr>",
                            "<tr><td>2017</td><td>10</td><td>1463</td><td>Michigan Ave &amp; Oak St</td><td>Customer</td><td>7</td></tr>",
                            "<tr><td>2017</td><td>10</td><td>1333</td><td>Dusable Harbor</td><td>Customer</td><td>8</td></tr>",
                            "<tr><td>2017</td><td>10</td><td>1277</td><td>Adler Planetarium</td><td>Customer</td><td>9</td></tr>",
                            "<tr><td>2017</td><td>10</td><td>935</td><td>Burnham Harbor</td><td>Customer</td><td>10</td></tr>",
                            "<tr><td>2017</td><td>11</td><td>967</td><td>Streeter Dr &amp; Grand Ave</td><td>Customer</td><td>1</td></tr>",
                            "<tr><td>2017</td><td>11</td><td>631</td><td>Lake Shore Dr &amp; Monroe St</td><td>Customer</td><td>2</td></tr>",
                            "<tr><td>2017</td><td>11</td><td>603</td><td>Shedd Aquarium</td><td>Customer</td><td>3</td></tr>",
                            "<tr><td>2017</td><td>11</td><td>440</td><td>Millennium Park</td><td>Customer</td><td>4</td></tr>",
                            "<tr><td>2017</td><td>11</td><td>340</td><td>Adler Planetarium</td><td>Customer</td><td>5</td></tr>",
                            "<tr><td>2017</td><td>11</td><td>290</td><td>Dusable Harbor</td><td>Customer</td><td>6</td></tr>",
                            "<tr><td>2017</td><td>11</td><td>262</td><td>Theater on the Lake</td><td>Customer</td><td>7</td></tr>",
                            "<tr><td>2017</td><td>11</td><td>255</td><td>Burnham Harbor</td><td>Customer</td><td>8</td></tr>",
                            "<tr><td>2017</td><td>11</td><td>236</td><td>Field Museum</td><td>Customer</td><td>9</td></tr>",
                            "<tr><td>2017</td><td>11</td><td>203</td><td>Lake Shore Dr &amp; North Blvd</td><td>Customer</td><td>10</td></tr>",
                            "<tr><td>2017</td><td>12</td><td>529</td><td>Streeter Dr &amp; Grand Ave</td><td>Customer</td><td>1</td></tr>",
                            "<tr><td>2017</td><td>12</td><td>353</td><td>Lake Shore Dr &amp; Monroe St</td><td>Customer</td><td>2</td></tr>",
                            "<tr><td>2017</td><td>12</td><td>265</td><td>Shedd Aquarium</td><td>Customer</td><td>3</td></tr>",
                            "<tr><td>2017</td><td>12</td><td>237</td><td>Millennium Park</td><td>Customer</td><td>4</td></tr>",
                            "<tr><td>2017</td><td>12</td><td>168</td><td>Michigan Ave &amp; Oak St</td><td>Customer</td><td>5</td></tr>",
                            "<tr><td>2017</td><td>12</td><td>150</td><td>Dusable Harbor</td><td>Customer</td><td>6</td></tr>",
                            "<tr><td>2017</td><td>12</td><td>135</td><td>Theater on the Lake</td><td>Customer</td><td>7</td></tr>",
                            "<tr><td>2017</td><td>12</td><td>130</td><td>Lake Shore Dr &amp; North Blvd</td><td>Customer</td><td>8</td></tr>",
                            "<tr><td>2017</td><td>12</td><td>115</td><td>Michigan Ave &amp; Washington St</td><td>Customer</td><td>9</td></tr>",
                            "<tr><td>2017</td><td>12</td><td>111</td><td>Adler Planetarium</td><td>Customer</td><td>10</td></tr>",
                            "<tr><td>2018</td><td>1</td><td>201</td><td>Streeter Dr &amp; Grand Ave</td><td>Customer</td><td>1</td></tr>",
                            "<tr><td>2018</td><td>1</td><td>141</td><td>Shedd Aquarium</td><td>Customer</td><td>2</td></tr>",
                            "<tr><td>2018</td><td>1</td><td>137</td><td>Lake Shore Dr &amp; Monroe St</td><td>Customer</td><td>3</td></tr>",
                            "<tr><td>2018</td><td>1</td><td>78</td><td>Adler Planetarium</td><td>Customer</td><td>4</td></tr>",
                            "<tr><td>2018</td><td>1</td><td>73</td><td>Millennium Park</td><td>Customer</td><td>5</td></tr>",
                            "<tr><td>2018</td><td>1</td><td>66</td><td>Theater on the Lake</td><td>Customer</td><td>6</td></tr>",
                            "<tr><td>2018</td><td>1</td><td>65</td><td>Buckingham Fountain</td><td>Customer</td><td>7</td></tr>",
                            "<tr><td>2018</td><td>1</td><td>62</td><td>Dusable Harbor</td><td>Customer</td><td>8</td></tr>",
                            "<tr><td>2018</td><td>1</td><td>52</td><td>Field Museum</td><td>Customer</td><td>9</td></tr>",
                            "<tr><td>2018</td><td>1</td><td>48</td><td>Michigan Ave &amp; Washington St</td><td>Customer</td><td>10</td></tr>",
                            "<tr><td>2018</td><td>2</td><td>223</td><td>Streeter Dr &amp; Grand Ave</td><td>Customer</td><td>1</td></tr>",
                            "<tr><td>2018</td><td>2</td><td>214</td><td>Lake Shore Dr &amp; Monroe St</td><td>Customer</td><td>2</td></tr>",
                            "<tr><td>2018</td><td>2</td><td>164</td><td>Shedd Aquarium</td><td>Customer</td><td>3</td></tr>",
                            "<tr><td>2018</td><td>2</td><td>100</td><td>Adler Planetarium</td><td>Customer</td><td>4</td></tr>",
                            "<tr><td>2018</td><td>2</td><td>96</td><td>Millennium Park</td><td>Customer</td><td>5</td></tr>",
                            "<tr><td>2018</td><td>2</td><td>85</td><td>Dusable Harbor</td><td>Customer</td><td>6</td></tr>",
                            "<tr><td>2018</td><td>2</td><td>62</td><td>Michigan Ave &amp; Oak St</td><td>Customer</td><td>7</td></tr>",
                            "<tr><td>2018</td><td>2</td><td>47</td><td>Michigan Ave &amp; Washington St</td><td>Customer</td><td>8</td></tr>",
                            "<tr><td>2018</td><td>2</td><td>46</td><td>Columbus Dr &amp; Randolph St</td><td>Customer</td><td>9</td></tr>",
                            "<tr><td>2018</td><td>2</td><td>42</td><td>Field Museum</td><td>Customer</td><td>10</td></tr>",
                            "<tr><td>2018</td><td>3</td><td>1123</td><td>Lake Shore Dr &amp; Monroe St</td><td>Customer</td><td>1</td></tr>",
                            "<tr><td>2018</td><td>3</td><td>1112</td><td>Streeter Dr &amp; Grand Ave</td><td>Customer</td><td>2</td></tr>",
                            "<tr><td>2018</td><td>3</td><td>942</td><td>Shedd Aquarium</td><td>Customer</td><td>3</td></tr>",
                            "<tr><td>2018</td><td>3</td><td>526</td><td>Millennium Park</td><td>Customer</td><td>4</td></tr>",
                            "<tr><td>2018</td><td>3</td><td>402</td><td>Adler Planetarium</td><td>Customer</td><td>5</td></tr>",
                            "<tr><td>2018</td><td>3</td><td>378</td><td>Dusable Harbor</td><td>Customer</td><td>6</td></tr>",
                            "<tr><td>2018</td><td>3</td><td>301</td><td>Field Museum</td><td>Customer</td><td>7</td></tr>",
                            "<tr><td>2018</td><td>3</td><td>298</td><td>Michigan Ave &amp; Oak St</td><td>Customer</td><td>8</td></tr>",
                            "<tr><td>2018</td><td>3</td><td>260</td><td>Michigan Ave &amp; Washington St</td><td>Customer</td><td>9</td></tr>",
                            "<tr><td>2018</td><td>3</td><td>228</td><td>Buckingham Fountain</td><td>Customer</td><td>10</td></tr>",
                            "<tr><td>2018</td><td>4</td><td>1439</td><td>Streeter Dr &amp; Grand Ave</td><td>Customer</td><td>1</td></tr>",
                            "<tr><td>2018</td><td>4</td><td>1330</td><td>Lake Shore Dr &amp; Monroe St</td><td>Customer</td><td>2</td></tr>",
                            "<tr><td>2018</td><td>4</td><td>1016</td><td>Shedd Aquarium</td><td>Customer</td><td>3</td></tr>",
                            "<tr><td>2018</td><td>4</td><td>648</td><td>Millennium Park</td><td>Customer</td><td>4</td></tr>",
                            "<tr><td>2018</td><td>4</td><td>460</td><td>Michigan Ave &amp; Oak St</td><td>Customer</td><td>5</td></tr>",
                            "<tr><td>2018</td><td>4</td><td>453</td><td>Adler Planetarium</td><td>Customer</td><td>6</td></tr>",
                            "<tr><td>2018</td><td>4</td><td>417</td><td>Dusable Harbor</td><td>Customer</td><td>7</td></tr>",
                            "<tr><td>2018</td><td>4</td><td>309</td><td>Theater on the Lake</td><td>Customer</td><td>8</td></tr>",
                            "<tr><td>2018</td><td>4</td><td>287</td><td>Michigan Ave &amp; 8th St</td><td>Customer</td><td>9</td></tr>",
                            "<tr><td>2018</td><td>4</td><td>286</td><td>Buckingham Fountain</td><td>Customer</td><td>10</td></tr>",
                            "<tr><td>2018</td><td>5</td><td>6777</td><td>Streeter Dr &amp; Grand Ave</td><td>Customer</td><td>1</td></tr>",
                            "<tr><td>2018</td><td>5</td><td>4164</td><td>Lake Shore Dr &amp; Monroe St</td><td>Customer</td><td>2</td></tr>",
                            "<tr><td>2018</td><td>5</td><td>2953</td><td>Millennium Park</td><td>Customer</td><td>3</td></tr>",
                            "<tr><td>2018</td><td>5</td><td>2349</td><td>Shedd Aquarium</td><td>Customer</td><td>4</td></tr>",
                            "<tr><td>2018</td><td>5</td><td>2172</td><td>Michigan Ave &amp; Oak St</td><td>Customer</td><td>5</td></tr>",
                            "<tr><td>2018</td><td>5</td><td>1906</td><td>Theater on the Lake</td><td>Customer</td><td>6</td></tr>",
                            "<tr><td>2018</td><td>5</td><td>1873</td><td>Lake Shore Dr &amp; North Blvd</td><td>Customer</td><td>7</td></tr>",
                            "<tr><td>2018</td><td>5</td><td>1460</td><td>Adler Planetarium</td><td>Customer</td><td>8</td></tr>",
                            "<tr><td>2018</td><td>5</td><td>1305</td><td>Dusable Harbor</td><td>Customer</td><td>9</td></tr>",
                            "<tr><td>2018</td><td>5</td><td>1284</td><td>Buckingham Fountain</td><td>Customer</td><td>10</td></tr>",
                            "<tr><td>2018</td><td>6</td><td>8030</td><td>Streeter Dr &amp; Grand Ave</td><td>Customer</td><td>1</td></tr>",
                            "<tr><td>2018</td><td>6</td><td>4418</td><td>Lake Shore Dr &amp; Monroe St</td><td>Customer</td><td>2</td></tr>",
                            "<tr><td>2018</td><td>6</td><td>3035</td><td>Millennium Park</td><td>Customer</td><td>3</td></tr>",
                            "<tr><td>2018</td><td>6</td><td>2812</td><td>Shedd Aquarium</td><td>Customer</td><td>4</td></tr>",
                            "<tr><td>2018</td><td>6</td><td>2732</td><td>Lake Shore Dr &amp; North Blvd</td><td>Customer</td><td>5</td></tr>",
                            "<tr><td>2018</td><td>6</td><td>2511</td><td>Michigan Ave &amp; Oak St</td><td>Customer</td><td>6</td></tr>",
                            "<tr><td>2018</td><td>6</td><td>2209</td><td>Theater on the Lake</td><td>Customer</td><td>7</td></tr>",
                            "<tr><td>2018</td><td>6</td><td>1852</td><td>Buckingham Fountain</td><td>Customer</td><td>8</td></tr>",
                            "<tr><td>2018</td><td>6</td><td>1592</td><td>Dusable Harbor</td><td>Customer</td><td>9</td></tr>",
                            "<tr><td>2018</td><td>6</td><td>1578</td><td>Adler Planetarium</td><td>Customer</td><td>10</td></tr>",
                            "<tr><td>2018</td><td>7</td><td>11972</td><td>Streeter Dr &amp; Grand Ave</td><td>Customer</td><td>1</td></tr>",
                            "<tr><td>2018</td><td>7</td><td>6021</td><td>Lake Shore Dr &amp; Monroe St</td><td>Customer</td><td>2</td></tr>",
                            "<tr><td>2018</td><td>7</td><td>4248</td><td>Millennium Park</td><td>Customer</td><td>3</td></tr>",
                            "<tr><td>2018</td><td>7</td><td>4168</td><td>Lake Shore Dr &amp; North Blvd</td><td>Customer</td><td>4</td></tr>",
                            "<tr><td>2018</td><td>7</td><td>3979</td><td>Michigan Ave &amp; Oak St</td><td>Customer</td><td>5</td></tr>",
                            "<tr><td>2018</td><td>7</td><td>3364</td><td>Shedd Aquarium</td><td>Customer</td><td>6</td></tr>",
                            "<tr><td>2018</td><td>7</td><td>3278</td><td>Theater on the Lake</td><td>Customer</td><td>7</td></tr>",
                            "<tr><td>2018</td><td>7</td><td>2115</td><td>Adler Planetarium</td><td>Customer</td><td>8</td></tr>",
                            "<tr><td>2018</td><td>7</td><td>1820</td><td>Montrose Harbor</td><td>Customer</td><td>9</td></tr>",
                            "<tr><td>2018</td><td>7</td><td>1757</td><td>Dusable Harbor</td><td>Customer</td><td>10</td></tr>",
                            "<tr><td>2018</td><td>8</td><td>9579</td><td>Streeter Dr &amp; Grand Ave</td><td>Customer</td><td>1</td></tr>",
                            "<tr><td>2018</td><td>8</td><td>4190</td><td>Lake Shore Dr &amp; Monroe St</td><td>Customer</td><td>2</td></tr>",
                            "<tr><td>2018</td><td>8</td><td>3812</td><td>Lake Shore Dr &amp; North Blvd</td><td>Customer</td><td>3</td></tr>",
                            "<tr><td>2018</td><td>8</td><td>3756</td><td>Millennium Park</td><td>Customer</td><td>4</td></tr>",
                            "<tr><td>2018</td><td>8</td><td>3675</td><td>Michigan Ave &amp; Oak St</td><td>Customer</td><td>5</td></tr>",
                            "<tr><td>2018</td><td>8</td><td>2765</td><td>Shedd Aquarium</td><td>Customer</td><td>6</td></tr>",
                            "<tr><td>2018</td><td>8</td><td>2693</td><td>Theater on the Lake</td><td>Customer</td><td>7</td></tr>",
                            "<tr><td>2018</td><td>8</td><td>1748</td><td>Adler Planetarium</td><td>Customer</td><td>8</td></tr>",
                            "<tr><td>2018</td><td>8</td><td>1513</td><td>Dusable Harbor</td><td>Customer</td><td>9</td></tr>",
                            "<tr><td>2018</td><td>8</td><td>1490</td><td>Montrose Harbor</td><td>Customer</td><td>10</td></tr>",
                            "<tr><td>2018</td><td>9</td><td>6984</td><td>Streeter Dr &amp; Grand Ave</td><td>Customer</td><td>1</td></tr>",
                            "<tr><td>2018</td><td>9</td><td>2931</td><td>Lake Shore Dr &amp; Monroe St</td><td>Customer</td><td>2</td></tr>",
                            "<tr><td>2018</td><td>9</td><td>2862</td><td>Millennium Park</td><td>Customer</td><td>3</td></tr>",
                            "<tr><td>2018</td><td>9</td><td>2448</td><td>Shedd Aquarium</td><td>Customer</td><td>4</td></tr>",
                            "<tr><td>2018</td><td>9</td><td>2286</td><td>Michigan Ave &amp; Oak St</td><td>Customer</td><td>5</td></tr>",
                            "<tr><td>2018</td><td>9</td><td>1832</td><td>Lake Shore Dr &amp; North Blvd</td><td>Customer</td><td>6</td></tr>",
                            "<tr><td>2018</td><td>9</td><td>1557</td><td>Theater on the Lake</td><td>Customer</td><td>7</td></tr>",
                            "<tr><td>2018</td><td>9</td><td>1381</td><td>Adler Planetarium</td><td>Customer</td><td>8</td></tr>",
                            "<tr><td>2018</td><td>9</td><td>1159</td><td>Buckingham Fountain</td><td>Customer</td><td>9</td></tr>",
                            "<tr><td>2018</td><td>9</td><td>1091</td><td>Dusable Harbor</td><td>Customer</td><td>10</td></tr>",
                            "<tr><td>2018</td><td>10</td><td>2683</td><td>Streeter Dr &amp; Grand Ave</td><td>Customer</td><td>1</td></tr>",
                            "<tr><td>2018</td><td>10</td><td>1904</td><td>Lake Shore Dr &amp; Monroe St</td><td>Customer</td><td>2</td></tr>",
                            "<tr><td>2018</td><td>10</td><td>1300</td><td>Millennium Park</td><td>Customer</td><td>3</td></tr>",
                            "<tr><td>2018</td><td>10</td><td>1195</td><td>Shedd Aquarium</td><td>Customer</td><td>4</td></tr>",
                            "<tr><td>2018</td><td>10</td><td>896</td><td>Michigan Ave &amp; Oak St</td><td>Customer</td><td>5</td></tr>",
                            "<tr><td>2018</td><td>10</td><td>742</td><td>Adler Planetarium</td><td>Customer</td><td>6</td></tr>",
                            "<tr><td>2018</td><td>10</td><td>563</td><td>Dusable Harbor</td><td>Customer</td><td>7</td></tr>",
                            "<tr><td>2018</td><td>10</td><td>514</td><td>Field Museum</td><td>Customer</td><td>8</td></tr>",
                            "<tr><td>2018</td><td>10</td><td>495</td><td>Lake Shore Dr &amp; North Blvd</td><td>Customer</td><td>9</td></tr>",
                            "<tr><td>2018</td><td>10</td><td>463</td><td>Theater on the Lake</td><td>Customer</td><td>10</td></tr>",
                            "<tr><td>2018</td><td>11</td><td>620</td><td>Lake Shore Dr &amp; Monroe St</td><td>Customer</td><td>1</td></tr>",
                            "<tr><td>2018</td><td>11</td><td>474</td><td>Streeter Dr &amp; Grand Ave</td><td>Customer</td><td>2</td></tr>",
                            "<tr><td>2018</td><td>11</td><td>429</td><td>Shedd Aquarium</td><td>Customer</td><td>3</td></tr>",
                            "<tr><td>2018</td><td>11</td><td>275</td><td>Millennium Park</td><td>Customer</td><td>4</td></tr>",
                            "<tr><td>2018</td><td>11</td><td>168</td><td>Dusable Harbor</td><td>Customer</td><td>5</td></tr>",
                            "<tr><td>2018</td><td>11</td><td>156</td><td>Field Museum</td><td>Customer</td><td>6</td></tr>",
                            "<tr><td>2018</td><td>11</td><td>151</td><td>Michigan Ave &amp; Oak St</td><td>Customer</td><td>7</td></tr>",
                            "<tr><td>2018</td><td>11</td><td>149</td><td>Adler Planetarium</td><td>Customer</td><td>8</td></tr>",
                            "<tr><td>2018</td><td>11</td><td>119</td><td>Buckingham Fountain</td><td>Customer</td><td>9</td></tr>",
                            "<tr><td>2018</td><td>11</td><td>112</td><td>Columbus Dr &amp; Randolph St</td><td>Customer</td><td>10</td></tr>",
                            "<tr><td>2018</td><td>12</td><td>404</td><td>Lake Shore Dr &amp; Monroe St</td><td>Customer</td><td>1</td></tr>",
                            "<tr><td>2018</td><td>12</td><td>324</td><td>Streeter Dr &amp; Grand Ave</td><td>Customer</td><td>2</td></tr>",
                            "<tr><td>2018</td><td>12</td><td>293</td><td>Shedd Aquarium</td><td>Customer</td><td>3</td></tr>",
                            "<tr><td>2018</td><td>12</td><td>217</td><td>Millennium Park</td><td>Customer</td><td>4</td></tr>",
                            "<tr><td>2018</td><td>12</td><td>142</td><td>Adler Planetarium</td><td>Customer</td><td>5</td></tr>",
                            "<tr><td>2018</td><td>12</td><td>126</td><td>Field Museum</td><td>Customer</td><td>6</td></tr>",
                            "<tr><td>2018</td><td>12</td><td>125</td><td>Michigan Ave &amp; Oak St</td><td>Customer</td><td>7</td></tr>",
                            "<tr><td>2018</td><td>12</td><td>111</td><td>Michigan Ave &amp; Washington St</td><td>Customer</td><td>8</td></tr>",
                            "<tr><td>2018</td><td>12</td><td>108</td><td>Buckingham Fountain</td><td>Customer</td><td>9</td></tr>",
                            "<tr><td>2018</td><td>12</td><td>105</td><td>Columbus Dr &amp; Randolph St</td><td>Customer</td><td>10</td></tr>",
                            "<tr><td>2019</td><td>1</td><td>247</td><td>Lake Shore Dr &amp; Monroe St</td><td>Customer</td><td>1</td></tr>",
                            "<tr><td>2019</td><td>1</td><td>172</td><td>Streeter Dr &amp; Grand Ave</td><td>Customer</td><td>2</td></tr>",
                            "<tr><td>2019</td><td>1</td><td>135</td><td>Shedd Aquarium</td><td>Customer</td><td>3</td></tr>",
                            "<tr><td>2019</td><td>1</td><td>130</td><td>Millennium Park</td><td>Customer</td><td>4</td></tr>",
                            "<tr><td>2019</td><td>1</td><td>80</td><td>Michigan Ave &amp; Washington St</td><td>Customer</td><td>5</td></tr>",
                            "<tr><td>2019</td><td>1</td><td>75</td><td>Field Museum</td><td>Customer</td><td>6</td></tr>",
                            "<tr><td>2019</td><td>1</td><td>65</td><td>Michigan Ave &amp; Oak St</td><td>Customer</td><td>7</td></tr>",
                            "<tr><td>2019</td><td>1</td><td>61</td><td>Adler Planetarium</td><td>Customer</td><td>8</td></tr>",
                            "<tr><td>2019</td><td>1</td><td>56</td><td>Clinton St &amp; Madison St</td><td>Customer</td><td>9</td></tr>",
                            "<tr><td>2019</td><td>1</td><td>54</td><td>Dusable Harbor</td><td>Customer</td><td>10</td></tr>",
                            "<tr><td>2019</td><td>2</td><td>125</td><td>Lake Shore Dr &amp; Monroe St</td><td>Customer</td><td>1</td></tr>",
                            "<tr><td>2019</td><td>2</td><td>94</td><td>Shedd Aquarium</td><td>Customer</td><td>2</td></tr>",
                            "<tr><td>2019</td><td>2</td><td>74</td><td>Streeter Dr &amp; Grand Ave</td><td>Customer</td><td>3</td></tr>",
                            "<tr><td>2019</td><td>2</td><td>46</td><td>Michigan Ave &amp; Washington St</td><td>Customer</td><td>4</td></tr>",
                            "<tr><td>2019</td><td>2</td><td>45</td><td>Clinton St &amp; Madison St</td><td>Customer</td><td>5</td></tr>",
                            "<tr><td>2019</td><td>2</td><td>38</td><td>Millennium Park</td><td>Customer</td><td>6</td></tr>",
                            "<tr><td>2019</td><td>2</td><td>37</td><td>Canal St &amp; Madison St</td><td>Customer</td><td>7</td></tr>",
                            "<tr><td>2019</td><td>2</td><td>37</td><td>Dusable Harbor</td><td>Customer</td><td>7</td></tr>",
                            "<tr><td>2019</td><td>2</td><td>36</td><td>Adler Planetarium</td><td>Customer</td><td>8</td></tr>",
                            "<tr><td>2019</td><td>2</td><td>36</td><td>Michigan Ave &amp; Oak St</td><td>Customer</td><td>8</td></tr>",
                            "<tr><td>2019</td><td>2</td><td>35</td><td>Kingsbury St &amp; Kinzie St</td><td>Customer</td><td>9</td></tr>",
                            "<tr><td>2019</td><td>2</td><td>30</td><td>Michigan Ave &amp; Lake St</td><td>Customer</td><td>10</td></tr>",
                            "<tr><td>2019</td><td>3</td><td>972</td><td>Streeter Dr &amp; Grand Ave</td><td>Customer</td><td>1</td></tr>",
                            "<tr><td>2019</td><td>3</td><td>768</td><td>Lake Shore Dr &amp; Monroe St</td><td>Customer</td><td>2</td></tr>",
                            "<tr><td>2019</td><td>3</td><td>604</td><td>Shedd Aquarium</td><td>Customer</td><td>3</td></tr>",
                            "<tr><td>2019</td><td>3</td><td>458</td><td>Millennium Park</td><td>Customer</td><td>4</td></tr>",
                            "<tr><td>2019</td><td>3</td><td>285</td><td>Michigan Ave &amp; Oak St</td><td>Customer</td><td>5</td></tr>",
                            "<tr><td>2019</td><td>3</td><td>265</td><td>Adler Planetarium</td><td>Customer</td><td>6</td></tr>",
                            "<tr><td>2019</td><td>3</td><td>251</td><td>Dusable Harbor</td><td>Customer</td><td>7</td></tr>",
                            "<tr><td>2019</td><td>3</td><td>216</td><td>Michigan Ave &amp; Washington St</td><td>Customer</td><td>8</td></tr>",
                            "<tr><td>2019</td><td>3</td><td>203</td><td>Buckingham Fountain (Temp)</td><td>Customer</td><td>9</td></tr>",
                            "<tr><td>2019</td><td>3</td><td>194</td><td>Field Museum</td><td>Customer</td><td>10</td></tr>",
                            "<tr><td>2019</td><td>4</td><td>2978</td><td>Streeter Dr &amp; Grand Ave</td><td>Customer</td><td>1</td></tr>",
                            "<tr><td>2019</td><td>4</td><td>2707</td><td>Lake Shore Dr &amp; Monroe St</td><td>Customer</td><td>2</td></tr>",
                            "<tr><td>2019</td><td>4</td><td>1373</td><td>Shedd Aquarium</td><td>Customer</td><td>3</td></tr>",
                            "<tr><td>2019</td><td>4</td><td>1164</td><td>Millennium Park</td><td>Customer</td><td>4</td></tr>",
                            "<tr><td>2019</td><td>4</td><td>1087</td><td>Michigan Ave &amp; Oak St</td><td>Customer</td><td>5</td></tr>",
                            "<tr><td>2019</td><td>4</td><td>869</td><td>Michigan Ave &amp; Washington St</td><td>Customer</td><td>6</td></tr>",
                            "<tr><td>2019</td><td>4</td><td>827</td><td>Adler Planetarium</td><td>Customer</td><td>7</td></tr>",
                            "<tr><td>2019</td><td>4</td><td>655</td><td>Lake Shore Dr &amp; North Blvd</td><td>Customer</td><td>8</td></tr>",
                            "<tr><td>2019</td><td>4</td><td>641</td><td>Theater on the Lake</td><td>Customer</td><td>9</td></tr>",
                            "<tr><td>2019</td><td>4</td><td>603</td><td>Dusable Harbor</td><td>Customer</td><td>10</td></tr>",
                            "<tr><td>2019</td><td>5</td><td>4645</td><td>Streeter Dr &amp; Grand Ave</td><td>Customer</td><td>1</td></tr>",
                            "<tr><td>2019</td><td>5</td><td>3917</td><td>Lake Shore Dr &amp; Monroe St</td><td>Customer</td><td>2</td></tr>",
                            "<tr><td>2019</td><td>5</td><td>2048</td><td>Shedd Aquarium</td><td>Customer</td><td>3</td></tr>",
                            "<tr><td>2019</td><td>5</td><td>1994</td><td>Michigan Ave &amp; Oak St</td><td>Customer</td><td>4</td></tr>",
                            "<tr><td>2019</td><td>5</td><td>1855</td><td>Millennium Park</td><td>Customer</td><td>5</td></tr>",
                            "<tr><td>2019</td><td>5</td><td>1516</td><td>Michigan Ave &amp; Washington St</td><td>Customer</td><td>6</td></tr>",
                            "<tr><td>2019</td><td>5</td><td>1490</td><td>Lake Shore Dr &amp; North Blvd</td><td>Customer</td><td>7</td></tr>",
                            "<tr><td>2019</td><td>5</td><td>1446</td><td>Theater on the Lake</td><td>Customer</td><td>8</td></tr>",
                            "<tr><td>2019</td><td>5</td><td>1301</td><td>Buckingham Fountain (Temp)</td><td>Customer</td><td>9</td></tr>",
                            "<tr><td>2019</td><td>5</td><td>1251</td><td>Adler Planetarium</td><td>Customer</td><td>10</td></tr>",
                            "<tr><td>2019</td><td>6</td><td>7406</td><td>Streeter Dr &amp; Grand Ave</td><td>Customer</td><td>1</td></tr>",
                            "<tr><td>2019</td><td>6</td><td>5868</td><td>Lake Shore Dr &amp; Monroe St</td><td>Customer</td><td>2</td></tr>",
                            "<tr><td>2019</td><td>6</td><td>3061</td><td>Michigan Ave &amp; Oak St</td><td>Customer</td><td>3</td></tr>",
                            "<tr><td>2019</td><td>6</td><td>3016</td><td>Shedd Aquarium</td><td>Customer</td><td>4</td></tr>",
                            "<tr><td>2019</td><td>6</td><td>2984</td><td>Millennium Park</td><td>Customer</td><td>5</td></tr>",
                            "<tr><td>2019</td><td>6</td><td>2974</td><td>Lake Shore Dr &amp; North Blvd</td><td>Customer</td><td>6</td></tr>",
                            "<tr><td>2019</td><td>6</td><td>2561</td><td>Michigan Ave &amp; Washington St</td><td>Customer</td><td>7</td></tr>",
                            "<tr><td>2019</td><td>6</td><td>2306</td><td>Theater on the Lake</td><td>Customer</td><td>8</td></tr>",
                            "<tr><td>2019</td><td>6</td><td>1874</td><td>Dusable Harbor</td><td>Customer</td><td>9</td></tr>",
                            "<tr><td>2019</td><td>6</td><td>1866</td><td>Buckingham Fountain (Temp)</td><td>Customer</td><td>10</td></tr>",
                            "<tr><td>2019</td><td>7</td><td>11628</td><td>Streeter Dr &amp; Grand Ave</td><td>Customer</td><td>1</td></tr>",
                            "<tr><td>2019</td><td>7</td><td>7775</td><td>Lake Shore Dr &amp; Monroe St</td><td>Customer</td><td>2</td></tr>",
                            "<tr><td>2019</td><td>7</td><td>5340</td><td>Lake Shore Dr &amp; North Blvd</td><td>Customer</td><td>3</td></tr>",
                            "<tr><td>2019</td><td>7</td><td>4914</td><td>Michigan Ave &amp; Oak St</td><td>Customer</td><td>4</td></tr>",
                            "<tr><td>2019</td><td>7</td><td>4154</td><td>Millennium Park</td><td>Customer</td><td>5</td></tr>",
                            "<tr><td>2019</td><td>7</td><td>3741</td><td>Theater on the Lake</td><td>Customer</td><td>6</td></tr>",
                            "<tr><td>2019</td><td>7</td><td>3698</td><td>Shedd Aquarium</td><td>Customer</td><td>7</td></tr>",
                            "<tr><td>2019</td><td>7</td><td>3398</td><td>Michigan Ave &amp; Washington St</td><td>Customer</td><td>8</td></tr>",
                            "<tr><td>2019</td><td>7</td><td>2438</td><td>Dusable Harbor</td><td>Customer</td><td>9</td></tr>",
                            "<tr><td>2019</td><td>7</td><td>2275</td><td>Michigan Ave &amp; 8th St</td><td>Customer</td><td>10</td></tr>",
                            "<tr><td>2019</td><td>8</td><td>12484</td><td>Streeter Dr &amp; Grand Ave</td><td>Customer</td><td>1</td></tr>",
                            "<tr><td>2019</td><td>8</td><td>7807</td><td>Lake Shore Dr &amp; Monroe St</td><td>Customer</td><td>2</td></tr>",
                            "<tr><td>2019</td><td>8</td><td>5358</td><td>Michigan Ave &amp; Oak St</td><td>Customer</td><td>3</td></tr>",
                            "<tr><td>2019</td><td>8</td><td>5118</td><td>Millennium Park</td><td>Customer</td><td>4</td></tr>",
                            "<tr><td>2019</td><td>8</td><td>5078</td><td>Lake Shore Dr &amp; North Blvd</td><td>Customer</td><td>5</td></tr>",
                            "<tr><td>2019</td><td>8</td><td>3930</td><td>Shedd Aquarium</td><td>Customer</td><td>6</td></tr>",
                            "<tr><td>2019</td><td>8</td><td>3613</td><td>Theater on the Lake</td><td>Customer</td><td>7</td></tr>",
                            "<tr><td>2019</td><td>8</td><td>2690</td><td>Dusable Harbor</td><td>Customer</td><td>8</td></tr>",
                            "<tr><td>2019</td><td>8</td><td>2434</td><td>Adler Planetarium</td><td>Customer</td><td>9</td></tr>",
                            "<tr><td>2019</td><td>8</td><td>1904</td><td>Montrose Harbor</td><td>Customer</td><td>10</td></tr>",
                            "<tr><td>2019</td><td>9</td><td>7723</td><td>Streeter Dr &amp; Grand Ave</td><td>Customer</td><td>1</td></tr>",
                            "<tr><td>2019</td><td>9</td><td>5148</td><td>Lake Shore Dr &amp; Monroe St</td><td>Customer</td><td>2</td></tr>",
                            "<tr><td>2019</td><td>9</td><td>3418</td><td>Millennium Park</td><td>Customer</td><td>3</td></tr>",
                            "<tr><td>2019</td><td>9</td><td>2967</td><td>Michigan Ave &amp; Oak St</td><td>Customer</td><td>4</td></tr>",
                            "<tr><td>2019</td><td>9</td><td>2862</td><td>Shedd Aquarium</td><td>Customer</td><td>5</td></tr>",
                            "<tr><td>2019</td><td>9</td><td>2196</td><td>Lake Shore Dr &amp; North Blvd</td><td>Customer</td><td>6</td></tr>",
                            "<tr><td>2019</td><td>9</td><td>2064</td><td>Theater on the Lake</td><td>Customer</td><td>7</td></tr>",
                            "<tr><td>2019</td><td>9</td><td>1685</td><td>Dusable Harbor</td><td>Customer</td><td>8</td></tr>",
                            "<tr><td>2019</td><td>9</td><td>1630</td><td>Adler Planetarium</td><td>Customer</td><td>9</td></tr>",
                            "<tr><td>2019</td><td>9</td><td>1151</td><td>Michigan Ave &amp; 8th St</td><td>Customer</td><td>10</td></tr>",
                            "<tr><td>2019</td><td>10</td><td>3514</td><td>Streeter Dr &amp; Grand Ave</td><td>Customer</td><td>1</td></tr>",
                            "<tr><td>2019</td><td>10</td><td>3257</td><td>Lake Shore Dr &amp; Monroe St</td><td>Customer</td><td>2</td></tr>",
                            "<tr><td>2019</td><td>10</td><td>1784</td><td>Shedd Aquarium</td><td>Customer</td><td>3</td></tr>",
                            "<tr><td>2019</td><td>10</td><td>1557</td><td>Millennium Park</td><td>Customer</td><td>4</td></tr>",
                            "<tr><td>2019</td><td>10</td><td>1164</td><td>Michigan Ave &amp; Oak St</td><td>Customer</td><td>5</td></tr>",
                            "<tr><td>2019</td><td>10</td><td>1143</td><td>Dusable Harbor</td><td>Customer</td><td>6</td></tr>",
                            "<tr><td>2019</td><td>10</td><td>945</td><td>Adler Planetarium</td><td>Customer</td><td>7</td></tr>",
                            "<tr><td>2019</td><td>10</td><td>814</td><td>Michigan Ave &amp; 8th St</td><td>Customer</td><td>8</td></tr>",
                            "<tr><td>2019</td><td>10</td><td>759</td><td>Field Museum</td><td>Customer</td><td>9</td></tr>",
                            "<tr><td>2019</td><td>10</td><td>748</td><td>Theater on the Lake</td><td>Customer</td><td>10</td></tr>",
                            "<tr><td>2019</td><td>11</td><td>860</td><td>Lake Shore Dr &amp; Monroe St</td><td>Customer</td><td>1</td></tr>",
                            "<tr><td>2019</td><td>11</td><td>680</td><td>Streeter Dr &amp; Grand Ave</td><td>Customer</td><td>2</td></tr>",
                            "<tr><td>2019</td><td>11</td><td>557</td><td>Shedd Aquarium</td><td>Customer</td><td>3</td></tr>",
                            "<tr><td>2019</td><td>11</td><td>410</td><td>Millennium Park</td><td>Customer</td><td>4</td></tr>",
                            "<tr><td>2019</td><td>11</td><td>351</td><td>Dusable Harbor</td><td>Customer</td><td>5</td></tr>",
                            "<tr><td>2019</td><td>11</td><td>224</td><td>Michigan Ave &amp; Washington St</td><td>Customer</td><td>6</td></tr>",
                            "<tr><td>2019</td><td>11</td><td>218</td><td>Field Museum</td><td>Customer</td><td>7</td></tr>",
                            "<tr><td>2019</td><td>11</td><td>216</td><td>Adler Planetarium</td><td>Customer</td><td>8</td></tr>",
                            "<tr><td>2019</td><td>11</td><td>192</td><td>Buckingham Fountain</td><td>Customer</td><td>9</td></tr>",
                            "<tr><td>2019</td><td>11</td><td>179</td><td>Wabash Ave &amp; Grand Ave</td><td>Customer</td><td>10</td></tr>",
                            "<tr><td>2019</td><td>11</td><td>179</td><td>Michigan Ave &amp; 8th St</td><td>Customer</td><td>10</td></tr>",
                            "<tr><td>2019</td><td>12</td><td>795</td><td>Streeter Dr &amp; Grand Ave</td><td>Customer</td><td>1</td></tr>",
                            "<tr><td>2019</td><td>12</td><td>730</td><td>Lake Shore Dr &amp; Monroe St</td><td>Customer</td><td>2</td></tr>",
                            "<tr><td>2019</td><td>12</td><td>508</td><td>Shedd Aquarium</td><td>Customer</td><td>3</td></tr>",
                            "<tr><td>2019</td><td>12</td><td>442</td><td>Millennium Park</td><td>Customer</td><td>4</td></tr>",
                            "<tr><td>2019</td><td>12</td><td>273</td><td>Michigan Ave &amp; Oak St</td><td>Customer</td><td>5</td></tr>",
                            "<tr><td>2019</td><td>12</td><td>252</td><td>Adler Planetarium</td><td>Customer</td><td>6</td></tr>",
                            "<tr><td>2019</td><td>12</td><td>227</td><td>Michigan Ave &amp; Washington St</td><td>Customer</td><td>7</td></tr>",
                            "<tr><td>2019</td><td>12</td><td>213</td><td>Dusable Harbor</td><td>Customer</td><td>8</td></tr>",
                            "<tr><td>2019</td><td>12</td><td>196</td><td>Michigan Ave &amp; 8th St</td><td>Customer</td><td>9</td></tr>",
                            "<tr><td>2019</td><td>12</td><td>186</td><td>Columbus Dr &amp; Randolph St</td><td>Customer</td><td>10</td></tr>",
                            "</table>"
                        ]
                    }
                }
            ],
            "execution_count": 13
        },
        {
            "cell_type": "markdown",
            "source": [
                "Looking at a map of Chicago gives a good indication of how bikes are used seasonally by the different customer types. Customers use the bikes for leisure and Subscribers more to get from stations to their destination."
            ],
            "metadata": {
                "language": "sql",
                "azdata_cell_guid": "a42e9a4d-43c5-4eb1-baeb-d913f4166754"
            },
            "attachments": {}
        },
        {
            "cell_type": "markdown",
            "source": [
                "To get more insights I have also created views based on the below code. These will show the usage of bikes drilled down to the days of the week, and I have included the Weeknumber for extra filtering if necessary.\n",
                "\n",
                "```\n",
                "SELECT trip_id, starttime, stoptime, bikeid, tripduration, from_station_id, from_station_name, to_station_id, to_station_name, usertype, gender, birthday, (DATEPART(WEEKDAY, starttime) + @@DATEFIRST + 6 - 1) % 7 + 1 AS DayOfWeekStartTimeNumber, DATENAME(WEEKDAY, starttime) AS DayOfWeekStartTimeAt, (DATEPART(WEEKDAY, stoptime) + @@DATEFIRST + 6 - 1) % 7 + 1 AS DayOfWeekStopTimeNumber,                          DATENAME(WEEKDAY, stoptime) AS DayOfWeekStopTime, DATEPART(WEEK, starttime) AS WeekNumber FROM dbo.tripsWHERE tripduration > 60 AND tripduration < 86401 \n",
                "\n",
                "```\n",
                "```\n",
                "SELECT ride_id, started_at, ended_at, rideable_type, tripduration, start_station_id, start_station_name, end_station_id, end_station_name, member_casual, start_lat, start_lng, end_lat, end_lng, (DATEPART(WEEKDAY, started_at) + @@DATEFIRST + 6 - 1) % 7 + 1 AS DayOfWeekStartedAtNumber, DATENAME(WEEKDAY, started_at) AS DayOfWeekStartedAt, (DATEPART(WEEKDAY, ended_at) + @@DATEFIRST + 6 - 1) % 7 + 1 AS DayOfWeekEndedAtNumber, DATENAME(WEEKDAY, ended_at) AS DayOfWeekEndedAt, DATEPART(WEEK, started_at) AS WeekNumber FROM dbo.newer_tripsWHERE tripduration > 60 AND tripduration < 86401 \n",
                "\n",
                "```"
            ],
            "metadata": {
                "language": "sql",
                "azdata_cell_guid": "c48c8c87-e01e-4684-ae9d-065fa82f7f6f"
            },
            "attachments": {}
        }
    ]
}